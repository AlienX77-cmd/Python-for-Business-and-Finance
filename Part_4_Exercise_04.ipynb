{
  "cells": [
    {
      "cell_type": "markdown",
      "metadata": {
        "id": "view-in-github",
        "colab_type": "text"
      },
      "source": [
        "<a href=\"https://colab.research.google.com/github/AlienX77-cmd/Python-for-Business-and-Finance/blob/main/Part_4_Exercise_04.ipynb\" target=\"_parent\"><img src=\"https://colab.research.google.com/assets/colab-badge.svg\" alt=\"Open In Colab\"/></a>"
      ]
    },
    {
      "cell_type": "markdown",
      "metadata": {
        "id": "48dX4whYsW5S"
      },
      "source": [
        "# Coding Exercises (Part 4)"
      ]
    },
    {
      "cell_type": "markdown",
      "metadata": {
        "id": "nfyqkdzksW5U"
      },
      "source": [
        "Now, you will have the opportunity to analyze your own dataset. <br>\n",
        "__Follow the instructions__ and insert your code! You are either requested to\n",
        "- Complete the Code and __Fill in the gaps__. Gaps are marked with \"__---__\" and are __placeholders__ for your code fragment\n",
        "- Write Code completely __on your own__"
      ]
    },
    {
      "cell_type": "markdown",
      "metadata": {
        "id": "MvbdtSe6sW5V"
      },
      "source": [
        "In some exercises, you will find questions that can only be answered, if your code is correct and returns the right output! The correct answer is provided below your coding cell. There you can check whether your code is correct."
      ]
    },
    {
      "cell_type": "markdown",
      "metadata": {
        "id": "8X_S25ZlsW5X"
      },
      "source": [
        "If you need a hint, check the __Hints Section__ at the end of this Notebook. Exercises and Hints are numerated accordingly."
      ]
    },
    {
      "cell_type": "markdown",
      "metadata": {
        "id": "UBesOnhgsW5Y"
      },
      "source": [
        "If you need some further help or if you want to check your code, you can also watch the __solutions videos__ or check the __solutions notebook__."
      ]
    },
    {
      "cell_type": "markdown",
      "metadata": {
        "id": "uI_jK6QqsW5Y"
      },
      "source": [
        "### Have Fun!"
      ]
    },
    {
      "cell_type": "markdown",
      "metadata": {
        "id": "JPN9pO62sW5Z"
      },
      "source": [
        "--------------------------------------------------------------------------------------------------------------"
      ]
    },
    {
      "cell_type": "markdown",
      "metadata": {
        "id": "jYXKZkLpsW5Z"
      },
      "source": [
        "## Pandas: Intermediate Topics\n"
      ]
    },
    {
      "cell_type": "markdown",
      "metadata": {
        "id": "9ogSmO14sW5a"
      },
      "source": [
        "### Exercise 4: Index Operations"
      ]
    },
    {
      "cell_type": "code",
      "execution_count": 2,
      "metadata": {
        "id": "qYTQVqoJsW5b"
      },
      "outputs": [],
      "source": [
        "#run the cell!\n",
        "import pandas as pd"
      ]
    },
    {
      "cell_type": "code",
      "execution_count": 3,
      "metadata": {
        "id": "DvY5AxVnsW5b"
      },
      "outputs": [],
      "source": [
        "#run the cell!\n",
        "listings = pd.read_csv(\"listings.csv\")"
      ]
    },
    {
      "cell_type": "code",
      "execution_count": 4,
      "metadata": {
        "scrolled": false,
        "id": "roAW0AM7sW5c",
        "colab": {
          "base_uri": "https://localhost:8080/",
          "height": 250
        },
        "outputId": "5f8fa82b-ee88-464c-d64f-fad95278c18a"
      },
      "outputs": [
        {
          "output_type": "execute_result",
          "data": {
            "text/plain": [
              "  Symbol Exchange                           Name  Last_Price    Market_Cap  \\\n",
              "0      A     NYSE     Agilent Technologies, Inc.       81.68  2.593470e+10   \n",
              "1     AA     NYSE              Alcoa Corporation       29.15  5.407810e+09   \n",
              "2   AABA   NASDAQ                    Altaba Inc.       75.39  4.278113e+10   \n",
              "3    AAC     NYSE             AAC Holdings, Inc.        2.16  5.314109e+07   \n",
              "4    AAL   NASDAQ  American Airlines Group, Inc.       34.02  1.527687e+10   \n",
              "\n",
              "   ADR TSO  IPO_Year            Sector  \\\n",
              "0      NaN    1999.0     Capital Goods   \n",
              "1      NaN    2016.0  Basic Industries   \n",
              "2      NaN       NaN        Technology   \n",
              "3      NaN    2014.0       Health Care   \n",
              "4      NaN       NaN    Transportation   \n",
              "\n",
              "                                           Industry  \n",
              "0  Biotechnology: Laboratory Analytical Instruments  \n",
              "1                                          Aluminum  \n",
              "2                                      EDP Services  \n",
              "3                              Medical Specialities  \n",
              "4                     Air Freight/Delivery Services  "
            ],
            "text/html": [
              "\n",
              "  <div id=\"df-a22cd408-4f49-4703-acca-97c21ce1836d\">\n",
              "    <div class=\"colab-df-container\">\n",
              "      <div>\n",
              "<style scoped>\n",
              "    .dataframe tbody tr th:only-of-type {\n",
              "        vertical-align: middle;\n",
              "    }\n",
              "\n",
              "    .dataframe tbody tr th {\n",
              "        vertical-align: top;\n",
              "    }\n",
              "\n",
              "    .dataframe thead th {\n",
              "        text-align: right;\n",
              "    }\n",
              "</style>\n",
              "<table border=\"1\" class=\"dataframe\">\n",
              "  <thead>\n",
              "    <tr style=\"text-align: right;\">\n",
              "      <th></th>\n",
              "      <th>Symbol</th>\n",
              "      <th>Exchange</th>\n",
              "      <th>Name</th>\n",
              "      <th>Last_Price</th>\n",
              "      <th>Market_Cap</th>\n",
              "      <th>ADR TSO</th>\n",
              "      <th>IPO_Year</th>\n",
              "      <th>Sector</th>\n",
              "      <th>Industry</th>\n",
              "    </tr>\n",
              "  </thead>\n",
              "  <tbody>\n",
              "    <tr>\n",
              "      <th>0</th>\n",
              "      <td>A</td>\n",
              "      <td>NYSE</td>\n",
              "      <td>Agilent Technologies, Inc.</td>\n",
              "      <td>81.68</td>\n",
              "      <td>2.593470e+10</td>\n",
              "      <td>NaN</td>\n",
              "      <td>1999.0</td>\n",
              "      <td>Capital Goods</td>\n",
              "      <td>Biotechnology: Laboratory Analytical Instruments</td>\n",
              "    </tr>\n",
              "    <tr>\n",
              "      <th>1</th>\n",
              "      <td>AA</td>\n",
              "      <td>NYSE</td>\n",
              "      <td>Alcoa Corporation</td>\n",
              "      <td>29.15</td>\n",
              "      <td>5.407810e+09</td>\n",
              "      <td>NaN</td>\n",
              "      <td>2016.0</td>\n",
              "      <td>Basic Industries</td>\n",
              "      <td>Aluminum</td>\n",
              "    </tr>\n",
              "    <tr>\n",
              "      <th>2</th>\n",
              "      <td>AABA</td>\n",
              "      <td>NASDAQ</td>\n",
              "      <td>Altaba Inc.</td>\n",
              "      <td>75.39</td>\n",
              "      <td>4.278113e+10</td>\n",
              "      <td>NaN</td>\n",
              "      <td>NaN</td>\n",
              "      <td>Technology</td>\n",
              "      <td>EDP Services</td>\n",
              "    </tr>\n",
              "    <tr>\n",
              "      <th>3</th>\n",
              "      <td>AAC</td>\n",
              "      <td>NYSE</td>\n",
              "      <td>AAC Holdings, Inc.</td>\n",
              "      <td>2.16</td>\n",
              "      <td>5.314109e+07</td>\n",
              "      <td>NaN</td>\n",
              "      <td>2014.0</td>\n",
              "      <td>Health Care</td>\n",
              "      <td>Medical Specialities</td>\n",
              "    </tr>\n",
              "    <tr>\n",
              "      <th>4</th>\n",
              "      <td>AAL</td>\n",
              "      <td>NASDAQ</td>\n",
              "      <td>American Airlines Group, Inc.</td>\n",
              "      <td>34.02</td>\n",
              "      <td>1.527687e+10</td>\n",
              "      <td>NaN</td>\n",
              "      <td>NaN</td>\n",
              "      <td>Transportation</td>\n",
              "      <td>Air Freight/Delivery Services</td>\n",
              "    </tr>\n",
              "  </tbody>\n",
              "</table>\n",
              "</div>\n",
              "      <button class=\"colab-df-convert\" onclick=\"convertToInteractive('df-a22cd408-4f49-4703-acca-97c21ce1836d')\"\n",
              "              title=\"Convert this dataframe to an interactive table.\"\n",
              "              style=\"display:none;\">\n",
              "        \n",
              "  <svg xmlns=\"http://www.w3.org/2000/svg\" height=\"24px\"viewBox=\"0 0 24 24\"\n",
              "       width=\"24px\">\n",
              "    <path d=\"M0 0h24v24H0V0z\" fill=\"none\"/>\n",
              "    <path d=\"M18.56 5.44l.94 2.06.94-2.06 2.06-.94-2.06-.94-.94-2.06-.94 2.06-2.06.94zm-11 1L8.5 8.5l.94-2.06 2.06-.94-2.06-.94L8.5 2.5l-.94 2.06-2.06.94zm10 10l.94 2.06.94-2.06 2.06-.94-2.06-.94-.94-2.06-.94 2.06-2.06.94z\"/><path d=\"M17.41 7.96l-1.37-1.37c-.4-.4-.92-.59-1.43-.59-.52 0-1.04.2-1.43.59L10.3 9.45l-7.72 7.72c-.78.78-.78 2.05 0 2.83L4 21.41c.39.39.9.59 1.41.59.51 0 1.02-.2 1.41-.59l7.78-7.78 2.81-2.81c.8-.78.8-2.07 0-2.86zM5.41 20L4 18.59l7.72-7.72 1.47 1.35L5.41 20z\"/>\n",
              "  </svg>\n",
              "      </button>\n",
              "      \n",
              "  <style>\n",
              "    .colab-df-container {\n",
              "      display:flex;\n",
              "      flex-wrap:wrap;\n",
              "      gap: 12px;\n",
              "    }\n",
              "\n",
              "    .colab-df-convert {\n",
              "      background-color: #E8F0FE;\n",
              "      border: none;\n",
              "      border-radius: 50%;\n",
              "      cursor: pointer;\n",
              "      display: none;\n",
              "      fill: #1967D2;\n",
              "      height: 32px;\n",
              "      padding: 0 0 0 0;\n",
              "      width: 32px;\n",
              "    }\n",
              "\n",
              "    .colab-df-convert:hover {\n",
              "      background-color: #E2EBFA;\n",
              "      box-shadow: 0px 1px 2px rgba(60, 64, 67, 0.3), 0px 1px 3px 1px rgba(60, 64, 67, 0.15);\n",
              "      fill: #174EA6;\n",
              "    }\n",
              "\n",
              "    [theme=dark] .colab-df-convert {\n",
              "      background-color: #3B4455;\n",
              "      fill: #D2E3FC;\n",
              "    }\n",
              "\n",
              "    [theme=dark] .colab-df-convert:hover {\n",
              "      background-color: #434B5C;\n",
              "      box-shadow: 0px 1px 3px 1px rgba(0, 0, 0, 0.15);\n",
              "      filter: drop-shadow(0px 1px 2px rgba(0, 0, 0, 0.3));\n",
              "      fill: #FFFFFF;\n",
              "    }\n",
              "  </style>\n",
              "\n",
              "      <script>\n",
              "        const buttonEl =\n",
              "          document.querySelector('#df-a22cd408-4f49-4703-acca-97c21ce1836d button.colab-df-convert');\n",
              "        buttonEl.style.display =\n",
              "          google.colab.kernel.accessAllowed ? 'block' : 'none';\n",
              "\n",
              "        async function convertToInteractive(key) {\n",
              "          const element = document.querySelector('#df-a22cd408-4f49-4703-acca-97c21ce1836d');\n",
              "          const dataTable =\n",
              "            await google.colab.kernel.invokeFunction('convertToInteractive',\n",
              "                                                     [key], {});\n",
              "          if (!dataTable) return;\n",
              "\n",
              "          const docLinkHtml = 'Like what you see? Visit the ' +\n",
              "            '<a target=\"_blank\" href=https://colab.research.google.com/notebooks/data_table.ipynb>data table notebook</a>'\n",
              "            + ' to learn more about interactive tables.';\n",
              "          element.innerHTML = '';\n",
              "          dataTable['output_type'] = 'display_data';\n",
              "          await google.colab.output.renderOutput(dataTable, element);\n",
              "          const docLink = document.createElement('div');\n",
              "          docLink.innerHTML = docLinkHtml;\n",
              "          element.appendChild(docLink);\n",
              "        }\n",
              "      </script>\n",
              "    </div>\n",
              "  </div>\n",
              "  "
            ]
          },
          "metadata": {},
          "execution_count": 4
        }
      ],
      "source": [
        "#run the cell!\n",
        "listings.head()"
      ]
    },
    {
      "cell_type": "code",
      "execution_count": 5,
      "metadata": {
        "id": "HsgAH5pGsW5c",
        "colab": {
          "base_uri": "https://localhost:8080/"
        },
        "outputId": "bb789c97-3bfa-479c-b31d-e94564083f26"
      },
      "outputs": [
        {
          "output_type": "stream",
          "name": "stdout",
          "text": [
            "<class 'pandas.core.frame.DataFrame'>\n",
            "RangeIndex: 6852 entries, 0 to 6851\n",
            "Data columns (total 9 columns):\n",
            " #   Column      Non-Null Count  Dtype  \n",
            "---  ------      --------------  -----  \n",
            " 0   Symbol      6852 non-null   object \n",
            " 1   Exchange    6852 non-null   object \n",
            " 2   Name        6852 non-null   object \n",
            " 3   Last_Price  6745 non-null   float64\n",
            " 4   Market_Cap  5954 non-null   float64\n",
            " 5   ADR TSO     140 non-null    float64\n",
            " 6   IPO_Year    3105 non-null   float64\n",
            " 7   Sector      5309 non-null   object \n",
            " 8   Industry    5309 non-null   object \n",
            "dtypes: float64(4), object(5)\n",
            "memory usage: 481.9+ KB\n"
          ]
        }
      ],
      "source": [
        "#run the cell!\n",
        "listings.info()"
      ]
    },
    {
      "cell_type": "markdown",
      "metadata": {
        "id": "oU5W9TfysW5d"
      },
      "source": [
        "31. __Select__ the __index__ (row labels) of the DataFrame __listings__! What __kind of index__ do we have?"
      ]
    },
    {
      "cell_type": "code",
      "execution_count": 6,
      "metadata": {
        "id": "rLLZtxFjsW5d",
        "colab": {
          "base_uri": "https://localhost:8080/"
        },
        "outputId": "9bf3b045-d34c-4ffd-ca4b-1ed38bc61dba"
      },
      "outputs": [
        {
          "output_type": "execute_result",
          "data": {
            "text/plain": [
              "RangeIndex(start=0, stop=6852, step=1)"
            ]
          },
          "metadata": {},
          "execution_count": 6
        }
      ],
      "source": [
        "listings.index"
      ]
    },
    {
      "cell_type": "markdown",
      "metadata": {
        "id": "6sDGF06PsW5e"
      },
      "source": [
        "It´s a ... RangeIndex!"
      ]
    },
    {
      "cell_type": "markdown",
      "metadata": {
        "id": "hGglHtQWsW5e"
      },
      "source": [
        "32. __Set__ the __\"Symbol\"__ column as the __new index__ of listings (save the changes)!"
      ]
    },
    {
      "cell_type": "code",
      "execution_count": 7,
      "metadata": {
        "id": "V8xNrr3CsW5e"
      },
      "outputs": [],
      "source": [
        "listings.set_index(\"Symbol\", inplace = True)"
      ]
    },
    {
      "cell_type": "markdown",
      "metadata": {
        "id": "IWsnVpzTsW5e"
      },
      "source": [
        "33. __Check__ whether the new index contains __unique values only__ (no duplicates)! Is this the case?"
      ]
    },
    {
      "cell_type": "code",
      "execution_count": 10,
      "metadata": {
        "scrolled": true,
        "id": "7XEGRR6usW5f",
        "colab": {
          "base_uri": "https://localhost:8080/"
        },
        "outputId": "3ceac777-23be-4c38-f176-73b3b4c27247"
      },
      "outputs": [
        {
          "output_type": "execute_result",
          "data": {
            "text/plain": [
              "False"
            ]
          },
          "metadata": {},
          "execution_count": 10
        }
      ],
      "source": [
        "listings.index.is_unique"
      ]
    },
    {
      "cell_type": "markdown",
      "metadata": {
        "id": "rfCB01RwsW5f"
      },
      "source": [
        "No, apparently, there are duplicate entries!"
      ]
    },
    {
      "cell_type": "markdown",
      "metadata": {
        "id": "UtGzBqpPsW5f"
      },
      "source": [
        "34. __Get__ the __frequency/Counts__ of all unique values in the index! What is the __most frequent__ value(s)?"
      ]
    },
    {
      "cell_type": "code",
      "execution_count": 12,
      "metadata": {
        "scrolled": true,
        "id": "xOS9vg_FsW5f",
        "colab": {
          "base_uri": "https://localhost:8080/"
        },
        "outputId": "6a6e8b7f-804e-401a-dcad-0c66851ca680"
      },
      "outputs": [
        {
          "output_type": "execute_result",
          "data": {
            "text/plain": [
              "CDOR    2\n",
              "LLEX    2\n",
              "GOLD    2\n",
              "UNFI    2\n",
              "NCLH    2\n",
              "       ..\n",
              "FCBC    1\n",
              "FCAU    1\n",
              "FCAP    1\n",
              "FCAN    1\n",
              "ZYXI    1\n",
              "Name: Symbol, Length: 6840, dtype: int64"
            ]
          },
          "metadata": {},
          "execution_count": 12
        }
      ],
      "source": [
        "listings.index.value_counts()"
      ]
    },
    {
      "cell_type": "markdown",
      "metadata": {
        "id": "ovenie-gsW5g"
      },
      "source": [
        "There are many Symbols that appear ... 2 times!"
      ]
    },
    {
      "cell_type": "markdown",
      "metadata": {
        "id": "YHMLK0ddsW5g"
      },
      "source": [
        "35. __Set__ the __name__ of the index to __\"Ticker_Symbol\"__!"
      ]
    },
    {
      "cell_type": "code",
      "execution_count": 13,
      "metadata": {
        "id": "MDAfetCdsW5g"
      },
      "outputs": [],
      "source": [
        "listings.index.name = \"Ticker_Symbol\""
      ]
    },
    {
      "cell_type": "code",
      "execution_count": 14,
      "metadata": {
        "id": "J4dD8895sW5h",
        "colab": {
          "base_uri": "https://localhost:8080/",
          "height": 351
        },
        "outputId": "d9bc2969-457a-4af9-f165-4d108a3cf848"
      },
      "outputs": [
        {
          "output_type": "execute_result",
          "data": {
            "text/plain": [
              "              Exchange                           Name  Last_Price  \\\n",
              "Ticker_Symbol                                                       \n",
              "A                 NYSE     Agilent Technologies, Inc.       81.68   \n",
              "AA                NYSE              Alcoa Corporation       29.15   \n",
              "AABA            NASDAQ                    Altaba Inc.       75.39   \n",
              "AAC               NYSE             AAC Holdings, Inc.        2.16   \n",
              "AAL             NASDAQ  American Airlines Group, Inc.       34.02   \n",
              "\n",
              "                 Market_Cap  ADR TSO  IPO_Year            Sector  \\\n",
              "Ticker_Symbol                                                      \n",
              "A              2.593470e+10      NaN    1999.0     Capital Goods   \n",
              "AA             5.407810e+09      NaN    2016.0  Basic Industries   \n",
              "AABA           4.278113e+10      NaN       NaN        Technology   \n",
              "AAC            5.314109e+07      NaN    2014.0       Health Care   \n",
              "AAL            1.527687e+10      NaN       NaN    Transportation   \n",
              "\n",
              "                                                       Industry  \n",
              "Ticker_Symbol                                                    \n",
              "A              Biotechnology: Laboratory Analytical Instruments  \n",
              "AA                                                     Aluminum  \n",
              "AABA                                               EDP Services  \n",
              "AAC                                        Medical Specialities  \n",
              "AAL                               Air Freight/Delivery Services  "
            ],
            "text/html": [
              "\n",
              "  <div id=\"df-8e6683cd-f03f-4c37-8dbb-0bd9b77f874b\">\n",
              "    <div class=\"colab-df-container\">\n",
              "      <div>\n",
              "<style scoped>\n",
              "    .dataframe tbody tr th:only-of-type {\n",
              "        vertical-align: middle;\n",
              "    }\n",
              "\n",
              "    .dataframe tbody tr th {\n",
              "        vertical-align: top;\n",
              "    }\n",
              "\n",
              "    .dataframe thead th {\n",
              "        text-align: right;\n",
              "    }\n",
              "</style>\n",
              "<table border=\"1\" class=\"dataframe\">\n",
              "  <thead>\n",
              "    <tr style=\"text-align: right;\">\n",
              "      <th></th>\n",
              "      <th>Exchange</th>\n",
              "      <th>Name</th>\n",
              "      <th>Last_Price</th>\n",
              "      <th>Market_Cap</th>\n",
              "      <th>ADR TSO</th>\n",
              "      <th>IPO_Year</th>\n",
              "      <th>Sector</th>\n",
              "      <th>Industry</th>\n",
              "    </tr>\n",
              "    <tr>\n",
              "      <th>Ticker_Symbol</th>\n",
              "      <th></th>\n",
              "      <th></th>\n",
              "      <th></th>\n",
              "      <th></th>\n",
              "      <th></th>\n",
              "      <th></th>\n",
              "      <th></th>\n",
              "      <th></th>\n",
              "    </tr>\n",
              "  </thead>\n",
              "  <tbody>\n",
              "    <tr>\n",
              "      <th>A</th>\n",
              "      <td>NYSE</td>\n",
              "      <td>Agilent Technologies, Inc.</td>\n",
              "      <td>81.68</td>\n",
              "      <td>2.593470e+10</td>\n",
              "      <td>NaN</td>\n",
              "      <td>1999.0</td>\n",
              "      <td>Capital Goods</td>\n",
              "      <td>Biotechnology: Laboratory Analytical Instruments</td>\n",
              "    </tr>\n",
              "    <tr>\n",
              "      <th>AA</th>\n",
              "      <td>NYSE</td>\n",
              "      <td>Alcoa Corporation</td>\n",
              "      <td>29.15</td>\n",
              "      <td>5.407810e+09</td>\n",
              "      <td>NaN</td>\n",
              "      <td>2016.0</td>\n",
              "      <td>Basic Industries</td>\n",
              "      <td>Aluminum</td>\n",
              "    </tr>\n",
              "    <tr>\n",
              "      <th>AABA</th>\n",
              "      <td>NASDAQ</td>\n",
              "      <td>Altaba Inc.</td>\n",
              "      <td>75.39</td>\n",
              "      <td>4.278113e+10</td>\n",
              "      <td>NaN</td>\n",
              "      <td>NaN</td>\n",
              "      <td>Technology</td>\n",
              "      <td>EDP Services</td>\n",
              "    </tr>\n",
              "    <tr>\n",
              "      <th>AAC</th>\n",
              "      <td>NYSE</td>\n",
              "      <td>AAC Holdings, Inc.</td>\n",
              "      <td>2.16</td>\n",
              "      <td>5.314109e+07</td>\n",
              "      <td>NaN</td>\n",
              "      <td>2014.0</td>\n",
              "      <td>Health Care</td>\n",
              "      <td>Medical Specialities</td>\n",
              "    </tr>\n",
              "    <tr>\n",
              "      <th>AAL</th>\n",
              "      <td>NASDAQ</td>\n",
              "      <td>American Airlines Group, Inc.</td>\n",
              "      <td>34.02</td>\n",
              "      <td>1.527687e+10</td>\n",
              "      <td>NaN</td>\n",
              "      <td>NaN</td>\n",
              "      <td>Transportation</td>\n",
              "      <td>Air Freight/Delivery Services</td>\n",
              "    </tr>\n",
              "  </tbody>\n",
              "</table>\n",
              "</div>\n",
              "      <button class=\"colab-df-convert\" onclick=\"convertToInteractive('df-8e6683cd-f03f-4c37-8dbb-0bd9b77f874b')\"\n",
              "              title=\"Convert this dataframe to an interactive table.\"\n",
              "              style=\"display:none;\">\n",
              "        \n",
              "  <svg xmlns=\"http://www.w3.org/2000/svg\" height=\"24px\"viewBox=\"0 0 24 24\"\n",
              "       width=\"24px\">\n",
              "    <path d=\"M0 0h24v24H0V0z\" fill=\"none\"/>\n",
              "    <path d=\"M18.56 5.44l.94 2.06.94-2.06 2.06-.94-2.06-.94-.94-2.06-.94 2.06-2.06.94zm-11 1L8.5 8.5l.94-2.06 2.06-.94-2.06-.94L8.5 2.5l-.94 2.06-2.06.94zm10 10l.94 2.06.94-2.06 2.06-.94-2.06-.94-.94-2.06-.94 2.06-2.06.94z\"/><path d=\"M17.41 7.96l-1.37-1.37c-.4-.4-.92-.59-1.43-.59-.52 0-1.04.2-1.43.59L10.3 9.45l-7.72 7.72c-.78.78-.78 2.05 0 2.83L4 21.41c.39.39.9.59 1.41.59.51 0 1.02-.2 1.41-.59l7.78-7.78 2.81-2.81c.8-.78.8-2.07 0-2.86zM5.41 20L4 18.59l7.72-7.72 1.47 1.35L5.41 20z\"/>\n",
              "  </svg>\n",
              "      </button>\n",
              "      \n",
              "  <style>\n",
              "    .colab-df-container {\n",
              "      display:flex;\n",
              "      flex-wrap:wrap;\n",
              "      gap: 12px;\n",
              "    }\n",
              "\n",
              "    .colab-df-convert {\n",
              "      background-color: #E8F0FE;\n",
              "      border: none;\n",
              "      border-radius: 50%;\n",
              "      cursor: pointer;\n",
              "      display: none;\n",
              "      fill: #1967D2;\n",
              "      height: 32px;\n",
              "      padding: 0 0 0 0;\n",
              "      width: 32px;\n",
              "    }\n",
              "\n",
              "    .colab-df-convert:hover {\n",
              "      background-color: #E2EBFA;\n",
              "      box-shadow: 0px 1px 2px rgba(60, 64, 67, 0.3), 0px 1px 3px 1px rgba(60, 64, 67, 0.15);\n",
              "      fill: #174EA6;\n",
              "    }\n",
              "\n",
              "    [theme=dark] .colab-df-convert {\n",
              "      background-color: #3B4455;\n",
              "      fill: #D2E3FC;\n",
              "    }\n",
              "\n",
              "    [theme=dark] .colab-df-convert:hover {\n",
              "      background-color: #434B5C;\n",
              "      box-shadow: 0px 1px 3px 1px rgba(0, 0, 0, 0.15);\n",
              "      filter: drop-shadow(0px 1px 2px rgba(0, 0, 0, 0.3));\n",
              "      fill: #FFFFFF;\n",
              "    }\n",
              "  </style>\n",
              "\n",
              "      <script>\n",
              "        const buttonEl =\n",
              "          document.querySelector('#df-8e6683cd-f03f-4c37-8dbb-0bd9b77f874b button.colab-df-convert');\n",
              "        buttonEl.style.display =\n",
              "          google.colab.kernel.accessAllowed ? 'block' : 'none';\n",
              "\n",
              "        async function convertToInteractive(key) {\n",
              "          const element = document.querySelector('#df-8e6683cd-f03f-4c37-8dbb-0bd9b77f874b');\n",
              "          const dataTable =\n",
              "            await google.colab.kernel.invokeFunction('convertToInteractive',\n",
              "                                                     [key], {});\n",
              "          if (!dataTable) return;\n",
              "\n",
              "          const docLinkHtml = 'Like what you see? Visit the ' +\n",
              "            '<a target=\"_blank\" href=https://colab.research.google.com/notebooks/data_table.ipynb>data table notebook</a>'\n",
              "            + ' to learn more about interactive tables.';\n",
              "          element.innerHTML = '';\n",
              "          dataTable['output_type'] = 'display_data';\n",
              "          await google.colab.output.renderOutput(dataTable, element);\n",
              "          const docLink = document.createElement('div');\n",
              "          docLink.innerHTML = docLinkHtml;\n",
              "          element.appendChild(docLink);\n",
              "        }\n",
              "      </script>\n",
              "    </div>\n",
              "  </div>\n",
              "  "
            ]
          },
          "metadata": {},
          "execution_count": 14
        }
      ],
      "source": [
        "#run the cell!\n",
        "listings.head()"
      ]
    },
    {
      "cell_type": "markdown",
      "metadata": {
        "id": "6ud_PNOAsW5i"
      },
      "source": [
        "36. __Reset__ the __index__ to a RangeIndex and __save__ the change!"
      ]
    },
    {
      "cell_type": "code",
      "execution_count": 15,
      "metadata": {
        "id": "5-iUnDgcsW5i"
      },
      "outputs": [],
      "source": [
        "listings.reset_index(inplace = True)"
      ]
    },
    {
      "cell_type": "code",
      "execution_count": 16,
      "metadata": {
        "id": "HppIza6FsW5i",
        "colab": {
          "base_uri": "https://localhost:8080/",
          "height": 319
        },
        "outputId": "33e41577-2cc4-405f-8122-3b698ab4ca4e"
      },
      "outputs": [
        {
          "output_type": "execute_result",
          "data": {
            "text/plain": [
              "  Ticker_Symbol Exchange                           Name  Last_Price  \\\n",
              "0             A     NYSE     Agilent Technologies, Inc.       81.68   \n",
              "1            AA     NYSE              Alcoa Corporation       29.15   \n",
              "2          AABA   NASDAQ                    Altaba Inc.       75.39   \n",
              "3           AAC     NYSE             AAC Holdings, Inc.        2.16   \n",
              "4           AAL   NASDAQ  American Airlines Group, Inc.       34.02   \n",
              "\n",
              "     Market_Cap  ADR TSO  IPO_Year            Sector  \\\n",
              "0  2.593470e+10      NaN    1999.0     Capital Goods   \n",
              "1  5.407810e+09      NaN    2016.0  Basic Industries   \n",
              "2  4.278113e+10      NaN       NaN        Technology   \n",
              "3  5.314109e+07      NaN    2014.0       Health Care   \n",
              "4  1.527687e+10      NaN       NaN    Transportation   \n",
              "\n",
              "                                           Industry  \n",
              "0  Biotechnology: Laboratory Analytical Instruments  \n",
              "1                                          Aluminum  \n",
              "2                                      EDP Services  \n",
              "3                              Medical Specialities  \n",
              "4                     Air Freight/Delivery Services  "
            ],
            "text/html": [
              "\n",
              "  <div id=\"df-a7260a5f-81a5-4280-ac61-e16c18a12e55\">\n",
              "    <div class=\"colab-df-container\">\n",
              "      <div>\n",
              "<style scoped>\n",
              "    .dataframe tbody tr th:only-of-type {\n",
              "        vertical-align: middle;\n",
              "    }\n",
              "\n",
              "    .dataframe tbody tr th {\n",
              "        vertical-align: top;\n",
              "    }\n",
              "\n",
              "    .dataframe thead th {\n",
              "        text-align: right;\n",
              "    }\n",
              "</style>\n",
              "<table border=\"1\" class=\"dataframe\">\n",
              "  <thead>\n",
              "    <tr style=\"text-align: right;\">\n",
              "      <th></th>\n",
              "      <th>Ticker_Symbol</th>\n",
              "      <th>Exchange</th>\n",
              "      <th>Name</th>\n",
              "      <th>Last_Price</th>\n",
              "      <th>Market_Cap</th>\n",
              "      <th>ADR TSO</th>\n",
              "      <th>IPO_Year</th>\n",
              "      <th>Sector</th>\n",
              "      <th>Industry</th>\n",
              "    </tr>\n",
              "  </thead>\n",
              "  <tbody>\n",
              "    <tr>\n",
              "      <th>0</th>\n",
              "      <td>A</td>\n",
              "      <td>NYSE</td>\n",
              "      <td>Agilent Technologies, Inc.</td>\n",
              "      <td>81.68</td>\n",
              "      <td>2.593470e+10</td>\n",
              "      <td>NaN</td>\n",
              "      <td>1999.0</td>\n",
              "      <td>Capital Goods</td>\n",
              "      <td>Biotechnology: Laboratory Analytical Instruments</td>\n",
              "    </tr>\n",
              "    <tr>\n",
              "      <th>1</th>\n",
              "      <td>AA</td>\n",
              "      <td>NYSE</td>\n",
              "      <td>Alcoa Corporation</td>\n",
              "      <td>29.15</td>\n",
              "      <td>5.407810e+09</td>\n",
              "      <td>NaN</td>\n",
              "      <td>2016.0</td>\n",
              "      <td>Basic Industries</td>\n",
              "      <td>Aluminum</td>\n",
              "    </tr>\n",
              "    <tr>\n",
              "      <th>2</th>\n",
              "      <td>AABA</td>\n",
              "      <td>NASDAQ</td>\n",
              "      <td>Altaba Inc.</td>\n",
              "      <td>75.39</td>\n",
              "      <td>4.278113e+10</td>\n",
              "      <td>NaN</td>\n",
              "      <td>NaN</td>\n",
              "      <td>Technology</td>\n",
              "      <td>EDP Services</td>\n",
              "    </tr>\n",
              "    <tr>\n",
              "      <th>3</th>\n",
              "      <td>AAC</td>\n",
              "      <td>NYSE</td>\n",
              "      <td>AAC Holdings, Inc.</td>\n",
              "      <td>2.16</td>\n",
              "      <td>5.314109e+07</td>\n",
              "      <td>NaN</td>\n",
              "      <td>2014.0</td>\n",
              "      <td>Health Care</td>\n",
              "      <td>Medical Specialities</td>\n",
              "    </tr>\n",
              "    <tr>\n",
              "      <th>4</th>\n",
              "      <td>AAL</td>\n",
              "      <td>NASDAQ</td>\n",
              "      <td>American Airlines Group, Inc.</td>\n",
              "      <td>34.02</td>\n",
              "      <td>1.527687e+10</td>\n",
              "      <td>NaN</td>\n",
              "      <td>NaN</td>\n",
              "      <td>Transportation</td>\n",
              "      <td>Air Freight/Delivery Services</td>\n",
              "    </tr>\n",
              "  </tbody>\n",
              "</table>\n",
              "</div>\n",
              "      <button class=\"colab-df-convert\" onclick=\"convertToInteractive('df-a7260a5f-81a5-4280-ac61-e16c18a12e55')\"\n",
              "              title=\"Convert this dataframe to an interactive table.\"\n",
              "              style=\"display:none;\">\n",
              "        \n",
              "  <svg xmlns=\"http://www.w3.org/2000/svg\" height=\"24px\"viewBox=\"0 0 24 24\"\n",
              "       width=\"24px\">\n",
              "    <path d=\"M0 0h24v24H0V0z\" fill=\"none\"/>\n",
              "    <path d=\"M18.56 5.44l.94 2.06.94-2.06 2.06-.94-2.06-.94-.94-2.06-.94 2.06-2.06.94zm-11 1L8.5 8.5l.94-2.06 2.06-.94-2.06-.94L8.5 2.5l-.94 2.06-2.06.94zm10 10l.94 2.06.94-2.06 2.06-.94-2.06-.94-.94-2.06-.94 2.06-2.06.94z\"/><path d=\"M17.41 7.96l-1.37-1.37c-.4-.4-.92-.59-1.43-.59-.52 0-1.04.2-1.43.59L10.3 9.45l-7.72 7.72c-.78.78-.78 2.05 0 2.83L4 21.41c.39.39.9.59 1.41.59.51 0 1.02-.2 1.41-.59l7.78-7.78 2.81-2.81c.8-.78.8-2.07 0-2.86zM5.41 20L4 18.59l7.72-7.72 1.47 1.35L5.41 20z\"/>\n",
              "  </svg>\n",
              "      </button>\n",
              "      \n",
              "  <style>\n",
              "    .colab-df-container {\n",
              "      display:flex;\n",
              "      flex-wrap:wrap;\n",
              "      gap: 12px;\n",
              "    }\n",
              "\n",
              "    .colab-df-convert {\n",
              "      background-color: #E8F0FE;\n",
              "      border: none;\n",
              "      border-radius: 50%;\n",
              "      cursor: pointer;\n",
              "      display: none;\n",
              "      fill: #1967D2;\n",
              "      height: 32px;\n",
              "      padding: 0 0 0 0;\n",
              "      width: 32px;\n",
              "    }\n",
              "\n",
              "    .colab-df-convert:hover {\n",
              "      background-color: #E2EBFA;\n",
              "      box-shadow: 0px 1px 2px rgba(60, 64, 67, 0.3), 0px 1px 3px 1px rgba(60, 64, 67, 0.15);\n",
              "      fill: #174EA6;\n",
              "    }\n",
              "\n",
              "    [theme=dark] .colab-df-convert {\n",
              "      background-color: #3B4455;\n",
              "      fill: #D2E3FC;\n",
              "    }\n",
              "\n",
              "    [theme=dark] .colab-df-convert:hover {\n",
              "      background-color: #434B5C;\n",
              "      box-shadow: 0px 1px 3px 1px rgba(0, 0, 0, 0.15);\n",
              "      filter: drop-shadow(0px 1px 2px rgba(0, 0, 0, 0.3));\n",
              "      fill: #FFFFFF;\n",
              "    }\n",
              "  </style>\n",
              "\n",
              "      <script>\n",
              "        const buttonEl =\n",
              "          document.querySelector('#df-a7260a5f-81a5-4280-ac61-e16c18a12e55 button.colab-df-convert');\n",
              "        buttonEl.style.display =\n",
              "          google.colab.kernel.accessAllowed ? 'block' : 'none';\n",
              "\n",
              "        async function convertToInteractive(key) {\n",
              "          const element = document.querySelector('#df-a7260a5f-81a5-4280-ac61-e16c18a12e55');\n",
              "          const dataTable =\n",
              "            await google.colab.kernel.invokeFunction('convertToInteractive',\n",
              "                                                     [key], {});\n",
              "          if (!dataTable) return;\n",
              "\n",
              "          const docLinkHtml = 'Like what you see? Visit the ' +\n",
              "            '<a target=\"_blank\" href=https://colab.research.google.com/notebooks/data_table.ipynb>data table notebook</a>'\n",
              "            + ' to learn more about interactive tables.';\n",
              "          element.innerHTML = '';\n",
              "          dataTable['output_type'] = 'display_data';\n",
              "          await google.colab.output.renderOutput(dataTable, element);\n",
              "          const docLink = document.createElement('div');\n",
              "          docLink.innerHTML = docLinkHtml;\n",
              "          element.appendChild(docLink);\n",
              "        }\n",
              "      </script>\n",
              "    </div>\n",
              "  </div>\n",
              "  "
            ]
          },
          "metadata": {},
          "execution_count": 16
        }
      ],
      "source": [
        "#run the cell!\n",
        "listings.head()"
      ]
    },
    {
      "cell_type": "markdown",
      "metadata": {
        "id": "tWCR2RwusW5j"
      },
      "source": [
        "37. __Inspect__ the __column Index__!"
      ]
    },
    {
      "cell_type": "code",
      "execution_count": 17,
      "metadata": {
        "id": "ttrUYnYMsW5j",
        "colab": {
          "base_uri": "https://localhost:8080/"
        },
        "outputId": "106d84f1-07ea-4b0d-b55a-df49c64d20ce"
      },
      "outputs": [
        {
          "output_type": "execute_result",
          "data": {
            "text/plain": [
              "Index(['Ticker_Symbol', 'Exchange', 'Name', 'Last_Price', 'Market_Cap',\n",
              "       'ADR TSO', 'IPO_Year', 'Sector', 'Industry'],\n",
              "      dtype='object')"
            ]
          },
          "metadata": {},
          "execution_count": 17
        }
      ],
      "source": [
        "listings.columns"
      ]
    },
    {
      "cell_type": "markdown",
      "metadata": {
        "id": "POqfUAXLsW5j"
      },
      "source": [
        "38. __Rename__ the column __Labels__ \"Name\" and \"Market_Cap\" to \"Company\" and \"MCAP\"! __Fill in  the gaps__!"
      ]
    },
    {
      "cell_type": "code",
      "execution_count": 18,
      "metadata": {
        "id": "VlN8NYDfsW5k"
      },
      "outputs": [],
      "source": [
        "listings.rename(columns = {\"Name\":\"Company\", \"Market_Cap\":\"MCap\"}, inplace = True)"
      ]
    },
    {
      "cell_type": "code",
      "execution_count": 19,
      "metadata": {
        "id": "oxdI3eUBsW5k",
        "colab": {
          "base_uri": "https://localhost:8080/",
          "height": 319
        },
        "outputId": "d480b057-ef32-4db0-a1a2-dd3f938b35f4"
      },
      "outputs": [
        {
          "output_type": "execute_result",
          "data": {
            "text/plain": [
              "  Ticker_Symbol Exchange                        Company  Last_Price  \\\n",
              "0             A     NYSE     Agilent Technologies, Inc.       81.68   \n",
              "1            AA     NYSE              Alcoa Corporation       29.15   \n",
              "2          AABA   NASDAQ                    Altaba Inc.       75.39   \n",
              "3           AAC     NYSE             AAC Holdings, Inc.        2.16   \n",
              "4           AAL   NASDAQ  American Airlines Group, Inc.       34.02   \n",
              "\n",
              "           MCap  ADR TSO  IPO_Year            Sector  \\\n",
              "0  2.593470e+10      NaN    1999.0     Capital Goods   \n",
              "1  5.407810e+09      NaN    2016.0  Basic Industries   \n",
              "2  4.278113e+10      NaN       NaN        Technology   \n",
              "3  5.314109e+07      NaN    2014.0       Health Care   \n",
              "4  1.527687e+10      NaN       NaN    Transportation   \n",
              "\n",
              "                                           Industry  \n",
              "0  Biotechnology: Laboratory Analytical Instruments  \n",
              "1                                          Aluminum  \n",
              "2                                      EDP Services  \n",
              "3                              Medical Specialities  \n",
              "4                     Air Freight/Delivery Services  "
            ],
            "text/html": [
              "\n",
              "  <div id=\"df-7058132d-6e65-4426-b35c-43ae9d29a906\">\n",
              "    <div class=\"colab-df-container\">\n",
              "      <div>\n",
              "<style scoped>\n",
              "    .dataframe tbody tr th:only-of-type {\n",
              "        vertical-align: middle;\n",
              "    }\n",
              "\n",
              "    .dataframe tbody tr th {\n",
              "        vertical-align: top;\n",
              "    }\n",
              "\n",
              "    .dataframe thead th {\n",
              "        text-align: right;\n",
              "    }\n",
              "</style>\n",
              "<table border=\"1\" class=\"dataframe\">\n",
              "  <thead>\n",
              "    <tr style=\"text-align: right;\">\n",
              "      <th></th>\n",
              "      <th>Ticker_Symbol</th>\n",
              "      <th>Exchange</th>\n",
              "      <th>Company</th>\n",
              "      <th>Last_Price</th>\n",
              "      <th>MCap</th>\n",
              "      <th>ADR TSO</th>\n",
              "      <th>IPO_Year</th>\n",
              "      <th>Sector</th>\n",
              "      <th>Industry</th>\n",
              "    </tr>\n",
              "  </thead>\n",
              "  <tbody>\n",
              "    <tr>\n",
              "      <th>0</th>\n",
              "      <td>A</td>\n",
              "      <td>NYSE</td>\n",
              "      <td>Agilent Technologies, Inc.</td>\n",
              "      <td>81.68</td>\n",
              "      <td>2.593470e+10</td>\n",
              "      <td>NaN</td>\n",
              "      <td>1999.0</td>\n",
              "      <td>Capital Goods</td>\n",
              "      <td>Biotechnology: Laboratory Analytical Instruments</td>\n",
              "    </tr>\n",
              "    <tr>\n",
              "      <th>1</th>\n",
              "      <td>AA</td>\n",
              "      <td>NYSE</td>\n",
              "      <td>Alcoa Corporation</td>\n",
              "      <td>29.15</td>\n",
              "      <td>5.407810e+09</td>\n",
              "      <td>NaN</td>\n",
              "      <td>2016.0</td>\n",
              "      <td>Basic Industries</td>\n",
              "      <td>Aluminum</td>\n",
              "    </tr>\n",
              "    <tr>\n",
              "      <th>2</th>\n",
              "      <td>AABA</td>\n",
              "      <td>NASDAQ</td>\n",
              "      <td>Altaba Inc.</td>\n",
              "      <td>75.39</td>\n",
              "      <td>4.278113e+10</td>\n",
              "      <td>NaN</td>\n",
              "      <td>NaN</td>\n",
              "      <td>Technology</td>\n",
              "      <td>EDP Services</td>\n",
              "    </tr>\n",
              "    <tr>\n",
              "      <th>3</th>\n",
              "      <td>AAC</td>\n",
              "      <td>NYSE</td>\n",
              "      <td>AAC Holdings, Inc.</td>\n",
              "      <td>2.16</td>\n",
              "      <td>5.314109e+07</td>\n",
              "      <td>NaN</td>\n",
              "      <td>2014.0</td>\n",
              "      <td>Health Care</td>\n",
              "      <td>Medical Specialities</td>\n",
              "    </tr>\n",
              "    <tr>\n",
              "      <th>4</th>\n",
              "      <td>AAL</td>\n",
              "      <td>NASDAQ</td>\n",
              "      <td>American Airlines Group, Inc.</td>\n",
              "      <td>34.02</td>\n",
              "      <td>1.527687e+10</td>\n",
              "      <td>NaN</td>\n",
              "      <td>NaN</td>\n",
              "      <td>Transportation</td>\n",
              "      <td>Air Freight/Delivery Services</td>\n",
              "    </tr>\n",
              "  </tbody>\n",
              "</table>\n",
              "</div>\n",
              "      <button class=\"colab-df-convert\" onclick=\"convertToInteractive('df-7058132d-6e65-4426-b35c-43ae9d29a906')\"\n",
              "              title=\"Convert this dataframe to an interactive table.\"\n",
              "              style=\"display:none;\">\n",
              "        \n",
              "  <svg xmlns=\"http://www.w3.org/2000/svg\" height=\"24px\"viewBox=\"0 0 24 24\"\n",
              "       width=\"24px\">\n",
              "    <path d=\"M0 0h24v24H0V0z\" fill=\"none\"/>\n",
              "    <path d=\"M18.56 5.44l.94 2.06.94-2.06 2.06-.94-2.06-.94-.94-2.06-.94 2.06-2.06.94zm-11 1L8.5 8.5l.94-2.06 2.06-.94-2.06-.94L8.5 2.5l-.94 2.06-2.06.94zm10 10l.94 2.06.94-2.06 2.06-.94-2.06-.94-.94-2.06-.94 2.06-2.06.94z\"/><path d=\"M17.41 7.96l-1.37-1.37c-.4-.4-.92-.59-1.43-.59-.52 0-1.04.2-1.43.59L10.3 9.45l-7.72 7.72c-.78.78-.78 2.05 0 2.83L4 21.41c.39.39.9.59 1.41.59.51 0 1.02-.2 1.41-.59l7.78-7.78 2.81-2.81c.8-.78.8-2.07 0-2.86zM5.41 20L4 18.59l7.72-7.72 1.47 1.35L5.41 20z\"/>\n",
              "  </svg>\n",
              "      </button>\n",
              "      \n",
              "  <style>\n",
              "    .colab-df-container {\n",
              "      display:flex;\n",
              "      flex-wrap:wrap;\n",
              "      gap: 12px;\n",
              "    }\n",
              "\n",
              "    .colab-df-convert {\n",
              "      background-color: #E8F0FE;\n",
              "      border: none;\n",
              "      border-radius: 50%;\n",
              "      cursor: pointer;\n",
              "      display: none;\n",
              "      fill: #1967D2;\n",
              "      height: 32px;\n",
              "      padding: 0 0 0 0;\n",
              "      width: 32px;\n",
              "    }\n",
              "\n",
              "    .colab-df-convert:hover {\n",
              "      background-color: #E2EBFA;\n",
              "      box-shadow: 0px 1px 2px rgba(60, 64, 67, 0.3), 0px 1px 3px 1px rgba(60, 64, 67, 0.15);\n",
              "      fill: #174EA6;\n",
              "    }\n",
              "\n",
              "    [theme=dark] .colab-df-convert {\n",
              "      background-color: #3B4455;\n",
              "      fill: #D2E3FC;\n",
              "    }\n",
              "\n",
              "    [theme=dark] .colab-df-convert:hover {\n",
              "      background-color: #434B5C;\n",
              "      box-shadow: 0px 1px 3px 1px rgba(0, 0, 0, 0.15);\n",
              "      filter: drop-shadow(0px 1px 2px rgba(0, 0, 0, 0.3));\n",
              "      fill: #FFFFFF;\n",
              "    }\n",
              "  </style>\n",
              "\n",
              "      <script>\n",
              "        const buttonEl =\n",
              "          document.querySelector('#df-7058132d-6e65-4426-b35c-43ae9d29a906 button.colab-df-convert');\n",
              "        buttonEl.style.display =\n",
              "          google.colab.kernel.accessAllowed ? 'block' : 'none';\n",
              "\n",
              "        async function convertToInteractive(key) {\n",
              "          const element = document.querySelector('#df-7058132d-6e65-4426-b35c-43ae9d29a906');\n",
              "          const dataTable =\n",
              "            await google.colab.kernel.invokeFunction('convertToInteractive',\n",
              "                                                     [key], {});\n",
              "          if (!dataTable) return;\n",
              "\n",
              "          const docLinkHtml = 'Like what you see? Visit the ' +\n",
              "            '<a target=\"_blank\" href=https://colab.research.google.com/notebooks/data_table.ipynb>data table notebook</a>'\n",
              "            + ' to learn more about interactive tables.';\n",
              "          element.innerHTML = '';\n",
              "          dataTable['output_type'] = 'display_data';\n",
              "          await google.colab.output.renderOutput(dataTable, element);\n",
              "          const docLink = document.createElement('div');\n",
              "          docLink.innerHTML = docLinkHtml;\n",
              "          element.appendChild(docLink);\n",
              "        }\n",
              "      </script>\n",
              "    </div>\n",
              "  </div>\n",
              "  "
            ]
          },
          "metadata": {},
          "execution_count": 19
        }
      ],
      "source": [
        "#run the cell!\n",
        "listings.head()"
      ]
    },
    {
      "cell_type": "markdown",
      "metadata": {
        "id": "-i11RFpVsW5l"
      },
      "source": [
        "# Well Done!"
      ]
    },
    {
      "cell_type": "markdown",
      "metadata": {
        "id": "7Vw25MOnsW5l"
      },
      "source": [
        "------------------------------------------------------------"
      ]
    },
    {
      "cell_type": "markdown",
      "metadata": {
        "id": "Ezb9ivgzsW5l"
      },
      "source": [
        "# Hints (Spoiler!)"
      ]
    },
    {
      "cell_type": "markdown",
      "metadata": {
        "id": "5A1ssSyPsW5m"
      },
      "source": [
        "31. index attribute"
      ]
    },
    {
      "cell_type": "markdown",
      "metadata": {
        "id": "RPF47PaUsW5m"
      },
      "source": [
        "32. set_index() method; inplace parameter"
      ]
    },
    {
      "cell_type": "markdown",
      "metadata": {
        "id": "VE2r7uHbsW5m"
      },
      "source": [
        "33. call is_unique attribute on index"
      ]
    },
    {
      "cell_type": "markdown",
      "metadata": {
        "id": "RL15A9l2sW5n"
      },
      "source": [
        "34. call value_counts() method on index"
      ]
    },
    {
      "cell_type": "markdown",
      "metadata": {
        "id": "MeJJzAZlsW5n"
      },
      "source": [
        "35. listings.index.---  =  \"Ticker_Symbol\""
      ]
    },
    {
      "cell_type": "markdown",
      "metadata": {
        "id": "3wT-yUSGsW5n"
      },
      "source": [
        "36. reset_index() method; inplace parameter"
      ]
    },
    {
      "cell_type": "markdown",
      "metadata": {
        "id": "331l6j3hsW5n"
      },
      "source": [
        "37. columns attribute"
      ]
    },
    {
      "cell_type": "markdown",
      "metadata": {
        "id": "PX_4Lgu2sW5o"
      },
      "source": [
        "38. rename() method; columns parameter"
      ]
    },
    {
      "cell_type": "code",
      "execution_count": null,
      "metadata": {
        "id": "XGLdyLuksW5o"
      },
      "outputs": [],
      "source": []
    }
  ],
  "metadata": {
    "kernelspec": {
      "display_name": "Python 3",
      "language": "python",
      "name": "python3"
    },
    "language_info": {
      "codemirror_mode": {
        "name": "ipython",
        "version": 3
      },
      "file_extension": ".py",
      "mimetype": "text/x-python",
      "name": "python",
      "nbconvert_exporter": "python",
      "pygments_lexer": "ipython3",
      "version": "3.7.3"
    },
    "colab": {
      "provenance": [],
      "include_colab_link": true
    }
  },
  "nbformat": 4,
  "nbformat_minor": 0
}