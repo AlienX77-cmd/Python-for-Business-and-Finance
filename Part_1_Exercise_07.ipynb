{
  "cells": [
    {
      "cell_type": "markdown",
      "metadata": {
        "id": "view-in-github",
        "colab_type": "text"
      },
      "source": [
        "<a href=\"https://colab.research.google.com/github/AlienX77-cmd/Python-for-Business-and-Finance/blob/main/Exercise_07.ipynb\" target=\"_parent\"><img src=\"https://colab.research.google.com/assets/colab-badge.svg\" alt=\"Open In Colab\"/></a>"
      ]
    },
    {
      "cell_type": "markdown",
      "metadata": {
        "id": "VV9uJD5nzCa7"
      },
      "source": [
        "# Coding Exercises (Part 1)"
      ]
    },
    {
      "cell_type": "markdown",
      "metadata": {
        "id": "bNrAuK6AzCa-"
      },
      "source": [
        "Now, you will have the opportunity to practice what you have learned. <br>\n",
        "__Follow the instructions__ and insert your code! "
      ]
    },
    {
      "cell_type": "markdown",
      "metadata": {
        "id": "2QbYoDbHzCbA"
      },
      "source": [
        "The correct answer is provided below your coding cell. There you can check whether your code is correct."
      ]
    },
    {
      "cell_type": "markdown",
      "metadata": {
        "id": "RpAlfWNLzCbB"
      },
      "source": [
        "If you need some help or if you want to check your code, you can also have a look at the __solutions__."
      ]
    },
    {
      "cell_type": "markdown",
      "metadata": {
        "id": "sJd0AunxzCbB"
      },
      "source": [
        "### Have Fun!"
      ]
    },
    {
      "cell_type": "markdown",
      "metadata": {
        "id": "Kfzw_K6izCbC"
      },
      "source": [
        "--------------------------------------------------------------------------------------------------------------"
      ]
    },
    {
      "cell_type": "markdown",
      "metadata": {
        "id": "AjU3JBHBzCbD"
      },
      "source": [
        "## Exercise 7: The Numpy Package: Working with numbers made easy!"
      ]
    },
    {
      "cell_type": "markdown",
      "metadata": {
        "id": "CNTEJ1BEzCbD"
      },
      "source": [
        "1. Import Numpy!"
      ]
    },
    {
      "cell_type": "code",
      "execution_count": 1,
      "metadata": {
        "id": "MKenXJ5bzCbE"
      },
      "outputs": [],
      "source": [
        "import numpy as np"
      ]
    },
    {
      "cell_type": "code",
      "execution_count": 1,
      "metadata": {
        "id": "siI5MFuYzCbF"
      },
      "outputs": [],
      "source": []
    },
    {
      "cell_type": "markdown",
      "metadata": {
        "id": "uLTq1JkxzCbF"
      },
      "source": [
        "2. You have the following stock Prices in EUR Currency : [23.65, 43.21, 73.01, 87.32]<br>\n",
        "\n",
        "Create a __Numpy array__ and __convert all prices__ to USD Currency @ an fx rate of __1.2__ (1.2 USD per 1 EUR)."
      ]
    },
    {
      "cell_type": "code",
      "execution_count": 2,
      "metadata": {
        "id": "1a93tF50zCbG"
      },
      "outputs": [],
      "source": [
        "arr = np.array([23.65, 43.21, 73.01, 87.32])"
      ]
    },
    {
      "cell_type": "code",
      "execution_count": 3,
      "metadata": {
        "colab": {
          "base_uri": "https://localhost:8080/"
        },
        "id": "1fXdbaKFzCbH",
        "outputId": "9b233fe2-0999-4687-b5c3-962551b53b74"
      },
      "outputs": [
        {
          "output_type": "execute_result",
          "data": {
            "text/plain": [
              "array([ 28.38 ,  51.852,  87.612, 104.784])"
            ]
          },
          "metadata": {},
          "execution_count": 3
        }
      ],
      "source": [
        "arr = arr*1.2\n",
        "arr"
      ]
    },
    {
      "cell_type": "markdown",
      "metadata": {
        "id": "JvFOeEM-zCbH"
      },
      "source": [
        "(result: array([ 28.38 ,  51.852,  87.612, 104.784])"
      ]
    },
    {
      "cell_type": "code",
      "execution_count": 3,
      "metadata": {
        "id": "mKtAD13SzCbH"
      },
      "outputs": [],
      "source": []
    },
    {
      "cell_type": "markdown",
      "metadata": {
        "id": "LOKMPA14zCbI"
      },
      "source": [
        "You have the \n",
        "- end-of-2017 stock prices for four companies: [33.65, 63.21, 53.01, 17.32]\n",
        "- end-of-2018 stock prices for the same companies: [36.54, 61.59, 60.31, 10.40]"
      ]
    },
    {
      "cell_type": "markdown",
      "metadata": {
        "id": "0r0IPzFYzCbI"
      },
      "source": [
        "3. Calculate the __absolute__ price increase / decrease in 2018 __for all four companies__. Use __vectorized__ numpy code!"
      ]
    },
    {
      "cell_type": "code",
      "execution_count": 4,
      "metadata": {
        "id": "PBCfoZLuzCbJ"
      },
      "outputs": [],
      "source": [
        "price_2017 = np.array([33.65, 63.21, 53.01, 17.32])"
      ]
    },
    {
      "cell_type": "code",
      "execution_count": 5,
      "metadata": {
        "id": "ENyG2KgjzCbJ"
      },
      "outputs": [],
      "source": [
        "price_2018 = np.array([36.54, 61.59, 60.31, 10.40])"
      ]
    },
    {
      "cell_type": "code",
      "execution_count": 6,
      "metadata": {
        "colab": {
          "base_uri": "https://localhost:8080/"
        },
        "id": "rvPKwhjSzCbJ",
        "outputId": "db05619b-4a4a-4aea-a44f-3946e8d25f87"
      },
      "outputs": [
        {
          "output_type": "execute_result",
          "data": {
            "text/plain": [
              "array([ 2.89, -1.62,  7.3 , -6.92])"
            ]
          },
          "metadata": {},
          "execution_count": 6
        }
      ],
      "source": [
        "price_2018 - price_2017"
      ]
    },
    {
      "cell_type": "markdown",
      "metadata": {
        "id": "P20K70d0zCbK"
      },
      "source": [
        "4. Calculate the __price return__ in 2018 __for all four companies__. Use __vectorized__ numpy code!"
      ]
    },
    {
      "cell_type": "code",
      "execution_count": 7,
      "metadata": {
        "colab": {
          "base_uri": "https://localhost:8080/"
        },
        "id": "eW-L44mUzCbK",
        "outputId": "9410bb09-f754-41db-b482-1c88f13405df"
      },
      "outputs": [
        {
          "output_type": "execute_result",
          "data": {
            "text/plain": [
              "array([ 0.0858841 , -0.02562886,  0.13770987, -0.39953811])"
            ]
          },
          "metadata": {},
          "execution_count": 7
        }
      ],
      "source": [
        "(price_2018 / price_2017) - 1 \n",
        "#(FV/PV) - 1"
      ]
    },
    {
      "cell_type": "code",
      "execution_count": 7,
      "metadata": {
        "id": "asIWc0NozCbK"
      },
      "outputs": [],
      "source": []
    },
    {
      "cell_type": "markdown",
      "metadata": {
        "id": "VW94sO3IzCbL"
      },
      "source": [
        "You have the following list with cashflows (starting today at t0): [-500, -100, 200, 600, 1000, 800]"
      ]
    },
    {
      "cell_type": "code",
      "execution_count": 8,
      "metadata": {
        "id": "gUhGNCj3zCbL"
      },
      "outputs": [],
      "source": [
        "#run the cell!\n",
        "l  = [-500, -100, 200, 600, 1000, 800]"
      ]
    },
    {
      "cell_type": "markdown",
      "metadata": {
        "id": "vztNy9KVzCbM"
      },
      "source": [
        "5. Convert l into a __numpy array__ and __save__ the array in memory! __Select__ the __second cashflow__ at t1."
      ]
    },
    {
      "cell_type": "code",
      "execution_count": 9,
      "metadata": {
        "id": "v-iUkedczCbM"
      },
      "outputs": [],
      "source": [
        "arr2 = np.array(l)"
      ]
    },
    {
      "cell_type": "code",
      "execution_count": 10,
      "metadata": {
        "colab": {
          "base_uri": "https://localhost:8080/"
        },
        "id": "mCkweDp2zCbN",
        "outputId": "941917a5-5c9e-4c06-fada-4d006cd856f1"
      },
      "outputs": [
        {
          "output_type": "execute_result",
          "data": {
            "text/plain": [
              "-100"
            ]
          },
          "metadata": {},
          "execution_count": 10
        }
      ],
      "source": [
        "arr2[1]"
      ]
    },
    {
      "cell_type": "markdown",
      "metadata": {
        "id": "FzCTMSB5zCbN"
      },
      "source": [
        "6. __Slice__ the array for the __last two cashflows__!"
      ]
    },
    {
      "cell_type": "code",
      "source": [
        "arr2[-2:]"
      ],
      "metadata": {
        "colab": {
          "base_uri": "https://localhost:8080/"
        },
        "id": "-dOJA7G-16Jw",
        "outputId": "be32d8cd-c70a-4f25-f85b-57519eb7422e"
      },
      "execution_count": 11,
      "outputs": [
        {
          "output_type": "execute_result",
          "data": {
            "text/plain": [
              "array([1000,  800])"
            ]
          },
          "metadata": {},
          "execution_count": 11
        }
      ]
    },
    {
      "cell_type": "code",
      "execution_count": 11,
      "metadata": {
        "id": "Ly7C_uCvzCbO"
      },
      "outputs": [],
      "source": []
    },
    {
      "cell_type": "markdown",
      "metadata": {
        "id": "5mFb3sPDzCbP"
      },
      "source": [
        "7. __Slice__ the array for the cashflows in __t2, t3 and t4__."
      ]
    },
    {
      "cell_type": "code",
      "execution_count": 12,
      "metadata": {
        "colab": {
          "base_uri": "https://localhost:8080/"
        },
        "id": "fzCMk8l5zCbQ",
        "outputId": "3be320f9-4b10-494f-c895-ae507cf7d708"
      },
      "outputs": [
        {
          "output_type": "execute_result",
          "data": {
            "text/plain": [
              "array([ 200,  600, 1000])"
            ]
          },
          "metadata": {},
          "execution_count": 12
        }
      ],
      "source": [
        "arr2[2:5]"
      ]
    },
    {
      "cell_type": "code",
      "execution_count": 12,
      "metadata": {
        "id": "CkBPtPF9zCbQ"
      },
      "outputs": [],
      "source": []
    },
    {
      "cell_type": "markdown",
      "metadata": {
        "id": "a-7AJ3JEzCbR"
      },
      "source": [
        "The ABC Company evaluates to buy an additional machine that will increase future profits/cashflows by\n",
        "- 50 USD in t1, \n",
        "- 80 USD in t2,\n",
        "- 120 USD in t3, \n",
        "- 150 USD in t4,\n",
        "- 200 USD in t5. (each cf at period´s end)<br>"
      ]
    },
    {
      "cell_type": "markdown",
      "metadata": {
        "id": "NJwG7JJ6zCbR"
      },
      "source": [
        "8. The machine costs 500 USD (Investment in to). Calculate the __Project´s NPV__ and evaluate whether ABC should pursue the project. <br> ABC´s required rate of return (Cost of Capital) is 7.5% p.a. Use __vectorized__ numpy code!"
      ]
    },
    {
      "cell_type": "code",
      "execution_count": 70,
      "metadata": {
        "colab": {
          "base_uri": "https://localhost:8080/"
        },
        "id": "u4dYYqkizCbS",
        "outputId": "46a8f4c8-c924-4fe1-de34-a79c37770f7f"
      },
      "outputs": [
        {
          "output_type": "execute_result",
          "data": {
            "text/plain": [
              "array([-500,   50,   80,  120,  150,  200])"
            ]
          },
          "metadata": {},
          "execution_count": 70
        }
      ],
      "source": [
        "# run the cell\n",
        "cf = np.array([-500, 50, 80, 120, 150, 200])\n",
        "cf"
      ]
    },
    {
      "cell_type": "code",
      "execution_count": 14,
      "metadata": {
        "colab": {
          "base_uri": "https://localhost:8080/"
        },
        "id": "hRxniY5izCbT",
        "outputId": "d086cb0f-32bf-4f4f-dd64-61e6379cc2aa"
      },
      "outputs": [
        {
          "output_type": "execute_result",
          "data": {
            "text/plain": [
              "array([0, 1, 2, 3, 4, 5])"
            ]
          },
          "metadata": {},
          "execution_count": 14
        }
      ],
      "source": [
        "r = 0.075\n",
        "f = 1 + r\n",
        "\n",
        "n = np.array(range(len(cf)))\n",
        "n"
      ]
    },
    {
      "cell_type": "code",
      "execution_count": 15,
      "metadata": {
        "colab": {
          "base_uri": "https://localhost:8080/"
        },
        "id": "j9stL33zzCbT",
        "outputId": "45c34409-c3c6-438d-fd14-a38b29f6982a"
      },
      "outputs": [
        {
          "output_type": "execute_result",
          "data": {
            "text/plain": [
              "-36.03468883756554"
            ]
          },
          "metadata": {},
          "execution_count": 15
        }
      ],
      "source": [
        "#Vectorized numpy\n",
        "(cf / f**n).sum()"
      ]
    },
    {
      "cell_type": "code",
      "execution_count": 16,
      "metadata": {
        "colab": {
          "base_uri": "https://localhost:8080/"
        },
        "id": "wDKqNMvxzCbT",
        "outputId": "01aa60af-7ac8-4426-dbfd-cd72fd416bf4"
      },
      "outputs": [
        {
          "output_type": "stream",
          "name": "stdout",
          "text": [
            "No because NPV < 0\n"
          ]
        }
      ],
      "source": [
        "print(\"No because NPV < 0\")"
      ]
    },
    {
      "cell_type": "markdown",
      "metadata": {
        "id": "_0Kw6M5ZzCbU"
      },
      "source": [
        "(result: -36.03468883756554 -> no!)"
      ]
    },
    {
      "cell_type": "code",
      "execution_count": 16,
      "metadata": {
        "id": "HrVMWegpzCbU"
      },
      "outputs": [],
      "source": []
    },
    {
      "cell_type": "markdown",
      "metadata": {
        "id": "0GrZWgvozCbU"
      },
      "source": [
        "9. __Slice__ the array cf (from question 8) for the positive inflows (__from t1__) and __save__ the slice in the __variable cf_pos__. <br> Make sure that once you __change the slice cf_pos__, the array __cf shall change as well__!"
      ]
    },
    {
      "cell_type": "code",
      "execution_count": 60,
      "metadata": {
        "id": "MKOuaX6nzCbV",
        "colab": {
          "base_uri": "https://localhost:8080/"
        },
        "outputId": "07bec7ae-c2a8-46a6-ba93-7e7191b0b0ab"
      },
      "outputs": [
        {
          "output_type": "execute_result",
          "data": {
            "text/plain": [
              "array([ 50,  80, 120, 150, 200])"
            ]
          },
          "metadata": {},
          "execution_count": 60
        }
      ],
      "source": [
        "cf_pos = cf[1:]\n",
        "cf_pos"
      ]
    },
    {
      "cell_type": "code",
      "execution_count": 16,
      "metadata": {
        "id": "-Fht4v0MzCbV"
      },
      "outputs": [],
      "source": []
    },
    {
      "cell_type": "markdown",
      "metadata": {
        "id": "4YeTyv3WzCbW"
      },
      "source": [
        "10. Change the first cashflow (t1) of __cf_pos to 70__. Check whether __cf gets mutated as well__!"
      ]
    },
    {
      "cell_type": "code",
      "execution_count": 61,
      "metadata": {
        "id": "AvW1Z5PAzCbW",
        "colab": {
          "base_uri": "https://localhost:8080/"
        },
        "outputId": "16d9b693-c97c-4b1f-e1ca-151566b3bdfe"
      },
      "outputs": [
        {
          "output_type": "execute_result",
          "data": {
            "text/plain": [
              "array([ 70,  80, 120, 150, 200])"
            ]
          },
          "metadata": {},
          "execution_count": 61
        }
      ],
      "source": [
        "cf_pos[0] = 70\n",
        "cf_pos"
      ]
    },
    {
      "cell_type": "code",
      "execution_count": 62,
      "metadata": {
        "id": "I7F2A68czCbX",
        "colab": {
          "base_uri": "https://localhost:8080/"
        },
        "outputId": "8563db8b-44fa-4a29-c3f9-6445d0f57e27"
      },
      "outputs": [
        {
          "output_type": "execute_result",
          "data": {
            "text/plain": [
              "array([-500,   70,   80,  120,  150,  200])"
            ]
          },
          "metadata": {},
          "execution_count": 62
        }
      ],
      "source": [
        "cf"
      ]
    },
    {
      "cell_type": "code",
      "execution_count": 16,
      "metadata": {
        "id": "C5qigavwzCbX"
      },
      "outputs": [],
      "source": []
    },
    {
      "cell_type": "markdown",
      "metadata": {
        "id": "af01eZd0zCbY"
      },
      "source": [
        "11. __Restore cf__ and __redo Q9 and Q10__. This time make sure that cf and cf_pos are __independent objects__! "
      ]
    },
    {
      "cell_type": "code",
      "source": [
        "# run the cell\n",
        "cf = np.array([-500, 50, 80, 120, 150, 200])\n",
        "cf"
      ],
      "metadata": {
        "colab": {
          "base_uri": "https://localhost:8080/"
        },
        "id": "NgQRz4VuN54U",
        "outputId": "13bcb195-b056-4b4a-c87f-8b7ee579b88b"
      },
      "execution_count": 71,
      "outputs": [
        {
          "output_type": "execute_result",
          "data": {
            "text/plain": [
              "array([-500,   50,   80,  120,  150,  200])"
            ]
          },
          "metadata": {},
          "execution_count": 71
        }
      ]
    },
    {
      "cell_type": "code",
      "execution_count": 72,
      "metadata": {
        "id": "hh-7u9iJzCbY",
        "colab": {
          "base_uri": "https://localhost:8080/"
        },
        "outputId": "1028853e-3a6e-4408-9f42-8196f4ad5766"
      },
      "outputs": [
        {
          "output_type": "execute_result",
          "data": {
            "text/plain": [
              "array([ 50,  80, 120, 150, 200])"
            ]
          },
          "metadata": {},
          "execution_count": 72
        }
      ],
      "source": [
        "cf_pos = cf[1:].copy()\n",
        "cf_pos"
      ]
    },
    {
      "cell_type": "code",
      "execution_count": 73,
      "metadata": {
        "id": "3b8uDIRkzCbY",
        "colab": {
          "base_uri": "https://localhost:8080/"
        },
        "outputId": "12e50ba9-5bf6-43f9-8d64-fe3dbc6d8f31"
      },
      "outputs": [
        {
          "output_type": "execute_result",
          "data": {
            "text/plain": [
              "array([ 70,  80, 120, 150, 200])"
            ]
          },
          "metadata": {},
          "execution_count": 73
        }
      ],
      "source": [
        "cf_pos[0] = 70\n",
        "cf_pos"
      ]
    },
    {
      "cell_type": "code",
      "execution_count": 74,
      "metadata": {
        "id": "yLW0J0KEzCbZ",
        "colab": {
          "base_uri": "https://localhost:8080/"
        },
        "outputId": "ec573f12-2a7c-439b-f76f-beec96429b0a"
      },
      "outputs": [
        {
          "output_type": "execute_result",
          "data": {
            "text/plain": [
              "array([-500,   50,   80,  120,  150,  200])"
            ]
          },
          "metadata": {},
          "execution_count": 74
        }
      ],
      "source": [
        "cf"
      ]
    },
    {
      "cell_type": "code",
      "execution_count": 16,
      "metadata": {
        "id": "6qx3LW70zCbZ"
      },
      "outputs": [],
      "source": []
    },
    {
      "cell_type": "markdown",
      "metadata": {
        "id": "l37r0j00zCba"
      },
      "source": [
        "12. Calculate the __total sum__ over all cashflows of cf!"
      ]
    },
    {
      "cell_type": "code",
      "execution_count": 75,
      "metadata": {
        "id": "QL0KJCezzCba",
        "colab": {
          "base_uri": "https://localhost:8080/"
        },
        "outputId": "14bc9eeb-1f5f-4fbf-c4f7-9a646e013c77"
      },
      "outputs": [
        {
          "output_type": "execute_result",
          "data": {
            "text/plain": [
              "array([-500,   50,   80,  120,  150,  200])"
            ]
          },
          "metadata": {},
          "execution_count": 75
        }
      ],
      "source": [
        "# run the cell\n",
        "cf = np.array([-500, 50, 80, 120, 150, 200])\n",
        "cf"
      ]
    },
    {
      "cell_type": "code",
      "execution_count": 76,
      "metadata": {
        "id": "QSnVOvXBzCbb",
        "colab": {
          "base_uri": "https://localhost:8080/"
        },
        "outputId": "f9b48465-aac4-471a-9e02-fb7bc96ca0cf"
      },
      "outputs": [
        {
          "output_type": "execute_result",
          "data": {
            "text/plain": [
              "100"
            ]
          },
          "metadata": {},
          "execution_count": 76
        }
      ],
      "source": [
        "cf.sum()"
      ]
    },
    {
      "cell_type": "code",
      "execution_count": 17,
      "metadata": {
        "id": "AMAsVMAIzCbb"
      },
      "outputs": [],
      "source": []
    },
    {
      "cell_type": "markdown",
      "metadata": {
        "id": "8BPIkS1izCbb"
      },
      "source": [
        "13. Return the __highest Value__ of cf!"
      ]
    },
    {
      "cell_type": "code",
      "execution_count": 77,
      "metadata": {
        "id": "oGE8CLvyzCbc",
        "colab": {
          "base_uri": "https://localhost:8080/"
        },
        "outputId": "2226d90c-e042-4ab6-a9f2-84b7404fe1d6"
      },
      "outputs": [
        {
          "output_type": "execute_result",
          "data": {
            "text/plain": [
              "200"
            ]
          },
          "metadata": {},
          "execution_count": 77
        }
      ],
      "source": [
        "cf.max()"
      ]
    },
    {
      "cell_type": "markdown",
      "metadata": {
        "id": "75kmv9owzCbc"
      },
      "source": [
        "14. Calculate the __cumulative cashflows__ for cf!"
      ]
    },
    {
      "cell_type": "code",
      "execution_count": 78,
      "metadata": {
        "id": "xv5kr9fszCbd",
        "colab": {
          "base_uri": "https://localhost:8080/"
        },
        "outputId": "d9be5acc-146a-4c96-c737-9e6f5ec0b6dc"
      },
      "outputs": [
        {
          "output_type": "execute_result",
          "data": {
            "text/plain": [
              "array([-500, -450, -370, -250, -100,  100])"
            ]
          },
          "metadata": {},
          "execution_count": 78
        }
      ],
      "source": [
        "cf.cumsum()"
      ]
    },
    {
      "cell_type": "code",
      "execution_count": 17,
      "metadata": {
        "id": "yuASvAmazCbd"
      },
      "outputs": [],
      "source": []
    },
    {
      "cell_type": "markdown",
      "metadata": {
        "id": "AblTyY9LzCbd"
      },
      "source": [
        "15. Assume the following list: [3, 10, 6, 45, 100]. Calculate the __square root__ for all elements in the list. "
      ]
    },
    {
      "cell_type": "code",
      "execution_count": 80,
      "metadata": {
        "id": "zRwvlPIVzCbe",
        "colab": {
          "base_uri": "https://localhost:8080/"
        },
        "outputId": "7e62419a-8898-4a9f-e1b9-e4c4ecdc8b96"
      },
      "outputs": [
        {
          "output_type": "execute_result",
          "data": {
            "text/plain": [
              "array([ 1.73205081,  3.16227766,  2.44948974,  6.70820393, 10.        ])"
            ]
          },
          "metadata": {},
          "execution_count": 80
        }
      ],
      "source": [
        "np.sqrt([3, 10, 6, 45, 100])"
      ]
    },
    {
      "cell_type": "code",
      "execution_count": 17,
      "metadata": {
        "id": "xZSQZTD-zCbe"
      },
      "outputs": [],
      "source": []
    },
    {
      "cell_type": "markdown",
      "metadata": {
        "id": "_bTaK1vuzCbf"
      },
      "source": [
        "Assume the following stock prices:"
      ]
    },
    {
      "cell_type": "code",
      "execution_count": 81,
      "metadata": {
        "id": "-jiAxIv1zCbg",
        "colab": {
          "base_uri": "https://localhost:8080/"
        },
        "outputId": "d54ce4a8-e41f-4b36-ad95-5dc2fef887c2"
      },
      "outputs": [
        {
          "output_type": "execute_result",
          "data": {
            "text/plain": [
              "array([ 0.34, 43.56, 32.12, 67.43,  0.87,  9.87])"
            ]
          },
          "metadata": {},
          "execution_count": 81
        }
      ],
      "source": [
        "# run the cell!\n",
        "a = np.array([0.34, 43.56, 32.12, 67.43, 0.87, 9.87])\n",
        "a"
      ]
    },
    {
      "cell_type": "markdown",
      "metadata": {
        "id": "0k-_E1UGzCbh"
      },
      "source": [
        "16. __Filter__ a for all penny stocks! (price less than 1)"
      ]
    },
    {
      "cell_type": "code",
      "execution_count": 82,
      "metadata": {
        "id": "uIi33IeMzCbh",
        "colab": {
          "base_uri": "https://localhost:8080/"
        },
        "outputId": "ddeeb3b9-a9e6-4735-94cf-6628b355ab91"
      },
      "outputs": [
        {
          "output_type": "execute_result",
          "data": {
            "text/plain": [
              "array([0.34, 0.87])"
            ]
          },
          "metadata": {},
          "execution_count": 82
        }
      ],
      "source": [
        "a[a < 1]"
      ]
    },
    {
      "cell_type": "markdown",
      "metadata": {
        "id": "v7nKCVlZzCbh"
      },
      "source": [
        "(result: array([0.34, 0.87]))"
      ]
    },
    {
      "cell_type": "code",
      "execution_count": 18,
      "metadata": {
        "id": "b_3aRLGZzCbi"
      },
      "outputs": [],
      "source": []
    },
    {
      "cell_type": "markdown",
      "metadata": {
        "id": "51MQqxLQzCbi"
      },
      "source": [
        "17. __Filter__ a for all stocks prices that are greater than 10 __and__ less than 50 (logical and)!"
      ]
    },
    {
      "cell_type": "code",
      "execution_count": 84,
      "metadata": {
        "id": "1BOhuvQTzCbi",
        "colab": {
          "base_uri": "https://localhost:8080/"
        },
        "outputId": "96a52c7b-f668-4c40-c066-fb6c4b82ce1e"
      },
      "outputs": [
        {
          "output_type": "execute_result",
          "data": {
            "text/plain": [
              "array([43.56, 32.12])"
            ]
          },
          "metadata": {},
          "execution_count": 84
        }
      ],
      "source": [
        "gt = a > 10\n",
        "ls = a < 50\n",
        "\n",
        "a[gt & ls]"
      ]
    },
    {
      "cell_type": "code",
      "execution_count": 18,
      "metadata": {
        "id": "NaYhIuTfzCbi"
      },
      "outputs": [],
      "source": []
    },
    {
      "cell_type": "markdown",
      "metadata": {
        "id": "yevaXzifzCbj"
      },
      "source": [
        "18. __Filter__ a for stocks that are either penny stocks __or__ have prices greater than 60 (logical or)!"
      ]
    },
    {
      "cell_type": "code",
      "execution_count": 86,
      "metadata": {
        "id": "U8lbWp91zCbj",
        "colab": {
          "base_uri": "https://localhost:8080/"
        },
        "outputId": "978ff052-c5c6-4ab6-c89a-f78050be3ed6"
      },
      "outputs": [
        {
          "output_type": "execute_result",
          "data": {
            "text/plain": [
              "array([ 0.34, 67.43,  0.87])"
            ]
          },
          "metadata": {},
          "execution_count": 86
        }
      ],
      "source": [
        "gt2 = a > 60\n",
        "pen = a < 1\n",
        "\n",
        "a[pen | gt2]"
      ]
    },
    {
      "cell_type": "markdown",
      "metadata": {
        "id": "MV9A3M0RzCbj"
      },
      "source": [
        "(result: array([ 0.34, 67.43,  0.87]))"
      ]
    },
    {
      "cell_type": "code",
      "execution_count": 18,
      "metadata": {
        "id": "HSix2-TlzCbj"
      },
      "outputs": [],
      "source": []
    },
    {
      "cell_type": "markdown",
      "metadata": {
        "id": "yBVJsN_ozCbk"
      },
      "source": [
        "19. Get the __reverse__ of Q18! (Neither penny stocks nor prices greater than 60)"
      ]
    },
    {
      "cell_type": "code",
      "execution_count": 87,
      "metadata": {
        "id": "yj8m3IzAzCbk",
        "colab": {
          "base_uri": "https://localhost:8080/"
        },
        "outputId": "528f9b13-70bf-4a04-8896-2869a9b13918"
      },
      "outputs": [
        {
          "output_type": "execute_result",
          "data": {
            "text/plain": [
              "array([43.56, 32.12,  9.87])"
            ]
          },
          "metadata": {},
          "execution_count": 87
        }
      ],
      "source": [
        "gt2 = a > 60\n",
        "pen = a < 1\n",
        "\n",
        "a[~(pen | gt2)]"
      ]
    },
    {
      "cell_type": "markdown",
      "metadata": {
        "id": "7HM6yB5DzCbk"
      },
      "source": [
        "(result: array([43.56, 32.12,  9.87]))"
      ]
    },
    {
      "cell_type": "code",
      "execution_count": 18,
      "metadata": {
        "id": "P5dkVo7DzCbl"
      },
      "outputs": [],
      "source": []
    },
    {
      "cell_type": "markdown",
      "metadata": {
        "id": "PsF6T1YNzCbl"
      },
      "source": [
        "20. Create a ___numpy array__ with interest rates from __0% till 10%__ (incl.) and a __step of 0.5%__. "
      ]
    },
    {
      "cell_type": "code",
      "execution_count": 92,
      "metadata": {
        "id": "QKI_vL5yzCbl",
        "colab": {
          "base_uri": "https://localhost:8080/"
        },
        "outputId": "737c61c4-ac8f-4683-8e22-3a3df6d6a84c"
      },
      "outputs": [
        {
          "output_type": "execute_result",
          "data": {
            "text/plain": [
              "array([0.   , 0.005, 0.01 , 0.015, 0.02 , 0.025, 0.03 , 0.035, 0.04 ,\n",
              "       0.045, 0.05 , 0.055, 0.06 , 0.065, 0.07 , 0.075, 0.08 , 0.085,\n",
              "       0.09 , 0.095, 0.1  ])"
            ]
          },
          "metadata": {},
          "execution_count": 92
        }
      ],
      "source": [
        "_numpy = np.arange(0.00, 0.101, 0.005)\n",
        "_numpy"
      ]
    },
    {
      "cell_type": "code",
      "execution_count": 93,
      "metadata": {
        "id": "0p3AJ2YezCbm",
        "colab": {
          "base_uri": "https://localhost:8080/"
        },
        "outputId": "475f72ea-6e16-44e9-bd5e-dbd63f31e9da"
      },
      "outputs": [
        {
          "output_type": "execute_result",
          "data": {
            "text/plain": [
              "array([0.   , 0.005, 0.01 , 0.015, 0.02 , 0.025, 0.03 , 0.035, 0.04 ,\n",
              "       0.045, 0.05 , 0.055, 0.06 , 0.065, 0.07 , 0.075, 0.08 , 0.085,\n",
              "       0.09 , 0.095])"
            ]
          },
          "metadata": {},
          "execution_count": 93
        }
      ],
      "source": [
        "#ไม่ถึง 10%\n",
        "_numpy = np.arange(0.00, 0.100, 0.005)\n",
        "_numpy"
      ]
    },
    {
      "cell_type": "markdown",
      "metadata": {
        "id": "O844QXXQzCbm"
      },
      "source": [
        "21. __Plot__ the f(x) = cos(x) in the interval [-10, 10]! (use 1,000 data points)"
      ]
    },
    {
      "cell_type": "code",
      "execution_count": 96,
      "metadata": {
        "id": "TpViXBv6zCbm",
        "colab": {
          "base_uri": "https://localhost:8080/"
        },
        "outputId": "53198ed5-f4b0-48ac-9d53-aa48542f09ef"
      },
      "outputs": [
        {
          "output_type": "execute_result",
          "data": {
            "text/plain": [
              "array([-10.        ,  -9.97997998,  -9.95995996,  -9.93993994,\n",
              "        -9.91991992,  -9.8998999 ,  -9.87987988,  -9.85985986,\n",
              "        -9.83983984,  -9.81981982,  -9.7997998 ,  -9.77977978,\n",
              "        -9.75975976,  -9.73973974,  -9.71971972,  -9.6996997 ,\n",
              "        -9.67967968,  -9.65965966,  -9.63963964,  -9.61961962,\n",
              "        -9.5995996 ,  -9.57957958,  -9.55955956,  -9.53953954,\n",
              "        -9.51951952,  -9.4994995 ,  -9.47947948,  -9.45945946,\n",
              "        -9.43943944,  -9.41941942,  -9.3993994 ,  -9.37937938,\n",
              "        -9.35935936,  -9.33933934,  -9.31931932,  -9.2992993 ,\n",
              "        -9.27927928,  -9.25925926,  -9.23923924,  -9.21921922,\n",
              "        -9.1991992 ,  -9.17917918,  -9.15915916,  -9.13913914,\n",
              "        -9.11911912,  -9.0990991 ,  -9.07907908,  -9.05905906,\n",
              "        -9.03903904,  -9.01901902,  -8.998999  ,  -8.97897898,\n",
              "        -8.95895896,  -8.93893894,  -8.91891892,  -8.8988989 ,\n",
              "        -8.87887888,  -8.85885886,  -8.83883884,  -8.81881882,\n",
              "        -8.7987988 ,  -8.77877878,  -8.75875876,  -8.73873874,\n",
              "        -8.71871872,  -8.6986987 ,  -8.67867868,  -8.65865866,\n",
              "        -8.63863864,  -8.61861862,  -8.5985986 ,  -8.57857858,\n",
              "        -8.55855856,  -8.53853854,  -8.51851852,  -8.4984985 ,\n",
              "        -8.47847848,  -8.45845846,  -8.43843844,  -8.41841842,\n",
              "        -8.3983984 ,  -8.37837838,  -8.35835836,  -8.33833834,\n",
              "        -8.31831832,  -8.2982983 ,  -8.27827828,  -8.25825826,\n",
              "        -8.23823824,  -8.21821822,  -8.1981982 ,  -8.17817818,\n",
              "        -8.15815816,  -8.13813814,  -8.11811812,  -8.0980981 ,\n",
              "        -8.07807808,  -8.05805806,  -8.03803804,  -8.01801802,\n",
              "        -7.997998  ,  -7.97797798,  -7.95795796,  -7.93793794,\n",
              "        -7.91791792,  -7.8978979 ,  -7.87787788,  -7.85785786,\n",
              "        -7.83783784,  -7.81781782,  -7.7977978 ,  -7.77777778,\n",
              "        -7.75775776,  -7.73773774,  -7.71771772,  -7.6976977 ,\n",
              "        -7.67767768,  -7.65765766,  -7.63763764,  -7.61761762,\n",
              "        -7.5975976 ,  -7.57757758,  -7.55755756,  -7.53753754,\n",
              "        -7.51751752,  -7.4974975 ,  -7.47747748,  -7.45745746,\n",
              "        -7.43743744,  -7.41741742,  -7.3973974 ,  -7.37737738,\n",
              "        -7.35735736,  -7.33733734,  -7.31731732,  -7.2972973 ,\n",
              "        -7.27727728,  -7.25725726,  -7.23723724,  -7.21721722,\n",
              "        -7.1971972 ,  -7.17717718,  -7.15715716,  -7.13713714,\n",
              "        -7.11711712,  -7.0970971 ,  -7.07707708,  -7.05705706,\n",
              "        -7.03703704,  -7.01701702,  -6.996997  ,  -6.97697698,\n",
              "        -6.95695696,  -6.93693694,  -6.91691692,  -6.8968969 ,\n",
              "        -6.87687688,  -6.85685686,  -6.83683684,  -6.81681682,\n",
              "        -6.7967968 ,  -6.77677678,  -6.75675676,  -6.73673674,\n",
              "        -6.71671672,  -6.6966967 ,  -6.67667668,  -6.65665666,\n",
              "        -6.63663664,  -6.61661662,  -6.5965966 ,  -6.57657658,\n",
              "        -6.55655656,  -6.53653654,  -6.51651652,  -6.4964965 ,\n",
              "        -6.47647648,  -6.45645646,  -6.43643644,  -6.41641642,\n",
              "        -6.3963964 ,  -6.37637638,  -6.35635636,  -6.33633634,\n",
              "        -6.31631632,  -6.2962963 ,  -6.27627628,  -6.25625626,\n",
              "        -6.23623624,  -6.21621622,  -6.1961962 ,  -6.17617618,\n",
              "        -6.15615616,  -6.13613614,  -6.11611612,  -6.0960961 ,\n",
              "        -6.07607608,  -6.05605606,  -6.03603604,  -6.01601602,\n",
              "        -5.995996  ,  -5.97597598,  -5.95595596,  -5.93593594,\n",
              "        -5.91591592,  -5.8958959 ,  -5.87587588,  -5.85585586,\n",
              "        -5.83583584,  -5.81581582,  -5.7957958 ,  -5.77577578,\n",
              "        -5.75575576,  -5.73573574,  -5.71571572,  -5.6956957 ,\n",
              "        -5.67567568,  -5.65565566,  -5.63563564,  -5.61561562,\n",
              "        -5.5955956 ,  -5.57557558,  -5.55555556,  -5.53553554,\n",
              "        -5.51551552,  -5.4954955 ,  -5.47547548,  -5.45545546,\n",
              "        -5.43543544,  -5.41541542,  -5.3953954 ,  -5.37537538,\n",
              "        -5.35535536,  -5.33533534,  -5.31531532,  -5.2952953 ,\n",
              "        -5.27527528,  -5.25525526,  -5.23523524,  -5.21521522,\n",
              "        -5.1951952 ,  -5.17517518,  -5.15515516,  -5.13513514,\n",
              "        -5.11511512,  -5.0950951 ,  -5.07507508,  -5.05505506,\n",
              "        -5.03503504,  -5.01501502,  -4.99499499,  -4.97497497,\n",
              "        -4.95495495,  -4.93493493,  -4.91491491,  -4.89489489,\n",
              "        -4.87487487,  -4.85485485,  -4.83483483,  -4.81481481,\n",
              "        -4.79479479,  -4.77477477,  -4.75475475,  -4.73473473,\n",
              "        -4.71471471,  -4.69469469,  -4.67467467,  -4.65465465,\n",
              "        -4.63463463,  -4.61461461,  -4.59459459,  -4.57457457,\n",
              "        -4.55455455,  -4.53453453,  -4.51451451,  -4.49449449,\n",
              "        -4.47447447,  -4.45445445,  -4.43443443,  -4.41441441,\n",
              "        -4.39439439,  -4.37437437,  -4.35435435,  -4.33433433,\n",
              "        -4.31431431,  -4.29429429,  -4.27427427,  -4.25425425,\n",
              "        -4.23423423,  -4.21421421,  -4.19419419,  -4.17417417,\n",
              "        -4.15415415,  -4.13413413,  -4.11411411,  -4.09409409,\n",
              "        -4.07407407,  -4.05405405,  -4.03403403,  -4.01401401,\n",
              "        -3.99399399,  -3.97397397,  -3.95395395,  -3.93393393,\n",
              "        -3.91391391,  -3.89389389,  -3.87387387,  -3.85385385,\n",
              "        -3.83383383,  -3.81381381,  -3.79379379,  -3.77377377,\n",
              "        -3.75375375,  -3.73373373,  -3.71371371,  -3.69369369,\n",
              "        -3.67367367,  -3.65365365,  -3.63363363,  -3.61361361,\n",
              "        -3.59359359,  -3.57357357,  -3.55355355,  -3.53353353,\n",
              "        -3.51351351,  -3.49349349,  -3.47347347,  -3.45345345,\n",
              "        -3.43343343,  -3.41341341,  -3.39339339,  -3.37337337,\n",
              "        -3.35335335,  -3.33333333,  -3.31331331,  -3.29329329,\n",
              "        -3.27327327,  -3.25325325,  -3.23323323,  -3.21321321,\n",
              "        -3.19319319,  -3.17317317,  -3.15315315,  -3.13313313,\n",
              "        -3.11311311,  -3.09309309,  -3.07307307,  -3.05305305,\n",
              "        -3.03303303,  -3.01301301,  -2.99299299,  -2.97297297,\n",
              "        -2.95295295,  -2.93293293,  -2.91291291,  -2.89289289,\n",
              "        -2.87287287,  -2.85285285,  -2.83283283,  -2.81281281,\n",
              "        -2.79279279,  -2.77277277,  -2.75275275,  -2.73273273,\n",
              "        -2.71271271,  -2.69269269,  -2.67267267,  -2.65265265,\n",
              "        -2.63263263,  -2.61261261,  -2.59259259,  -2.57257257,\n",
              "        -2.55255255,  -2.53253253,  -2.51251251,  -2.49249249,\n",
              "        -2.47247247,  -2.45245245,  -2.43243243,  -2.41241241,\n",
              "        -2.39239239,  -2.37237237,  -2.35235235,  -2.33233233,\n",
              "        -2.31231231,  -2.29229229,  -2.27227227,  -2.25225225,\n",
              "        -2.23223223,  -2.21221221,  -2.19219219,  -2.17217217,\n",
              "        -2.15215215,  -2.13213213,  -2.11211211,  -2.09209209,\n",
              "        -2.07207207,  -2.05205205,  -2.03203203,  -2.01201201,\n",
              "        -1.99199199,  -1.97197197,  -1.95195195,  -1.93193193,\n",
              "        -1.91191191,  -1.89189189,  -1.87187187,  -1.85185185,\n",
              "        -1.83183183,  -1.81181181,  -1.79179179,  -1.77177177,\n",
              "        -1.75175175,  -1.73173173,  -1.71171171,  -1.69169169,\n",
              "        -1.67167167,  -1.65165165,  -1.63163163,  -1.61161161,\n",
              "        -1.59159159,  -1.57157157,  -1.55155155,  -1.53153153,\n",
              "        -1.51151151,  -1.49149149,  -1.47147147,  -1.45145145,\n",
              "        -1.43143143,  -1.41141141,  -1.39139139,  -1.37137137,\n",
              "        -1.35135135,  -1.33133133,  -1.31131131,  -1.29129129,\n",
              "        -1.27127127,  -1.25125125,  -1.23123123,  -1.21121121,\n",
              "        -1.19119119,  -1.17117117,  -1.15115115,  -1.13113113,\n",
              "        -1.11111111,  -1.09109109,  -1.07107107,  -1.05105105,\n",
              "        -1.03103103,  -1.01101101,  -0.99099099,  -0.97097097,\n",
              "        -0.95095095,  -0.93093093,  -0.91091091,  -0.89089089,\n",
              "        -0.87087087,  -0.85085085,  -0.83083083,  -0.81081081,\n",
              "        -0.79079079,  -0.77077077,  -0.75075075,  -0.73073073,\n",
              "        -0.71071071,  -0.69069069,  -0.67067067,  -0.65065065,\n",
              "        -0.63063063,  -0.61061061,  -0.59059059,  -0.57057057,\n",
              "        -0.55055055,  -0.53053053,  -0.51051051,  -0.49049049,\n",
              "        -0.47047047,  -0.45045045,  -0.43043043,  -0.41041041,\n",
              "        -0.39039039,  -0.37037037,  -0.35035035,  -0.33033033,\n",
              "        -0.31031031,  -0.29029029,  -0.27027027,  -0.25025025,\n",
              "        -0.23023023,  -0.21021021,  -0.19019019,  -0.17017017,\n",
              "        -0.15015015,  -0.13013013,  -0.11011011,  -0.09009009,\n",
              "        -0.07007007,  -0.05005005,  -0.03003003,  -0.01001001,\n",
              "         0.01001001,   0.03003003,   0.05005005,   0.07007007,\n",
              "         0.09009009,   0.11011011,   0.13013013,   0.15015015,\n",
              "         0.17017017,   0.19019019,   0.21021021,   0.23023023,\n",
              "         0.25025025,   0.27027027,   0.29029029,   0.31031031,\n",
              "         0.33033033,   0.35035035,   0.37037037,   0.39039039,\n",
              "         0.41041041,   0.43043043,   0.45045045,   0.47047047,\n",
              "         0.49049049,   0.51051051,   0.53053053,   0.55055055,\n",
              "         0.57057057,   0.59059059,   0.61061061,   0.63063063,\n",
              "         0.65065065,   0.67067067,   0.69069069,   0.71071071,\n",
              "         0.73073073,   0.75075075,   0.77077077,   0.79079079,\n",
              "         0.81081081,   0.83083083,   0.85085085,   0.87087087,\n",
              "         0.89089089,   0.91091091,   0.93093093,   0.95095095,\n",
              "         0.97097097,   0.99099099,   1.01101101,   1.03103103,\n",
              "         1.05105105,   1.07107107,   1.09109109,   1.11111111,\n",
              "         1.13113113,   1.15115115,   1.17117117,   1.19119119,\n",
              "         1.21121121,   1.23123123,   1.25125125,   1.27127127,\n",
              "         1.29129129,   1.31131131,   1.33133133,   1.35135135,\n",
              "         1.37137137,   1.39139139,   1.41141141,   1.43143143,\n",
              "         1.45145145,   1.47147147,   1.49149149,   1.51151151,\n",
              "         1.53153153,   1.55155155,   1.57157157,   1.59159159,\n",
              "         1.61161161,   1.63163163,   1.65165165,   1.67167167,\n",
              "         1.69169169,   1.71171171,   1.73173173,   1.75175175,\n",
              "         1.77177177,   1.79179179,   1.81181181,   1.83183183,\n",
              "         1.85185185,   1.87187187,   1.89189189,   1.91191191,\n",
              "         1.93193193,   1.95195195,   1.97197197,   1.99199199,\n",
              "         2.01201201,   2.03203203,   2.05205205,   2.07207207,\n",
              "         2.09209209,   2.11211211,   2.13213213,   2.15215215,\n",
              "         2.17217217,   2.19219219,   2.21221221,   2.23223223,\n",
              "         2.25225225,   2.27227227,   2.29229229,   2.31231231,\n",
              "         2.33233233,   2.35235235,   2.37237237,   2.39239239,\n",
              "         2.41241241,   2.43243243,   2.45245245,   2.47247247,\n",
              "         2.49249249,   2.51251251,   2.53253253,   2.55255255,\n",
              "         2.57257257,   2.59259259,   2.61261261,   2.63263263,\n",
              "         2.65265265,   2.67267267,   2.69269269,   2.71271271,\n",
              "         2.73273273,   2.75275275,   2.77277277,   2.79279279,\n",
              "         2.81281281,   2.83283283,   2.85285285,   2.87287287,\n",
              "         2.89289289,   2.91291291,   2.93293293,   2.95295295,\n",
              "         2.97297297,   2.99299299,   3.01301301,   3.03303303,\n",
              "         3.05305305,   3.07307307,   3.09309309,   3.11311311,\n",
              "         3.13313313,   3.15315315,   3.17317317,   3.19319319,\n",
              "         3.21321321,   3.23323323,   3.25325325,   3.27327327,\n",
              "         3.29329329,   3.31331331,   3.33333333,   3.35335335,\n",
              "         3.37337337,   3.39339339,   3.41341341,   3.43343343,\n",
              "         3.45345345,   3.47347347,   3.49349349,   3.51351351,\n",
              "         3.53353353,   3.55355355,   3.57357357,   3.59359359,\n",
              "         3.61361361,   3.63363363,   3.65365365,   3.67367367,\n",
              "         3.69369369,   3.71371371,   3.73373373,   3.75375375,\n",
              "         3.77377377,   3.79379379,   3.81381381,   3.83383383,\n",
              "         3.85385385,   3.87387387,   3.89389389,   3.91391391,\n",
              "         3.93393393,   3.95395395,   3.97397397,   3.99399399,\n",
              "         4.01401401,   4.03403403,   4.05405405,   4.07407407,\n",
              "         4.09409409,   4.11411411,   4.13413413,   4.15415415,\n",
              "         4.17417417,   4.19419419,   4.21421421,   4.23423423,\n",
              "         4.25425425,   4.27427427,   4.29429429,   4.31431431,\n",
              "         4.33433433,   4.35435435,   4.37437437,   4.39439439,\n",
              "         4.41441441,   4.43443443,   4.45445445,   4.47447447,\n",
              "         4.49449449,   4.51451451,   4.53453453,   4.55455455,\n",
              "         4.57457457,   4.59459459,   4.61461461,   4.63463463,\n",
              "         4.65465465,   4.67467467,   4.69469469,   4.71471471,\n",
              "         4.73473473,   4.75475475,   4.77477477,   4.79479479,\n",
              "         4.81481481,   4.83483483,   4.85485485,   4.87487487,\n",
              "         4.89489489,   4.91491491,   4.93493493,   4.95495495,\n",
              "         4.97497497,   4.99499499,   5.01501502,   5.03503504,\n",
              "         5.05505506,   5.07507508,   5.0950951 ,   5.11511512,\n",
              "         5.13513514,   5.15515516,   5.17517518,   5.1951952 ,\n",
              "         5.21521522,   5.23523524,   5.25525526,   5.27527528,\n",
              "         5.2952953 ,   5.31531532,   5.33533534,   5.35535536,\n",
              "         5.37537538,   5.3953954 ,   5.41541542,   5.43543544,\n",
              "         5.45545546,   5.47547548,   5.4954955 ,   5.51551552,\n",
              "         5.53553554,   5.55555556,   5.57557558,   5.5955956 ,\n",
              "         5.61561562,   5.63563564,   5.65565566,   5.67567568,\n",
              "         5.6956957 ,   5.71571572,   5.73573574,   5.75575576,\n",
              "         5.77577578,   5.7957958 ,   5.81581582,   5.83583584,\n",
              "         5.85585586,   5.87587588,   5.8958959 ,   5.91591592,\n",
              "         5.93593594,   5.95595596,   5.97597598,   5.995996  ,\n",
              "         6.01601602,   6.03603604,   6.05605606,   6.07607608,\n",
              "         6.0960961 ,   6.11611612,   6.13613614,   6.15615616,\n",
              "         6.17617618,   6.1961962 ,   6.21621622,   6.23623624,\n",
              "         6.25625626,   6.27627628,   6.2962963 ,   6.31631632,\n",
              "         6.33633634,   6.35635636,   6.37637638,   6.3963964 ,\n",
              "         6.41641642,   6.43643644,   6.45645646,   6.47647648,\n",
              "         6.4964965 ,   6.51651652,   6.53653654,   6.55655656,\n",
              "         6.57657658,   6.5965966 ,   6.61661662,   6.63663664,\n",
              "         6.65665666,   6.67667668,   6.6966967 ,   6.71671672,\n",
              "         6.73673674,   6.75675676,   6.77677678,   6.7967968 ,\n",
              "         6.81681682,   6.83683684,   6.85685686,   6.87687688,\n",
              "         6.8968969 ,   6.91691692,   6.93693694,   6.95695696,\n",
              "         6.97697698,   6.996997  ,   7.01701702,   7.03703704,\n",
              "         7.05705706,   7.07707708,   7.0970971 ,   7.11711712,\n",
              "         7.13713714,   7.15715716,   7.17717718,   7.1971972 ,\n",
              "         7.21721722,   7.23723724,   7.25725726,   7.27727728,\n",
              "         7.2972973 ,   7.31731732,   7.33733734,   7.35735736,\n",
              "         7.37737738,   7.3973974 ,   7.41741742,   7.43743744,\n",
              "         7.45745746,   7.47747748,   7.4974975 ,   7.51751752,\n",
              "         7.53753754,   7.55755756,   7.57757758,   7.5975976 ,\n",
              "         7.61761762,   7.63763764,   7.65765766,   7.67767768,\n",
              "         7.6976977 ,   7.71771772,   7.73773774,   7.75775776,\n",
              "         7.77777778,   7.7977978 ,   7.81781782,   7.83783784,\n",
              "         7.85785786,   7.87787788,   7.8978979 ,   7.91791792,\n",
              "         7.93793794,   7.95795796,   7.97797798,   7.997998  ,\n",
              "         8.01801802,   8.03803804,   8.05805806,   8.07807808,\n",
              "         8.0980981 ,   8.11811812,   8.13813814,   8.15815816,\n",
              "         8.17817818,   8.1981982 ,   8.21821822,   8.23823824,\n",
              "         8.25825826,   8.27827828,   8.2982983 ,   8.31831832,\n",
              "         8.33833834,   8.35835836,   8.37837838,   8.3983984 ,\n",
              "         8.41841842,   8.43843844,   8.45845846,   8.47847848,\n",
              "         8.4984985 ,   8.51851852,   8.53853854,   8.55855856,\n",
              "         8.57857858,   8.5985986 ,   8.61861862,   8.63863864,\n",
              "         8.65865866,   8.67867868,   8.6986987 ,   8.71871872,\n",
              "         8.73873874,   8.75875876,   8.77877878,   8.7987988 ,\n",
              "         8.81881882,   8.83883884,   8.85885886,   8.87887888,\n",
              "         8.8988989 ,   8.91891892,   8.93893894,   8.95895896,\n",
              "         8.97897898,   8.998999  ,   9.01901902,   9.03903904,\n",
              "         9.05905906,   9.07907908,   9.0990991 ,   9.11911912,\n",
              "         9.13913914,   9.15915916,   9.17917918,   9.1991992 ,\n",
              "         9.21921922,   9.23923924,   9.25925926,   9.27927928,\n",
              "         9.2992993 ,   9.31931932,   9.33933934,   9.35935936,\n",
              "         9.37937938,   9.3993994 ,   9.41941942,   9.43943944,\n",
              "         9.45945946,   9.47947948,   9.4994995 ,   9.51951952,\n",
              "         9.53953954,   9.55955956,   9.57957958,   9.5995996 ,\n",
              "         9.61961962,   9.63963964,   9.65965966,   9.67967968,\n",
              "         9.6996997 ,   9.71971972,   9.73973974,   9.75975976,\n",
              "         9.77977978,   9.7997998 ,   9.81981982,   9.83983984,\n",
              "         9.85985986,   9.87987988,   9.8998999 ,   9.91991992,\n",
              "         9.93993994,   9.95995996,   9.97997998,  10.        ])"
            ]
          },
          "metadata": {},
          "execution_count": 96
        }
      ],
      "source": [
        "x = np.linspace(-10, 10, 1000)\n",
        "x"
      ]
    },
    {
      "cell_type": "code",
      "execution_count": 97,
      "metadata": {
        "id": "Wua5___kzCbn",
        "colab": {
          "base_uri": "https://localhost:8080/"
        },
        "outputId": "b8ebc246-cc31-494d-8382-9483eb0f8a76"
      },
      "outputs": [
        {
          "output_type": "execute_result",
          "data": {
            "text/plain": [
              "array([-8.39071529e-01, -8.49793970e-01, -8.60175824e-01, -8.70212930e-01,\n",
              "       -8.79901266e-01, -8.89236948e-01, -8.98216234e-01, -9.06835526e-01,\n",
              "       -9.15091370e-01, -9.22980456e-01, -9.30499623e-01, -9.37645857e-01,\n",
              "       -9.44416293e-01, -9.50808220e-01, -9.56819074e-01, -9.62446446e-01,\n",
              "       -9.67688082e-01, -9.72541880e-01, -9.77005895e-01, -9.81078338e-01,\n",
              "       -9.84757577e-01, -9.88042137e-01, -9.90930702e-01, -9.93422114e-01,\n",
              "       -9.95515375e-01, -9.97209644e-01, -9.98504245e-01, -9.99398657e-01,\n",
              "       -9.99892522e-01, -9.99985643e-01, -9.99677982e-01, -9.98969661e-01,\n",
              "       -9.97860966e-01, -9.96352341e-01, -9.94444389e-01, -9.92137877e-01,\n",
              "       -9.89433727e-01, -9.86333025e-01, -9.82837012e-01, -9.78947090e-01,\n",
              "       -9.74664818e-01, -9.69991913e-01, -9.64930246e-01, -9.59481847e-01,\n",
              "       -9.53648900e-01, -9.47433742e-01, -9.40838863e-01, -9.33866908e-01,\n",
              "       -9.26520671e-01, -9.18803095e-01, -9.10717274e-01, -9.02266449e-01,\n",
              "       -8.93454007e-01, -8.84283479e-01, -8.74758541e-01, -8.64883010e-01,\n",
              "       -8.54660845e-01, -8.44096142e-01, -8.33193136e-01, -8.21956196e-01,\n",
              "       -8.10389826e-01, -7.98498661e-01, -7.86287469e-01, -7.73761141e-01,\n",
              "       -7.60924700e-01, -7.47783289e-01, -7.34342176e-01, -7.20606748e-01,\n",
              "       -7.06582509e-01, -6.92275080e-01, -6.77690196e-01, -6.62833702e-01,\n",
              "       -6.47711552e-01, -6.32329808e-01, -6.16694633e-01, -6.00812295e-01,\n",
              "       -5.84689158e-01, -5.68331685e-01, -5.51746432e-01, -5.34940046e-01,\n",
              "       -5.17919262e-01, -5.00690902e-01, -4.83261871e-01, -4.65639155e-01,\n",
              "       -4.47829817e-01, -4.29840994e-01, -4.11679896e-01, -3.93353801e-01,\n",
              "       -3.74870055e-01, -3.56236066e-01, -3.37459301e-01, -3.18547287e-01,\n",
              "       -2.99507604e-01, -2.80347881e-01, -2.61075798e-01, -2.41699079e-01,\n",
              "       -2.22225490e-01, -2.02662836e-01, -1.83018957e-01, -1.63301726e-01,\n",
              "       -1.43519046e-01, -1.23678846e-01, -1.03789076e-01, -8.38577088e-02,\n",
              "       -6.38927325e-02, -4.39021489e-02, -2.38939697e-02, -3.87621418e-03,\n",
              "        1.61430949e-02,  3.61559340e-02,  5.61542823e-02,  7.61301246e-02,\n",
              "        9.60754549e-02,  1.15982279e-01,  1.35842619e-01,  1.55648516e-01,\n",
              "        1.75392030e-01,  1.95065249e-01,  2.14660288e-01,  2.34169294e-01,\n",
              "        2.53584448e-01,  2.72897968e-01,  2.92102114e-01,  3.11189189e-01,\n",
              "        3.30151544e-01,  3.48981577e-01,  3.67671743e-01,  3.86214551e-01,\n",
              "        4.04602569e-01,  4.22828426e-01,  4.40884820e-01,  4.58764512e-01,\n",
              "        4.76460337e-01,  4.93965202e-01,  5.11272092e-01,  5.28374071e-01,\n",
              "        5.45264283e-01,  5.61935960e-01,  5.78382421e-01,  5.94597072e-01,\n",
              "        6.10573417e-01,  6.26305051e-01,  6.41785669e-01,  6.57009068e-01,\n",
              "        6.71969145e-01,  6.86659906e-01,  7.01075461e-01,  7.15210034e-01,\n",
              "        7.29057959e-01,  7.42613687e-01,  7.55871785e-01,  7.68826938e-01,\n",
              "        7.81473955e-01,  7.93807766e-01,  8.05823429e-01,  8.17516128e-01,\n",
              "        8.28881176e-01,  8.39914019e-01,  8.50610235e-01,  8.60965536e-01,\n",
              "        8.70975773e-01,  8.80636933e-01,  8.89945145e-01,  8.98896678e-01,\n",
              "        9.07487943e-01,  9.15715499e-01,  9.23576047e-01,  9.31066437e-01,\n",
              "        9.38183667e-01,  9.44924885e-01,  9.51287388e-01,  9.57268626e-01,\n",
              "        9.62866203e-01,  9.68077875e-01,  9.72901553e-01,  9.77335304e-01,\n",
              "        9.81377351e-01,  9.85026074e-01,  9.88280011e-01,  9.91137856e-01,\n",
              "        9.93598466e-01,  9.95660854e-01,  9.97324193e-01,  9.98587817e-01,\n",
              "        9.99451218e-01,  9.99914052e-01,  9.99976133e-01,  9.99637435e-01,\n",
              "        9.98898095e-01,  9.97758408e-01,  9.96218833e-01,  9.94279984e-01,\n",
              "        9.91942641e-01,  9.89207739e-01,  9.86076374e-01,  9.82549803e-01,\n",
              "        9.78629437e-01,  9.74316848e-01,  9.69613765e-01,  9.64522073e-01,\n",
              "        9.59043812e-01,  9.53181178e-01,  9.46936521e-01,  9.40312343e-01,\n",
              "        9.33311299e-01,  9.25936195e-01,  9.18189988e-01,  9.10075781e-01,\n",
              "        9.01596827e-01,  8.92756523e-01,  8.83558414e-01,  8.74006186e-01,\n",
              "        8.64103666e-01,  8.53854824e-01,  8.43263768e-01,  8.32334742e-01,\n",
              "        8.21072126e-01,  8.09480434e-01,  7.97564313e-01,  7.85328537e-01,\n",
              "        7.72778011e-01,  7.59917766e-01,  7.46752954e-01,  7.33288853e-01,\n",
              "        7.19530859e-01,  7.05484486e-01,  6.91155363e-01,  6.76549233e-01,\n",
              "        6.61671951e-01,  6.46529479e-01,  6.31127885e-01,  6.15473343e-01,\n",
              "        5.99572127e-01,  5.83430610e-01,  5.67055261e-01,  5.50452643e-01,\n",
              "        5.33629410e-01,  5.16592305e-01,  4.99348156e-01,  4.81903875e-01,\n",
              "        4.64266452e-01,  4.46442957e-01,  4.28440534e-01,  4.10266396e-01,\n",
              "        3.91927829e-01,  3.73432181e-01,  3.54786867e-01,  3.35999358e-01,\n",
              "        3.17077185e-01,  2.98027932e-01,  2.78859232e-01,  2.59578769e-01,\n",
              "        2.40194270e-01,  2.20713504e-01,  2.01144278e-01,  1.81494437e-01,\n",
              "        1.61771855e-01,  1.41984436e-01,  1.22140112e-01,  1.02246836e-01,\n",
              "        8.23125803e-02,  6.23453348e-02,  4.23531021e-02,  2.23438947e-02,\n",
              "        2.32573223e-03, -1.76933624e-02, -3.77053657e-02, -5.77022572e-02,\n",
              "       -7.76760224e-02, -9.76186559e-02, -1.17522165e-01, -1.37378573e-01,\n",
              "       -1.57179921e-01, -1.76918273e-01, -1.96585719e-01, -2.16174375e-01,\n",
              "       -2.35676391e-01, -2.55083951e-01, -2.74389277e-01, -2.93584631e-01,\n",
              "       -3.12662319e-01, -3.31614697e-01, -3.50434167e-01, -3.69113187e-01,\n",
              "       -3.87644272e-01, -4.06019993e-01, -4.24232986e-01, -4.42275952e-01,\n",
              "       -4.60141660e-01, -4.77822948e-01, -4.95312730e-01, -5.12603997e-01,\n",
              "       -5.29689819e-01, -5.46563347e-01, -5.63217820e-01, -5.79646561e-01,\n",
              "       -5.95842988e-01, -6.11800607e-01, -6.27513025e-01, -6.42973943e-01,\n",
              "       -6.58177165e-01, -6.73116597e-01, -6.87786253e-01, -7.02180252e-01,\n",
              "       -7.16292826e-01, -7.30118318e-01, -7.43651188e-01, -7.56886012e-01,\n",
              "       -7.69817485e-01, -7.82440424e-01, -7.94749771e-01, -8.06740592e-01,\n",
              "       -8.18408081e-01, -8.29747562e-01, -8.40754490e-01, -8.51424454e-01,\n",
              "       -8.61753178e-01, -8.71736521e-01, -8.81370484e-01, -8.90651203e-01,\n",
              "       -8.99574960e-01, -9.08138179e-01, -9.16337427e-01, -9.24169418e-01,\n",
              "       -9.31631013e-01, -9.38719222e-01, -9.45431204e-01, -9.51764268e-01,\n",
              "       -9.57715877e-01, -9.63283645e-01, -9.68465341e-01, -9.73258887e-01,\n",
              "       -9.77662364e-01, -9.81674005e-01, -9.85292203e-01, -9.88515508e-01,\n",
              "       -9.91342628e-01, -9.93772430e-01, -9.95803940e-01, -9.97436344e-01,\n",
              "       -9.98668988e-01, -9.99501377e-01, -9.99933178e-01, -9.99964218e-01,\n",
              "       -9.99594485e-01, -9.98824127e-01, -9.97653452e-01, -9.96082929e-01,\n",
              "       -9.94113189e-01, -9.91745021e-01, -9.88979373e-01, -9.85817354e-01,\n",
              "       -9.82260231e-01, -9.78309431e-01, -9.73966536e-01, -9.69233287e-01,\n",
              "       -9.64111581e-01, -9.58603471e-01, -9.52711165e-01, -9.46437023e-01,\n",
              "       -9.39783561e-01, -9.32753446e-01, -9.25349494e-01, -9.17574673e-01,\n",
              "       -9.09432099e-01, -9.00925037e-01, -8.92056894e-01, -8.82831226e-01,\n",
              "       -8.73251730e-01, -8.63322245e-01, -8.53046751e-01, -8.42429367e-01,\n",
              "       -8.31474347e-01, -8.20186082e-01, -8.08569096e-01, -7.96628046e-01,\n",
              "       -7.84367718e-01, -7.71793024e-01, -7.58909005e-01, -7.45720824e-01,\n",
              "       -7.32233768e-01, -7.18453241e-01, -7.04384767e-01, -6.90033984e-01,\n",
              "       -6.75406644e-01, -6.60508609e-01, -6.45345851e-01, -6.29924445e-01,\n",
              "       -6.14250574e-01, -5.98330518e-01, -5.82170659e-01, -5.65777473e-01,\n",
              "       -5.49157530e-01, -5.32317492e-01, -5.15264107e-01, -4.98004210e-01,\n",
              "       -4.80544720e-01, -4.62892633e-01, -4.45055025e-01, -4.27039043e-01,\n",
              "       -4.08851910e-01, -3.90500914e-01, -3.71993410e-01, -3.53336815e-01,\n",
              "       -3.34538607e-01, -3.15606321e-01, -2.96547543e-01, -2.77369913e-01,\n",
              "       -2.58081116e-01, -2.38688883e-01, -2.19200987e-01, -1.99625237e-01,\n",
              "       -1.79969480e-01, -1.60241594e-01, -1.40449485e-01, -1.20601085e-01,\n",
              "       -1.00704350e-01, -8.07672539e-02, -6.07977872e-02, -4.08039535e-02,\n",
              "       -2.07937660e-02, -7.75244699e-04,  1.92435873e-02,  3.92547068e-02,\n",
              "        5.92500934e-02,  7.92217334e-02,  9.91616222e-02,  1.19061768e-01,\n",
              "        1.38914196e-01,  1.58710948e-01,  1.78444091e-01,  1.98105716e-01,\n",
              "        2.17687942e-01,  2.37182922e-01,  2.56582842e-01,  2.75879926e-01,\n",
              "        2.95066442e-01,  3.14134698e-01,  3.33077052e-01,  3.51885914e-01,\n",
              "        3.70553744e-01,  3.89073060e-01,  4.07436441e-01,  4.25636526e-01,\n",
              "        4.43666022e-01,  4.61517701e-01,  4.79184410e-01,  4.96659067e-01,\n",
              "        5.13934670e-01,  5.31004293e-01,  5.47861097e-01,  5.64498325e-01,\n",
              "        5.80909308e-01,  5.97087471e-01,  6.13026327e-01,  6.28719491e-01,\n",
              "        6.44160671e-01,  6.59343679e-01,  6.74262431e-01,  6.88910947e-01,\n",
              "        7.03283355e-01,  7.17373896e-01,  7.31176922e-01,  7.44686901e-01,\n",
              "        7.57898419e-01,  7.70806181e-01,  7.83405013e-01,  7.95689865e-01,\n",
              "        8.07655815e-01,  8.19298066e-01,  8.30611953e-01,  8.41592940e-01,\n",
              "        8.52236627e-01,  8.62538748e-01,  8.72495174e-01,  8.82101915e-01,\n",
              "        8.91355120e-01,  9.00251081e-01,  9.08786232e-01,  9.16957152e-01,\n",
              "        9.24760567e-01,  9.32193350e-01,  9.39252521e-01,  9.45935251e-01,\n",
              "        9.52238861e-01,  9.58160826e-01,  9.63698772e-01,  9.68850478e-01,\n",
              "        9.73613882e-01,  9.77987073e-01,  9.81968298e-01,  9.85555963e-01,\n",
              "        9.88748629e-01,  9.91545016e-01,  9.93944004e-01,  9.95944632e-01,\n",
              "        9.97546097e-01,  9.98747758e-01,  9.99549133e-01,  9.99949900e-01,\n",
              "        9.99949900e-01,  9.99549133e-01,  9.98747758e-01,  9.97546097e-01,\n",
              "        9.95944632e-01,  9.93944004e-01,  9.91545016e-01,  9.88748629e-01,\n",
              "        9.85555963e-01,  9.81968298e-01,  9.77987073e-01,  9.73613882e-01,\n",
              "        9.68850478e-01,  9.63698772e-01,  9.58160826e-01,  9.52238861e-01,\n",
              "        9.45935251e-01,  9.39252521e-01,  9.32193350e-01,  9.24760567e-01,\n",
              "        9.16957152e-01,  9.08786232e-01,  9.00251081e-01,  8.91355120e-01,\n",
              "        8.82101915e-01,  8.72495174e-01,  8.62538748e-01,  8.52236627e-01,\n",
              "        8.41592940e-01,  8.30611953e-01,  8.19298066e-01,  8.07655815e-01,\n",
              "        7.95689865e-01,  7.83405013e-01,  7.70806181e-01,  7.57898419e-01,\n",
              "        7.44686901e-01,  7.31176922e-01,  7.17373896e-01,  7.03283355e-01,\n",
              "        6.88910947e-01,  6.74262431e-01,  6.59343679e-01,  6.44160671e-01,\n",
              "        6.28719491e-01,  6.13026327e-01,  5.97087471e-01,  5.80909308e-01,\n",
              "        5.64498325e-01,  5.47861097e-01,  5.31004293e-01,  5.13934670e-01,\n",
              "        4.96659067e-01,  4.79184410e-01,  4.61517701e-01,  4.43666022e-01,\n",
              "        4.25636526e-01,  4.07436441e-01,  3.89073060e-01,  3.70553744e-01,\n",
              "        3.51885914e-01,  3.33077052e-01,  3.14134698e-01,  2.95066442e-01,\n",
              "        2.75879926e-01,  2.56582842e-01,  2.37182922e-01,  2.17687942e-01,\n",
              "        1.98105716e-01,  1.78444091e-01,  1.58710948e-01,  1.38914196e-01,\n",
              "        1.19061768e-01,  9.91616222e-02,  7.92217334e-02,  5.92500934e-02,\n",
              "        3.92547068e-02,  1.92435873e-02, -7.75244699e-04, -2.07937660e-02,\n",
              "       -4.08039535e-02, -6.07977872e-02, -8.07672539e-02, -1.00704350e-01,\n",
              "       -1.20601085e-01, -1.40449485e-01, -1.60241594e-01, -1.79969480e-01,\n",
              "       -1.99625237e-01, -2.19200987e-01, -2.38688883e-01, -2.58081116e-01,\n",
              "       -2.77369913e-01, -2.96547543e-01, -3.15606321e-01, -3.34538607e-01,\n",
              "       -3.53336815e-01, -3.71993410e-01, -3.90500914e-01, -4.08851910e-01,\n",
              "       -4.27039043e-01, -4.45055025e-01, -4.62892633e-01, -4.80544720e-01,\n",
              "       -4.98004210e-01, -5.15264107e-01, -5.32317492e-01, -5.49157530e-01,\n",
              "       -5.65777473e-01, -5.82170659e-01, -5.98330518e-01, -6.14250574e-01,\n",
              "       -6.29924445e-01, -6.45345851e-01, -6.60508609e-01, -6.75406644e-01,\n",
              "       -6.90033984e-01, -7.04384767e-01, -7.18453241e-01, -7.32233768e-01,\n",
              "       -7.45720824e-01, -7.58909005e-01, -7.71793024e-01, -7.84367718e-01,\n",
              "       -7.96628046e-01, -8.08569096e-01, -8.20186082e-01, -8.31474347e-01,\n",
              "       -8.42429367e-01, -8.53046751e-01, -8.63322245e-01, -8.73251730e-01,\n",
              "       -8.82831226e-01, -8.92056894e-01, -9.00925037e-01, -9.09432099e-01,\n",
              "       -9.17574673e-01, -9.25349494e-01, -9.32753446e-01, -9.39783561e-01,\n",
              "       -9.46437023e-01, -9.52711165e-01, -9.58603471e-01, -9.64111581e-01,\n",
              "       -9.69233287e-01, -9.73966536e-01, -9.78309431e-01, -9.82260231e-01,\n",
              "       -9.85817354e-01, -9.88979373e-01, -9.91745021e-01, -9.94113189e-01,\n",
              "       -9.96082929e-01, -9.97653452e-01, -9.98824127e-01, -9.99594485e-01,\n",
              "       -9.99964218e-01, -9.99933178e-01, -9.99501377e-01, -9.98668988e-01,\n",
              "       -9.97436344e-01, -9.95803940e-01, -9.93772430e-01, -9.91342628e-01,\n",
              "       -9.88515508e-01, -9.85292203e-01, -9.81674005e-01, -9.77662364e-01,\n",
              "       -9.73258887e-01, -9.68465341e-01, -9.63283645e-01, -9.57715877e-01,\n",
              "       -9.51764268e-01, -9.45431204e-01, -9.38719222e-01, -9.31631013e-01,\n",
              "       -9.24169418e-01, -9.16337427e-01, -9.08138179e-01, -8.99574960e-01,\n",
              "       -8.90651203e-01, -8.81370484e-01, -8.71736521e-01, -8.61753178e-01,\n",
              "       -8.51424454e-01, -8.40754490e-01, -8.29747562e-01, -8.18408081e-01,\n",
              "       -8.06740592e-01, -7.94749771e-01, -7.82440424e-01, -7.69817485e-01,\n",
              "       -7.56886012e-01, -7.43651188e-01, -7.30118318e-01, -7.16292826e-01,\n",
              "       -7.02180252e-01, -6.87786253e-01, -6.73116597e-01, -6.58177165e-01,\n",
              "       -6.42973943e-01, -6.27513025e-01, -6.11800607e-01, -5.95842988e-01,\n",
              "       -5.79646561e-01, -5.63217820e-01, -5.46563347e-01, -5.29689819e-01,\n",
              "       -5.12603997e-01, -4.95312730e-01, -4.77822948e-01, -4.60141660e-01,\n",
              "       -4.42275952e-01, -4.24232986e-01, -4.06019993e-01, -3.87644272e-01,\n",
              "       -3.69113187e-01, -3.50434167e-01, -3.31614697e-01, -3.12662319e-01,\n",
              "       -2.93584631e-01, -2.74389277e-01, -2.55083951e-01, -2.35676391e-01,\n",
              "       -2.16174375e-01, -1.96585719e-01, -1.76918273e-01, -1.57179921e-01,\n",
              "       -1.37378573e-01, -1.17522165e-01, -9.76186559e-02, -7.76760224e-02,\n",
              "       -5.77022572e-02, -3.77053657e-02, -1.76933624e-02,  2.32573223e-03,\n",
              "        2.23438947e-02,  4.23531021e-02,  6.23453348e-02,  8.23125803e-02,\n",
              "        1.02246836e-01,  1.22140112e-01,  1.41984436e-01,  1.61771855e-01,\n",
              "        1.81494437e-01,  2.01144278e-01,  2.20713504e-01,  2.40194270e-01,\n",
              "        2.59578769e-01,  2.78859232e-01,  2.98027932e-01,  3.17077185e-01,\n",
              "        3.35999358e-01,  3.54786867e-01,  3.73432181e-01,  3.91927829e-01,\n",
              "        4.10266396e-01,  4.28440534e-01,  4.46442957e-01,  4.64266452e-01,\n",
              "        4.81903875e-01,  4.99348156e-01,  5.16592305e-01,  5.33629410e-01,\n",
              "        5.50452643e-01,  5.67055261e-01,  5.83430610e-01,  5.99572127e-01,\n",
              "        6.15473343e-01,  6.31127885e-01,  6.46529479e-01,  6.61671951e-01,\n",
              "        6.76549233e-01,  6.91155363e-01,  7.05484486e-01,  7.19530859e-01,\n",
              "        7.33288853e-01,  7.46752954e-01,  7.59917766e-01,  7.72778011e-01,\n",
              "        7.85328537e-01,  7.97564313e-01,  8.09480434e-01,  8.21072126e-01,\n",
              "        8.32334742e-01,  8.43263768e-01,  8.53854824e-01,  8.64103666e-01,\n",
              "        8.74006186e-01,  8.83558414e-01,  8.92756523e-01,  9.01596827e-01,\n",
              "        9.10075781e-01,  9.18189988e-01,  9.25936195e-01,  9.33311299e-01,\n",
              "        9.40312343e-01,  9.46936521e-01,  9.53181178e-01,  9.59043812e-01,\n",
              "        9.64522073e-01,  9.69613765e-01,  9.74316848e-01,  9.78629437e-01,\n",
              "        9.82549803e-01,  9.86076374e-01,  9.89207739e-01,  9.91942641e-01,\n",
              "        9.94279984e-01,  9.96218833e-01,  9.97758408e-01,  9.98898095e-01,\n",
              "        9.99637435e-01,  9.99976133e-01,  9.99914052e-01,  9.99451218e-01,\n",
              "        9.98587817e-01,  9.97324193e-01,  9.95660854e-01,  9.93598466e-01,\n",
              "        9.91137856e-01,  9.88280011e-01,  9.85026074e-01,  9.81377351e-01,\n",
              "        9.77335304e-01,  9.72901553e-01,  9.68077875e-01,  9.62866203e-01,\n",
              "        9.57268626e-01,  9.51287388e-01,  9.44924885e-01,  9.38183667e-01,\n",
              "        9.31066437e-01,  9.23576047e-01,  9.15715499e-01,  9.07487943e-01,\n",
              "        8.98896678e-01,  8.89945145e-01,  8.80636933e-01,  8.70975773e-01,\n",
              "        8.60965536e-01,  8.50610235e-01,  8.39914019e-01,  8.28881176e-01,\n",
              "        8.17516128e-01,  8.05823429e-01,  7.93807766e-01,  7.81473955e-01,\n",
              "        7.68826938e-01,  7.55871785e-01,  7.42613687e-01,  7.29057959e-01,\n",
              "        7.15210034e-01,  7.01075461e-01,  6.86659906e-01,  6.71969145e-01,\n",
              "        6.57009068e-01,  6.41785669e-01,  6.26305051e-01,  6.10573417e-01,\n",
              "        5.94597072e-01,  5.78382421e-01,  5.61935960e-01,  5.45264283e-01,\n",
              "        5.28374071e-01,  5.11272092e-01,  4.93965202e-01,  4.76460337e-01,\n",
              "        4.58764512e-01,  4.40884820e-01,  4.22828426e-01,  4.04602569e-01,\n",
              "        3.86214551e-01,  3.67671743e-01,  3.48981577e-01,  3.30151544e-01,\n",
              "        3.11189189e-01,  2.92102114e-01,  2.72897968e-01,  2.53584448e-01,\n",
              "        2.34169294e-01,  2.14660288e-01,  1.95065249e-01,  1.75392030e-01,\n",
              "        1.55648516e-01,  1.35842619e-01,  1.15982279e-01,  9.60754549e-02,\n",
              "        7.61301246e-02,  5.61542823e-02,  3.61559340e-02,  1.61430949e-02,\n",
              "       -3.87621418e-03, -2.38939697e-02, -4.39021489e-02, -6.38927325e-02,\n",
              "       -8.38577088e-02, -1.03789076e-01, -1.23678846e-01, -1.43519046e-01,\n",
              "       -1.63301726e-01, -1.83018957e-01, -2.02662836e-01, -2.22225490e-01,\n",
              "       -2.41699079e-01, -2.61075798e-01, -2.80347881e-01, -2.99507604e-01,\n",
              "       -3.18547287e-01, -3.37459301e-01, -3.56236066e-01, -3.74870055e-01,\n",
              "       -3.93353801e-01, -4.11679896e-01, -4.29840994e-01, -4.47829817e-01,\n",
              "       -4.65639155e-01, -4.83261871e-01, -5.00690902e-01, -5.17919262e-01,\n",
              "       -5.34940046e-01, -5.51746432e-01, -5.68331685e-01, -5.84689158e-01,\n",
              "       -6.00812295e-01, -6.16694633e-01, -6.32329808e-01, -6.47711552e-01,\n",
              "       -6.62833702e-01, -6.77690196e-01, -6.92275080e-01, -7.06582509e-01,\n",
              "       -7.20606748e-01, -7.34342176e-01, -7.47783289e-01, -7.60924700e-01,\n",
              "       -7.73761141e-01, -7.86287469e-01, -7.98498661e-01, -8.10389826e-01,\n",
              "       -8.21956196e-01, -8.33193136e-01, -8.44096142e-01, -8.54660845e-01,\n",
              "       -8.64883010e-01, -8.74758541e-01, -8.84283479e-01, -8.93454007e-01,\n",
              "       -9.02266449e-01, -9.10717274e-01, -9.18803095e-01, -9.26520671e-01,\n",
              "       -9.33866908e-01, -9.40838863e-01, -9.47433742e-01, -9.53648900e-01,\n",
              "       -9.59481847e-01, -9.64930246e-01, -9.69991913e-01, -9.74664818e-01,\n",
              "       -9.78947090e-01, -9.82837012e-01, -9.86333025e-01, -9.89433727e-01,\n",
              "       -9.92137877e-01, -9.94444389e-01, -9.96352341e-01, -9.97860966e-01,\n",
              "       -9.98969661e-01, -9.99677982e-01, -9.99985643e-01, -9.99892522e-01,\n",
              "       -9.99398657e-01, -9.98504245e-01, -9.97209644e-01, -9.95515375e-01,\n",
              "       -9.93422114e-01, -9.90930702e-01, -9.88042137e-01, -9.84757577e-01,\n",
              "       -9.81078338e-01, -9.77005895e-01, -9.72541880e-01, -9.67688082e-01,\n",
              "       -9.62446446e-01, -9.56819074e-01, -9.50808220e-01, -9.44416293e-01,\n",
              "       -9.37645857e-01, -9.30499623e-01, -9.22980456e-01, -9.15091370e-01,\n",
              "       -9.06835526e-01, -8.98216234e-01, -8.89236948e-01, -8.79901266e-01,\n",
              "       -8.70212930e-01, -8.60175824e-01, -8.49793970e-01, -8.39071529e-01])"
            ]
          },
          "metadata": {},
          "execution_count": 97
        }
      ],
      "source": [
        "y = np.cos(x)\n",
        "y"
      ]
    },
    {
      "cell_type": "code",
      "execution_count": 104,
      "metadata": {
        "id": "mg5__LoGzCbn"
      },
      "outputs": [],
      "source": [
        "import matplotlib.pyplot as plt"
      ]
    },
    {
      "cell_type": "code",
      "execution_count": 106,
      "metadata": {
        "id": "-pmm2UvxzCbn",
        "colab": {
          "base_uri": "https://localhost:8080/",
          "height": 718
        },
        "outputId": "9bf93fd6-f189-40d4-fdfe-c1d95d51e854"
      },
      "outputs": [
        {
          "output_type": "display_data",
          "data": {
            "text/plain": [
              "<Figure size 1200x800 with 1 Axes>"
            ],
            "image/png": "[encoded data removed]"
          },
          "metadata": {}
        }
      ],
      "source": [
        "plt.figure(figsize = (12, 8))\n",
        "plt.plot(x,y)\n",
        "plt.title(\"f(x) = cos(x)\", fontsize = 12)\n",
        "plt.xlabel(\"x\", fontsize = 10)\n",
        "plt.ylabel(\"y\", fontsize = 10)\n",
        "plt.show()"
      ]
    },
    {
      "cell_type": "code",
      "execution_count": 18,
      "metadata": {
        "id": "4kes31OQzCbn"
      },
      "outputs": [],
      "source": []
    },
    {
      "cell_type": "markdown",
      "metadata": {
        "id": "UIASuhfVzCbo"
      },
      "source": [
        "# Well Done!"
      ]
    },
    {
      "cell_type": "code",
      "execution_count": 18,
      "metadata": {
        "id": "8j6LRZEZzCbo"
      },
      "outputs": [],
      "source": []
    },
    {
      "cell_type": "markdown",
      "metadata": {
        "id": "MQVXnspWzCbo"
      },
      "source": [
        "# Solutions (Stop here if you want to code on your own!)"
      ]
    },
    {
      "cell_type": "markdown",
      "metadata": {
        "id": "aN9Lit0fzCbp"
      },
      "source": [
        "# ++++++++++++++++++++++++++++++++++++++++++++++++++++++++++++++"
      ]
    },
    {
      "cell_type": "markdown",
      "metadata": {
        "id": "dDULt8xZzCbp"
      },
      "source": [
        "1. Import Numpy!"
      ]
    },
    {
      "cell_type": "code",
      "execution_count": 19,
      "metadata": {
        "id": "C18KCj9gzCbp"
      },
      "outputs": [],
      "source": [
        "import numpy as np"
      ]
    },
    {
      "cell_type": "code",
      "execution_count": 19,
      "metadata": {
        "id": "udLJ-MM0zCbr"
      },
      "outputs": [],
      "source": []
    },
    {
      "cell_type": "markdown",
      "metadata": {
        "id": "0zHK7LIrzCbs"
      },
      "source": [
        "2. You have the following stock Prices in EUR Currency : [23.65, 43.21, 73.01, 87.32]<br>\n",
        "\n",
        "Create a __Numpy array__ and __convert all prices__ to USD Currency @ an fx rate of __1.2__ (1.2 USD per 1 EUR)."
      ]
    },
    {
      "cell_type": "code",
      "execution_count": 20,
      "metadata": {
        "id": "iqMQcTLuzCbs",
        "colab": {
          "base_uri": "https://localhost:8080/"
        },
        "outputId": "4fe80515-de0b-4fb4-eac5-67526e1a345e"
      },
      "outputs": [
        {
          "output_type": "execute_result",
          "data": {
            "text/plain": [
              "array([23.65, 43.21, 73.01, 87.32])"
            ]
          },
          "metadata": {},
          "execution_count": 20
        }
      ],
      "source": [
        "a = np.array([23.65, 43.21, 73.01, 87.32])\n",
        "a"
      ]
    },
    {
      "cell_type": "code",
      "execution_count": 21,
      "metadata": {
        "id": "N2nC5eNQzCbt",
        "colab": {
          "base_uri": "https://localhost:8080/"
        },
        "outputId": "bfd3b307-2d21-4fc5-c98a-09b642ee6e76"
      },
      "outputs": [
        {
          "output_type": "execute_result",
          "data": {
            "text/plain": [
              "array([ 28.38 ,  51.852,  87.612, 104.784])"
            ]
          },
          "metadata": {},
          "execution_count": 21
        }
      ],
      "source": [
        "a * 1.2"
      ]
    },
    {
      "cell_type": "markdown",
      "metadata": {
        "id": "pvfrgz3fzCbt"
      },
      "source": [
        "(result: array([ 28.38 ,  51.852,  87.612, 104.784])"
      ]
    },
    {
      "cell_type": "code",
      "execution_count": 21,
      "metadata": {
        "id": "GNv-mjkMzCbt"
      },
      "outputs": [],
      "source": []
    },
    {
      "cell_type": "markdown",
      "metadata": {
        "id": "44deNhiqzCbu"
      },
      "source": [
        "You have the \n",
        "- end-of-2017 stock prices for four companies: [33.65, 63.21, 53.01, 17.32]\n",
        "- end-of-2018 stock prices for the same companies: [36.54, 61.59, 60.31, 10.40]"
      ]
    },
    {
      "cell_type": "markdown",
      "metadata": {
        "id": "u9GNCXNkzCbu"
      },
      "source": [
        "3. Calculate the __absolute__ price increase / decrease in 2018 __for all four companies__. Use __vectorized__ numpy code!"
      ]
    },
    {
      "cell_type": "code",
      "execution_count": 22,
      "metadata": {
        "id": "Gbx5hRKAzCbu"
      },
      "outputs": [],
      "source": [
        "p_2017 = np.array([33.65, 63.21, 53.01, 17.32])\n",
        "p_2018 = np.array([36.54, 61.59, 60.31, 10.40])"
      ]
    },
    {
      "cell_type": "code",
      "execution_count": 23,
      "metadata": {
        "id": "HuUHtTftzCbu",
        "colab": {
          "base_uri": "https://localhost:8080/"
        },
        "outputId": "f14c996b-fea6-4309-abed-bd26daabdc2d"
      },
      "outputs": [
        {
          "output_type": "execute_result",
          "data": {
            "text/plain": [
              "array([ 2.89, -1.62,  7.3 , -6.92])"
            ]
          },
          "metadata": {},
          "execution_count": 23
        }
      ],
      "source": [
        "p_2018 - p_2017"
      ]
    },
    {
      "cell_type": "code",
      "execution_count": 23,
      "metadata": {
        "id": "GpXFqyiczCbv"
      },
      "outputs": [],
      "source": []
    },
    {
      "cell_type": "markdown",
      "metadata": {
        "id": "tsivILd6zCbv"
      },
      "source": [
        "4. Calculate the __price return__ in 2018 __for all four companies__. Use __vectorized__ numpy code!"
      ]
    },
    {
      "cell_type": "code",
      "execution_count": 24,
      "metadata": {
        "id": "xS80EuHOzCbv",
        "colab": {
          "base_uri": "https://localhost:8080/"
        },
        "outputId": "dbd86898-a4e0-40f5-fdd3-df1e7edd5ccc"
      },
      "outputs": [
        {
          "output_type": "execute_result",
          "data": {
            "text/plain": [
              "array([ 0.0858841 , -0.02562886,  0.13770987, -0.39953811])"
            ]
          },
          "metadata": {},
          "execution_count": 24
        }
      ],
      "source": [
        "(p_2018 / p_2017) -1 "
      ]
    },
    {
      "cell_type": "code",
      "execution_count": 24,
      "metadata": {
        "id": "1cf_s66VzCbw"
      },
      "outputs": [],
      "source": []
    },
    {
      "cell_type": "markdown",
      "metadata": {
        "id": "JrVnUhR_zCbw"
      },
      "source": [
        "You have the following list with cashflows (starting today at t0): [-500, -100, 200, 600, 1000, 800]"
      ]
    },
    {
      "cell_type": "code",
      "execution_count": 25,
      "metadata": {
        "id": "U-l3ECEwzCbx"
      },
      "outputs": [],
      "source": [
        "#run the cell!\n",
        "l  = [-500, -100, 200, 600, 1000, 800]"
      ]
    },
    {
      "cell_type": "markdown",
      "metadata": {
        "id": "ONU8E5zCzCbx"
      },
      "source": [
        "5. Convert l into a __numpy array__ and __save__ the array in memory! __Select__ the __second cashflow__ at t1."
      ]
    },
    {
      "cell_type": "code",
      "execution_count": 26,
      "metadata": {
        "id": "bvPSTr51zCby",
        "colab": {
          "base_uri": "https://localhost:8080/"
        },
        "outputId": "f30f0cdd-7621-4b89-f439-ea1aa6ead4e3"
      },
      "outputs": [
        {
          "output_type": "execute_result",
          "data": {
            "text/plain": [
              "array([-500, -100,  200,  600, 1000,  800])"
            ]
          },
          "metadata": {},
          "execution_count": 26
        }
      ],
      "source": [
        "a = np.array(l)\n",
        "a"
      ]
    },
    {
      "cell_type": "code",
      "execution_count": 27,
      "metadata": {
        "id": "gpyFfKHZzCby",
        "colab": {
          "base_uri": "https://localhost:8080/"
        },
        "outputId": "ed5a29af-b8a1-4094-a46e-8023734d6bcf"
      },
      "outputs": [
        {
          "output_type": "execute_result",
          "data": {
            "text/plain": [
              "-100"
            ]
          },
          "metadata": {},
          "execution_count": 27
        }
      ],
      "source": [
        "a[1]"
      ]
    },
    {
      "cell_type": "markdown",
      "metadata": {
        "id": "Ew1Yc3NyzCby"
      },
      "source": [
        "6. __Slice__ the array for the __last two cashflows__!"
      ]
    },
    {
      "cell_type": "code",
      "execution_count": 28,
      "metadata": {
        "id": "TjTCy9RmzCbz",
        "colab": {
          "base_uri": "https://localhost:8080/"
        },
        "outputId": "47d93fb3-a8f4-4810-ff69-352cc0d5cd01"
      },
      "outputs": [
        {
          "output_type": "execute_result",
          "data": {
            "text/plain": [
              "array([1000,  800])"
            ]
          },
          "metadata": {},
          "execution_count": 28
        }
      ],
      "source": [
        "a[-2:]"
      ]
    },
    {
      "cell_type": "markdown",
      "metadata": {
        "id": "Mm5rHXmNzCbz"
      },
      "source": [
        "7. __Slice__ the array for the cashflows in __t2, t3 and t4__."
      ]
    },
    {
      "cell_type": "code",
      "execution_count": 29,
      "metadata": {
        "id": "8egmEgrLzCbz",
        "colab": {
          "base_uri": "https://localhost:8080/"
        },
        "outputId": "1ffe9cff-231e-4025-d4a5-61c0025f7e0f"
      },
      "outputs": [
        {
          "output_type": "execute_result",
          "data": {
            "text/plain": [
              "array([ 200,  600, 1000])"
            ]
          },
          "metadata": {},
          "execution_count": 29
        }
      ],
      "source": [
        "a[2:5]"
      ]
    },
    {
      "cell_type": "code",
      "execution_count": 29,
      "metadata": {
        "id": "ojGZcINJzCb0"
      },
      "outputs": [],
      "source": []
    },
    {
      "cell_type": "markdown",
      "metadata": {
        "id": "LmquTrozzCb0"
      },
      "source": [
        "The ABC Company evaluates to buy an additional machine that will increase future profits/cashflows by\n",
        "- 50 USD in t1, \n",
        "- 80 USD in t2,\n",
        "- 120 USD in t3, \n",
        "- 150 USD in t4,\n",
        "- 200 USD in t5. (each cf at period´s end)<br>"
      ]
    },
    {
      "cell_type": "code",
      "execution_count": 30,
      "metadata": {
        "id": "7O1pPi33zCb0",
        "colab": {
          "base_uri": "https://localhost:8080/"
        },
        "outputId": "06b37882-acb4-451a-9900-368a8fad4086"
      },
      "outputs": [
        {
          "output_type": "execute_result",
          "data": {
            "text/plain": [
              "array([-500,   50,   80,  120,  150,  200])"
            ]
          },
          "metadata": {},
          "execution_count": 30
        }
      ],
      "source": [
        "# run the cell\n",
        "cf = np.array([-500, 50, 80, 120, 150, 200])\n",
        "cf"
      ]
    },
    {
      "cell_type": "markdown",
      "metadata": {
        "id": "l_d8ky0IzCb1"
      },
      "source": [
        "8. The machine costs 500 USD (Investment in to). Calculate the __Project´s NPV__ and evaluate whether ABC should pursue the project. <br> ABC´s required rate of return (Cost of Capital) is 7.5% p.a. Use __vectorized__ numpy code!"
      ]
    },
    {
      "cell_type": "code",
      "execution_count": 31,
      "metadata": {
        "id": "OZ7SoW3BzCb1"
      },
      "outputs": [],
      "source": [
        "r = 0.075\n",
        "f = 1 + r"
      ]
    },
    {
      "cell_type": "code",
      "execution_count": 32,
      "metadata": {
        "id": "_LX-_c_IzCb1",
        "colab": {
          "base_uri": "https://localhost:8080/"
        },
        "outputId": "a537a82f-a525-4b90-fb02-67bdcc494e47"
      },
      "outputs": [
        {
          "output_type": "execute_result",
          "data": {
            "text/plain": [
              "array([0, 1, 2, 3, 4, 5])"
            ]
          },
          "metadata": {},
          "execution_count": 32
        }
      ],
      "source": [
        "n = np.array([0, 1, 2, 3, 4, 5])\n",
        "n"
      ]
    },
    {
      "cell_type": "code",
      "execution_count": 33,
      "metadata": {
        "id": "lR9zatnSzCb2",
        "colab": {
          "base_uri": "https://localhost:8080/"
        },
        "outputId": "a2333277-3abd-4967-d5ef-c5334a1c157c"
      },
      "outputs": [
        {
          "output_type": "execute_result",
          "data": {
            "text/plain": [
              "-36.03468883756554"
            ]
          },
          "metadata": {},
          "execution_count": 33
        }
      ],
      "source": [
        "(cf / f**n).sum()"
      ]
    },
    {
      "cell_type": "markdown",
      "metadata": {
        "id": "F-rVDPzNzCb2"
      },
      "source": [
        "(result: -36.03468883756554 -> no!)"
      ]
    },
    {
      "cell_type": "code",
      "execution_count": 33,
      "metadata": {
        "id": "ZXCrA6AFzCb2"
      },
      "outputs": [],
      "source": []
    },
    {
      "cell_type": "markdown",
      "metadata": {
        "id": "eKPUvEn1zCb2"
      },
      "source": [
        "9. __Slice__ the array cf (from question 8) for the positive inflows (__from t1__) and __save__ the slice in the __variable cf_pos__. <br> Make sure that once you __change the slice cf_pos__, the array __cf shall change as well__!"
      ]
    },
    {
      "cell_type": "code",
      "execution_count": 34,
      "metadata": {
        "id": "Ns5B7UOizCb2",
        "colab": {
          "base_uri": "https://localhost:8080/"
        },
        "outputId": "087bf687-6bdf-4b5c-95ad-553e0abec020"
      },
      "outputs": [
        {
          "output_type": "execute_result",
          "data": {
            "text/plain": [
              "array([ 50,  80, 120, 150, 200])"
            ]
          },
          "metadata": {},
          "execution_count": 34
        }
      ],
      "source": [
        "cf_pos = cf[1:]\n",
        "cf_pos"
      ]
    },
    {
      "cell_type": "code",
      "execution_count": 34,
      "metadata": {
        "id": "itTdYapozCb3"
      },
      "outputs": [],
      "source": []
    },
    {
      "cell_type": "markdown",
      "metadata": {
        "id": "B8RbnjSDzCb3"
      },
      "source": [
        "10. Change the first cashflow (t1) of __cf_pos to 70__. Check whether __cf gets mutated as well__!"
      ]
    },
    {
      "cell_type": "code",
      "execution_count": 35,
      "metadata": {
        "id": "DcqgWO_fzCb3"
      },
      "outputs": [],
      "source": [
        "cf_pos[0] = 70"
      ]
    },
    {
      "cell_type": "code",
      "execution_count": 36,
      "metadata": {
        "id": "WWVRN9wOzCb3",
        "colab": {
          "base_uri": "https://localhost:8080/"
        },
        "outputId": "42f6305e-0e8a-41b2-93ba-b10154bd3b04"
      },
      "outputs": [
        {
          "output_type": "execute_result",
          "data": {
            "text/plain": [
              "array([-500,   70,   80,  120,  150,  200])"
            ]
          },
          "metadata": {},
          "execution_count": 36
        }
      ],
      "source": [
        "cf"
      ]
    },
    {
      "cell_type": "code",
      "execution_count": 36,
      "metadata": {
        "id": "oZriWjqOzCb4"
      },
      "outputs": [],
      "source": []
    },
    {
      "cell_type": "markdown",
      "metadata": {
        "id": "ay4pk4LCzCb4"
      },
      "source": [
        "11. __Restore cf__ and __redo Q9 and Q10__. This time make sure that cf and cf_pos are __independent objects__! "
      ]
    },
    {
      "cell_type": "code",
      "execution_count": 37,
      "metadata": {
        "id": "HYF-ZoCWzCb4",
        "colab": {
          "base_uri": "https://localhost:8080/"
        },
        "outputId": "5fef170e-edcb-489e-a88a-920c9a3a3987"
      },
      "outputs": [
        {
          "output_type": "execute_result",
          "data": {
            "text/plain": [
              "array([-500,   50,   80,  120,  150,  200])"
            ]
          },
          "metadata": {},
          "execution_count": 37
        }
      ],
      "source": [
        "cf = np.array([-500, 50, 80, 120, 150, 200])\n",
        "cf"
      ]
    },
    {
      "cell_type": "code",
      "execution_count": 38,
      "metadata": {
        "id": "20UdatjXzCb5",
        "colab": {
          "base_uri": "https://localhost:8080/"
        },
        "outputId": "12cfbee4-51fb-404e-cad4-d0efa40660b1"
      },
      "outputs": [
        {
          "output_type": "execute_result",
          "data": {
            "text/plain": [
              "array([ 50,  80, 120, 150, 200])"
            ]
          },
          "metadata": {},
          "execution_count": 38
        }
      ],
      "source": [
        "cf_pos = cf[1:].copy()\n",
        "cf_pos"
      ]
    },
    {
      "cell_type": "code",
      "execution_count": 39,
      "metadata": {
        "id": "ata7FOQZzCb5",
        "colab": {
          "base_uri": "https://localhost:8080/"
        },
        "outputId": "ae1048b1-0957-4a7b-ccc0-2e9e7d44fcbf"
      },
      "outputs": [
        {
          "output_type": "execute_result",
          "data": {
            "text/plain": [
              "array([ 70,  80, 120, 150, 200])"
            ]
          },
          "metadata": {},
          "execution_count": 39
        }
      ],
      "source": [
        "cf_pos[0] = 70\n",
        "cf_pos"
      ]
    },
    {
      "cell_type": "code",
      "execution_count": 40,
      "metadata": {
        "id": "GsYmEEGrzCb5",
        "colab": {
          "base_uri": "https://localhost:8080/"
        },
        "outputId": "07ebc1e3-e531-4f79-ecf6-411e823b9db1"
      },
      "outputs": [
        {
          "output_type": "execute_result",
          "data": {
            "text/plain": [
              "array([-500,   50,   80,  120,  150,  200])"
            ]
          },
          "metadata": {},
          "execution_count": 40
        }
      ],
      "source": [
        "cf"
      ]
    },
    {
      "cell_type": "code",
      "execution_count": 40,
      "metadata": {
        "id": "EkMcMNeizCb5"
      },
      "outputs": [],
      "source": []
    },
    {
      "cell_type": "markdown",
      "metadata": {
        "id": "9zSsgMWCzCb6"
      },
      "source": [
        "12. Calculate the __total sum__ over all cashflows of cf!"
      ]
    },
    {
      "cell_type": "code",
      "execution_count": 41,
      "metadata": {
        "id": "Q4TwJ_FtzCb6",
        "colab": {
          "base_uri": "https://localhost:8080/"
        },
        "outputId": "b9e70fc7-d279-49f8-a918-cc7eec43550b"
      },
      "outputs": [
        {
          "output_type": "execute_result",
          "data": {
            "text/plain": [
              "array([-500,   50,   80,  120,  150,  200])"
            ]
          },
          "metadata": {},
          "execution_count": 41
        }
      ],
      "source": [
        "# run the cell\n",
        "cf = np.array([-500, 50, 80, 120, 150, 200])\n",
        "cf"
      ]
    },
    {
      "cell_type": "code",
      "execution_count": 42,
      "metadata": {
        "id": "8VaEqpdPzCb6",
        "colab": {
          "base_uri": "https://localhost:8080/"
        },
        "outputId": "b2332268-ae8e-4da8-e90a-a31ef956168e"
      },
      "outputs": [
        {
          "output_type": "execute_result",
          "data": {
            "text/plain": [
              "100"
            ]
          },
          "metadata": {},
          "execution_count": 42
        }
      ],
      "source": [
        "cf.sum()"
      ]
    },
    {
      "cell_type": "code",
      "execution_count": 42,
      "metadata": {
        "id": "kHFZZVaWzCb6"
      },
      "outputs": [],
      "source": []
    },
    {
      "cell_type": "markdown",
      "metadata": {
        "id": "IPrfzjcwzCb6"
      },
      "source": [
        "13. Return the __highest Value__ of cf!"
      ]
    },
    {
      "cell_type": "code",
      "execution_count": 43,
      "metadata": {
        "id": "2fL1gYVizCb7",
        "colab": {
          "base_uri": "https://localhost:8080/"
        },
        "outputId": "e9237247-886d-4530-acd1-0d873f512a37"
      },
      "outputs": [
        {
          "output_type": "execute_result",
          "data": {
            "text/plain": [
              "200"
            ]
          },
          "metadata": {},
          "execution_count": 43
        }
      ],
      "source": [
        "cf.max()"
      ]
    },
    {
      "cell_type": "markdown",
      "metadata": {
        "id": "mqPKJ902zCb7"
      },
      "source": [
        "14. Calculate the __cumulative cashflows__ for cf!"
      ]
    },
    {
      "cell_type": "code",
      "execution_count": 44,
      "metadata": {
        "id": "f7DmXL4VzCb7",
        "colab": {
          "base_uri": "https://localhost:8080/"
        },
        "outputId": "828d8e52-c756-4505-bcd6-58dfdde3b39c"
      },
      "outputs": [
        {
          "output_type": "execute_result",
          "data": {
            "text/plain": [
              "array([-500, -450, -370, -250, -100,  100])"
            ]
          },
          "metadata": {},
          "execution_count": 44
        }
      ],
      "source": [
        "cf.cumsum()"
      ]
    },
    {
      "cell_type": "code",
      "execution_count": 44,
      "metadata": {
        "id": "F_fJ83SgzCb7"
      },
      "outputs": [],
      "source": []
    },
    {
      "cell_type": "markdown",
      "metadata": {
        "id": "poATNdvuzCb8"
      },
      "source": [
        "15. Assume the following list: [3, 10, 6, 45, 100]. Calculate the __square root__ for all elements in the list. "
      ]
    },
    {
      "cell_type": "code",
      "execution_count": 45,
      "metadata": {
        "id": "6kiYt0H8zCb8",
        "colab": {
          "base_uri": "https://localhost:8080/"
        },
        "outputId": "cc746c38-6863-4af2-bb46-8847844957e4"
      },
      "outputs": [
        {
          "output_type": "execute_result",
          "data": {
            "text/plain": [
              "array([ 1.73205081,  3.16227766,  2.44948974,  6.70820393, 10.        ])"
            ]
          },
          "metadata": {},
          "execution_count": 45
        }
      ],
      "source": [
        "np.sqrt([3, 10, 6, 45, 100])"
      ]
    },
    {
      "cell_type": "code",
      "execution_count": 45,
      "metadata": {
        "id": "axTpicl3zCb8"
      },
      "outputs": [],
      "source": []
    },
    {
      "cell_type": "markdown",
      "metadata": {
        "id": "GVdjTLxAzCb9"
      },
      "source": [
        "Assume the following stock prices:"
      ]
    },
    {
      "cell_type": "code",
      "execution_count": 46,
      "metadata": {
        "id": "eXtj0jL7zCb9",
        "colab": {
          "base_uri": "https://localhost:8080/"
        },
        "outputId": "504f0af8-2151-4513-9692-cb3320a2fc51"
      },
      "outputs": [
        {
          "output_type": "execute_result",
          "data": {
            "text/plain": [
              "array([ 0.34, 43.56, 32.12, 67.43,  0.87,  9.87])"
            ]
          },
          "metadata": {},
          "execution_count": 46
        }
      ],
      "source": [
        "# run the cell!\n",
        "a = np.array([0.34, 43.56, 32.12, 67.43, 0.87, 9.87])\n",
        "a"
      ]
    },
    {
      "cell_type": "markdown",
      "metadata": {
        "id": "H5__QPU2zCb9"
      },
      "source": [
        "16. __Filter__ a for all penny stocks! (price less than 1)"
      ]
    },
    {
      "cell_type": "code",
      "execution_count": 47,
      "metadata": {
        "id": "YM8vq14KzCb9",
        "colab": {
          "base_uri": "https://localhost:8080/"
        },
        "outputId": "f4ac6ea6-07bd-4989-94bf-a344c56f192f"
      },
      "outputs": [
        {
          "output_type": "execute_result",
          "data": {
            "text/plain": [
              "array([0.34, 0.87])"
            ]
          },
          "metadata": {},
          "execution_count": 47
        }
      ],
      "source": [
        "a[a < 1]"
      ]
    },
    {
      "cell_type": "markdown",
      "metadata": {
        "id": "yAH-eDwwzCb-"
      },
      "source": [
        "(result: array([0.34, 0.87]))"
      ]
    },
    {
      "cell_type": "code",
      "execution_count": 47,
      "metadata": {
        "id": "1lDh-ICPzCb-"
      },
      "outputs": [],
      "source": []
    },
    {
      "cell_type": "markdown",
      "metadata": {
        "id": "C9UPMUzSzCb-"
      },
      "source": [
        "17. __Filter__ a for all stocks prices that are greater than 10 __and__ less than 50 (logical and)!"
      ]
    },
    {
      "cell_type": "code",
      "execution_count": 48,
      "metadata": {
        "id": "iqz-jBUHzCb-",
        "colab": {
          "base_uri": "https://localhost:8080/"
        },
        "outputId": "bf0fd871-2438-4328-d6fc-cd44c7f3390c"
      },
      "outputs": [
        {
          "output_type": "execute_result",
          "data": {
            "text/plain": [
              "array([43.56, 32.12])"
            ]
          },
          "metadata": {},
          "execution_count": 48
        }
      ],
      "source": [
        "a[(a > 10) & (a < 50)]"
      ]
    },
    {
      "cell_type": "code",
      "execution_count": 48,
      "metadata": {
        "id": "nOKJlsGQzCb_"
      },
      "outputs": [],
      "source": []
    },
    {
      "cell_type": "markdown",
      "metadata": {
        "id": "4sGw4EgOzCcA"
      },
      "source": [
        "18. __Filter__ a for stocks that are either penny stocks __or__ have prices greater than 60 (logical or)!"
      ]
    },
    {
      "cell_type": "code",
      "execution_count": 49,
      "metadata": {
        "id": "TJLzh2XszCcA",
        "colab": {
          "base_uri": "https://localhost:8080/"
        },
        "outputId": "1cbdb992-9b43-4480-d44c-4a4f7c7d6fcf"
      },
      "outputs": [
        {
          "output_type": "execute_result",
          "data": {
            "text/plain": [
              "array([ 0.34, 67.43,  0.87])"
            ]
          },
          "metadata": {},
          "execution_count": 49
        }
      ],
      "source": [
        "a[(a < 1) | (a > 60)]"
      ]
    },
    {
      "cell_type": "markdown",
      "metadata": {
        "id": "jTqlq4S_zCcC"
      },
      "source": [
        "(result: array([ 0.34, 67.43,  0.87]))"
      ]
    },
    {
      "cell_type": "code",
      "execution_count": 49,
      "metadata": {
        "id": "RKdcf9h9zCcC"
      },
      "outputs": [],
      "source": []
    },
    {
      "cell_type": "markdown",
      "metadata": {
        "id": "xRx-JeY5zCcC"
      },
      "source": [
        "19. Get the __reverse__ of Q18! (Neither penny stocks nor prices greater than 60)"
      ]
    },
    {
      "cell_type": "code",
      "execution_count": 50,
      "metadata": {
        "id": "FiKfY8_kzCcD",
        "colab": {
          "base_uri": "https://localhost:8080/"
        },
        "outputId": "73f38311-b2fc-4107-b6e2-fdcda38916ea"
      },
      "outputs": [
        {
          "output_type": "execute_result",
          "data": {
            "text/plain": [
              "array([43.56, 32.12,  9.87])"
            ]
          },
          "metadata": {},
          "execution_count": 50
        }
      ],
      "source": [
        "a[~((a < 1) | (a > 60))]"
      ]
    },
    {
      "cell_type": "markdown",
      "metadata": {
        "id": "rIRqZ8fTzCcD"
      },
      "source": [
        "(result: array([43.56, 32.12,  9.87]))"
      ]
    },
    {
      "cell_type": "code",
      "execution_count": 50,
      "metadata": {
        "id": "88Ygj8o-zCcD"
      },
      "outputs": [],
      "source": []
    },
    {
      "cell_type": "markdown",
      "metadata": {
        "id": "WHtpDKGMzCcD"
      },
      "source": [
        "20. Create a ___numpy array__ with interest rates from __0% till 10%__ (incl.) and a __step of 0.5%__. "
      ]
    },
    {
      "cell_type": "code",
      "execution_count": 51,
      "metadata": {
        "id": "lW-3LPbxzCcD",
        "colab": {
          "base_uri": "https://localhost:8080/"
        },
        "outputId": "1e319efd-9597-4851-fe09-77f24b2d2dc7"
      },
      "outputs": [
        {
          "output_type": "execute_result",
          "data": {
            "text/plain": [
              "array([0.   , 0.005, 0.01 , 0.015, 0.02 , 0.025, 0.03 , 0.035, 0.04 ,\n",
              "       0.045, 0.05 , 0.055, 0.06 , 0.065, 0.07 , 0.075, 0.08 , 0.085,\n",
              "       0.09 , 0.095, 0.1  ])"
            ]
          },
          "metadata": {},
          "execution_count": 51
        }
      ],
      "source": [
        "np.arange(0, 0.101, 0.005)"
      ]
    },
    {
      "cell_type": "code",
      "execution_count": 51,
      "metadata": {
        "id": "C4FCT9QyzCcE"
      },
      "outputs": [],
      "source": []
    },
    {
      "cell_type": "markdown",
      "metadata": {
        "id": "BlE34SkWzCcE"
      },
      "source": [
        "21. __Plot__ the f(x) = cos(x) in the interval [-10, 10]! (use 1,000 data points)"
      ]
    },
    {
      "cell_type": "code",
      "execution_count": 52,
      "metadata": {
        "id": "rCjGMD3tzCcE"
      },
      "outputs": [],
      "source": [
        "x = np.linspace(-10 , 10, 1000)"
      ]
    },
    {
      "cell_type": "code",
      "execution_count": 53,
      "metadata": {
        "id": "_3_m6xmPzCcE"
      },
      "outputs": [],
      "source": [
        "y = np.cos(x)"
      ]
    },
    {
      "cell_type": "code",
      "execution_count": 54,
      "metadata": {
        "id": "MpSd-FNfzCcE"
      },
      "outputs": [],
      "source": [
        "import matplotlib.pyplot as plt"
      ]
    },
    {
      "cell_type": "code",
      "execution_count": 55,
      "metadata": {
        "scrolled": false,
        "id": "tYKt3a65zCcF",
        "colab": {
          "base_uri": "https://localhost:8080/",
          "height": 732
        },
        "outputId": "7a2fff46-d048-49d5-e1f0-966a5cf76a11"
      },
      "outputs": [
        {
          "output_type": "display_data",
          "data": {
            "text/plain": [
              "<Figure size 1200x800 with 1 Axes>"
            ],
            "image/png": "[encoded data removed]"
          },
          "metadata": {}
        }
      ],
      "source": [
        "plt.figure(figsize = (12, 8))\n",
        "plt.plot(x, y)\n",
        "plt.title(\"f(x) = cos(x)\", fontsize = 20)\n",
        "plt.xlabel(\"x\", fontsize = 15)\n",
        "plt.ylabel(\"y\", fontsize = 15)\n",
        "plt.show()"
      ]
    },
    {
      "cell_type": "code",
      "execution_count": 55,
      "metadata": {
        "id": "mUmpfMYwzCcF"
      },
      "outputs": [],
      "source": []
    }
  ],
  "metadata": {
    "kernelspec": {
      "display_name": "Python 3 (ipykernel)",
      "language": "python",
      "name": "python3"
    },
    "language_info": {
      "codemirror_mode": {
        "name": "ipython",
        "version": 3
      },
      "file_extension": ".py",
      "mimetype": "text/x-python",
      "name": "python",
      "nbconvert_exporter": "python",
      "pygments_lexer": "ipython3",
      "version": "3.9.16"
    },
    "colab": {
      "provenance": [],
      "include_colab_link": true
    }
  },
  "nbformat": 4,
  "nbformat_minor": 0
}
