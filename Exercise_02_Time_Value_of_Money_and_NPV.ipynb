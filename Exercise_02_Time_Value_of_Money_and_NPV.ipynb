{
  "cells": [
    {
      "cell_type": "markdown",
      "metadata": {
        "id": "view-in-github",
        "colab_type": "text"
      },
      "source": [
        "<a href=\"https://colab.research.google.com/github/AlienX77-cmd/Python-for-Business-and-Finance/blob/main/Exercise_02_Time_Value_of_Money_and_NPV.ipynb\" target=\"_parent\"><img src=\"https://colab.research.google.com/assets/colab-badge.svg\" alt=\"Open In Colab\"/></a>"
      ]
    },
    {
      "cell_type": "markdown",
      "metadata": {
        "id": "gQzZw_-E8U_8"
      },
      "source": [
        "# Coding Exercises (Part 1)"
      ]
    },
    {
      "cell_type": "markdown",
      "metadata": {
        "id": "arhJJVrW8U__"
      },
      "source": [
        "Now, you will have the opportunity to practice what you have learned. <br>\n",
        "__Follow the instructions__ and insert your code! "
      ]
    },
    {
      "cell_type": "markdown",
      "metadata": {
        "id": "V14z2zAe8VAB"
      },
      "source": [
        "The correct answer is provided below your coding cell. There you can check whether your code is correct."
      ]
    },
    {
      "cell_type": "markdown",
      "metadata": {
        "id": "RY92sXvm8VAC"
      },
      "source": [
        "If you need some help or if you want to check your code, you can also have a look at the __solutions__."
      ]
    },
    {
      "cell_type": "markdown",
      "metadata": {
        "id": "_ZoZBGz68VAD"
      },
      "source": [
        "### Have Fun!"
      ]
    },
    {
      "cell_type": "markdown",
      "metadata": {
        "id": "eAUSrL3w8VAE"
      },
      "source": [
        "--------------------------------------------------------------------------------------------------------------"
      ]
    },
    {
      "cell_type": "markdown",
      "metadata": {
        "id": "jc_kzytB8VAF"
      },
      "source": [
        "## Exercise 2:  Lists and For Loops for TVM Problems with many Cashflows"
      ]
    },
    {
      "cell_type": "markdown",
      "metadata": {
        "id": "sUdBQgx68VAG"
      },
      "source": [
        "Use __variables__, __lists__ and __for loops__ where appropriate! "
      ]
    },
    {
      "cell_type": "markdown",
      "metadata": {
        "id": "6cD1xKcP8VAH"
      },
      "source": [
        "You have the following savings plan:\n",
        "\n",
        "- 1,000 USD today\n",
        "- 1,200 USD in 1 year \n",
        "- 1,500 USD in 2 years\n",
        "- 2,000 USD in 3 years\n",
        "- 2,500 USD in 4 years \n",
        "- 3,000 USD in 5 years\n",
        "- 3,500 USD in 6 years"
      ]
    },
    {
      "cell_type": "markdown",
      "metadata": {
        "id": "ZHzy4bm_8VAH"
      },
      "source": [
        "1. __Create a list__ and __store__ the list in memory!"
      ]
    },
    {
      "cell_type": "code",
      "execution_count": 1,
      "metadata": {
        "id": "Dm0VvQ3P8VAI"
      },
      "outputs": [],
      "source": [
        "listt = [1000, 1200, 1500, 2000, 2500, 3000, 3500]"
      ]
    },
    {
      "cell_type": "code",
      "execution_count": 2,
      "metadata": {
        "colab": {
          "base_uri": "https://localhost:8080/"
        },
        "id": "yva9-01V8VAI",
        "outputId": "61d3c113-a49c-4deb-9729-45344173dcc3"
      },
      "outputs": [
        {
          "output_type": "execute_result",
          "data": {
            "text/plain": [
              "[1000, 1200, 1500, 2000, 2500, 3000, 3500]"
            ]
          },
          "metadata": {},
          "execution_count": 2
        }
      ],
      "source": [
        "listt"
      ]
    },
    {
      "cell_type": "markdown",
      "metadata": {
        "id": "66PExTBi8VAK"
      },
      "source": [
        "(result: [1000, 1200, 1500, 2000, 2500, 3000, 3500])"
      ]
    },
    {
      "cell_type": "code",
      "execution_count": null,
      "metadata": {
        "id": "JFGb-OOX8VAK"
      },
      "outputs": [],
      "source": []
    },
    {
      "cell_type": "markdown",
      "metadata": {
        "id": "aYBsnWeX8VAL"
      },
      "source": [
        "2. __Index__ the list for the following elements!  "
      ]
    },
    {
      "cell_type": "markdown",
      "metadata": {
        "id": "ccxnajS18VAL"
      },
      "source": [
        "Today´s saving"
      ]
    },
    {
      "cell_type": "code",
      "execution_count": 3,
      "metadata": {
        "colab": {
          "base_uri": "https://localhost:8080/"
        },
        "id": "c0btQHui8VAL",
        "outputId": "dfa483c2-6d93-4ba3-9e0b-897f526c3d27"
      },
      "outputs": [
        {
          "output_type": "execute_result",
          "data": {
            "text/plain": [
              "1000"
            ]
          },
          "metadata": {},
          "execution_count": 3
        }
      ],
      "source": [
        "listt[0]"
      ]
    },
    {
      "cell_type": "markdown",
      "metadata": {
        "id": "Muo5TnGI8VAM"
      },
      "source": [
        "Saving in year 3"
      ]
    },
    {
      "cell_type": "code",
      "execution_count": 4,
      "metadata": {
        "colab": {
          "base_uri": "https://localhost:8080/"
        },
        "id": "CpfLSJUO8VAN",
        "outputId": "3bf54c48-5f07-42af-b173-cd6aa3717933"
      },
      "outputs": [
        {
          "output_type": "execute_result",
          "data": {
            "text/plain": [
              "2000"
            ]
          },
          "metadata": {},
          "execution_count": 4
        }
      ],
      "source": [
        "listt[3]"
      ]
    },
    {
      "cell_type": "markdown",
      "metadata": {
        "id": "TvwZ0DFN8VAO"
      },
      "source": [
        "The second element of the list"
      ]
    },
    {
      "cell_type": "code",
      "execution_count": 5,
      "metadata": {
        "colab": {
          "base_uri": "https://localhost:8080/"
        },
        "id": "jpWmsyG98VAO",
        "outputId": "9fdd71e7-4394-4915-aad7-b203f6d25946"
      },
      "outputs": [
        {
          "output_type": "execute_result",
          "data": {
            "text/plain": [
              "1200"
            ]
          },
          "metadata": {},
          "execution_count": 5
        }
      ],
      "source": [
        "listt[1]"
      ]
    },
    {
      "cell_type": "markdown",
      "metadata": {
        "id": "4RWY8eXx8VAP"
      },
      "source": [
        "Final year´s saving"
      ]
    },
    {
      "cell_type": "code",
      "execution_count": 6,
      "metadata": {
        "colab": {
          "base_uri": "https://localhost:8080/"
        },
        "id": "1KKi5xEu8VAP",
        "outputId": "5980a3e0-ffbb-4c43-fc27-3a40718f8c3a"
      },
      "outputs": [
        {
          "output_type": "execute_result",
          "data": {
            "text/plain": [
              "3500"
            ]
          },
          "metadata": {},
          "execution_count": 6
        }
      ],
      "source": [
        "listt[len(listt)-1]"
      ]
    },
    {
      "cell_type": "code",
      "execution_count": null,
      "metadata": {
        "id": "7FTAyjkY8VAQ"
      },
      "outputs": [],
      "source": []
    },
    {
      "cell_type": "markdown",
      "metadata": {
        "id": "0_81MuxS8VAQ"
      },
      "source": [
        "3. __Iterate__ over the list and __print__ each and every element."
      ]
    },
    {
      "cell_type": "code",
      "execution_count": 7,
      "metadata": {
        "colab": {
          "base_uri": "https://localhost:8080/"
        },
        "id": "QAVDzpVf8VAS",
        "outputId": "e8b7b10e-28ec-495a-b4bc-242b05a76d44"
      },
      "outputs": [
        {
          "output_type": "stream",
          "name": "stdout",
          "text": [
            "1000\n",
            "1200\n",
            "1500\n",
            "2000\n",
            "2500\n",
            "3000\n",
            "3500\n"
          ]
        }
      ],
      "source": [
        "for i in listt:\n",
        "  print(i)"
      ]
    },
    {
      "cell_type": "code",
      "execution_count": null,
      "metadata": {
        "id": "WKMHO_Tc8VAS"
      },
      "outputs": [],
      "source": []
    },
    {
      "cell_type": "markdown",
      "metadata": {
        "id": "cNeiI-lV8VAT"
      },
      "source": [
        "4. Calculate the __sum__ of your savings. Use a __for loop__ and print intermediate results!"
      ]
    },
    {
      "cell_type": "code",
      "execution_count": 8,
      "metadata": {
        "colab": {
          "base_uri": "https://localhost:8080/"
        },
        "id": "Ie4qfcNw8VAT",
        "outputId": "b9a5480f-17b8-4324-cb95-275c980bb78c"
      },
      "outputs": [
        {
          "output_type": "stream",
          "name": "stdout",
          "text": [
            "1000\n",
            "2200\n",
            "3700\n",
            "5700\n",
            "8200\n",
            "11200\n",
            "14700\n"
          ]
        }
      ],
      "source": [
        "res = 0\n",
        "for i in listt:\n",
        "  res += i\n",
        "  print(res)"
      ]
    },
    {
      "cell_type": "markdown",
      "metadata": {
        "id": "hfre_BLM8VAT"
      },
      "source": [
        "(result: 14,700 USD)"
      ]
    },
    {
      "cell_type": "code",
      "execution_count": null,
      "metadata": {
        "id": "PAG2wspl8VAT"
      },
      "outputs": [],
      "source": []
    },
    {
      "cell_type": "markdown",
      "metadata": {
        "id": "OgKojOwL8VAU"
      },
      "source": [
        "5. Now, use two __Python built-in function__ to calculate the sum and the number of elements. "
      ]
    },
    {
      "cell_type": "code",
      "execution_count": 9,
      "metadata": {
        "colab": {
          "base_uri": "https://localhost:8080/"
        },
        "id": "T9MzeZ0v8VAU",
        "outputId": "66fb40d8-4460-4000-c455-8f5fd80767e1"
      },
      "outputs": [
        {
          "output_type": "execute_result",
          "data": {
            "text/plain": [
              "14700"
            ]
          },
          "metadata": {},
          "execution_count": 9
        }
      ],
      "source": [
        "#sum\n",
        "sum(listt)"
      ]
    },
    {
      "cell_type": "markdown",
      "metadata": {
        "id": "VVwGIcri8VAV"
      },
      "source": [
        "(result: 14,700 USD)"
      ]
    },
    {
      "cell_type": "code",
      "execution_count": 10,
      "metadata": {
        "colab": {
          "base_uri": "https://localhost:8080/"
        },
        "id": "tufCxgGM8VAW",
        "outputId": "0553ee52-53fa-431c-d415-dcf3a26e06ac"
      },
      "outputs": [
        {
          "output_type": "execute_result",
          "data": {
            "text/plain": [
              "7"
            ]
          },
          "metadata": {},
          "execution_count": 10
        }
      ],
      "source": [
        "#lenght\n",
        "len(listt)"
      ]
    },
    {
      "cell_type": "markdown",
      "metadata": {
        "id": "8-N5hN5p8VAX"
      },
      "source": [
        "(result: 7)"
      ]
    },
    {
      "cell_type": "code",
      "execution_count": null,
      "metadata": {
        "id": "vwVa7P0n8VAX"
      },
      "outputs": [],
      "source": []
    },
    {
      "cell_type": "markdown",
      "metadata": {
        "id": "qsqmxl-18VAY"
      },
      "source": [
        "6. __Print__ all integers from __0 until 100__. Use __range()__!"
      ]
    },
    {
      "cell_type": "code",
      "execution_count": 13,
      "metadata": {
        "colab": {
          "base_uri": "https://localhost:8080/"
        },
        "id": "YdjTy63R8VAY",
        "outputId": "78c4d440-49a7-471c-940f-7c583b6ac06e"
      },
      "outputs": [
        {
          "output_type": "stream",
          "name": "stdout",
          "text": [
            "0 1 2 3 4 5 6 7 8 9 10 11 12 13 14 15 16 17 18 19 20 21 22 23 24 25 26 27 28 29 30 31 32 33 34 35 36 37 38 39 40 41 42 43 44 45 46 47 48 49 50 51 52 53 54 55 56 57 58 59 60 61 62 63 64 65 66 67 68 69 70 71 72 73 74 75 76 77 78 79 80 81 82 83 84 85 86 87 88 89 90 91 92 93 94 95 96 97 98 99 100 "
          ]
        }
      ],
      "source": [
        "for i in range(101):\n",
        "  print(i, end=\" \")"
      ]
    },
    {
      "cell_type": "code",
      "execution_count": null,
      "metadata": {
        "id": "tDq5MNji8VAY"
      },
      "outputs": [],
      "source": []
    },
    {
      "cell_type": "markdown",
      "metadata": {
        "id": "lPXUlL5O8VAZ"
      },
      "source": [
        "7. Create and save the list n with all timestamps (0, 1, 2, 3, 4, 5, 6). Use __range()__!"
      ]
    },
    {
      "cell_type": "code",
      "execution_count": 28,
      "metadata": {
        "id": "zji2zX3O8VAZ"
      },
      "outputs": [],
      "source": [
        "n = list(range(7))"
      ]
    },
    {
      "cell_type": "code",
      "execution_count": 29,
      "metadata": {
        "colab": {
          "base_uri": "https://localhost:8080/"
        },
        "id": "bXoeOxeB8VAa",
        "outputId": "9174f5f0-5a33-4abc-a787-68ded2320fad"
      },
      "outputs": [
        {
          "output_type": "execute_result",
          "data": {
            "text/plain": [
              "[0, 1, 2, 3, 4, 5, 6]"
            ]
          },
          "metadata": {},
          "execution_count": 29
        }
      ],
      "source": [
        "n"
      ]
    },
    {
      "cell_type": "code",
      "execution_count": null,
      "metadata": {
        "id": "UcowxVQr8VAb"
      },
      "outputs": [],
      "source": []
    },
    {
      "cell_type": "markdown",
      "metadata": {
        "id": "_N6iQ6gk8VAb"
      },
      "source": [
        "8. __Reverse__ the order of n and __reassign__ n!"
      ]
    },
    {
      "cell_type": "code",
      "execution_count": 30,
      "metadata": {
        "id": "qg7Bwf0E8VAb"
      },
      "outputs": [],
      "source": [
        "n = n[::-1]"
      ]
    },
    {
      "cell_type": "code",
      "execution_count": 31,
      "metadata": {
        "colab": {
          "base_uri": "https://localhost:8080/"
        },
        "id": "RxNUsadB8VAb",
        "outputId": "9f87c1e0-13af-4a92-8787-002ed45c7cac"
      },
      "outputs": [
        {
          "output_type": "execute_result",
          "data": {
            "text/plain": [
              "[6, 5, 4, 3, 2, 1, 0]"
            ]
          },
          "metadata": {},
          "execution_count": 31
        }
      ],
      "source": [
        "n"
      ]
    },
    {
      "cell_type": "markdown",
      "metadata": {
        "id": "YoYr_S9A8VAc"
      },
      "source": [
        "(result: [6, 5, 4, 3, 2, 1, 0]"
      ]
    },
    {
      "cell_type": "code",
      "execution_count": 21,
      "metadata": {
        "colab": {
          "base_uri": "https://localhost:8080/"
        },
        "id": "v7BQBWja8VAc",
        "outputId": "d64c1e73-6b36-4388-e35a-1110cfb12734"
      },
      "outputs": [
        {
          "output_type": "execute_result",
          "data": {
            "text/plain": [
              "[1000, 1200, 1500, 2000, 2500, 3000, 3500]"
            ]
          },
          "metadata": {},
          "execution_count": 21
        }
      ],
      "source": [
        "listt"
      ]
    },
    {
      "cell_type": "markdown",
      "metadata": {
        "id": "SehN31Ij8VAc"
      },
      "source": [
        "9. Calculate the __future value__ of your account after year 6. Assume an interest rate of 4.0% p.a. "
      ]
    },
    {
      "cell_type": "code",
      "execution_count": 32,
      "metadata": {
        "colab": {
          "base_uri": "https://localhost:8080/"
        },
        "id": "TJECfKC18VAd",
        "outputId": "17fea639-9511-4952-ff36-cf556d7e4967"
      },
      "outputs": [
        {
          "output_type": "stream",
          "name": "stdout",
          "text": [
            "16053.818341376002\n"
          ]
        }
      ],
      "source": [
        "r = 1.04\n",
        "FV = 0\n",
        "\n",
        "for i in range(len(listt)):\n",
        "  FV += listt[i] * r**n[i]\n",
        "\n",
        "print(FV)"
      ]
    },
    {
      "cell_type": "code",
      "execution_count": null,
      "metadata": {
        "id": "2zo2nFgZ8VAd"
      },
      "outputs": [],
      "source": []
    },
    {
      "cell_type": "markdown",
      "metadata": {
        "id": "kGMl_ipb8VAe"
      },
      "source": [
        "(result: 16,053.82 USD)"
      ]
    },
    {
      "cell_type": "code",
      "execution_count": null,
      "metadata": {
        "id": "275jiysO8VAe"
      },
      "outputs": [],
      "source": []
    },
    {
      "cell_type": "markdown",
      "metadata": {
        "id": "VNaoZMie8VAe"
      },
      "source": [
        "The ABC Company evaluates to buy an additional machine that will increase future profits/cashflows by\n",
        "- 200 USD in t1, \n",
        "- 300 USD in t2,\n",
        "- 500 USD in t3, \n",
        "- 750 USD in t4,\n",
        "- 1,000 USD in t5. (each cf at period´s end)<br>"
      ]
    },
    {
      "cell_type": "markdown",
      "metadata": {
        "id": "Xz1KhChY8VAf"
      },
      "source": [
        "\n",
        "10. The machine costs __2,000 USD__ (Investment in to). Calculate the Project´s __NPV__ and evaluate whether ABC should pursue the project. <br> ABC´s required rate of return (Cost of Capital) is __8%__ p.a. "
      ]
    },
    {
      "cell_type": "code",
      "execution_count": 39,
      "metadata": {
        "colab": {
          "base_uri": "https://localhost:8080/"
        },
        "id": "VOgU1z4B8VAf",
        "outputId": "e8155e87-4f5a-4f4a-bf38-ee1a9d041f0f"
      },
      "outputs": [
        {
          "output_type": "stream",
          "name": "stdout",
          "text": [
            "-2000, 0, -2000.0\n",
            "200, 1, -1814.8148148148148\n",
            "300, 2, -1557.6131687242798\n",
            "500, 3, -1160.697048214195\n",
            "750, 4, -609.4246586168551\n",
            "1000, 5, 71.15853841689773\n"
          ]
        }
      ],
      "source": [
        "f = 1.08\n",
        "cf = [-2000, 200, 300, 500, 750, 1000]\n",
        "\n",
        "NPV = 0\n",
        "for i in range(len(cf)):\n",
        "  NPV += cf[i] / f**i\n",
        "  print(cf[i], i, NPV, sep =', ')\n"
      ]
    },
    {
      "cell_type": "code",
      "execution_count": 38,
      "metadata": {
        "colab": {
          "base_uri": "https://localhost:8080/"
        },
        "id": "BkO2-QUS8VAg",
        "outputId": "27502db1-d654-4c14-fb66-b03378ed2bc9"
      },
      "outputs": [
        {
          "output_type": "execute_result",
          "data": {
            "text/plain": [
              "71.15853841689773"
            ]
          },
          "metadata": {},
          "execution_count": 38
        }
      ],
      "source": [
        "NPV"
      ]
    },
    {
      "cell_type": "markdown",
      "metadata": {
        "id": "ZQCBTD288VAg"
      },
      "source": [
        "(result: 71.16 USD)"
      ]
    },
    {
      "cell_type": "code",
      "execution_count": null,
      "metadata": {
        "id": "URDBvGUs8VAg"
      },
      "outputs": [],
      "source": []
    },
    {
      "cell_type": "markdown",
      "metadata": {
        "id": "_lKK2SWa8VAh"
      },
      "source": [
        "11. Would ABC accept the project with a __required rate of return of 10.0% p.a.__?"
      ]
    },
    {
      "cell_type": "code",
      "execution_count": 46,
      "metadata": {
        "colab": {
          "base_uri": "https://localhost:8080/"
        },
        "id": "qvi0NhdE8VAh",
        "outputId": "ae387a5c-9677-4187-871b-9ac6e7fe5fe1"
      },
      "outputs": [
        {
          "output_type": "stream",
          "name": "stdout",
          "text": [
            "No because NPV < 0: NPV = -61.40911885055107\n"
          ]
        }
      ],
      "source": [
        "f = 1.10\n",
        "cf = [-2000, 200, 300, 500, 750, 1000]\n",
        "\n",
        "NPV = 0\n",
        "for i in range(len(cf)):\n",
        "  NPV += cf[i] / f**i\n",
        "\n",
        "if(NPV > 0): print('Yes')\n",
        "else: print(\"No because NPV < 0: NPV =\",NPV)"
      ]
    },
    {
      "cell_type": "code",
      "execution_count": null,
      "metadata": {
        "id": "7hElsI5Z8VAi"
      },
      "outputs": [],
      "source": []
    },
    {
      "cell_type": "markdown",
      "metadata": {
        "id": "Tt7uoJg_8VAi"
      },
      "source": [
        "(result: -61.41)"
      ]
    },
    {
      "cell_type": "code",
      "execution_count": null,
      "metadata": {
        "id": "GRM70Q4s8VAj"
      },
      "outputs": [],
      "source": []
    },
    {
      "cell_type": "markdown",
      "metadata": {
        "id": "WbqAXmnB8VAj"
      },
      "source": [
        "# Well Done!"
      ]
    },
    {
      "cell_type": "markdown",
      "metadata": {
        "id": "P8LSeZSB8VAk"
      },
      "source": [
        "---------------------------------------------------------------------------------------------------------------------"
      ]
    },
    {
      "cell_type": "markdown",
      "metadata": {
        "id": "Jj3h6zVD8VAk"
      },
      "source": [
        "# Solutions (Stop here if you want to code on your own!)"
      ]
    },
    {
      "cell_type": "markdown",
      "metadata": {
        "id": "-tFVtMfn8VAk"
      },
      "source": [
        "# ++++++++++++++++++++++++++++++++++++++++++++++++++++++++++++++"
      ]
    },
    {
      "cell_type": "code",
      "execution_count": null,
      "metadata": {
        "id": "4MiNU6ED8VAk"
      },
      "outputs": [],
      "source": []
    },
    {
      "cell_type": "markdown",
      "metadata": {
        "id": "indO6qki8VAl"
      },
      "source": [
        "## Exercise 2:  Lists and For Loops for TVM Problems with many Cashflows"
      ]
    },
    {
      "cell_type": "markdown",
      "metadata": {
        "id": "gIzK9lEG8VAl"
      },
      "source": [
        "Use __variables__, __lists__ and __for loops__ where appropriate! "
      ]
    },
    {
      "cell_type": "markdown",
      "metadata": {
        "id": "k8O0AxFt8VAl"
      },
      "source": [
        "You have the following savings plan:\n",
        "\n",
        "- 1,000 USD today\n",
        "- 1,200 USD in 1 year \n",
        "- 1,500 USD in 2 years\n",
        "- 2,000 USD in 3 years\n",
        "- 2,500 USD in 4 years \n",
        "- 3,000 USD in 5 years\n",
        "- 3,500 USD in 6 years"
      ]
    },
    {
      "cell_type": "markdown",
      "metadata": {
        "id": "rwvqPFlG8VAm"
      },
      "source": [
        "1. __Create a list__ and __store__ the list in memory!"
      ]
    },
    {
      "cell_type": "code",
      "execution_count": null,
      "metadata": {
        "id": "3PTYE9Um8VAm"
      },
      "outputs": [],
      "source": [
        "cf = [1000, 1200, 1500, 2000, 2500, 3000, 3500]"
      ]
    },
    {
      "cell_type": "code",
      "execution_count": null,
      "metadata": {
        "id": "d5PZgesx8VAn"
      },
      "outputs": [],
      "source": [
        "cf"
      ]
    },
    {
      "cell_type": "markdown",
      "metadata": {
        "id": "b5okqoGL8VAn"
      },
      "source": [
        "(result: [1000, 1200, 1500, 2000, 2500, 3000, 3500])"
      ]
    },
    {
      "cell_type": "code",
      "execution_count": null,
      "metadata": {
        "id": "OFrU64638VAn"
      },
      "outputs": [],
      "source": []
    },
    {
      "cell_type": "markdown",
      "metadata": {
        "id": "2MdG_8sb8VAo"
      },
      "source": [
        "2. __Index__ the list for the following elements!  "
      ]
    },
    {
      "cell_type": "markdown",
      "metadata": {
        "id": "BH-bNKLW8VAq"
      },
      "source": [
        "Today´s saving"
      ]
    },
    {
      "cell_type": "code",
      "execution_count": null,
      "metadata": {
        "id": "BU64NhOU8VAr"
      },
      "outputs": [],
      "source": [
        "cf[0]"
      ]
    },
    {
      "cell_type": "markdown",
      "metadata": {
        "id": "Rztn-Ju28VAr"
      },
      "source": [
        "Saving in year 3"
      ]
    },
    {
      "cell_type": "code",
      "execution_count": null,
      "metadata": {
        "id": "4MHn51tz8VAs"
      },
      "outputs": [],
      "source": [
        "cf[3]"
      ]
    },
    {
      "cell_type": "markdown",
      "metadata": {
        "id": "yzC2xspP8VAt"
      },
      "source": [
        "The second element of the list"
      ]
    },
    {
      "cell_type": "code",
      "execution_count": null,
      "metadata": {
        "id": "DzFG3wE18VAu"
      },
      "outputs": [],
      "source": [
        "cf[1]"
      ]
    },
    {
      "cell_type": "markdown",
      "metadata": {
        "id": "K74p7vzC8VAu"
      },
      "source": [
        "Final year´s saving"
      ]
    },
    {
      "cell_type": "code",
      "execution_count": null,
      "metadata": {
        "id": "LjhRAbMS8VAv"
      },
      "outputs": [],
      "source": [
        "cf[-1]"
      ]
    },
    {
      "cell_type": "code",
      "execution_count": null,
      "metadata": {
        "id": "ZtkJ5l6g8VAv"
      },
      "outputs": [],
      "source": []
    },
    {
      "cell_type": "markdown",
      "metadata": {
        "id": "K27VY-zC8VAv"
      },
      "source": [
        "3. __Iterate__ over the list and __print__ each and every element."
      ]
    },
    {
      "cell_type": "code",
      "execution_count": null,
      "metadata": {
        "id": "8iqNFpkf8VAw"
      },
      "outputs": [],
      "source": [
        "for element in cf:\n",
        "    print(element)"
      ]
    },
    {
      "cell_type": "code",
      "execution_count": null,
      "metadata": {
        "id": "Vv2_IlKR8VAw"
      },
      "outputs": [],
      "source": []
    },
    {
      "cell_type": "markdown",
      "metadata": {
        "id": "JAY8-EMa8VAw"
      },
      "source": [
        "4. Calculate the __sum__ of your savings. Use a __for loop__ and print intermediate results!"
      ]
    },
    {
      "cell_type": "code",
      "execution_count": null,
      "metadata": {
        "id": "WX0gRmP78VAw"
      },
      "outputs": [],
      "source": [
        "total = 0\n",
        "for element in cf:\n",
        "    total += element\n",
        "    print(total)\n",
        "total"
      ]
    },
    {
      "cell_type": "markdown",
      "metadata": {
        "id": "1IqN0rDZ8VAx"
      },
      "source": [
        "(result: 14,700 USD)"
      ]
    },
    {
      "cell_type": "markdown",
      "metadata": {
        "id": "BswxS1KN8VAx"
      },
      "source": [
        "5. Now, use two __Python built-in function__ to calculate the sum and the number of elements. "
      ]
    },
    {
      "cell_type": "code",
      "execution_count": null,
      "metadata": {
        "id": "wDoxebmS8VAx"
      },
      "outputs": [],
      "source": [
        "#sum\n",
        "sum(cf)"
      ]
    },
    {
      "cell_type": "markdown",
      "metadata": {
        "id": "bQoUKInc8VAz"
      },
      "source": [
        "(result: 14,700 USD)"
      ]
    },
    {
      "cell_type": "code",
      "execution_count": null,
      "metadata": {
        "id": "_4KXjdnC8VAz"
      },
      "outputs": [],
      "source": [
        "#lenght\n",
        "len(cf)"
      ]
    },
    {
      "cell_type": "markdown",
      "metadata": {
        "id": "EQ9Uu1Ku8VA0"
      },
      "source": [
        "(result: 7)"
      ]
    },
    {
      "cell_type": "code",
      "execution_count": null,
      "metadata": {
        "id": "sKfuqPu08VA-"
      },
      "outputs": [],
      "source": []
    },
    {
      "cell_type": "markdown",
      "metadata": {
        "id": "lJ8DmVw_8VA_"
      },
      "source": [
        "6. __Print__ all integers from __0 until 100__. Use __range()__!"
      ]
    },
    {
      "cell_type": "code",
      "execution_count": null,
      "metadata": {
        "id": "QyItERbW8VA_"
      },
      "outputs": [],
      "source": [
        "for i in range(101):\n",
        "    print(i)"
      ]
    },
    {
      "cell_type": "code",
      "execution_count": null,
      "metadata": {
        "id": "HM4Rv-LG8VBA"
      },
      "outputs": [],
      "source": []
    },
    {
      "cell_type": "markdown",
      "metadata": {
        "id": "qINx991l8VBA"
      },
      "source": [
        "7. Create and save the list n with all timestamps (0, 1, 2, 3, 4, 5, 6). Use __range()__!"
      ]
    },
    {
      "cell_type": "code",
      "execution_count": null,
      "metadata": {
        "id": "PAHZshdh8VBB"
      },
      "outputs": [],
      "source": [
        "n = list(range(7))"
      ]
    },
    {
      "cell_type": "code",
      "execution_count": null,
      "metadata": {
        "id": "rF4zP9T48VBC"
      },
      "outputs": [],
      "source": [
        "n"
      ]
    },
    {
      "cell_type": "code",
      "execution_count": null,
      "metadata": {
        "id": "QZChfzTW8VBC"
      },
      "outputs": [],
      "source": []
    },
    {
      "cell_type": "markdown",
      "metadata": {
        "id": "Wjt0NC4J8VBC"
      },
      "source": [
        "8. __Reverse__ the order of n and __reassign__ n!"
      ]
    },
    {
      "cell_type": "code",
      "execution_count": null,
      "metadata": {
        "id": "Zp4J48aT8VBD"
      },
      "outputs": [],
      "source": [
        "n = n[::-1]"
      ]
    },
    {
      "cell_type": "code",
      "execution_count": null,
      "metadata": {
        "id": "vCKFzLiU8VBD"
      },
      "outputs": [],
      "source": [
        "n"
      ]
    },
    {
      "cell_type": "markdown",
      "metadata": {
        "id": "pG3MTFva8VBD"
      },
      "source": [
        "(result: [6, 5, 4, 3, 2, 1, 0]"
      ]
    },
    {
      "cell_type": "code",
      "execution_count": null,
      "metadata": {
        "id": "CThkWlVz8VBE"
      },
      "outputs": [],
      "source": []
    },
    {
      "cell_type": "markdown",
      "metadata": {
        "id": "U2F6L7Ol8VBE"
      },
      "source": [
        "9. Calculate the __future value__ of your account after year 6. Assume an interest rate of 4.0% p.a. "
      ]
    },
    {
      "cell_type": "code",
      "execution_count": null,
      "metadata": {
        "id": "zQlW4Qr_8VBE"
      },
      "outputs": [],
      "source": [
        "r = 0.04\n",
        "f = 1 + r"
      ]
    },
    {
      "cell_type": "code",
      "execution_count": null,
      "metadata": {
        "id": "8Opi_twy8VBE"
      },
      "outputs": [],
      "source": [
        "FV = 0\n",
        "for i in range(len(cf)):\n",
        "    FV += cf[i] *  f**n[i]\n",
        "print(FV)"
      ]
    },
    {
      "cell_type": "markdown",
      "metadata": {
        "id": "P6DrxzDz8VBF"
      },
      "source": [
        "(result: 16,053.82 USD)"
      ]
    },
    {
      "cell_type": "code",
      "execution_count": null,
      "metadata": {
        "id": "pLUJ-r_-8VBF"
      },
      "outputs": [],
      "source": []
    },
    {
      "cell_type": "markdown",
      "metadata": {
        "id": "o2TY7gcx8VBF"
      },
      "source": [
        "The ABC Company evaluates to buy an additional machine that will increase future profits/cashflows by\n",
        "- 200 USD in t1, \n",
        "- 300 USD in t2,\n",
        "- 500 USD in t3, \n",
        "- 750 USD in t4,\n",
        "- 1,000 USD in t5. (each cf at period´s end)<br>"
      ]
    },
    {
      "cell_type": "markdown",
      "metadata": {
        "id": "COTWFba08VBF"
      },
      "source": [
        "\n",
        "10. The machine costs __2,000 USD__ (Investment in to). Calculate the Project´s __NPV__ and evaluate whether ABC should pursue the project. <br> ABC´s required rate of return (Cost of Capital) is __8%__ p.a. "
      ]
    },
    {
      "cell_type": "code",
      "execution_count": null,
      "metadata": {
        "id": "TAQjg87Q8VBF"
      },
      "outputs": [],
      "source": [
        "cf = [-2000, 200, 300, 500, 750, 1000]\n",
        "r = 0.08\n",
        "f = 1 + r"
      ]
    },
    {
      "cell_type": "code",
      "execution_count": null,
      "metadata": {
        "id": "MMLugs6Z8VBG"
      },
      "outputs": [],
      "source": [
        "NPV = 0\n",
        "for i in range(len(cf)):\n",
        "    NPV += cf[i] / f**(i)\n",
        "print(NPV)"
      ]
    },
    {
      "cell_type": "markdown",
      "metadata": {
        "id": "cdogdgbX8VBG"
      },
      "source": [
        "(result: 71.16 USD -> accept)"
      ]
    },
    {
      "cell_type": "code",
      "execution_count": null,
      "metadata": {
        "id": "n1Q5wMmA8VBH"
      },
      "outputs": [],
      "source": []
    },
    {
      "cell_type": "markdown",
      "metadata": {
        "id": "HGvULTAV8VBH"
      },
      "source": [
        "11. Would ABC accept the project with a __required rate of return of 10.0% p.a.__?"
      ]
    },
    {
      "cell_type": "code",
      "execution_count": null,
      "metadata": {
        "id": "MuZ5bPhf8VBH"
      },
      "outputs": [],
      "source": [
        "cf = [-2000, 200, 300, 500, 750, 1000]\n",
        "r = 0.10\n",
        "f = 1 + r"
      ]
    },
    {
      "cell_type": "code",
      "execution_count": null,
      "metadata": {
        "id": "4mWu7Lwa8VBH"
      },
      "outputs": [],
      "source": [
        "NPV = 0\n",
        "for i in range(len(cf)):\n",
        "    NPV += cf[i] / f**(i)\n",
        "print(NPV)"
      ]
    },
    {
      "cell_type": "markdown",
      "metadata": {
        "id": "tKI9_Ppj8VBI"
      },
      "source": [
        "(result: -61.41 -> reject)"
      ]
    },
    {
      "cell_type": "code",
      "execution_count": null,
      "metadata": {
        "id": "zLbXgKhF8VBI"
      },
      "outputs": [],
      "source": []
    }
  ],
  "metadata": {
    "kernelspec": {
      "display_name": "Python 3 (ipykernel)",
      "language": "python",
      "name": "python3"
    },
    "language_info": {
      "codemirror_mode": {
        "name": "ipython",
        "version": 3
      },
      "file_extension": ".py",
      "mimetype": "text/x-python",
      "name": "python",
      "nbconvert_exporter": "python",
      "pygments_lexer": "ipython3",
      "version": "3.9.16"
    },
    "colab": {
      "provenance": [],
      "include_colab_link": true
    }
  },
  "nbformat": 4,
  "nbformat_minor": 0
}