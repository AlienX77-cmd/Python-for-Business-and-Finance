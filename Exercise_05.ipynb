{
  "cells": [
    {
      "cell_type": "markdown",
      "metadata": {
        "id": "view-in-github",
        "colab_type": "text"
      },
      "source": [
        "<a href=\"https://colab.research.google.com/github/AlienX77-cmd/Python-for-Business-and-Finance/blob/main/Exercise_05.ipynb\" target=\"_parent\"><img src=\"https://colab.research.google.com/assets/colab-badge.svg\" alt=\"Open In Colab\"/></a>"
      ]
    },
    {
      "cell_type": "markdown",
      "metadata": {
        "id": "z8u8qGQFQ4zY"
      },
      "source": [
        "# Coding Exercises (Part 1)"
      ]
    },
    {
      "cell_type": "markdown",
      "metadata": {
        "id": "QSDhOyceQ4zd"
      },
      "source": [
        "Now, you will have the opportunity to practice what you have learned. <br>\n",
        "__Follow the instructions__ and insert your code! "
      ]
    },
    {
      "cell_type": "markdown",
      "metadata": {
        "id": "pQttiyhEQ4ze"
      },
      "source": [
        "The correct answer is provided below your coding cell. There you can check whether your code is correct."
      ]
    },
    {
      "cell_type": "markdown",
      "metadata": {
        "id": "tLjDpjeWQ4zf"
      },
      "source": [
        "If you need some help or if you want to check your code, you can also have a look at the __solutions__."
      ]
    },
    {
      "cell_type": "markdown",
      "metadata": {
        "id": "-riVW3v6Q4zg"
      },
      "source": [
        "### Have Fun!"
      ]
    },
    {
      "cell_type": "markdown",
      "metadata": {
        "id": "P9w7JC6OQ4zg"
      },
      "source": [
        "--------------------------------------------------------------------------------------------------------------"
      ]
    },
    {
      "cell_type": "markdown",
      "metadata": {
        "id": "LOUlQT5jQ4zi"
      },
      "source": [
        "## Exercise 5: While Loops, Conditional Statements, IRR and YTM"
      ]
    },
    {
      "cell_type": "markdown",
      "metadata": {
        "id": "b6iyN50xQ4zi"
      },
      "source": [
        "The ABC Company has a mature project with declining revenues and increasing costs. Net Cashflows are projected as follows:\n",
        "\n",
        "- 500 in year 1,\n",
        "- 350 in year 2, \n",
        "- 200 in year 3,\n",
        "- 50 in year 4,\n",
        "- -100 in year 5,\n",
        "- -200 in year 6"
      ]
    },
    {
      "cell_type": "markdown",
      "metadata": {
        "id": "GrSc5xhgQ4zj"
      },
      "source": [
        "1. Separate __positive__ and __negative__ cashflows. __Create two new lists__!"
      ]
    },
    {
      "cell_type": "code",
      "execution_count": null,
      "metadata": {
        "id": "7BxgdcxwQ4zj"
      },
      "outputs": [],
      "source": [
        "#run the cell\n",
        "cf = [500, 350, 200, 50, -100, -200]"
      ]
    },
    {
      "cell_type": "code",
      "execution_count": null,
      "metadata": {
        "colab": {
          "base_uri": "https://localhost:8080/"
        },
        "id": "VevIic0AQ4zj",
        "outputId": "110be336-02f5-4224-8928-7d487b09db9b"
      },
      "outputs": [
        {
          "output_type": "stream",
          "name": "stdout",
          "text": [
            "[500, 350, 200, 50] [-100, -200]\n"
          ]
        }
      ],
      "source": [
        "cf_pos =[]\n",
        "cf_neg =[]\n",
        "\n",
        "for i in cf: #complete the code!\n",
        "    if (i > 0): cf_pos.append(i)\n",
        "    else: cf_neg.append(i)   \n",
        "\n",
        "print(cf_pos, cf_neg)    "
      ]
    },
    {
      "cell_type": "code",
      "execution_count": null,
      "metadata": {
        "id": "4WCN3p8JQ4zk"
      },
      "outputs": [],
      "source": []
    },
    {
      "cell_type": "markdown",
      "metadata": {
        "id": "YueWCdzfQ4zl"
      },
      "source": [
        "2. Get the __first unprofitable year__. Your Code should return the statement __\"Year ... is the first unprofitable Year!\"__ "
      ]
    },
    {
      "cell_type": "code",
      "execution_count": null,
      "metadata": {
        "colab": {
          "base_uri": "https://localhost:8080/"
        },
        "id": "H4MXpnrFQ4zl",
        "outputId": "cfbf8d2c-3c71-48a9-ac6a-3a6c577a7980"
      },
      "outputs": [
        {
          "output_type": "stream",
          "name": "stdout",
          "text": [
            "Year 5 is the first unprofitable Year!\n"
          ]
        }
      ],
      "source": [
        "for i in range(len(cf)):\n",
        "  if(cf[i] < 0):\n",
        "    print(\"Year {} is the first unprofitable Year!\".format(i+1))\n",
        "    break"
      ]
    },
    {
      "cell_type": "markdown",
      "metadata": {
        "id": "lyRsVDbtQ4zl"
      },
      "source": [
        "3. Get the __last profitable year__. Your Code should return the statement __\"Year ... is the last profitable Year!\"__ "
      ]
    },
    {
      "cell_type": "code",
      "execution_count": null,
      "metadata": {
        "colab": {
          "base_uri": "https://localhost:8080/"
        },
        "id": "jOsm7vcMQ4zm",
        "outputId": "c10d4dca-b2c2-4bee-997f-a096f8761fbc"
      },
      "outputs": [
        {
          "output_type": "stream",
          "name": "stdout",
          "text": [
            "Year 4 is the last profitable Year!\n"
          ]
        }
      ],
      "source": [
        "for i in range(len(cf)):\n",
        "  if(cf[i] > 0): pass\n",
        "  else:\n",
        "    print(\"Year {} is the last profitable Year!\".format(i))\n",
        "    break"
      ]
    },
    {
      "cell_type": "code",
      "execution_count": null,
      "metadata": {
        "id": "cXOmtwPeQ4zn"
      },
      "outputs": [],
      "source": []
    },
    {
      "cell_type": "markdown",
      "metadata": {
        "id": "5sBWjZG2Q4zn"
      },
      "source": [
        "The __modulo operator %__ returns the __remainder__ of the division between two numbers. For instance, 5 % 3 returns 2. "
      ]
    },
    {
      "cell_type": "code",
      "execution_count": null,
      "metadata": {
        "colab": {
          "base_uri": "https://localhost:8080/"
        },
        "id": "YZFCHS3_Q4zn",
        "outputId": "c5a3a170-aef1-4251-8bac-fbd7be0e7c2f"
      },
      "outputs": [
        {
          "output_type": "execute_result",
          "data": {
            "text/plain": [
              "2"
            ]
          },
          "metadata": {},
          "execution_count": 11
        }
      ],
      "source": [
        "# run the cell\n",
        "5 % 3"
      ]
    },
    {
      "cell_type": "code",
      "execution_count": null,
      "metadata": {
        "colab": {
          "base_uri": "https://localhost:8080/"
        },
        "id": "qAzi22OOQ4zo",
        "outputId": "9e1a34c5-94af-47d0-a6a6-9e9b9cd36556"
      },
      "outputs": [
        {
          "output_type": "execute_result",
          "data": {
            "text/plain": [
              "4"
            ]
          },
          "metadata": {},
          "execution_count": 12
        }
      ],
      "source": [
        "# run the cell\n",
        "14 % 5"
      ]
    },
    {
      "cell_type": "markdown",
      "metadata": {
        "id": "quK5Xb9wQ4zo"
      },
      "source": [
        "If a is divisible by b __without remainder__, a % b __returns 0__. "
      ]
    },
    {
      "cell_type": "code",
      "execution_count": null,
      "metadata": {
        "colab": {
          "base_uri": "https://localhost:8080/"
        },
        "id": "HueVspzdQ4zo",
        "outputId": "1e1489b5-9660-4e36-a545-caf789b85b07"
      },
      "outputs": [
        {
          "output_type": "execute_result",
          "data": {
            "text/plain": [
              "0"
            ]
          },
          "metadata": {},
          "execution_count": 13
        }
      ],
      "source": [
        "# run the cell\n",
        "a = 9\n",
        "b = 3\n",
        "a % b"
      ]
    },
    {
      "cell_type": "markdown",
      "metadata": {
        "id": "sGvPMAyvQ4zp"
      },
      "source": [
        "4. Return the __first number n__ that is __divisible by 362 and 216__ (without remainder).<br>\n",
        "Your code shall return the following statement: __\"... is the first number divisible by 362 and 216!\"__"
      ]
    },
    {
      "cell_type": "code",
      "execution_count": null,
      "metadata": {
        "colab": {
          "base_uri": "https://localhost:8080/"
        },
        "id": "comZSuxeQ4zp",
        "outputId": "115ca6f7-3c63-45eb-ddba-6ccedf34dbb4"
      },
      "outputs": [
        {
          "output_type": "stream",
          "name": "stdout",
          "text": [
            "39096 is the first number divisible by 362 and 216\n"
          ]
        }
      ],
      "source": [
        "a = 362\n",
        "b = 216\n",
        "\n",
        "n = 1 \n",
        "while True: #complete the code!\n",
        "    if (n % 362 == 0):\n",
        "      if (n % 216 == 0): \n",
        "        print(\"{} is the first number divisible by 362 and 216\".format(n))\n",
        "        break\n",
        "    n+=1"
      ]
    },
    {
      "cell_type": "markdown",
      "metadata": {
        "id": "HrvkuVdzQ4zq"
      },
      "source": [
        "(result: 39096)"
      ]
    },
    {
      "cell_type": "code",
      "execution_count": null,
      "metadata": {
        "id": "fMlZ2w8VQ4zq"
      },
      "outputs": [],
      "source": []
    },
    {
      "cell_type": "markdown",
      "metadata": {
        "id": "YBBEvzHgQ4zr"
      },
      "source": [
        "The ABC Company evaluates to buy an additional machine that will increase profits/cashflows by\n",
        "- 50 USD in year 1,\n",
        "- 75 USD in year 2 ,\n",
        "- 100 USD in year 3, \n",
        "- 150 USD in year 4,\n",
        "- 125 USD in year 5. (each cf at period´s end)\n",
        "\n",
        "The machine costs 450 USD (Investment in to). "
      ]
    },
    {
      "cell_type": "markdown",
      "metadata": {
        "id": "TCJdi3SFQ4zs"
      },
      "source": [
        "5. Calculate the __Project´s IRR__ and evaluate whether ABC should pursue the project. ABCs required rate of return is 6% p.a."
      ]
    },
    {
      "cell_type": "code",
      "execution_count": 15,
      "metadata": {
        "id": "2QnDtaImQ4zt"
      },
      "outputs": [],
      "source": [
        "cf = [-450, 50, 75, 100, 150, 125]"
      ]
    },
    {
      "cell_type": "code",
      "source": [
        "guess = 0.06\n",
        "step = 0.000001\n",
        "target_npv = 0\n",
        "tol = 0.001 \n",
        "\n",
        "while True:\n",
        "    f = 1 + guess\n",
        "    NPV = 0\n",
        "    for i in range(len(cf)):\n",
        "        NPV += cf[i] / f**(i)\n",
        "    diff = NPV - target_npv\n",
        "    \n",
        "    if abs(diff) > tol:\n",
        "        if diff > 0: guess += step\n",
        "        elif diff < 0: guess -= step\n",
        "    else:\n",
        "        break\n",
        "        \n",
        "print(NPV, round(guess*100, 2)) "
      ],
      "metadata": {
        "id": "s2v82-lgXtzj",
        "colab": {
          "base_uri": "https://localhost:8080/"
        },
        "outputId": "e401117a-aec8-44ef-c502-bf784e2884e0"
      },
      "execution_count": 16,
      "outputs": [
        {
          "output_type": "stream",
          "name": "stdout",
          "text": [
            "-0.0002819830025373449 3.12\n"
          ]
        }
      ]
    },
    {
      "cell_type": "markdown",
      "metadata": {
        "id": "N41XlI4aQ4zu"
      },
      "source": [
        "(result: 3.12%)"
      ]
    },
    {
      "cell_type": "code",
      "execution_count": null,
      "metadata": {
        "id": "MX1YDCY3Q4zu"
      },
      "outputs": [],
      "source": []
    },
    {
      "cell_type": "markdown",
      "metadata": {
        "id": "H7WLmlAIQ4zu"
      },
      "source": [
        "5. Would your __decision change__ if you can increse year 5 cashflows from __125 to 175__? "
      ]
    },
    {
      "cell_type": "code",
      "execution_count": 17,
      "metadata": {
        "id": "DZAMUSwHQ4zv",
        "colab": {
          "base_uri": "https://localhost:8080/"
        },
        "outputId": "b6cbccd8-98a1-406a-96ae-ecc2c1e8200f"
      },
      "outputs": [
        {
          "output_type": "execute_result",
          "data": {
            "text/plain": [
              "[-450, 50, 75, 100, 150, 175]"
            ]
          },
          "metadata": {},
          "execution_count": 17
        }
      ],
      "source": [
        "cf[5] = 175\n",
        "cf"
      ]
    },
    {
      "cell_type": "code",
      "execution_count": 18,
      "metadata": {
        "scrolled": true,
        "id": "hiUFBTR3Q4zw",
        "colab": {
          "base_uri": "https://localhost:8080/"
        },
        "outputId": "7d677c63-57e0-42ad-f81f-94262e4e72b3"
      },
      "outputs": [
        {
          "output_type": "stream",
          "name": "stdout",
          "text": [
            "-0.0003708748203337109 5.83\n"
          ]
        }
      ],
      "source": [
        "guess = 0.06\n",
        "step = 0.000001\n",
        "target_npv = 0\n",
        "tol = 0.001 \n",
        "\n",
        "while True:\n",
        "    f = 1 + guess\n",
        "    NPV = 0\n",
        "    for i in range(len(cf)):\n",
        "        NPV += cf[i] / f**(i)\n",
        "    diff = NPV - target_npv\n",
        "    \n",
        "    if abs(diff) > tol:\n",
        "        if diff > 0: guess += step\n",
        "        elif diff < 0: guess -= step\n",
        "    else:\n",
        "        break\n",
        "        \n",
        "print(NPV, round(guess*100, 2)) "
      ]
    },
    {
      "cell_type": "markdown",
      "metadata": {
        "id": "zj73MdUiQ4zw"
      },
      "source": [
        "(result: 5.83%)"
      ]
    },
    {
      "cell_type": "code",
      "execution_count": null,
      "metadata": {
        "id": "h37RFelVQ4zw"
      },
      "outputs": [],
      "source": []
    },
    {
      "cell_type": "markdown",
      "metadata": {
        "id": "aN06k6-UQ4zx"
      },
      "source": [
        "6. The ABC Government issued a 30Y Government Bond one year ago with a Coupon Rate of 5.5% (annual payments in arrears). Today´s Bond Price is 97.2 (per 100 par Value). Calculate the Bond´s __current YTM__."
      ]
    },
    {
      "cell_type": "code",
      "execution_count": 27,
      "metadata": {
        "id": "5HNCONsOQ4zx",
        "colab": {
          "base_uri": "https://localhost:8080/"
        },
        "outputId": "8ad659c3-bec3-4c92-cd8c-517f66d6346a"
      },
      "outputs": [
        {
          "output_type": "stream",
          "name": "stdout",
          "text": [
            "[5.5, 5.5, 5.5, 5.5, 5.5, 5.5, 5.5, 5.5, 5.5, 5.5, 5.5, 5.5, 5.5, 5.5, 5.5, 5.5, 5.5, 5.5, 5.5, 5.5, 5.5, 5.5, 5.5, 5.5, 5.5, 5.5, 5.5, 5.5, 5.5]\n"
          ]
        }
      ],
      "source": [
        "cf = [5.5] * 29\n",
        "print(cf, sep=\", \")"
      ]
    },
    {
      "cell_type": "code",
      "execution_count": 28,
      "metadata": {
        "id": "8yUMQppkQ4zy",
        "colab": {
          "base_uri": "https://localhost:8080/"
        },
        "outputId": "2ede58dc-265c-4a32-d272-23247bdc560e"
      },
      "outputs": [
        {
          "output_type": "stream",
          "name": "stdout",
          "text": [
            "[5.5, 5.5, 5.5, 5.5, 5.5, 5.5, 5.5, 5.5, 5.5, 5.5, 5.5, 5.5, 5.5, 5.5, 5.5, 5.5, 5.5, 5.5, 5.5, 5.5, 5.5, 5.5, 5.5, 5.5, 5.5, 5.5, 5.5, 5.5, 105.5]\n"
          ]
        }
      ],
      "source": [
        "cf[-1] = cf[-1] + 100\n",
        "print(cf, sep=\", \")"
      ]
    },
    {
      "cell_type": "code",
      "execution_count": 29,
      "metadata": {
        "id": "ryH3_fk9Q4zy"
      },
      "outputs": [],
      "source": [
        "cf.insert(0, -97.2)"
      ]
    },
    {
      "cell_type": "code",
      "execution_count": 30,
      "metadata": {
        "scrolled": true,
        "id": "qbTOlMGpQ4zy",
        "colab": {
          "base_uri": "https://localhost:8080/"
        },
        "outputId": "bfb129d4-c7a3-43b2-a0c3-f69c484f4eeb"
      },
      "outputs": [
        {
          "output_type": "stream",
          "name": "stdout",
          "text": [
            "[-97.2, 5.5, 5.5, 5.5, 5.5, 5.5, 5.5, 5.5, 5.5, 5.5, 5.5, 5.5, 5.5, 5.5, 5.5, 5.5, 5.5, 5.5, 5.5, 5.5, 5.5, 5.5, 5.5, 5.5, 5.5, 5.5, 5.5, 5.5, 5.5, 105.5]\n"
          ]
        }
      ],
      "source": [
        "print(cf, sep=\", \")"
      ]
    },
    {
      "cell_type": "code",
      "execution_count": 31,
      "metadata": {
        "id": "CIwt4ydOQ4zz",
        "colab": {
          "base_uri": "https://localhost:8080/"
        },
        "outputId": "86887014-a259-4813-a28e-f0d272cccc33"
      },
      "outputs": [
        {
          "output_type": "stream",
          "name": "stdout",
          "text": [
            "-0.00023920511386066323 5.7\n"
          ]
        }
      ],
      "source": [
        "#Caculate IRR (IRR = YTM in this case (normally))\n",
        "guess = 0.06\n",
        "step = 0.000001\n",
        "target_npv = 0\n",
        "tol = 0.001 \n",
        "\n",
        "while True:\n",
        "    f = 1 + guess\n",
        "    NPV = 0\n",
        "    for i in range(len(cf)):\n",
        "        NPV += cf[i] / f**(i)\n",
        "    diff = NPV - target_npv\n",
        "    \n",
        "    if abs(diff) > tol:\n",
        "        if diff > 0: guess += step\n",
        "        elif diff < 0: guess -= step\n",
        "    else:\n",
        "        break\n",
        "        \n",
        "print(NPV, round(guess*100, 2)) "
      ]
    },
    {
      "cell_type": "markdown",
      "metadata": {
        "id": "lWu7IoanQ4zz"
      },
      "source": [
        "(result: 5.70%)"
      ]
    },
    {
      "cell_type": "code",
      "execution_count": 32,
      "metadata": {
        "id": "FbAkLNvJQ4zz",
        "colab": {
          "base_uri": "https://localhost:8080/"
        },
        "outputId": "6bed1c3b-0fa8-4f70-8566-07f7a6843a8e"
      },
      "outputs": [
        {
          "output_type": "stream",
          "name": "stdout",
          "text": [
            "Make sense as normally IRR (YTM) is higher than coupon rate and in this case, we initially invested 97.2 $ in the first year and recieve 5 $ each year and recieve 105 $ in the last year (more than 97.2 $)\n"
          ]
        }
      ],
      "source": [
        "print(\"Make sense as normally IRR (YTM) is higher than coupon rate and in this case, we initially invested 97.2 $ in the first year and recieve 5 $ each year and recieve 105 $ in the last year (more than 97.2 $)\")"
      ]
    },
    {
      "cell_type": "markdown",
      "metadata": {
        "id": "JaJru0UkQ4z0"
      },
      "source": [
        "# Well Done!"
      ]
    },
    {
      "cell_type": "markdown",
      "metadata": {
        "id": "eHwzjYs7Q4z0"
      },
      "source": [
        "---------------------------------------------------------------------------------------------------------------------"
      ]
    },
    {
      "cell_type": "markdown",
      "metadata": {
        "id": "GvXcdFByQ4z1"
      },
      "source": [
        "# Solutions (Stop here if you want to code on your own!)"
      ]
    },
    {
      "cell_type": "markdown",
      "metadata": {
        "id": "jaa2jNO_Q4z1"
      },
      "source": [
        "# ++++++++++++++++++++++++++++++++++++++++++++++++++++++++++++++"
      ]
    },
    {
      "cell_type": "markdown",
      "metadata": {
        "id": "EsPXUGlFQ4z1"
      },
      "source": [
        "The ABC Company has a mature project with declining revenues and increasing costs. Net Cashflows are projected as follows:\n",
        "\n",
        "- 500 in year 1,\n",
        "- 350 in year 2, \n",
        "- 200 in year 3,\n",
        "- 50 in year 4,\n",
        "- -100 in year 5,\n",
        "- -200 in year 6"
      ]
    },
    {
      "cell_type": "markdown",
      "metadata": {
        "id": "GeD_FQvVQ4z2"
      },
      "source": [
        "1. Separate __positive__ and __negative__ cashflows. __Create two new lists__!"
      ]
    },
    {
      "cell_type": "code",
      "execution_count": null,
      "metadata": {
        "id": "WWBXwSGVQ4z2"
      },
      "outputs": [],
      "source": [
        "#run the cell\n",
        "cf = [500, 350, 200, 50, -100, -200]"
      ]
    },
    {
      "cell_type": "code",
      "execution_count": null,
      "metadata": {
        "id": "9kIAjkK3Q4z3"
      },
      "outputs": [],
      "source": [
        "cf_pos =[]\n",
        "cf_neg =[]\n",
        "\n",
        "for i in cf:\n",
        "    if i > 0:\n",
        "        cf_pos.append(i)\n",
        "    elif i < 0:\n",
        "        cf_neg.append(i)\n",
        "print(cf_pos, cf_neg)"
      ]
    },
    {
      "cell_type": "code",
      "execution_count": null,
      "metadata": {
        "id": "Vapxi8KaQ4z3"
      },
      "outputs": [],
      "source": []
    },
    {
      "cell_type": "markdown",
      "metadata": {
        "id": "GWLob2H9Q4z4"
      },
      "source": [
        "2. Get the __first unprofitable year__. Your Code should return the statement __\"Year ... is the first unprofitable Year!\"__ "
      ]
    },
    {
      "cell_type": "code",
      "execution_count": null,
      "metadata": {
        "id": "I6fP3mlqQ4z4"
      },
      "outputs": [],
      "source": [
        "n = 1\n",
        "for i in cf:\n",
        "    if i < 0:\n",
        "        print(\"Year {} is the first unprofitable year!\".format(n))\n",
        "        break\n",
        "    n += 1"
      ]
    },
    {
      "cell_type": "markdown",
      "metadata": {
        "id": "CZUd8RvdQ4z4"
      },
      "source": [
        "3. Get the __last profitable year__. Your Code should return the statement __\"Year ... is the last profitable Year!\"__ "
      ]
    },
    {
      "cell_type": "code",
      "execution_count": null,
      "metadata": {
        "id": "8rfjLjuiQ4z5"
      },
      "outputs": [],
      "source": [
        "n = 1\n",
        "for i in cf:\n",
        "    if i < 0:\n",
        "        print(\"Year {} is the last profitable year!\".format(n - 1))\n",
        "        break\n",
        "    n += 1"
      ]
    },
    {
      "cell_type": "code",
      "execution_count": null,
      "metadata": {
        "id": "haotsBjuQ4z5"
      },
      "outputs": [],
      "source": []
    },
    {
      "cell_type": "markdown",
      "metadata": {
        "id": "z5YCgcAhQ4z6"
      },
      "source": [
        "The __modulo operator %__ returns the __remainder__ of the division between two numbers. For instance, 5 % 3 returns 2. "
      ]
    },
    {
      "cell_type": "code",
      "execution_count": null,
      "metadata": {
        "id": "s9NUet34Q4z6"
      },
      "outputs": [],
      "source": [
        "# run the cell\n",
        "5 % 3"
      ]
    },
    {
      "cell_type": "code",
      "execution_count": null,
      "metadata": {
        "id": "JE_KBoyZQ4z7"
      },
      "outputs": [],
      "source": [
        "# run the cell\n",
        "14 % 5"
      ]
    },
    {
      "cell_type": "markdown",
      "metadata": {
        "id": "4llen8UYQ4z7"
      },
      "source": [
        "If a is divisible by b __without remainder__, a % b __returns 0__. "
      ]
    },
    {
      "cell_type": "code",
      "execution_count": null,
      "metadata": {
        "id": "lVkdQKMVQ4z8"
      },
      "outputs": [],
      "source": [
        "# run the cell\n",
        "a = 9\n",
        "b = 3\n",
        "a % b"
      ]
    },
    {
      "cell_type": "markdown",
      "metadata": {
        "id": "fFLxp3i8Q4z-"
      },
      "source": [
        "4. Return the __first number n__ that is __divisible by 362 and 216__ (without remainder).<br>\n",
        "Your code shall return the following statement: __\"... is the first number divisible by 362 and 216!\"__"
      ]
    },
    {
      "cell_type": "code",
      "execution_count": null,
      "metadata": {
        "id": "acvomWoiQ4z_"
      },
      "outputs": [],
      "source": [
        "a = 362\n",
        "b = 216\n",
        "\n",
        "n = 1\n",
        "while True:\n",
        "    if (n%a == 0) and (n%b == 0):\n",
        "        print(\"{} is the first number divisible by {} and {}!\".format(n, a, b))\n",
        "        break\n",
        "    n+=1"
      ]
    },
    {
      "cell_type": "markdown",
      "metadata": {
        "id": "U2ZieBC7Q40A"
      },
      "source": [
        "(result: 39096)"
      ]
    },
    {
      "cell_type": "code",
      "execution_count": null,
      "metadata": {
        "id": "UeWlu22CQ40A"
      },
      "outputs": [],
      "source": []
    },
    {
      "cell_type": "markdown",
      "metadata": {
        "id": "AbzAgVM6Q40B"
      },
      "source": [
        "The ABC Company evaluates to buy an additional machine that will increase profits/cashflows by\n",
        "- 50 USD in year 1,\n",
        "- 75 USD in year 2 ,\n",
        "- 100 USD in year 3, \n",
        "- 150 USD in year 4,\n",
        "- 125 USD in year 5. (each cf at period´s end)\n",
        "\n",
        "The machine costs 450 USD (Investment in to). "
      ]
    },
    {
      "cell_type": "markdown",
      "metadata": {
        "id": "VSjnsILTQ40B"
      },
      "source": [
        "5. Calculate the __Project´s IRR__ and evaluate whether ABC should pursue the project. ABCs required rate of return is 6% p.a."
      ]
    },
    {
      "cell_type": "code",
      "execution_count": null,
      "metadata": {
        "id": "caAcGbYfQ40C"
      },
      "outputs": [],
      "source": [
        "cf = [-450, 50, 75, 100, 150, 125]"
      ]
    },
    {
      "cell_type": "code",
      "execution_count": null,
      "metadata": {
        "id": "j-sw-pidQ40C"
      },
      "outputs": [],
      "source": [
        "guess = 0.06\n",
        "step = 0.000001\n",
        "target_npv = 0\n",
        "tolerance = 0.001 \n",
        "\n",
        "while True:\n",
        "    f = 1 + guess\n",
        "    NPV = 0\n",
        "    for i in range(len(cf)):\n",
        "        NPV += cf[i] / f**(i)\n",
        "    diff = NPV - target_npv\n",
        "    \n",
        "    if abs(diff) > tolerance:\n",
        "        if diff < 0:\n",
        "            guess -= step\n",
        "        elif diff > 0:\n",
        "            guess += step\n",
        "    else:\n",
        "        break\n",
        "        \n",
        "print(NPV, guess) "
      ]
    },
    {
      "cell_type": "markdown",
      "metadata": {
        "id": "PyMKJ_pKQ40C"
      },
      "source": [
        "(result: 3.12% -> reject)"
      ]
    },
    {
      "cell_type": "code",
      "execution_count": null,
      "metadata": {
        "id": "lpqDcxspQ40D"
      },
      "outputs": [],
      "source": []
    },
    {
      "cell_type": "markdown",
      "metadata": {
        "id": "0GdBBK4AQ40D"
      },
      "source": [
        "5. Would your __decision change__ if you can increse year 5 cashflows from __125 to 175__? "
      ]
    },
    {
      "cell_type": "code",
      "execution_count": null,
      "metadata": {
        "id": "RaiWEPUuQ40E"
      },
      "outputs": [],
      "source": [
        "cf[-1] = 175"
      ]
    },
    {
      "cell_type": "code",
      "execution_count": null,
      "metadata": {
        "scrolled": true,
        "id": "2oCcKrVpQ40E"
      },
      "outputs": [],
      "source": [
        "guess = 0.06\n",
        "step = 0.0000001\n",
        "target_npv = 0\n",
        "tolerance = 0.001 \n",
        "\n",
        "while True:\n",
        "    f = 1 + guess\n",
        "    NPV = 0\n",
        "    for i in range(len(cf)):\n",
        "        NPV += cf[i] / f**(i)\n",
        "    diff = NPV - target_npv\n",
        "    \n",
        "    if abs(diff) > tolerance:\n",
        "        if diff < 0:\n",
        "            guess -= step\n",
        "        elif diff > 0:\n",
        "            guess += step\n",
        "    else:\n",
        "        break\n",
        "        \n",
        "print(NPV, guess) "
      ]
    },
    {
      "cell_type": "markdown",
      "metadata": {
        "id": "wS51sOqGQ40F"
      },
      "source": [
        "(result: 5.83% -> still reject)"
      ]
    },
    {
      "cell_type": "code",
      "execution_count": null,
      "metadata": {
        "id": "MKTKLD4-Q40F"
      },
      "outputs": [],
      "source": []
    },
    {
      "cell_type": "markdown",
      "metadata": {
        "id": "WT0UwWS2Q40F"
      },
      "source": [
        "6. The ABC Government issued a 30Y Government Bond one year ago with a Coupon Rate of 5.5% (annual payments in arrears). Today´s Bond Price is 97.2 (per 100 par Value). Calculate the Bond´s __current YTM__."
      ]
    },
    {
      "cell_type": "code",
      "execution_count": null,
      "metadata": {
        "id": "SRnhDnCAQ40F"
      },
      "outputs": [],
      "source": [
        "cf = [5.5] * 29"
      ]
    },
    {
      "cell_type": "code",
      "execution_count": null,
      "metadata": {
        "id": "2bM7TgebQ40G"
      },
      "outputs": [],
      "source": [
        "cf[-1] = cf[-1] + 100"
      ]
    },
    {
      "cell_type": "code",
      "execution_count": null,
      "metadata": {
        "id": "yYf69sv6Q40G"
      },
      "outputs": [],
      "source": [
        "cf.insert(0, -97.2)"
      ]
    },
    {
      "cell_type": "code",
      "execution_count": null,
      "metadata": {
        "scrolled": true,
        "id": "EacLl5CzQ40H"
      },
      "outputs": [],
      "source": [
        "cf"
      ]
    },
    {
      "cell_type": "code",
      "execution_count": null,
      "metadata": {
        "id": "JnvJmMblQ40H"
      },
      "outputs": [],
      "source": [
        "guess = 0.06\n",
        "step = 0.0000001\n",
        "target_npv = 0\n",
        "tolerance = 0.001 \n",
        "\n",
        "while True:\n",
        "    f = 1 + guess\n",
        "    NPV = 0\n",
        "    for i in range(len(cf)):\n",
        "        NPV += cf[i] / f**(i)\n",
        "    diff = NPV - target_npv\n",
        "    \n",
        "    if abs(diff) > tolerance:\n",
        "        if diff < 0:\n",
        "            guess -= step\n",
        "        elif diff > 0:\n",
        "            guess += step\n",
        "    else:\n",
        "        break\n",
        "        \n",
        "print(NPV, guess) "
      ]
    },
    {
      "cell_type": "markdown",
      "metadata": {
        "id": "Z9e34k0oQ40H"
      },
      "source": [
        "(result: 5.70%)"
      ]
    },
    {
      "cell_type": "code",
      "execution_count": null,
      "metadata": {
        "id": "wAcFG31OQ40H"
      },
      "outputs": [],
      "source": []
    }
  ],
  "metadata": {
    "kernelspec": {
      "display_name": "Python 3 (ipykernel)",
      "language": "python",
      "name": "python3"
    },
    "language_info": {
      "codemirror_mode": {
        "name": "ipython",
        "version": 3
      },
      "file_extension": ".py",
      "mimetype": "text/x-python",
      "name": "python",
      "nbconvert_exporter": "python",
      "pygments_lexer": "ipython3",
      "version": "3.9.16"
    },
    "colab": {
      "provenance": [],
      "include_colab_link": true
    }
  },
  "nbformat": 4,
  "nbformat_minor": 0
}