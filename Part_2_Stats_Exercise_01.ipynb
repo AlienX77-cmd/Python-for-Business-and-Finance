{
  "cells": [
    {
      "cell_type": "markdown",
      "metadata": {
        "id": "view-in-github",
        "colab_type": "text"
      },
      "source": [
        "<a href=\"https://colab.research.google.com/github/AlienX77-cmd/Python-for-Business-and-Finance/blob/main/Part_2_Stats_Exercise_01.ipynb\" target=\"_parent\"><img src=\"https://colab.research.google.com/assets/colab-badge.svg\" alt=\"Open In Colab\"/></a>"
      ]
    },
    {
      "cell_type": "markdown",
      "metadata": {
        "id": "55j_ISPIIRDy"
      },
      "source": [
        "# Coding Exercises (Part 2)"
      ]
    },
    {
      "cell_type": "markdown",
      "metadata": {
        "id": "yYjH2MH7IRD1"
      },
      "source": [
        "Now, you will have the opportunity to practice what you have learned. <br>\n",
        "__Follow the instructions__ and insert your code! "
      ]
    },
    {
      "cell_type": "markdown",
      "metadata": {
        "id": "Xydp4n2VIRD1"
      },
      "source": [
        "The correct answer is provided below your coding cell. There you can check whether your code is correct."
      ]
    },
    {
      "cell_type": "markdown",
      "metadata": {
        "id": "bXaINOHdIRD3"
      },
      "source": [
        "If you need some help or if you want to check your code, you can also have a look at the __solutions__."
      ]
    },
    {
      "cell_type": "markdown",
      "metadata": {
        "id": "SWY70BXqIRD4"
      },
      "source": [
        "### Have Fun!"
      ]
    },
    {
      "cell_type": "markdown",
      "metadata": {
        "id": "f9CcYIDtIRD5"
      },
      "source": [
        "--------------------------------------------------------------------------------------------------------------"
      ]
    },
    {
      "cell_type": "markdown",
      "metadata": {
        "id": "jbrPlJjSIRD5"
      },
      "source": [
        "## Exercise 1: Descriptive Statistics"
      ]
    },
    {
      "cell_type": "markdown",
      "metadata": {
        "id": "ayzQyqvZIRD5"
      },
      "source": [
        "1. Import numpy and the S&P500 price returns (in %) for the year 2018 for the complete population (size = 500) as well as for a random sample (sample size = 50). "
      ]
    },
    {
      "cell_type": "code",
      "execution_count": 1,
      "metadata": {
        "id": "VfF5zsg1IRD6"
      },
      "outputs": [],
      "source": [
        "# run the cell\n",
        "import numpy as np\n",
        "np.set_printoptions(precision=2, suppress= True)"
      ]
    },
    {
      "cell_type": "code",
      "execution_count": 2,
      "metadata": {
        "id": "jEvG2R9OIRD8"
      },
      "outputs": [],
      "source": [
        "# run the cell\n",
        "pop = np.loadtxt(\"SP500_2018.csv\", delimiter = \",\", usecols = 1)"
      ]
    },
    {
      "cell_type": "code",
      "execution_count": 3,
      "metadata": {
        "id": "JXcIppShIRD9"
      },
      "outputs": [],
      "source": [
        "# run the cell\n",
        "sample = np.loadtxt(\"sample_2018.csv\", delimiter = \",\", usecols = 1)"
      ]
    },
    {
      "cell_type": "code",
      "execution_count": 4,
      "metadata": {
        "id": "p2mneHm7IRD9"
      },
      "outputs": [],
      "source": []
    },
    {
      "cell_type": "markdown",
      "metadata": {
        "id": "S3xfts_SIRD-"
      },
      "source": [
        "2. Double check the __size__ of pop and sample. "
      ]
    },
    {
      "cell_type": "code",
      "execution_count": 7,
      "metadata": {
        "colab": {
          "base_uri": "https://localhost:8080/"
        },
        "id": "LfKMwp6nIRD-",
        "outputId": "123ddc6f-1fff-404a-ea74-8428d8849214"
      },
      "outputs": [
        {
          "output_type": "execute_result",
          "data": {
            "text/plain": [
              "500"
            ]
          },
          "metadata": {},
          "execution_count": 7
        }
      ],
      "source": [
        "pop.size"
      ]
    },
    {
      "cell_type": "code",
      "execution_count": 6,
      "metadata": {
        "colab": {
          "base_uri": "https://localhost:8080/"
        },
        "id": "8dK8V-WHIRD-",
        "outputId": "e50dc9d4-5381-4781-c2f5-e3b9623442a5"
      },
      "outputs": [
        {
          "output_type": "execute_result",
          "data": {
            "text/plain": [
              "50"
            ]
          },
          "metadata": {},
          "execution_count": 6
        }
      ],
      "source": [
        "sample.size"
      ]
    },
    {
      "cell_type": "code",
      "execution_count": null,
      "metadata": {
        "id": "vpSo21FOIRD-"
      },
      "outputs": [],
      "source": []
    },
    {
      "cell_type": "markdown",
      "metadata": {
        "id": "4LeWJuHvIRD-"
      },
      "source": [
        "3. Double check, whether all element of the sample are also in the population. "
      ]
    },
    {
      "cell_type": "code",
      "execution_count": 9,
      "metadata": {
        "colab": {
          "base_uri": "https://localhost:8080/"
        },
        "id": "B2T4HXA-IRD_",
        "outputId": "bebeeab1-89cc-4c04-ff61-59d23f98d718"
      },
      "outputs": [
        {
          "output_type": "execute_result",
          "data": {
            "text/plain": [
              "array([ True,  True,  True,  True,  True,  True,  True,  True,  True,\n",
              "        True,  True,  True,  True,  True,  True,  True,  True,  True,\n",
              "        True,  True,  True,  True,  True,  True,  True,  True,  True,\n",
              "        True,  True,  True,  True,  True,  True,  True,  True,  True,\n",
              "        True,  True,  True,  True,  True,  True,  True,  True,  True,\n",
              "        True,  True,  True,  True,  True])"
            ]
          },
          "metadata": {},
          "execution_count": 9
        }
      ],
      "source": [
        "np.isin(sample, pop)"
      ]
    },
    {
      "cell_type": "code",
      "execution_count": null,
      "metadata": {
        "id": "_nEL8fXxIRD_"
      },
      "outputs": [],
      "source": []
    },
    {
      "cell_type": "markdown",
      "metadata": {
        "id": "sHwgm4l_IRD_"
      },
      "source": [
        "Calculate the following statistics for the population and the sample:"
      ]
    },
    {
      "cell_type": "markdown",
      "metadata": {
        "id": "Pp_TzoAkIREB"
      },
      "source": [
        "4. __mean__"
      ]
    },
    {
      "cell_type": "code",
      "execution_count": 13,
      "metadata": {
        "colab": {
          "base_uri": "https://localhost:8080/"
        },
        "id": "ul8l-xIEIREB",
        "outputId": "b679b428-32e6-4f2c-c7d8-224b8fe975f2"
      },
      "outputs": [
        {
          "output_type": "execute_result",
          "data": {
            "text/plain": [
              "-8.98877724334972"
            ]
          },
          "metadata": {},
          "execution_count": 13
        }
      ],
      "source": [
        "np.mean(pop)"
      ]
    },
    {
      "cell_type": "code",
      "execution_count": 14,
      "metadata": {
        "colab": {
          "base_uri": "https://localhost:8080/"
        },
        "id": "Xnu7pJCaIREB",
        "outputId": "4c7daa15-d613-4480-c890-e3dcbe33f54e"
      },
      "outputs": [
        {
          "output_type": "execute_result",
          "data": {
            "text/plain": [
              "-3.8301530353346083"
            ]
          },
          "metadata": {},
          "execution_count": 14
        }
      ],
      "source": [
        "np.mean(sample)"
      ]
    },
    {
      "cell_type": "code",
      "execution_count": null,
      "metadata": {
        "id": "uJYIFNQ1IREB"
      },
      "outputs": [],
      "source": []
    },
    {
      "cell_type": "markdown",
      "metadata": {
        "id": "Klcu21JNIREB"
      },
      "source": [
        "5. __median__"
      ]
    },
    {
      "cell_type": "code",
      "execution_count": 19,
      "metadata": {
        "colab": {
          "base_uri": "https://localhost:8080/"
        },
        "id": "KnAl91spIREB",
        "outputId": "41bf3140-e9d5-4894-ba21-d3a13b58fbd7"
      },
      "outputs": [
        {
          "output_type": "execute_result",
          "data": {
            "text/plain": [
              "-9.031465461675243"
            ]
          },
          "metadata": {},
          "execution_count": 19
        }
      ],
      "source": [
        "np.median(pop)"
      ]
    },
    {
      "cell_type": "code",
      "execution_count": 20,
      "metadata": {
        "colab": {
          "base_uri": "https://localhost:8080/"
        },
        "id": "VVTefiqrIREC",
        "outputId": "5a06d1f7-a7c4-42a7-b59f-49bf0fdae1d6"
      },
      "outputs": [
        {
          "output_type": "execute_result",
          "data": {
            "text/plain": [
              "-4.661821993041453"
            ]
          },
          "metadata": {},
          "execution_count": 20
        }
      ],
      "source": [
        "np.median(sample)"
      ]
    },
    {
      "cell_type": "code",
      "execution_count": null,
      "metadata": {
        "id": "pGWHOgQDIREC"
      },
      "outputs": [],
      "source": []
    },
    {
      "cell_type": "markdown",
      "metadata": {
        "id": "va_NEeyBIREC"
      },
      "source": [
        "6. __min__ "
      ]
    },
    {
      "cell_type": "code",
      "execution_count": 23,
      "metadata": {
        "colab": {
          "base_uri": "https://localhost:8080/"
        },
        "id": "R2SQ8y8GIREC",
        "outputId": "b06608ce-7ae8-4e34-c28e-100c9c76b715"
      },
      "outputs": [
        {
          "output_type": "execute_result",
          "data": {
            "text/plain": [
              "-67.37053795877326"
            ]
          },
          "metadata": {},
          "execution_count": 23
        }
      ],
      "source": [
        "np.min(pop)"
      ]
    },
    {
      "cell_type": "code",
      "execution_count": 24,
      "metadata": {
        "colab": {
          "base_uri": "https://localhost:8080/"
        },
        "id": "JPSZyXQcIRED",
        "outputId": "4ec19bb2-0b99-45e1-d07c-1a110941c46f"
      },
      "outputs": [
        {
          "output_type": "execute_result",
          "data": {
            "text/plain": [
              "-57.52084088437839"
            ]
          },
          "metadata": {},
          "execution_count": 24
        }
      ],
      "source": [
        "np.min(sample)"
      ]
    },
    {
      "cell_type": "code",
      "execution_count": null,
      "metadata": {
        "id": "AihkDhKsIRED"
      },
      "outputs": [],
      "source": []
    },
    {
      "cell_type": "markdown",
      "metadata": {
        "id": "javujWvdIRED"
      },
      "source": [
        "7. __variance__"
      ]
    },
    {
      "cell_type": "code",
      "execution_count": 27,
      "metadata": {
        "colab": {
          "base_uri": "https://localhost:8080/"
        },
        "id": "o6GEiN2JIREE",
        "outputId": "982453a6-e0d6-4939-8b71-b8f1b5bdefa0"
      },
      "outputs": [
        {
          "output_type": "execute_result",
          "data": {
            "text/plain": [
              "446.0766463478168"
            ]
          },
          "metadata": {},
          "execution_count": 27
        }
      ],
      "source": [
        "np.var(pop)"
      ]
    },
    {
      "cell_type": "code",
      "execution_count": 31,
      "metadata": {
        "colab": {
          "base_uri": "https://localhost:8080/"
        },
        "id": "aJU-5wKMIREE",
        "outputId": "e454d0c3-5858-4c88-a241-20b715d63705"
      },
      "outputs": [
        {
          "output_type": "execute_result",
          "data": {
            "text/plain": [
              "603.5845711430514"
            ]
          },
          "metadata": {},
          "execution_count": 31
        }
      ],
      "source": [
        "np.var(sample, ddof = 1)\n",
        "# ddof = Delta Degrees of Freedom: the divisor used in the calculation is N - ddof, where N represents the number of elements. By default, ddof is zero.\n",
        "# The mean is normally calculated as x.sum() / N, where N = len(x). If, however, ddof is specified, the divisor N - ddof is used instead.\n",
        "# In standard statistical practice, ddof=1 provides an unbiased estimator of the variance of a hypothetical infinite population. ddof=0 provides a maximum likelihood estimate of the variance for normally distributed variables.\n",
        "# Statistical libraries like numpy use the variance n for what they call var or variance and the standard deviation\n",
        "# For more information refer this documentation : numpy doc"
      ]
    },
    {
      "cell_type": "code",
      "execution_count": null,
      "metadata": {
        "id": "7wnkQRJHIREE"
      },
      "outputs": [],
      "source": []
    },
    {
      "cell_type": "markdown",
      "metadata": {
        "id": "1fRnJ_0cIREE"
      },
      "source": [
        "8. __standard deviation__"
      ]
    },
    {
      "cell_type": "code",
      "execution_count": 32,
      "metadata": {
        "colab": {
          "base_uri": "https://localhost:8080/"
        },
        "id": "gk_mviIFIREF",
        "outputId": "6466b252-a92f-4868-94fc-86613387d930"
      },
      "outputs": [
        {
          "output_type": "execute_result",
          "data": {
            "text/plain": [
              "21.120526658864755"
            ]
          },
          "metadata": {},
          "execution_count": 32
        }
      ],
      "source": [
        "np.std(pop)"
      ]
    },
    {
      "cell_type": "code",
      "execution_count": 36,
      "metadata": {
        "colab": {
          "base_uri": "https://localhost:8080/"
        },
        "id": "o6KqiawUIREF",
        "outputId": "6e8c753f-5b61-49d3-b2da-427dd57baadb"
      },
      "outputs": [
        {
          "output_type": "execute_result",
          "data": {
            "text/plain": [
              "24.56795822088298"
            ]
          },
          "metadata": {},
          "execution_count": 36
        }
      ],
      "source": [
        "np.std(sample, ddof = 1)"
      ]
    },
    {
      "cell_type": "code",
      "execution_count": null,
      "metadata": {
        "id": "XKI3i6f0IREF"
      },
      "outputs": [],
      "source": []
    },
    {
      "cell_type": "markdown",
      "metadata": {
        "id": "DepkqFF8IREF"
      },
      "source": [
        "9. __25th__ and __75th percentile__"
      ]
    },
    {
      "cell_type": "code",
      "execution_count": 39,
      "metadata": {
        "colab": {
          "base_uri": "https://localhost:8080/"
        },
        "id": "eTSTtxgCIREG",
        "outputId": "c427145a-23f2-42b1-ba6f-ced5621356fd"
      },
      "outputs": [
        {
          "output_type": "execute_result",
          "data": {
            "text/plain": [
              "array([-23.56,   2.52])"
            ]
          },
          "metadata": {},
          "execution_count": 39
        }
      ],
      "source": [
        "np.percentile(pop, [25, 75])\n",
        "# 50% of company's return is in between -23.56 and 2.52 (above -23.56 but less than 2.52)\n",
        "# 25% of company's return is less than -23.56 and 25% of company's return is more than 2.52 (75% of company's return is less than 2.52)"
      ]
    },
    {
      "cell_type": "code",
      "execution_count": 40,
      "metadata": {
        "colab": {
          "base_uri": "https://localhost:8080/"
        },
        "id": "Y4lwkB_CIREH",
        "outputId": "a8df7100-b38a-43fd-ab35-37adccd7c082"
      },
      "outputs": [
        {
          "output_type": "execute_result",
          "data": {
            "text/plain": [
              "array([-20.49,   9.08])"
            ]
          },
          "metadata": {},
          "execution_count": 40
        }
      ],
      "source": [
        "np.percentile(sample, [25, 75])"
      ]
    },
    {
      "cell_type": "code",
      "execution_count": null,
      "metadata": {
        "id": "t2_Do7AeIREH"
      },
      "outputs": [],
      "source": []
    },
    {
      "cell_type": "markdown",
      "metadata": {
        "id": "KXR0b4dvIREH"
      },
      "source": [
        "10. __skew__"
      ]
    },
    {
      "cell_type": "code",
      "execution_count": 45,
      "metadata": {
        "id": "BbWuIkscIREI"
      },
      "outputs": [],
      "source": [
        "import scipy.stats as stats"
      ]
    },
    {
      "cell_type": "code",
      "execution_count": 46,
      "metadata": {
        "colab": {
          "base_uri": "https://localhost:8080/"
        },
        "id": "lEKuPN_0IREI",
        "outputId": "caf8e7d8-8e44-4a11-a0b0-84861e024b55"
      },
      "outputs": [
        {
          "output_type": "execute_result",
          "data": {
            "text/plain": [
              "0.41505283064889537"
            ]
          },
          "metadata": {},
          "execution_count": 46
        }
      ],
      "source": [
        "stats.skew(pop)"
      ]
    },
    {
      "cell_type": "code",
      "execution_count": 47,
      "metadata": {
        "colab": {
          "base_uri": "https://localhost:8080/"
        },
        "id": "VSb-mWDwIREI",
        "outputId": "e0e0e5e7-d25c-40a1-fa6c-f8372c202b69"
      },
      "outputs": [
        {
          "output_type": "execute_result",
          "data": {
            "text/plain": [
              "0.4033836769438737"
            ]
          },
          "metadata": {},
          "execution_count": 47
        }
      ],
      "source": [
        "stats.skew(sample)"
      ]
    },
    {
      "cell_type": "markdown",
      "metadata": {
        "id": "Uki3cPDvIREJ"
      },
      "source": [
        "11. __kurtosis__"
      ]
    },
    {
      "cell_type": "code",
      "execution_count": 50,
      "metadata": {
        "colab": {
          "base_uri": "https://localhost:8080/"
        },
        "id": "SzJMmjvlIREJ",
        "outputId": "ebb5a671-0311-4c91-8bb4-11bf11c6869e"
      },
      "outputs": [
        {
          "output_type": "execute_result",
          "data": {
            "text/plain": [
              "0.6618700837691662"
            ]
          },
          "metadata": {},
          "execution_count": 50
        }
      ],
      "source": [
        "stats.kurtosis(pop)"
      ]
    },
    {
      "cell_type": "code",
      "execution_count": 51,
      "metadata": {
        "colab": {
          "base_uri": "https://localhost:8080/"
        },
        "id": "6GmWRouaIREJ",
        "outputId": "51f4cd73-2622-452c-f34c-3a99ac24c04a"
      },
      "outputs": [
        {
          "output_type": "execute_result",
          "data": {
            "text/plain": [
              "0.9397205267334039"
            ]
          },
          "metadata": {},
          "execution_count": 51
        }
      ],
      "source": [
        "stats.kurtosis(sample)"
      ]
    },
    {
      "cell_type": "code",
      "execution_count": null,
      "metadata": {
        "id": "4QStZuLkIREJ"
      },
      "outputs": [],
      "source": []
    },
    {
      "cell_type": "markdown",
      "metadata": {
        "id": "bcZnpfOFIREK"
      },
      "source": [
        "12. Create a __histogram__ with __absolute frequencies__ for the __population__ (75 bins)."
      ]
    },
    {
      "cell_type": "code",
      "execution_count": 52,
      "metadata": {
        "id": "5WCUOd8OIREK"
      },
      "outputs": [],
      "source": [
        "import matplotlib.pyplot as plt"
      ]
    },
    {
      "cell_type": "code",
      "execution_count": 54,
      "metadata": {
        "scrolled": true,
        "colab": {
          "base_uri": "https://localhost:8080/",
          "height": 620
        },
        "id": "4LAWK4_QIREK",
        "outputId": "72056e7b-08a9-4564-ab98-47e03cb36036"
      },
      "outputs": [
        {
          "output_type": "display_data",
          "data": {
            "text/plain": [
              "<Figure size 1200x800 with 1 Axes>"
            ],
            "image/png": "[encoded data removed]"
          },
          "metadata": {}
        }
      ],
      "source": [
        "plt.figure(figsize = (12, 8))\n",
        "plt.hist(pop, bins = 75)\n",
        "plt.title(\"Absolute Frequencies of Population\", fontsize = 20)\n",
        "plt.xlabel(\"Stock Returns in 2018 (in %)\", fontsize = 15)\n",
        "plt.ylabel(\"Absolute Frequency\", fontsize = 15)\n",
        "plt.xticks(np.arange(-100, 100, 10))\n",
        "plt.show()"
      ]
    },
    {
      "cell_type": "markdown",
      "metadata": {
        "id": "SlN17BbGIREL"
      },
      "source": [
        "# Well Done!"
      ]
    },
    {
      "cell_type": "markdown",
      "metadata": {
        "id": "_sh5FNp-IREL"
      },
      "source": [
        "---------------------------------------------------------------------------------------------------------------------"
      ]
    },
    {
      "cell_type": "markdown",
      "metadata": {
        "id": "npehb9kWIREM"
      },
      "source": [
        "# Solutions (Stop here if you want to code on your own!)"
      ]
    },
    {
      "cell_type": "markdown",
      "metadata": {
        "id": "S9W7-8e9IREM"
      },
      "source": [
        "# ++++++++++++++++++++++++++++++++++++++++++++++++++++++++++++++"
      ]
    },
    {
      "cell_type": "code",
      "execution_count": null,
      "metadata": {
        "id": "RLC-4gLNIREM"
      },
      "outputs": [],
      "source": []
    },
    {
      "cell_type": "markdown",
      "metadata": {
        "id": "2qsefsJUIREM"
      },
      "source": [
        "1. Import numpy and the S&P500 price returns (in %) for the year 2018 for the complete population (size = 500) as well as for a random sample (sample size = 50). "
      ]
    },
    {
      "cell_type": "code",
      "execution_count": null,
      "metadata": {
        "id": "d8CzSQ-TIREN"
      },
      "outputs": [],
      "source": [
        "# run the cell\n",
        "import numpy as np\n",
        "np.set_printoptions(precision=2, suppress= True)"
      ]
    },
    {
      "cell_type": "code",
      "execution_count": null,
      "metadata": {
        "id": "q3y-tyOrIREN"
      },
      "outputs": [],
      "source": [
        "# run the cell\n",
        "pop = np.loadtxt(\"SP500_2018.csv\", delimiter = \",\", usecols = 1)"
      ]
    },
    {
      "cell_type": "code",
      "execution_count": null,
      "metadata": {
        "id": "fCrfX-E_IREN"
      },
      "outputs": [],
      "source": [
        "# run the cell\n",
        "sample = np.loadtxt(\"sample_2018.csv\", delimiter = \",\", usecols = 1)"
      ]
    },
    {
      "cell_type": "code",
      "execution_count": null,
      "metadata": {
        "id": "UN7WFhbhIREO"
      },
      "outputs": [],
      "source": []
    },
    {
      "cell_type": "markdown",
      "metadata": {
        "id": "Dl_QL7PoIREO"
      },
      "source": [
        "2. Double check the __size__ of pop and sample. "
      ]
    },
    {
      "cell_type": "code",
      "execution_count": 17,
      "metadata": {
        "colab": {
          "base_uri": "https://localhost:8080/"
        },
        "id": "QdzFBr9zIREO",
        "outputId": "6c875b1a-11c5-4602-955f-dc7c21614fe1"
      },
      "outputs": [
        {
          "output_type": "execute_result",
          "data": {
            "text/plain": [
              "500"
            ]
          },
          "metadata": {},
          "execution_count": 17
        }
      ],
      "source": [
        "pop.size"
      ]
    },
    {
      "cell_type": "code",
      "execution_count": null,
      "metadata": {
        "id": "EnHlB5atIREZ"
      },
      "outputs": [],
      "source": [
        "sample.mean()"
      ]
    },
    {
      "cell_type": "code",
      "execution_count": null,
      "metadata": {
        "id": "xwgH3QZkIREa"
      },
      "outputs": [],
      "source": []
    },
    {
      "cell_type": "markdown",
      "metadata": {
        "id": "gR8aIJlzIREa"
      },
      "source": [
        "3. Double check, whether all element of the sample are also in the population. "
      ]
    },
    {
      "cell_type": "code",
      "execution_count": 18,
      "metadata": {
        "colab": {
          "base_uri": "https://localhost:8080/"
        },
        "id": "eZ0D4oMdIREa",
        "outputId": "1c74c928-0888-4050-8c1f-ff95ce485cb6"
      },
      "outputs": [
        {
          "output_type": "execute_result",
          "data": {
            "text/plain": [
              "array([ True,  True,  True,  True,  True,  True,  True,  True,  True,\n",
              "        True,  True,  True,  True,  True,  True,  True,  True,  True,\n",
              "        True,  True,  True,  True,  True,  True,  True,  True,  True,\n",
              "        True,  True,  True,  True,  True,  True,  True,  True,  True,\n",
              "        True,  True,  True,  True,  True,  True,  True,  True,  True,\n",
              "        True,  True,  True,  True,  True])"
            ]
          },
          "metadata": {},
          "execution_count": 18
        }
      ],
      "source": [
        "np.isin(sample, pop)"
      ]
    },
    {
      "cell_type": "code",
      "execution_count": null,
      "metadata": {
        "id": "zsd6APO6IREb"
      },
      "outputs": [],
      "source": []
    },
    {
      "cell_type": "markdown",
      "metadata": {
        "id": "u-9PR7KCIREb"
      },
      "source": [
        "Calculate the following statistics for the population and the sample:"
      ]
    },
    {
      "cell_type": "markdown",
      "metadata": {
        "id": "SyC3NAx2IREc"
      },
      "source": [
        "4. __mean__"
      ]
    },
    {
      "cell_type": "code",
      "execution_count": 15,
      "metadata": {
        "colab": {
          "base_uri": "https://localhost:8080/"
        },
        "id": "lykMbautIREc",
        "outputId": "562409df-8d5b-48bb-d6dd-4aa45aa6c162"
      },
      "outputs": [
        {
          "output_type": "execute_result",
          "data": {
            "text/plain": [
              "-8.98877724334972"
            ]
          },
          "metadata": {},
          "execution_count": 15
        }
      ],
      "source": [
        "pop.mean()"
      ]
    },
    {
      "cell_type": "code",
      "execution_count": 16,
      "metadata": {
        "colab": {
          "base_uri": "https://localhost:8080/"
        },
        "id": "Luuok3WkIREc",
        "outputId": "013167dd-5c77-4f92-c2f1-d46c7ac2ddd5"
      },
      "outputs": [
        {
          "output_type": "execute_result",
          "data": {
            "text/plain": [
              "-3.8301530353346083"
            ]
          },
          "metadata": {},
          "execution_count": 16
        }
      ],
      "source": [
        "sample.mean()"
      ]
    },
    {
      "cell_type": "code",
      "execution_count": null,
      "metadata": {
        "id": "ecv6EhKNIREd"
      },
      "outputs": [],
      "source": []
    },
    {
      "cell_type": "markdown",
      "metadata": {
        "id": "0qVeWNCCIREd"
      },
      "source": [
        "5. __median__"
      ]
    },
    {
      "cell_type": "code",
      "execution_count": 21,
      "metadata": {
        "colab": {
          "base_uri": "https://localhost:8080/"
        },
        "id": "8oYjPFFBIREd",
        "outputId": "e9cfc933-3d34-4c01-c09d-f9bdda0bd057"
      },
      "outputs": [
        {
          "output_type": "execute_result",
          "data": {
            "text/plain": [
              "-9.031465461675243"
            ]
          },
          "metadata": {},
          "execution_count": 21
        }
      ],
      "source": [
        "np.median(pop)"
      ]
    },
    {
      "cell_type": "code",
      "execution_count": 22,
      "metadata": {
        "colab": {
          "base_uri": "https://localhost:8080/"
        },
        "id": "HVF1FxtXIREd",
        "outputId": "811a0cfb-0dd8-4db7-dd15-2caf076fa30a"
      },
      "outputs": [
        {
          "output_type": "execute_result",
          "data": {
            "text/plain": [
              "-4.661821993041453"
            ]
          },
          "metadata": {},
          "execution_count": 22
        }
      ],
      "source": [
        "np.median(sample)"
      ]
    },
    {
      "cell_type": "code",
      "execution_count": null,
      "metadata": {
        "id": "T2jYdLPMIREe"
      },
      "outputs": [],
      "source": []
    },
    {
      "cell_type": "markdown",
      "metadata": {
        "id": "fv_yK32XIREe"
      },
      "source": [
        "6. __min__ "
      ]
    },
    {
      "cell_type": "code",
      "execution_count": 25,
      "metadata": {
        "colab": {
          "base_uri": "https://localhost:8080/"
        },
        "id": "8EW1xo-dIREe",
        "outputId": "82038e14-94fc-4e47-e001-49bddfb79a42"
      },
      "outputs": [
        {
          "output_type": "execute_result",
          "data": {
            "text/plain": [
              "-67.37053795877326"
            ]
          },
          "metadata": {},
          "execution_count": 25
        }
      ],
      "source": [
        "pop.min()"
      ]
    },
    {
      "cell_type": "code",
      "execution_count": 26,
      "metadata": {
        "colab": {
          "base_uri": "https://localhost:8080/"
        },
        "id": "eEa-BxmUIREf",
        "outputId": "2e3a067d-9743-4b48-8559-03684f204e06"
      },
      "outputs": [
        {
          "output_type": "execute_result",
          "data": {
            "text/plain": [
              "-57.52084088437839"
            ]
          },
          "metadata": {},
          "execution_count": 26
        }
      ],
      "source": [
        "sample.min()"
      ]
    },
    {
      "cell_type": "code",
      "execution_count": null,
      "metadata": {
        "id": "rW5KXt9MIREf"
      },
      "outputs": [],
      "source": []
    },
    {
      "cell_type": "markdown",
      "metadata": {
        "id": "n-mS2rfmIREf"
      },
      "source": [
        "7. __variance__"
      ]
    },
    {
      "cell_type": "code",
      "execution_count": 29,
      "metadata": {
        "colab": {
          "base_uri": "https://localhost:8080/"
        },
        "id": "YUHZG86sIREf",
        "outputId": "bb1ba692-df6f-4dc9-b865-b2414d9a2f0c"
      },
      "outputs": [
        {
          "output_type": "execute_result",
          "data": {
            "text/plain": [
              "446.0766463478168"
            ]
          },
          "metadata": {},
          "execution_count": 29
        }
      ],
      "source": [
        "pop.var()"
      ]
    },
    {
      "cell_type": "code",
      "execution_count": 30,
      "metadata": {
        "colab": {
          "base_uri": "https://localhost:8080/"
        },
        "id": "HPX5BSTgIREf",
        "outputId": "816f4c08-16be-487c-b7b7-025be6221ea1"
      },
      "outputs": [
        {
          "output_type": "execute_result",
          "data": {
            "text/plain": [
              "603.5845711430514"
            ]
          },
          "metadata": {},
          "execution_count": 30
        }
      ],
      "source": [
        "sample.var(ddof = 1)"
      ]
    },
    {
      "cell_type": "code",
      "execution_count": null,
      "metadata": {
        "id": "a77bJ2cMIREf"
      },
      "outputs": [],
      "source": []
    },
    {
      "cell_type": "markdown",
      "metadata": {
        "id": "QVMeERKQIREf"
      },
      "source": [
        "8. __standard deviation__"
      ]
    },
    {
      "cell_type": "code",
      "execution_count": 34,
      "metadata": {
        "colab": {
          "base_uri": "https://localhost:8080/"
        },
        "id": "qaVne9HcIREg",
        "outputId": "1ae51b9d-60c2-4c4c-df8f-30a2a1e00fba"
      },
      "outputs": [
        {
          "output_type": "execute_result",
          "data": {
            "text/plain": [
              "21.120526658864755"
            ]
          },
          "metadata": {},
          "execution_count": 34
        }
      ],
      "source": [
        "pop.std()"
      ]
    },
    {
      "cell_type": "code",
      "execution_count": 35,
      "metadata": {
        "colab": {
          "base_uri": "https://localhost:8080/"
        },
        "id": "k8ZqEX8aIREg",
        "outputId": "ce5f0d5e-2963-47ad-d3f8-641e324518ad"
      },
      "outputs": [
        {
          "output_type": "execute_result",
          "data": {
            "text/plain": [
              "24.56795822088298"
            ]
          },
          "metadata": {},
          "execution_count": 35
        }
      ],
      "source": [
        "sample.std(ddof = 1)"
      ]
    },
    {
      "cell_type": "code",
      "execution_count": null,
      "metadata": {
        "id": "-i00ZianIREg"
      },
      "outputs": [],
      "source": []
    },
    {
      "cell_type": "markdown",
      "metadata": {
        "id": "xwwvqiT1IREh"
      },
      "source": [
        "9. __25th__ and __75th percentile__"
      ]
    },
    {
      "cell_type": "code",
      "execution_count": 37,
      "metadata": {
        "colab": {
          "base_uri": "https://localhost:8080/"
        },
        "id": "mvT5z66vIREh",
        "outputId": "4f74f5f7-dfea-4e02-e1d9-c762529f33e1"
      },
      "outputs": [
        {
          "output_type": "execute_result",
          "data": {
            "text/plain": [
              "array([-23.56,   2.52])"
            ]
          },
          "metadata": {},
          "execution_count": 37
        }
      ],
      "source": [
        "np.percentile(pop, [25, 75])"
      ]
    },
    {
      "cell_type": "code",
      "execution_count": 38,
      "metadata": {
        "colab": {
          "base_uri": "https://localhost:8080/"
        },
        "id": "iK4zlR3LIREi",
        "outputId": "2f79f581-f39e-4f46-df4c-4f477d2f617c"
      },
      "outputs": [
        {
          "output_type": "execute_result",
          "data": {
            "text/plain": [
              "array([-20.49,   9.08])"
            ]
          },
          "metadata": {},
          "execution_count": 38
        }
      ],
      "source": [
        "np.percentile(sample, [25, 75])"
      ]
    },
    {
      "cell_type": "code",
      "execution_count": null,
      "metadata": {
        "id": "jv6v9SfXIREj"
      },
      "outputs": [],
      "source": []
    },
    {
      "cell_type": "markdown",
      "metadata": {
        "id": "RugjiW_OIREj"
      },
      "source": [
        "10. __skew__"
      ]
    },
    {
      "cell_type": "code",
      "execution_count": 42,
      "metadata": {
        "id": "PnjwLrArIREk"
      },
      "outputs": [],
      "source": [
        "import scipy.stats as stats"
      ]
    },
    {
      "cell_type": "code",
      "execution_count": 43,
      "metadata": {
        "colab": {
          "base_uri": "https://localhost:8080/"
        },
        "id": "9N6HQBUGIREk",
        "outputId": "8da10fd7-723b-4ac8-bc58-3e7a0c8c5fe8"
      },
      "outputs": [
        {
          "output_type": "execute_result",
          "data": {
            "text/plain": [
              "0.41505283064889537"
            ]
          },
          "metadata": {},
          "execution_count": 43
        }
      ],
      "source": [
        "stats.skew(pop)"
      ]
    },
    {
      "cell_type": "code",
      "execution_count": 44,
      "metadata": {
        "colab": {
          "base_uri": "https://localhost:8080/"
        },
        "id": "7qjsRs7xIREk",
        "outputId": "f8f758a2-3caf-4fee-e44c-eb10b73b45cc"
      },
      "outputs": [
        {
          "output_type": "execute_result",
          "data": {
            "text/plain": [
              "0.4033836769438737"
            ]
          },
          "metadata": {},
          "execution_count": 44
        }
      ],
      "source": [
        "stats.skew(sample)"
      ]
    },
    {
      "cell_type": "code",
      "execution_count": null,
      "metadata": {
        "id": "OKRytHlpIREk"
      },
      "outputs": [],
      "source": []
    },
    {
      "cell_type": "markdown",
      "metadata": {
        "id": "cvg4Lp82IREl"
      },
      "source": [
        "11. __kurtosis__"
      ]
    },
    {
      "cell_type": "code",
      "execution_count": 48,
      "metadata": {
        "colab": {
          "base_uri": "https://localhost:8080/"
        },
        "id": "pyuKiyKmIREl",
        "outputId": "501fdc25-04f3-4ed3-a55f-61a0af7a8cae"
      },
      "outputs": [
        {
          "output_type": "execute_result",
          "data": {
            "text/plain": [
              "0.6618700837691662"
            ]
          },
          "metadata": {},
          "execution_count": 48
        }
      ],
      "source": [
        "stats.kurtosis(pop)"
      ]
    },
    {
      "cell_type": "code",
      "execution_count": 49,
      "metadata": {
        "colab": {
          "base_uri": "https://localhost:8080/"
        },
        "id": "udM8lFwpIREl",
        "outputId": "a177f7e7-ec84-42e2-fbcf-92052ae2a486"
      },
      "outputs": [
        {
          "output_type": "execute_result",
          "data": {
            "text/plain": [
              "0.9397205267334039"
            ]
          },
          "metadata": {},
          "execution_count": 49
        }
      ],
      "source": [
        "stats.kurtosis(sample)"
      ]
    },
    {
      "cell_type": "code",
      "execution_count": null,
      "metadata": {
        "id": "9seZ_dp-IREl"
      },
      "outputs": [],
      "source": []
    },
    {
      "cell_type": "markdown",
      "metadata": {
        "id": "zcCfO3CNIREm"
      },
      "source": [
        "12. Create a __histogram__ with __absolute frequencies__ for the __population__ (75 bins)."
      ]
    },
    {
      "cell_type": "code",
      "execution_count": null,
      "metadata": {
        "id": "zvhCSQWhIREm"
      },
      "outputs": [],
      "source": [
        "import matplotlib.pyplot as plt"
      ]
    },
    {
      "cell_type": "code",
      "execution_count": null,
      "metadata": {
        "scrolled": true,
        "id": "F6bZxaXnIREn"
      },
      "outputs": [],
      "source": [
        "plt.figure(figsize = (12, 8))\n",
        "plt.hist(pop, bins = 75)\n",
        "plt.title(\"Absolute Frequencies - Population\", fontsize = 20)\n",
        "plt.xlabel(\"Stock Returns 2018 (in %)\", fontsize = 15)\n",
        "plt.ylabel(\"Absolute Frequency\", fontsize = 15)\n",
        "plt.xticks(np.arange(-100, 100, 10))\n",
        "plt.show()"
      ]
    },
    {
      "cell_type": "code",
      "execution_count": null,
      "metadata": {
        "id": "lIVYX5PqIREn"
      },
      "outputs": [],
      "source": []
    }
  ],
  "metadata": {
    "kernelspec": {
      "display_name": "Python 3 (ipykernel)",
      "language": "python",
      "name": "python3"
    },
    "language_info": {
      "codemirror_mode": {
        "name": "ipython",
        "version": 3
      },
      "file_extension": ".py",
      "mimetype": "text/x-python",
      "name": "python",
      "nbconvert_exporter": "python",
      "pygments_lexer": "ipython3",
      "version": "3.9.16"
    },
    "colab": {
      "provenance": [],
      "include_colab_link": true
    }
  },
  "nbformat": 4,
  "nbformat_minor": 0
}