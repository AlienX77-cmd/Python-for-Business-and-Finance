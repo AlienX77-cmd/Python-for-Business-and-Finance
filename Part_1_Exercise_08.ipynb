{
  "cells": [
    {
      "cell_type": "markdown",
      "metadata": {
        "id": "view-in-github",
        "colab_type": "text"
      },
      "source": [
        "<a href=\"https://colab.research.google.com/github/AlienX77-cmd/Python-for-Business-and-Finance/blob/main/Exercise_08.ipynb\" target=\"_parent\"><img src=\"https://colab.research.google.com/assets/colab-badge.svg\" alt=\"Open In Colab\"/></a>"
      ]
    },
    {
      "cell_type": "markdown",
      "metadata": {
        "id": "um6S1OlLwvQV"
      },
      "source": [
        "# Coding Exercises (Part 1)"
      ]
    },
    {
      "cell_type": "markdown",
      "metadata": {
        "id": "kF3G_oG9wvQa"
      },
      "source": [
        "Now, you will have the opportunity to practice what you have learned. <br>\n",
        "__Follow the instructions__ and insert your code! "
      ]
    },
    {
      "cell_type": "markdown",
      "metadata": {
        "id": "tW5H9M67wvQc"
      },
      "source": [
        "The correct answer is provided below your coding cell. There you can check whether your code is correct."
      ]
    },
    {
      "cell_type": "markdown",
      "metadata": {
        "id": "r6SG0Y3cwvQe"
      },
      "source": [
        "If you need some help or if you want to check your code, you can also have a look at the __solutions__."
      ]
    },
    {
      "cell_type": "markdown",
      "metadata": {
        "id": "9tEmfHqbwvQf"
      },
      "source": [
        "### Have Fun!"
      ]
    },
    {
      "cell_type": "markdown",
      "metadata": {
        "id": "RebJkvyrwvQg"
      },
      "source": [
        "--------------------------------------------------------------------------------------------------------------"
      ]
    },
    {
      "cell_type": "markdown",
      "metadata": {
        "id": "JrGoV_0MwvQh"
      },
      "source": [
        "## Exercise 8:  Complex TVM and Capital Budgeting problems with Python and Numpy"
      ]
    },
    {
      "cell_type": "code",
      "source": [
        "# install numpy finance to google colab\n",
        "pip install numpy-financial"
      ],
      "metadata": {
        "colab": {
          "base_uri": "https://localhost:8080/"
        },
        "id": "J2ObgzYxw-Ui",
        "outputId": "7d2785a9-e347-4293-e8d9-0cbbb2815b2f"
      },
      "execution_count": 2,
      "outputs": [
        {
          "output_type": "stream",
          "name": "stdout",
          "text": [
            "Looking in indexes: https://pypi.org/simple, https://us-python.pkg.dev/colab-wheels/public/simple/\n",
            "Collecting numpy-financial\n",
            "  Downloading numpy_financial-1.0.0-py3-none-any.whl (14 kB)\n",
            "Requirement already satisfied: numpy>=1.15 in /usr/local/lib/python3.10/dist-packages (from numpy-financial) (1.22.4)\n",
            "Installing collected packages: numpy-financial\n",
            "Successfully installed numpy-financial-1.0.0\n"
          ]
        }
      ]
    },
    {
      "cell_type": "code",
      "execution_count": 3,
      "metadata": {
        "id": "qStbJMtGwvQj"
      },
      "outputs": [],
      "source": [
        "# run the cell\n",
        "import numpy as np\n",
        "import numpy_financial as npf # NEW!!!"
      ]
    },
    {
      "cell_type": "markdown",
      "metadata": {
        "id": "fbrNIc3YwvQl"
      },
      "source": [
        "The ABC Company evaluates to buy an additional machine that will increase future profits/cashflows by\n",
        "- 50 USD in t1, \n",
        "- 80 USD in t2,\n",
        "- 120 USD in t3, \n",
        "- 150 USD in t4,\n",
        "- 200 USD in t5. (each cf at period´s end)<br>"
      ]
    },
    {
      "cell_type": "markdown",
      "metadata": {
        "id": "JbeA0NfLwvQn"
      },
      "source": [
        "The machine costs 500 USD (Investment in to). ABC´s required rate of return (Cost of Capital) is 7.5% p.a. "
      ]
    },
    {
      "cell_type": "code",
      "execution_count": 4,
      "metadata": {
        "colab": {
          "base_uri": "https://localhost:8080/"
        },
        "id": "hXqHQW44wvQo",
        "outputId": "0b6a8ef1-19c4-44b1-81e4-abc467eccfbc"
      },
      "outputs": [
        {
          "output_type": "execute_result",
          "data": {
            "text/plain": [
              "array([-500,   50,   80,  120,  150,  200])"
            ]
          },
          "metadata": {},
          "execution_count": 4
        }
      ],
      "source": [
        "# run the cell\n",
        "cf = np.array([-500, 50, 80, 120, 150, 200])\n",
        "cf"
      ]
    },
    {
      "cell_type": "code",
      "execution_count": 5,
      "metadata": {
        "id": "QBjXPnyJwvQq"
      },
      "outputs": [],
      "source": [
        "# run the cell!\n",
        "r = 0.075"
      ]
    },
    {
      "cell_type": "markdown",
      "metadata": {
        "id": "ayuISVVfwvQr"
      },
      "source": [
        "1. Calculate the Net __Present Value (NPV)__ of the Project with __numpy financial functions__."
      ]
    },
    {
      "cell_type": "code",
      "execution_count": 7,
      "metadata": {
        "colab": {
          "base_uri": "https://localhost:8080/"
        },
        "id": "Do189AU5wvQr",
        "outputId": "84e47cff-2cc1-43db-a834-f647d15e8f34"
      },
      "outputs": [
        {
          "output_type": "execute_result",
          "data": {
            "text/plain": [
              "-36.03468883756554"
            ]
          },
          "metadata": {},
          "execution_count": 7
        }
      ],
      "source": [
        "NPV = npf.npv(r, cf)\n",
        "NPV"
      ]
    },
    {
      "cell_type": "markdown",
      "metadata": {
        "id": "br9fL8TbwvQs"
      },
      "source": [
        "(result: -36.03468883756554)"
      ]
    },
    {
      "cell_type": "code",
      "execution_count": null,
      "metadata": {
        "id": "Wv2_0OEAwvQs"
      },
      "outputs": [],
      "source": []
    },
    {
      "cell_type": "markdown",
      "metadata": {
        "id": "h_Ii-d1jwvQt"
      },
      "source": [
        "2. Calculate the __IRR__ of the Project with __numpy financial functions__."
      ]
    },
    {
      "cell_type": "code",
      "execution_count": 10,
      "metadata": {
        "colab": {
          "base_uri": "https://localhost:8080/"
        },
        "id": "4SgMPXGZwvQt",
        "outputId": "fed69ffd-0aa3-45aa-b387-056f45e51bc5"
      },
      "outputs": [
        {
          "output_type": "execute_result",
          "data": {
            "text/plain": [
              "0.05234347404159134"
            ]
          },
          "metadata": {},
          "execution_count": 10
        }
      ],
      "source": [
        "IRR = npf.irr(cf)\n",
        "IRR"
      ]
    },
    {
      "cell_type": "markdown",
      "metadata": {
        "id": "4NwaMmvNwvQu"
      },
      "source": [
        "(result: 0.05234347404159134)"
      ]
    },
    {
      "cell_type": "markdown",
      "metadata": {
        "id": "lw1H4hYVwvQu"
      },
      "source": [
        "3. Should ABC __accept or reject__ the project?"
      ]
    },
    {
      "cell_type": "code",
      "execution_count": 11,
      "metadata": {
        "colab": {
          "base_uri": "https://localhost:8080/"
        },
        "id": "3D9Z3cs2wvQv",
        "outputId": "09b53c3f-9efb-4063-9de4-7aa2a15768db"
      },
      "outputs": [
        {
          "output_type": "stream",
          "name": "stdout",
          "text": [
            "Reject because NPV < 0\n"
          ]
        }
      ],
      "source": [
        "print(\"Reject because NPV < 0\")"
      ]
    },
    {
      "cell_type": "code",
      "execution_count": null,
      "metadata": {
        "id": "Mx3IzqN4wvQw"
      },
      "outputs": [],
      "source": []
    },
    {
      "cell_type": "markdown",
      "metadata": {
        "id": "jrQC9I1swvQw"
      },
      "source": [
        "4. Assume a 20-year-old investor wants to retire in 45 years at the age of 65. He expects to earn 4.5% p.a. on his Investment during the Funding Phase and during the Payout Phase. He plans to start depositing 500 USD at the end of each month for n years in order to be able to withdraw 3,000 USD per month (at the beginning of each month) for 30 years during retirement. The Annuity Contract´s final Value shall be 50,000 USD when he is 95 years old (to cover some more years). __In how many months will the investor´s funding phase start__?"
      ]
    },
    {
      "cell_type": "markdown",
      "metadata": {
        "id": "s5V3BlikwvQx"
      },
      "source": [
        "__Payout Phase__"
      ]
    },
    {
      "cell_type": "code",
      "execution_count": 12,
      "metadata": {
        "id": "_SYodvtywvQx"
      },
      "outputs": [],
      "source": [
        "m_payout = 12 #withdraw every month (at the beginning of each month)\n",
        "n_payout = 30 #30 years during retirement\n",
        "cf_payout = 3000 #3,000 USD per month\n",
        "FV_payout = 50000 #50,000 USD as final value of Annuity Contract\n",
        "r_payout = 0.045 #4.5% on this investment for both Payout and Funding phase\n",
        "\n",
        "#Payout Phase: คำนวณหา PV ของ Payout Phase แล้วนำ PV นี้ย้อนไปเป็น FV ของ Funding Phase และเนื่องจากโจทย์ให้ PV ของ Funding Phase มาแล้ว สามารถคำนวณหาจำนวนเดือนที่ต้อง fund ได้"
      ]
    },
    {
      "cell_type": "code",
      "execution_count": 13,
      "metadata": {
        "colab": {
          "base_uri": "https://localhost:8080/"
        },
        "id": "1izoltibwvQx",
        "outputId": "a7b58fc6-8ee8-4eaa-e4f8-eb9a8053ec17"
      },
      "outputs": [
        {
          "output_type": "execute_result",
          "data": {
            "text/plain": [
              "-607298.5727512676"
            ]
          },
          "metadata": {},
          "execution_count": 13
        }
      ],
      "source": [
        "PV_payout = npf.pv(rate = r_payout/m_payout, nper = n_payout * m_payout, pmt = cf_payout, fv = FV_payout, when = 'begin')\n",
        "PV_payout\n",
        "# Let FV_funding = -PV_payout (เครื่องหมายต้องตรงข้ามกัน)"
      ]
    },
    {
      "cell_type": "markdown",
      "metadata": {
        "id": "0pGNWnq2wvQy"
      },
      "source": [
        "(result: -607298.5727512676)"
      ]
    },
    {
      "cell_type": "code",
      "execution_count": null,
      "metadata": {
        "id": "NksCJGnBwvQy"
      },
      "outputs": [],
      "source": []
    },
    {
      "cell_type": "markdown",
      "metadata": {
        "id": "O4kDnPWzwvQy"
      },
      "source": [
        "__Funding Phase__"
      ]
    },
    {
      "cell_type": "code",
      "execution_count": 16,
      "metadata": {
        "id": "eEMKuyVlwvQz"
      },
      "outputs": [],
      "source": [
        "m_funding = 12 #deposit every month (at the end of each month)\n",
        "cf_funding = -500 #deposit 500 USD, so negative sign\n",
        "FV_funding = -PV_payout\n",
        "PV_funding = 0 #No initial investment\n",
        "r_funding = 0.045 #4.5% on this investment for both Payout and Funding phase\n",
        "\n",
        "#find n"
      ]
    },
    {
      "cell_type": "code",
      "execution_count": 23,
      "metadata": {
        "colab": {
          "base_uri": "https://localhost:8080/"
        },
        "id": "fdwUxDwgwvQz",
        "outputId": "aa7ddd63-5fd9-4f28-d679-b2b838cacbb6"
      },
      "outputs": [
        {
          "output_type": "execute_result",
          "data": {
            "text/plain": [
              "array(458.09718839)"
            ]
          },
          "metadata": {},
          "execution_count": 23
        }
      ],
      "source": [
        "n = npf.nper(rate = r_funding / m_funding, pmt = cf_funding, pv = PV_funding, fv = FV_funding, when ='end')\n",
        "n"
      ]
    },
    {
      "cell_type": "code",
      "execution_count": 26,
      "metadata": {
        "colab": {
          "base_uri": "https://localhost:8080/"
        },
        "id": "3qzLP2U9wvQz",
        "outputId": "19f5d09e-5f2c-4054-feac-c5256c563612"
      },
      "outputs": [
        {
          "output_type": "stream",
          "name": "stdout",
          "text": [
            "The funding phase will start in 81.0 months\n",
            "retire in 45 years = 12 * 45 = 540 months (มีระยะเวลาทั้งหมด 450 เดือนก่อนเกษียณ อายุ เพราะฉะนั้นแล้วจากการคำนวณต้องใช้ทั้งหมด 459 เดือน (np.ceil(n) = 459) เพื่อให้ได้ FV_funding = 607298.5727512676 เพราะฉะนั้น สามารถเริ่มใส่เงินตอนเดือนที่ 81 ได้ เมื่อใส่เงินจนครบหรือผ่านไป 459 ก็จะได้ FV_funding = 607298.5727512676 ซึ่งเป็นเงินต้น PV_payout ในช่วง Payout Phase ต่อไป)\n"
          ]
        }
      ],
      "source": [
        "print(\"The funding phase will start in {} months\".format(12 * 45 - np.ceil(n)))\n",
        "\n",
        "print(\"retire in 45 years = 12 * 45 = 540 months (มีระยะเวลาทั้งหมด 450 เดือนก่อนเกษียณ อายุ เพราะฉะนั้นแล้วจากการคำนวณต้องใช้ทั้งหมด 459 เดือน (np.ceil(n) = 459) เพื่อให้ได้ FV_funding = 607298.5727512676 เพราะฉะนั้น สามารถเริ่มใส่เงินตอนเดือนที่ 81 ได้ เมื่อใส่เงินจนครบหรือผ่านไป 459 ก็จะได้ FV_funding = 607298.5727512676 ซึ่งเป็นเงินต้น PV_payout ในช่วง Payout Phase ต่อไป)\")"
      ]
    },
    {
      "cell_type": "markdown",
      "metadata": {
        "id": "bZhjshjzwvQz"
      },
      "source": [
        "(result: The funding phase will start in 81 months)"
      ]
    },
    {
      "cell_type": "code",
      "execution_count": null,
      "metadata": {
        "id": "dFyol9EUwvQ0"
      },
      "outputs": [],
      "source": []
    },
    {
      "cell_type": "markdown",
      "metadata": {
        "id": "7KZgoYaNwvQ0"
      },
      "source": [
        "You consider to buy a new home for a Purchase Price of 700,000 USD. You decide to pay 300,000 USD cash. Therefore, you require another 400,000 USD from a Bank (Amortizing Mortgage) to realize the Deal. You agree with your local Bank on the following Mortgage terms:\n",
        "- Fixed interest rate: 4.2% p.a. (compounded monthly)\n",
        "- Loan Term with fixed interest rate is 35 years\n",
        "- Outstanding Loan Amount after 35 Years shall be 0 USD\n",
        "- Loan payments (interest & amortization) shall be made monthly in arrears "
      ]
    },
    {
      "cell_type": "markdown",
      "metadata": {
        "id": "GLgLx0mZwvQ0"
      },
      "source": [
        "5. Calculate the required __constant monthly payments__."
      ]
    },
    {
      "cell_type": "code",
      "execution_count": 28,
      "metadata": {
        "id": "LsYxU11AwvQ0"
      },
      "outputs": [],
      "source": [
        "r = 0.042 #4.2 % per annual (compounded monthly)\n",
        "n = 35\n",
        "FV = 0\n",
        "loan = 400000\n",
        "m = 12"
      ]
    },
    {
      "cell_type": "code",
      "execution_count": 30,
      "metadata": {
        "colab": {
          "base_uri": "https://localhost:8080/"
        },
        "id": "dIs2siePwvQ1",
        "outputId": "6586bbe4-d628-4f71-d979-921a8f112595"
      },
      "outputs": [
        {
          "output_type": "execute_result",
          "data": {
            "text/plain": [
              "-1819.401880466396"
            ]
          },
          "metadata": {},
          "execution_count": 30
        }
      ],
      "source": [
        "cf = npf.pmt(rate = r/m, nper = n*m, pv = loan, fv = FV)\n",
        "cf"
      ]
    },
    {
      "cell_type": "markdown",
      "metadata": {
        "id": "5ioSZRK6wvQ1"
      },
      "source": [
        "(result: -1819.401880466396)"
      ]
    },
    {
      "cell_type": "code",
      "execution_count": null,
      "metadata": {
        "id": "JmRwFNbEwvQ1"
      },
      "outputs": [],
      "source": []
    },
    {
      "cell_type": "markdown",
      "metadata": {
        "id": "lSHNoWr2wvQ3"
      },
      "source": [
        "6. Calculate the __Repayment / Amortization Schedule__ on a monthly basis for the next 35 years. What is the amortization amount in the __very last period/month__?"
      ]
    },
    {
      "cell_type": "code",
      "source": [
        "#35 years * 12 months = 420 months\n",
        "range(1, n*m+1) #1 ถึง 420"
      ],
      "metadata": {
        "colab": {
          "base_uri": "https://localhost:8080/"
        },
        "id": "2wc7Asat8r0T",
        "outputId": "6ae5270f-53e5-497a-b8d8-33a9322564df"
      },
      "execution_count": 31,
      "outputs": [
        {
          "output_type": "execute_result",
          "data": {
            "text/plain": [
              "range(1, 421)"
            ]
          },
          "metadata": {},
          "execution_count": 31
        }
      ]
    },
    {
      "cell_type": "code",
      "execution_count": 33,
      "metadata": {
        "scrolled": true,
        "colab": {
          "base_uri": "https://localhost:8080/"
        },
        "id": "LHAcBEUwwvQ3",
        "outputId": "02a21af3-66b3-4591-89bd-cd28eb062134"
      },
      "outputs": [
        {
          "output_type": "execute_result",
          "data": {
            "text/plain": [
              "array([ -419.40188047,  -420.86978705,  -422.3428313 ,  -423.82103121,\n",
              "        -425.30440482,  -426.79297024,  -428.28674563,  -429.78574924,\n",
              "        -431.28999937,  -432.79951436,  -434.31431266,  -435.83441276,\n",
              "        -437.3598332 ,  -438.89059262,  -440.42670969,  -441.96820318,\n",
              "        -443.51509189,  -445.06739471,  -446.62513059,  -448.18831855,\n",
              "        -449.75697766,  -451.33112709,  -452.91078603,  -454.49597378,\n",
              "        -456.08670969,  -457.68301317,  -459.28490372,  -460.89240088,\n",
              "        -462.50552429,  -464.12429362,  -465.74872865,  -467.3788492 ,\n",
              "        -469.01467517,  -470.65622653,  -472.30352333,  -473.95658566,\n",
              "        -475.61543371,  -477.28008773,  -478.95056803,  -480.62689502,\n",
              "        -482.30908915,  -483.99717097,  -485.69116106,  -487.39108013,\n",
              "        -489.09694891,  -490.80878823,  -492.52661899,  -494.25046216,\n",
              "        -495.98033877,  -497.71626996,  -499.4582769 ,  -501.20638087,\n",
              "        -502.96060321,  -504.72096532,  -506.4874887 ,  -508.26019491,\n",
              "        -510.03910559,  -511.82424246,  -513.61562731,  -515.413282  ,\n",
              "        -517.21722849,  -519.02748879,  -520.844085  ,  -522.6670393 ,\n",
              "        -524.49637393,  -526.33211124,  -528.17427363,  -530.02288359,\n",
              "        -531.87796368,  -533.73953656,  -535.60762493,  -537.48225162,\n",
              "        -539.3634395 ,  -541.25121154,  -543.14559078,  -545.04660035,\n",
              "        -546.95426345,  -548.86860337,  -550.78964348,  -552.71740724,\n",
              "        -554.65191816,  -556.59319987,  -558.54127607,  -560.49617054,\n",
              "        -562.45790714,  -564.42650981,  -566.4020026 ,  -568.38440961,\n",
              "        -570.37375504,  -572.37006318,  -574.3733584 ,  -576.38366516,\n",
              "        -578.40100798,  -580.42541151,  -582.45690045,  -584.4954996 ,\n",
              "        -586.54123385,  -588.59412817,  -590.65420762,  -592.72149735,\n",
              "        -594.79602259,  -596.87780867,  -598.966881  ,  -601.06326508,\n",
              "        -603.16698651,  -605.27807096,  -607.39654421,  -609.52243211,\n",
              "        -611.65576063,  -613.79655579,  -615.94484373,  -618.10065069,\n",
              "        -620.26400296,  -622.43492698,  -624.61344922,  -626.79959629,\n",
              "        -628.99339488,  -631.19487176,  -633.40405381,  -635.620968  ,\n",
              "        -637.84564139,  -640.07810113,  -642.31837449,  -644.5664888 ,\n",
              "        -646.82247151,  -649.08635016,  -651.35815238,  -653.63790592,\n",
              "        -655.92563859,  -658.22137832,  -660.52515315,  -662.83699118,\n",
              "        -665.15692065,  -667.48496988,  -669.82116727,  -672.16554136,\n",
              "        -674.51812075,  -676.87893417,  -679.24801044,  -681.62537848,\n",
              "        -684.0110673 ,  -686.40510604,  -688.80752391,  -691.21835024,\n",
              "        -693.63761447,  -696.06534612,  -698.50157483,  -700.94633034,\n",
              "        -703.3996425 ,  -705.86154125,  -708.33205664,  -710.81121884,\n",
              "        -713.29905811,  -715.79560481,  -718.30088943,  -720.81494254,\n",
              "        -723.33779484,  -725.86947712,  -728.41002029,  -730.95945536,\n",
              "        -733.51781346,  -736.0851258 ,  -738.66142374,  -741.24673873,\n",
              "        -743.84110231,  -746.44454617,  -749.05710208,  -751.67880194,\n",
              "        -754.30967775,  -756.94976162,  -759.59908578,  -762.25768258,\n",
              "        -764.92558447,  -767.60282402,  -770.2894339 ,  -772.98544692,\n",
              "        -775.69089599,  -778.40581412,  -781.13023447,  -783.86419029,\n",
              "        -786.60771496,  -789.36084196,  -792.12360491,  -794.89603752,\n",
              "        -797.67817366,  -800.47004726,  -803.27169243,  -806.08314335,\n",
              "        -808.90443435,  -811.73559987,  -814.57667447,  -817.42769283,\n",
              "        -820.28868976,  -823.15970017,  -826.04075912,  -828.93190178,\n",
              "        -831.83316344,  -834.74457951,  -837.66618554,  -840.59801719,\n",
              "        -843.54011025,  -846.49250063,  -849.45522438,  -852.42831767,\n",
              "        -855.41181678,  -858.40575814,  -861.41017829,  -864.42511392,\n",
              "        -867.45060182,  -870.48667892,  -873.5333823 ,  -876.59074914,\n",
              "        -879.65881676,  -882.73762262,  -885.8272043 ,  -888.92759951,\n",
              "        -892.03884611,  -895.16098207,  -898.29404551,  -901.43807467,\n",
              "        -904.59310793,  -907.75918381,  -910.93634095,  -914.12461814,\n",
              "        -917.32405431,  -920.5346885 ,  -923.75655991,  -926.98970787,\n",
              "        -930.23417184,  -933.48999145,  -936.75720642,  -940.03585664,\n",
              "        -943.32598214,  -946.62762307,  -949.94081976,  -953.26561262,\n",
              "        -956.60204227,  -959.95014942,  -963.30997494,  -966.68155985,\n",
              "        -970.06494531,  -973.46017262,  -976.86728322,  -980.28631872,\n",
              "        -983.71732083,  -987.16033145,  -990.61539261,  -994.08254649,\n",
              "        -997.5618354 , -1001.05330182, -1004.55698838, -1008.07293784,\n",
              "       -1011.60119312, -1015.1417973 , -1018.69479359, -1022.26022537,\n",
              "       -1025.83813616, -1029.42856963, -1033.03156963, -1036.64718012,\n",
              "       -1040.27544525, -1043.91640931, -1047.57011674, -1051.23661215,\n",
              "       -1054.91594029, -1058.60814608, -1062.31327459, -1066.03137106,\n",
              "       -1069.76248085, -1073.50664954, -1077.26392281, -1081.03434654,\n",
              "       -1084.81796675, -1088.61482964, -1092.42498154, -1096.24846898,\n",
              "       -1100.08533862, -1103.9356373 , -1107.79941203, -1111.67670998,\n",
              "       -1115.56757846, -1119.47206498, -1123.39021721, -1127.32208297,\n",
              "       -1131.26771026, -1135.22714725, -1139.20044226, -1143.18764381,\n",
              "       -1147.18880057, -1151.20396137, -1155.23317523, -1159.27649135,\n",
              "       -1163.33395907, -1167.40562792, -1171.49154762, -1175.59176804,\n",
              "       -1179.70633922, -1183.83531141, -1187.978735  , -1192.13666057,\n",
              "       -1196.30913889, -1200.49622087, -1204.69795765, -1208.9144005 ,\n",
              "       -1213.1456009 , -1217.3916105 , -1221.65248114, -1225.92826482,\n",
              "       -1230.21901375, -1234.5247803 , -1238.84561703, -1243.18157669,\n",
              "       -1247.53271221, -1251.8990767 , -1256.28072347, -1260.677706  ,\n",
              "       -1265.09007797, -1269.51789324, -1273.96120587, -1278.42007009,\n",
              "       -1282.89454034, -1287.38467123, -1291.89051758, -1296.41213439,\n",
              "       -1300.94957686, -1305.50290038, -1310.07216053, -1314.65741309,\n",
              "       -1319.25871404, -1323.87611954, -1328.50968595, -1333.15946986,\n",
              "       -1337.825528  , -1342.50791735, -1347.20669506, -1351.92191849,\n",
              "       -1356.65364521, -1361.40193296, -1366.16683973, -1370.94842367,\n",
              "       -1375.74674315, -1380.56185675, -1385.39382325, -1390.24270163,\n",
              "       -1395.10855109, -1399.99143102, -1404.89140103, -1409.80852093,\n",
              "       -1414.74285075, -1419.69445073, -1424.66338131, -1429.64970314,\n",
              "       -1434.6534771 , -1439.67476427, -1444.71362595, -1449.77012364,\n",
              "       -1454.84431907, -1459.93627419, -1465.04605115, -1470.17371233,\n",
              "       -1475.31932032, -1480.48293794, -1485.66462822, -1490.86445442,\n",
              "       -1496.08248001, -1501.31876869, -1506.57338438, -1511.84639123,\n",
              "       -1517.1378536 , -1522.44783609, -1527.77640351, -1533.12362092,\n",
              "       -1538.4895536 , -1543.87426704, -1549.27782697, -1554.70029936,\n",
              "       -1560.14175041, -1565.60224654, -1571.0818544 , -1576.58064089,\n",
              "       -1582.09867313, -1587.63601849, -1593.19274456, -1598.76891916,\n",
              "       -1604.36461038, -1609.97988651, -1615.61481612, -1621.26946797,\n",
              "       -1626.94391111, -1632.6382148 , -1638.35244855, -1644.08668212,\n",
              "       -1649.84098551, -1655.61542896, -1661.41008296, -1667.22501825,\n",
              "       -1673.06030581, -1678.91601689, -1684.79222294, -1690.68899572,\n",
              "       -1696.60640721, -1702.54452963, -1708.50343549, -1714.48319751,\n",
              "       -1720.4838887 , -1726.50558231, -1732.54835185, -1738.61227108,\n",
              "       -1744.69741403, -1750.80385498, -1756.93166847, -1763.08092931,\n",
              "       -1769.25171257, -1775.44409356, -1781.65814789, -1787.89395141,\n",
              "       -1794.15158024, -1800.43111077, -1806.73261965, -1813.05618382])"
            ]
          },
          "metadata": {},
          "execution_count": 33
        }
      ],
      "source": [
        "# Caculate Payment/Amortization Schedule in each period/month\n",
        "amort = npf.ppmt(rate = r/m, per = range(1, n*m+1), nper = n*m, pv = loan, fv = FV)\n",
        "amort"
      ]
    },
    {
      "cell_type": "code",
      "execution_count": 34,
      "metadata": {
        "colab": {
          "base_uri": "https://localhost:8080/"
        },
        "id": "FUfAmi1YwvQ4",
        "outputId": "abfd55eb-782c-49af-b422-1983fb8b0776"
      },
      "outputs": [
        {
          "output_type": "execute_result",
          "data": {
            "text/plain": [
              "-1813.0561838230158"
            ]
          },
          "metadata": {},
          "execution_count": 34
        }
      ],
      "source": [
        "amort[-1] #last month"
      ]
    },
    {
      "cell_type": "markdown",
      "metadata": {
        "id": "EufmTukIwvQ5"
      },
      "source": [
        "(result: -1813.0561838230158)"
      ]
    },
    {
      "cell_type": "code",
      "execution_count": null,
      "metadata": {
        "id": "c3f_MTdbwvQ6"
      },
      "outputs": [],
      "source": []
    },
    {
      "cell_type": "markdown",
      "metadata": {
        "id": "jusRDgovwvQ7"
      },
      "source": [
        "Company ABC evaluates two mutually exclusive Investment Projects (A and B) that lead to the following (estimated) increases in company cashflows/profits (in MUSD):\n",
        "\n",
        "- Project A: [100, 110, 125, 150, 250, 500]\n",
        "- Project B: [150, 200, 350, 200, 100, 100]\n",
        "\n",
        "Both projects require an initial Investment of 800 Million USD (to buy Machinery and Plant).\n",
        "\n",
        "The projects are mutually exclusive. Assume a company-wide required rate of return of 7.0% p.a. for comparable projects. "
      ]
    },
    {
      "cell_type": "markdown",
      "metadata": {
        "id": "u3FgHZbTwvQ8"
      },
      "source": [
        "7.  __Which project__ should ABC realize?"
      ]
    },
    {
      "cell_type": "code",
      "execution_count": 35,
      "metadata": {
        "id": "HXpkHvO1wvQ8"
      },
      "outputs": [],
      "source": [
        "# run the cell!\n",
        "cf_a = np.array([-800, 100, 110, 125, 150, 250, 500])\n",
        "cf_b = np.array([-800, 150, 200, 350, 200, 100, 100])"
      ]
    },
    {
      "cell_type": "code",
      "execution_count": 36,
      "metadata": {
        "id": "BuYdJG4nwvQ8"
      },
      "outputs": [],
      "source": [
        "r = 0.07 #Required rate of return 7% per annual\n",
        "\n",
        "NPV_A = npf.npv(r, cf_a)\n",
        "NPV_B = npf.npv(r, cf_b)"
      ]
    },
    {
      "cell_type": "code",
      "execution_count": 37,
      "metadata": {
        "colab": {
          "base_uri": "https://localhost:8080/"
        },
        "id": "zaR-9M9lwvQ8",
        "outputId": "faa00f77-ae8e-4711-b8df-822a17a5333c"
      },
      "outputs": [
        {
          "output_type": "stream",
          "name": "stdout",
          "text": [
            "NPV A: 117.42537723294546, NPV B: 91.09080119381395\n"
          ]
        }
      ],
      "source": [
        "print(\"NPV A: {}, NPV B: {}\".format(NPV_A, NPV_B))"
      ]
    },
    {
      "cell_type": "markdown",
      "metadata": {
        "id": "hkjnImi6wvQ-"
      },
      "source": [
        "(result: Project A)"
      ]
    },
    {
      "cell_type": "code",
      "execution_count": 38,
      "metadata": {
        "colab": {
          "base_uri": "https://localhost:8080/"
        },
        "id": "VU-ISOYawvQ-",
        "outputId": "c482c86f-58f9-4cd1-9f04-fafda9682904"
      },
      "outputs": [
        {
          "output_type": "stream",
          "name": "stdout",
          "text": [
            "Accept project A as NPV_A > NPV_B\n"
          ]
        }
      ],
      "source": [
        "print(\"Accept project A as NPV_A > NPV_B\")"
      ]
    },
    {
      "cell_type": "markdown",
      "metadata": {
        "id": "DP-GuDC5wvQ_"
      },
      "source": [
        "8. Calculate the (hypothetical) required rate of return where your decision would change (__crossover rate__)."
      ]
    },
    {
      "cell_type": "code",
      "execution_count": 39,
      "metadata": {
        "colab": {
          "base_uri": "https://localhost:8080/"
        },
        "id": "wLHOPqlawvQ_",
        "outputId": "7e770e2e-2ddd-4024-d44c-9e6355674557"
      },
      "outputs": [
        {
          "output_type": "execute_result",
          "data": {
            "text/plain": [
              "0.09549161767250536"
            ]
          },
          "metadata": {},
          "execution_count": 39
        }
      ],
      "source": [
        "npf.irr(cf_a - cf_b)\n",
        "# hypothetical required rate of return can be caculated via the difference between the two cashflow and using irr built-in function"
      ]
    },
    {
      "cell_type": "markdown",
      "metadata": {
        "id": "ad9mt4LxwvQ_"
      },
      "source": [
        "(result: 0.09549161767250536)"
      ]
    },
    {
      "cell_type": "markdown",
      "metadata": {
        "id": "7uruiQ98wvRA"
      },
      "source": [
        "# Well Done!"
      ]
    },
    {
      "cell_type": "markdown",
      "metadata": {
        "id": "JBX_1uBhwvRA"
      },
      "source": [
        "---------------------------------------------------------------------------------------------------------------------"
      ]
    },
    {
      "cell_type": "markdown",
      "metadata": {
        "id": "Y2vA3560wvRB"
      },
      "source": [
        "# Solutions (Stop here if you want to code on your own!)"
      ]
    },
    {
      "cell_type": "markdown",
      "metadata": {
        "id": "MhBk6r6ewvRB"
      },
      "source": [
        "# ++++++++++++++++++++++++++++++++++++++++++++++++++++++++++++++"
      ]
    },
    {
      "cell_type": "code",
      "execution_count": null,
      "metadata": {
        "id": "T0x39zA0wvRB"
      },
      "outputs": [],
      "source": [
        "# run the cell\n",
        "import numpy as np\n",
        "import numpy_financial as npf # NEW!!!"
      ]
    },
    {
      "cell_type": "markdown",
      "metadata": {
        "id": "VQRKLKGPwvRB"
      },
      "source": [
        "The ABC Company evaluates to buy an additional machine that will increase future profits/cashflows by\n",
        "- 50 USD in t1, \n",
        "- 80 USD in t2,\n",
        "- 120 USD in t3, \n",
        "- 150 USD in t4,\n",
        "- 200 USD in t5. (each cf at period´s end)<br>"
      ]
    },
    {
      "cell_type": "markdown",
      "metadata": {
        "id": "0EfENbHkwvRC"
      },
      "source": [
        "The machine costs 500 USD (Investment in to). ABC´s required rate of return (Cost of Capital) is 7.5% p.a. "
      ]
    },
    {
      "cell_type": "code",
      "execution_count": null,
      "metadata": {
        "id": "gVe-FYclwvRC"
      },
      "outputs": [],
      "source": [
        "# run the cell\n",
        "cf = np.array([-500, 50, 80, 120, 150, 200])\n",
        "cf"
      ]
    },
    {
      "cell_type": "code",
      "execution_count": null,
      "metadata": {
        "id": "_Y3RM6b0wvRC"
      },
      "outputs": [],
      "source": [
        "# run the cell!\n",
        "r = 0.075"
      ]
    },
    {
      "cell_type": "markdown",
      "metadata": {
        "id": "19EzhznywvRD"
      },
      "source": [
        "1. Calculate the Net __Present Value (NPV)__ of the Project with __numpy financial functions__."
      ]
    },
    {
      "cell_type": "code",
      "execution_count": null,
      "metadata": {
        "id": "_TIADCg8wvRD"
      },
      "outputs": [],
      "source": [
        "npf.npv(r, cf)"
      ]
    },
    {
      "cell_type": "markdown",
      "metadata": {
        "id": "dZEtQw9ZwvRE"
      },
      "source": [
        "(result: -36.03468883756554)"
      ]
    },
    {
      "cell_type": "code",
      "execution_count": null,
      "metadata": {
        "id": "s-iEXo4owvRE"
      },
      "outputs": [],
      "source": []
    },
    {
      "cell_type": "markdown",
      "metadata": {
        "id": "IapDcvZywvRE"
      },
      "source": [
        "2. Calculate the __IRR__ of the Project with __numpy financial functions__."
      ]
    },
    {
      "cell_type": "code",
      "execution_count": null,
      "metadata": {
        "id": "ntEeXJIhwvRF"
      },
      "outputs": [],
      "source": [
        "npf.irr(cf)"
      ]
    },
    {
      "cell_type": "markdown",
      "metadata": {
        "id": "xZ1dCeCZwvRF"
      },
      "source": [
        "(result: 0.05234347404159134)"
      ]
    },
    {
      "cell_type": "markdown",
      "metadata": {
        "id": "O8INOlIewvRG"
      },
      "source": [
        "3. Should ABC __accept or reject__ the project?"
      ]
    },
    {
      "cell_type": "markdown",
      "metadata": {
        "id": "agnyNL0mwvRH"
      },
      "source": [
        "reject"
      ]
    },
    {
      "cell_type": "code",
      "execution_count": null,
      "metadata": {
        "id": "CaaVod6mwvRI"
      },
      "outputs": [],
      "source": []
    },
    {
      "cell_type": "markdown",
      "metadata": {
        "id": "TmotYYkbwvRJ"
      },
      "source": [
        "4. Assume a 20-year-old investor wants to retire in 45 years at the age of 65. He expects to earn 4.5% p.a. on his Investment during the Funding Phase and during the Payout Phase. He plans to start depositing 500 USD at the end of each month for n years in order to be able to withdraw 3,000 USD per month (at the beginning of each month) for 30 years during retirement. The Annuity Contract´s final Value shall be 50,000 USD when he is 95 years old (to cover some more years). __In how many months will the investor´s funding phase start__?"
      ]
    },
    {
      "cell_type": "markdown",
      "metadata": {
        "id": "xuVeECe7wvRK"
      },
      "source": [
        "__Payout Phase__"
      ]
    },
    {
      "cell_type": "code",
      "execution_count": null,
      "metadata": {
        "id": "TEEbmt4BwvRM"
      },
      "outputs": [],
      "source": [
        "m = 12\n",
        "cf_2 = 3000\n",
        "n_2 = 30\n",
        "FV_2 = 50000\n",
        "r_2 = 0.045"
      ]
    },
    {
      "cell_type": "code",
      "execution_count": null,
      "metadata": {
        "id": "M0-hAIe8wvRN"
      },
      "outputs": [],
      "source": [
        "PV_2 = npf.pv(rate = r_2/m, nper = n_2*m, pmt = cf_2, fv = FV_2, when = \"begin\")\n",
        "PV_2"
      ]
    },
    {
      "cell_type": "markdown",
      "metadata": {
        "id": "a2l9HZxowvRN"
      },
      "source": [
        "(result: -607298.5727512676)"
      ]
    },
    {
      "cell_type": "code",
      "execution_count": null,
      "metadata": {
        "id": "FV3ACh4LwvRO"
      },
      "outputs": [],
      "source": []
    },
    {
      "cell_type": "markdown",
      "metadata": {
        "id": "6euWhOYhwvRO"
      },
      "source": [
        "__Funding Phase__"
      ]
    },
    {
      "cell_type": "code",
      "execution_count": null,
      "metadata": {
        "id": "5jK_Us6dwvRO"
      },
      "outputs": [],
      "source": [
        "m = 12\n",
        "cf_1 = -500\n",
        "FV_1 = -PV_2\n",
        "r_1 = 0.045\n",
        "PV_1 = 0"
      ]
    },
    {
      "cell_type": "code",
      "execution_count": null,
      "metadata": {
        "id": "vJnyxRmLwvRP"
      },
      "outputs": [],
      "source": [
        "n = npf.nper(rate = r_1/m, pmt = cf_1, pv = PV_1, fv = FV_1)\n",
        "n"
      ]
    },
    {
      "cell_type": "code",
      "execution_count": null,
      "metadata": {
        "id": "81oQzKcWwvRP"
      },
      "outputs": [],
      "source": [
        "12 * 45 - np.ceil(n)"
      ]
    },
    {
      "cell_type": "markdown",
      "metadata": {
        "id": "0e-ra6piwvRP"
      },
      "source": [
        "(result: The funding phase will start in 81 months)"
      ]
    },
    {
      "cell_type": "code",
      "execution_count": null,
      "metadata": {
        "id": "oYT7i39jwvRQ"
      },
      "outputs": [],
      "source": []
    },
    {
      "cell_type": "markdown",
      "metadata": {
        "id": "y24yJrUdwvRQ"
      },
      "source": [
        "You consider to buy a new home for a Purchase Price of 700,000 USD. You decide to pay 300,000 USD cash. Therefore, you require another 400,000 USD from a Bank (Amortizing Mortgage) to realize the Deal. You agree with your local Bank on the following Mortgage terms:\n",
        "- Fixed interest rate: 4.2% p.a. (compounded monthly)\n",
        "- Loan Term with fixed interest rate is 35 years\n",
        "- Outstanding Loan Amount after 35 Years shall be 0 USD\n",
        "- Loan payments (interest & amortization) shall be made monthly in arrears "
      ]
    },
    {
      "cell_type": "markdown",
      "metadata": {
        "id": "MW9LMSEswvRR"
      },
      "source": [
        "5. Calculate the required __constant monthly payments__."
      ]
    },
    {
      "cell_type": "code",
      "execution_count": null,
      "metadata": {
        "id": "Rs9gGEI1wvRR"
      },
      "outputs": [],
      "source": [
        "m = 12\n",
        "loan = 400000\n",
        "r = 0.042\n",
        "fv = 0\n",
        "n = 35"
      ]
    },
    {
      "cell_type": "code",
      "execution_count": null,
      "metadata": {
        "id": "hWWU9v9xwvRR"
      },
      "outputs": [],
      "source": [
        "cf = npf.pmt(rate = r/m, nper = n*m, pv = loan, fv = fv)\n",
        "cf"
      ]
    },
    {
      "cell_type": "markdown",
      "metadata": {
        "id": "Cf1jdxggwvRS"
      },
      "source": [
        "(result: -1819.401880466396)"
      ]
    },
    {
      "cell_type": "code",
      "execution_count": null,
      "metadata": {
        "id": "9QyCvDQ_wvRS"
      },
      "outputs": [],
      "source": []
    },
    {
      "cell_type": "markdown",
      "metadata": {
        "id": "yEzWK-nJwvRS"
      },
      "source": [
        "6. Calculate the __Repayment / Amortization Schedule__ on a monthly basis for the next 35 years. What is the amortization amount in the __very last period/month__?"
      ]
    },
    {
      "cell_type": "code",
      "execution_count": null,
      "metadata": {
        "scrolled": true,
        "id": "g9z11WTnwvRT"
      },
      "outputs": [],
      "source": [
        "amort = npf.ppmt(rate = r/m, per = range(1, n*m + 1), nper = n*m, pv = loan, fv = fv)\n",
        "amort"
      ]
    },
    {
      "cell_type": "code",
      "execution_count": null,
      "metadata": {
        "id": "4zSNyrR_wvRU"
      },
      "outputs": [],
      "source": [
        "amort[-1]"
      ]
    },
    {
      "cell_type": "markdown",
      "metadata": {
        "id": "qxtjsK2uwvRU"
      },
      "source": [
        "(result: -1813.0561838230158)"
      ]
    },
    {
      "cell_type": "code",
      "execution_count": null,
      "metadata": {
        "id": "D-RifYZKwvRU"
      },
      "outputs": [],
      "source": []
    },
    {
      "cell_type": "markdown",
      "metadata": {
        "id": "tg6s5swowvRV"
      },
      "source": [
        "Company ABC evaluates two mutually exclusive Investment Projects (A and B) that lead to the following (estimated) increases in company cashflows/profits (in MUSD):\n",
        "\n",
        "- Project A: [100, 110, 125, 150, 250, 500]\n",
        "- Project B: [150, 200, 350, 200, 100, 100]\n",
        "\n",
        "Both projects require an initial Investment of 800 Million USD (to buy Machinery and Plant).\n",
        "\n",
        "The projects are mutually exclusive. Assume a company-wide required rate of return of 7.0% p.a. for comparable projects. "
      ]
    },
    {
      "cell_type": "markdown",
      "metadata": {
        "id": "5rKw9Qo4wvRW"
      },
      "source": [
        "7.  __Which project__ should ABC realize?"
      ]
    },
    {
      "cell_type": "code",
      "execution_count": null,
      "metadata": {
        "id": "MaooHVS-wvRW"
      },
      "outputs": [],
      "source": [
        "# run the cell!\n",
        "cf_a = np.array([-800, 100, 110, 125, 150, 250, 500])\n",
        "cf_b = np.array([-800, 150, 200, 350, 200, 100, 100])"
      ]
    },
    {
      "cell_type": "code",
      "execution_count": null,
      "metadata": {
        "id": "lmtqJAh5wvRX"
      },
      "outputs": [],
      "source": [
        "npf.npv(0.07, cf_a)"
      ]
    },
    {
      "cell_type": "code",
      "execution_count": null,
      "metadata": {
        "id": "GffwdzO4wvRY"
      },
      "outputs": [],
      "source": [
        "npf.npv(0.07, cf_b)"
      ]
    },
    {
      "cell_type": "markdown",
      "metadata": {
        "id": "wsPLp2U0wvRY"
      },
      "source": [
        "(result: Project A)"
      ]
    },
    {
      "cell_type": "code",
      "execution_count": null,
      "metadata": {
        "id": "LZ1Jz2wvwvRZ"
      },
      "outputs": [],
      "source": []
    },
    {
      "cell_type": "markdown",
      "metadata": {
        "id": "AvBaihivwvRa"
      },
      "source": [
        "8. Calculate the (hypothetical) required rate of return where your decision would change (__crossover rate__)."
      ]
    },
    {
      "cell_type": "code",
      "execution_count": null,
      "metadata": {
        "id": "Z8maDwPHwvRa"
      },
      "outputs": [],
      "source": [
        "npf.irr(cf_a - cf_b)"
      ]
    },
    {
      "cell_type": "markdown",
      "metadata": {
        "id": "c67DDYq-wvRb"
      },
      "source": [
        "(result: 0.09549161767250536)"
      ]
    },
    {
      "cell_type": "code",
      "execution_count": null,
      "metadata": {
        "id": "_ShfNnwQwvRc"
      },
      "outputs": [],
      "source": []
    }
  ],
  "metadata": {
    "kernelspec": {
      "display_name": "Python 3 (ipykernel)",
      "language": "python",
      "name": "python3"
    },
    "language_info": {
      "codemirror_mode": {
        "name": "ipython",
        "version": 3
      },
      "file_extension": ".py",
      "mimetype": "text/x-python",
      "name": "python",
      "nbconvert_exporter": "python",
      "pygments_lexer": "ipython3",
      "version": "3.9.16"
    },
    "colab": {
      "provenance": [],
      "include_colab_link": true
    }
  },
  "nbformat": 4,
  "nbformat_minor": 0
}
