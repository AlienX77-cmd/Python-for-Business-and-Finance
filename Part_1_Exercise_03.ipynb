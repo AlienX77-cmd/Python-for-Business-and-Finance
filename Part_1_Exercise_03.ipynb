{
  "cells": [
    {
      "cell_type": "markdown",
      "metadata": {
        "id": "view-in-github",
        "colab_type": "text"
      },
      "source": [
        "<a href=\"https://colab.research.google.com/github/AlienX77-cmd/Python-for-Business-and-Finance/blob/main/Exercise_03.ipynb\" target=\"_parent\"><img src=\"https://colab.research.google.com/assets/colab-badge.svg\" alt=\"Open In Colab\"/></a>"
      ]
    },
    {
      "cell_type": "markdown",
      "metadata": {
        "id": "oGInaSl3b3ee"
      },
      "source": [
        "# Coding Exercises (Part 1)"
      ]
    },
    {
      "cell_type": "markdown",
      "metadata": {
        "id": "2MELfCSGb3ef"
      },
      "source": [
        "Now, you will have the opportunity to practice what you have learned. <br>\n",
        "__Follow the instructions__ and insert your code! "
      ]
    },
    {
      "cell_type": "markdown",
      "metadata": {
        "id": "VXUO7yiZb3eg"
      },
      "source": [
        "The correct answer is provided below your coding cell. There you can check whether your code is correct."
      ]
    },
    {
      "cell_type": "markdown",
      "metadata": {
        "id": "8ddUea1Gb3eh"
      },
      "source": [
        "If you need some help or if you want to check your code, you can also have a look at the __solutions__."
      ]
    },
    {
      "cell_type": "markdown",
      "metadata": {
        "id": "EBACKjZDb3ei"
      },
      "source": [
        "### Have Fun!"
      ]
    },
    {
      "cell_type": "markdown",
      "metadata": {
        "id": "tsi_PPD0b3ei"
      },
      "source": [
        "--------------------------------------------------------------------------------------------------------------"
      ]
    },
    {
      "cell_type": "markdown",
      "metadata": {
        "id": "T6UngdqDb3ej"
      },
      "source": [
        "## Exercise 3: Integers, Floats, Lists and built-in functions"
      ]
    },
    {
      "cell_type": "markdown",
      "metadata": {
        "id": "NLIIuQoKb3ek"
      },
      "source": [
        "1. __Create and save objects__ of your choice with the following __data types__. Check the data type with the appropriate function!"
      ]
    },
    {
      "cell_type": "markdown",
      "metadata": {
        "id": "DOSoWNttb3ek"
      },
      "source": [
        "integer"
      ]
    },
    {
      "cell_type": "code",
      "execution_count": null,
      "metadata": {
        "id": "zmUwwywEb3em"
      },
      "outputs": [],
      "source": [
        "integer = 1"
      ]
    },
    {
      "cell_type": "code",
      "execution_count": null,
      "metadata": {
        "colab": {
          "base_uri": "https://localhost:8080/"
        },
        "id": "jlRoMt4Yb3em",
        "outputId": "a09d140f-debd-4ae6-eeef-1ca26da3e56d"
      },
      "outputs": [
        {
          "output_type": "execute_result",
          "data": {
            "text/plain": [
              "int"
            ]
          },
          "metadata": {},
          "execution_count": 3
        }
      ],
      "source": [
        "type(integer)"
      ]
    },
    {
      "cell_type": "markdown",
      "metadata": {
        "id": "JWA2O3TXb3em"
      },
      "source": [
        "float"
      ]
    },
    {
      "cell_type": "code",
      "execution_count": null,
      "metadata": {
        "id": "MbTga4TWb3en"
      },
      "outputs": [],
      "source": [
        "float_ = 3.7"
      ]
    },
    {
      "cell_type": "code",
      "execution_count": null,
      "metadata": {
        "colab": {
          "base_uri": "https://localhost:8080/"
        },
        "id": "hWbm_IUsb3en",
        "outputId": "a9f6245b-cee0-45d1-a390-efa17711001d"
      },
      "outputs": [
        {
          "output_type": "execute_result",
          "data": {
            "text/plain": [
              "float"
            ]
          },
          "metadata": {},
          "execution_count": 6
        }
      ],
      "source": [
        "type(float_)"
      ]
    },
    {
      "cell_type": "markdown",
      "metadata": {
        "id": "4vhiXg4Ab3en"
      },
      "source": [
        "string"
      ]
    },
    {
      "cell_type": "code",
      "execution_count": null,
      "metadata": {
        "id": "BPV50bGkb3eo"
      },
      "outputs": [],
      "source": [
        "s = \"Algorithm\""
      ]
    },
    {
      "cell_type": "code",
      "execution_count": null,
      "metadata": {
        "colab": {
          "base_uri": "https://localhost:8080/"
        },
        "id": "KGA1tFoWb3eo",
        "outputId": "c0693d3b-5160-4e5f-8fba-0e23e5616d0d"
      },
      "outputs": [
        {
          "output_type": "execute_result",
          "data": {
            "text/plain": [
              "str"
            ]
          },
          "metadata": {},
          "execution_count": 9
        }
      ],
      "source": [
        "type(s)"
      ]
    },
    {
      "cell_type": "markdown",
      "metadata": {
        "id": "N6zuu_yAb3eo"
      },
      "source": [
        "bool"
      ]
    },
    {
      "cell_type": "code",
      "execution_count": null,
      "metadata": {
        "id": "5hraj_T8b3ep"
      },
      "outputs": [],
      "source": [
        "b = True"
      ]
    },
    {
      "cell_type": "code",
      "execution_count": null,
      "metadata": {
        "colab": {
          "base_uri": "https://localhost:8080/"
        },
        "id": "Q-0b_uV_b3eq",
        "outputId": "24216161-a008-43bc-ac48-e6e5c8fd3f71"
      },
      "outputs": [
        {
          "output_type": "execute_result",
          "data": {
            "text/plain": [
              "bool"
            ]
          },
          "metadata": {},
          "execution_count": 12
        }
      ],
      "source": [
        "type(b)"
      ]
    },
    {
      "cell_type": "code",
      "execution_count": null,
      "metadata": {
        "id": "A3ylk9bDb3er"
      },
      "outputs": [],
      "source": []
    },
    {
      "cell_type": "markdown",
      "metadata": {
        "id": "edKjh3FRb3er"
      },
      "source": [
        "2. Determine the __sum__, the __number of elements__ and __maximum value__ in list l. Use __built-in functions__!"
      ]
    },
    {
      "cell_type": "code",
      "execution_count": null,
      "metadata": {
        "id": "4fq4nTIGb3es"
      },
      "outputs": [],
      "source": [
        "# run the cell\n",
        "l = [-300, 40, 140, -430, 85, 280, 0, -560, 340]"
      ]
    },
    {
      "cell_type": "code",
      "execution_count": null,
      "metadata": {
        "colab": {
          "base_uri": "https://localhost:8080/"
        },
        "id": "in27RSEOb3et",
        "outputId": "4ecf3f63-8655-459e-8180-199455b4a165"
      },
      "outputs": [
        {
          "output_type": "execute_result",
          "data": {
            "text/plain": [
              "-405"
            ]
          },
          "metadata": {},
          "execution_count": 15
        }
      ],
      "source": [
        "#sum\n",
        "sum(l)"
      ]
    },
    {
      "cell_type": "markdown",
      "metadata": {
        "id": "sh8h_fVSb3eu"
      },
      "source": [
        "(result: -405)"
      ]
    },
    {
      "cell_type": "code",
      "execution_count": null,
      "metadata": {
        "colab": {
          "base_uri": "https://localhost:8080/"
        },
        "id": "R3NOKJpXb3ev",
        "outputId": "82f7673d-87ba-482d-8176-0e429e9d4940"
      },
      "outputs": [
        {
          "output_type": "execute_result",
          "data": {
            "text/plain": [
              "9"
            ]
          },
          "metadata": {},
          "execution_count": 16
        }
      ],
      "source": [
        "#number of elements\n",
        "len(l)"
      ]
    },
    {
      "cell_type": "markdown",
      "metadata": {
        "id": "NSP1ftidb3ev"
      },
      "source": [
        "(result: 9)"
      ]
    },
    {
      "cell_type": "code",
      "execution_count": null,
      "metadata": {
        "colab": {
          "base_uri": "https://localhost:8080/"
        },
        "id": "acRochGob3ev",
        "outputId": "d52f9f7d-cbe3-4840-ee0b-37b637cb2d62"
      },
      "outputs": [
        {
          "output_type": "execute_result",
          "data": {
            "text/plain": [
              "340"
            ]
          },
          "metadata": {},
          "execution_count": 17
        }
      ],
      "source": [
        "#maximum\n",
        "max(l)"
      ]
    },
    {
      "cell_type": "markdown",
      "metadata": {
        "id": "G4zal21-b3ew"
      },
      "source": [
        "(result: 340)"
      ]
    },
    {
      "cell_type": "code",
      "execution_count": null,
      "metadata": {
        "id": "YQ3VQETtb3ew"
      },
      "outputs": [],
      "source": []
    },
    {
      "cell_type": "markdown",
      "metadata": {
        "id": "e8cMIWzUb3ex"
      },
      "source": [
        "3. Determine the __number of elements__ and __the alphabetically first value__ in string s. Use __built-in functions__!"
      ]
    },
    {
      "cell_type": "code",
      "execution_count": null,
      "metadata": {
        "id": "SiOYBqdUb3ex"
      },
      "outputs": [],
      "source": [
        "#run the cell\n",
        "s = \"myrmecophilous\""
      ]
    },
    {
      "cell_type": "code",
      "execution_count": null,
      "metadata": {
        "scrolled": true,
        "colab": {
          "base_uri": "https://localhost:8080/"
        },
        "id": "lE87iRMFb3ey",
        "outputId": "6e407944-1e71-4eb7-f23c-8f9859e7373f"
      },
      "outputs": [
        {
          "output_type": "execute_result",
          "data": {
            "text/plain": [
              "14"
            ]
          },
          "metadata": {},
          "execution_count": 19
        }
      ],
      "source": [
        "#number of elements\n",
        "len(s)"
      ]
    },
    {
      "cell_type": "markdown",
      "metadata": {
        "id": "bvPgtPdhb3ez"
      },
      "source": [
        "(result: 14)"
      ]
    },
    {
      "cell_type": "code",
      "execution_count": null,
      "metadata": {
        "colab": {
          "base_uri": "https://localhost:8080/",
          "height": 35
        },
        "id": "EsaDux8Ub3ez",
        "outputId": "aafeacbe-3ea7-4ac4-cb9d-60419105db84"
      },
      "outputs": [
        {
          "output_type": "execute_result",
          "data": {
            "text/plain": [
              "'c'"
            ],
            "application/vnd.google.colaboratory.intrinsic+json": {
              "type": "string"
            }
          },
          "metadata": {},
          "execution_count": 20
        }
      ],
      "source": [
        "#alphabetically first value\n",
        "min(s)"
      ]
    },
    {
      "cell_type": "markdown",
      "metadata": {
        "id": "1HXqKdKXb3e0"
      },
      "source": [
        "(result: \"c\")"
      ]
    },
    {
      "cell_type": "code",
      "execution_count": null,
      "metadata": {
        "id": "XBYnVdJnb3e0"
      },
      "outputs": [],
      "source": []
    },
    {
      "cell_type": "markdown",
      "metadata": {
        "id": "w1aAIB0jb3e1"
      },
      "source": [
        "4. __Check__ whether the following equation is __True__ in Python: 0.2 + 0.2 + 0.2 = 0.6"
      ]
    },
    {
      "cell_type": "code",
      "execution_count": null,
      "metadata": {
        "colab": {
          "base_uri": "https://localhost:8080/"
        },
        "id": "lESit-0Ob3e1",
        "outputId": "f2283a71-deeb-4e75-aaeb-ca60f467ebdc"
      },
      "outputs": [
        {
          "output_type": "execute_result",
          "data": {
            "text/plain": [
              "False"
            ]
          },
          "metadata": {},
          "execution_count": 21
        }
      ],
      "source": [
        "0.2 + 0.2 + 0.2 == 0.6"
      ]
    },
    {
      "cell_type": "code",
      "execution_count": null,
      "metadata": {
        "colab": {
          "base_uri": "https://localhost:8080/"
        },
        "id": "NXdgVPrcb3e1",
        "outputId": "92e7bfe6-51fc-4cdd-c782-9ee14a6013df"
      },
      "outputs": [
        {
          "output_type": "stream",
          "name": "stdout",
          "text": [
            "0.6000000000000001\n"
          ]
        }
      ],
      "source": [
        "print(0.2+0.2+0.2)"
      ]
    },
    {
      "cell_type": "markdown",
      "metadata": {
        "id": "MgHnw5Aub3e2"
      },
      "source": [
        "5. Get the __first 20 decimals__ of 0.2 and 0.6 and explain the result of exercise 4."
      ]
    },
    {
      "cell_type": "code",
      "execution_count": null,
      "metadata": {
        "colab": {
          "base_uri": "https://localhost:8080/",
          "height": 35
        },
        "id": "Ts6vpSyzb3e2",
        "outputId": "3224d94b-69b1-4770-db3b-72622f71771c"
      },
      "outputs": [
        {
          "output_type": "execute_result",
          "data": {
            "text/plain": [
              "'0.20000000000000001110'"
            ],
            "application/vnd.google.colaboratory.intrinsic+json": {
              "type": "string"
            }
          },
          "metadata": {},
          "execution_count": 25
        }
      ],
      "source": [
        "format(0.2, \".20f\")"
      ]
    },
    {
      "cell_type": "markdown",
      "metadata": {
        "id": "3oajI-nkb3e2"
      },
      "source": [
        "(result: '0.20000000000000001110')"
      ]
    },
    {
      "cell_type": "code",
      "execution_count": null,
      "metadata": {
        "colab": {
          "base_uri": "https://localhost:8080/",
          "height": 35
        },
        "id": "ThKj0KQhb3e3",
        "outputId": "0aa06738-16f7-4ca8-d239-26ad242b4106"
      },
      "outputs": [
        {
          "output_type": "execute_result",
          "data": {
            "text/plain": [
              "'0.59999999999999997780'"
            ],
            "application/vnd.google.colaboratory.intrinsic+json": {
              "type": "string"
            }
          },
          "metadata": {},
          "execution_count": 26
        }
      ],
      "source": [
        "format(0.6, \".20f\")"
      ]
    },
    {
      "cell_type": "markdown",
      "metadata": {
        "id": "pRgjIk46b3e3"
      },
      "source": [
        "(result: '0.59999999999999997780')"
      ]
    },
    {
      "cell_type": "code",
      "execution_count": null,
      "metadata": {
        "id": "Ahla6xWHb3e3"
      },
      "outputs": [],
      "source": []
    },
    {
      "cell_type": "markdown",
      "metadata": {
        "id": "Bt7Lyqdnb3e3"
      },
      "source": [
        "6. __Round__ 1.56456 to __2 decimals__! Check the __first 20 decimals__ of the rounded float. Does rounding guarantee exact numbers in Python?"
      ]
    },
    {
      "cell_type": "code",
      "execution_count": null,
      "metadata": {
        "scrolled": true,
        "colab": {
          "base_uri": "https://localhost:8080/"
        },
        "id": "wWA0yKD-b3e4",
        "outputId": "192080d8-f6f8-46b2-91ec-d30bad81eb5a"
      },
      "outputs": [
        {
          "output_type": "execute_result",
          "data": {
            "text/plain": [
              "1.56"
            ]
          },
          "metadata": {},
          "execution_count": 29
        }
      ],
      "source": [
        "round(1.56456, 2)"
      ]
    },
    {
      "cell_type": "markdown",
      "metadata": {
        "id": "VnRgMZbgb3e4"
      },
      "source": [
        "(result: 1.56)"
      ]
    },
    {
      "cell_type": "code",
      "execution_count": null,
      "metadata": {
        "scrolled": true,
        "colab": {
          "base_uri": "https://localhost:8080/",
          "height": 35
        },
        "id": "x7IyzFG-b3e4",
        "outputId": "8f180820-b01f-45f3-ebc4-b5791a99ac5c"
      },
      "outputs": [
        {
          "output_type": "execute_result",
          "data": {
            "text/plain": [
              "'1.56000000000000005329'"
            ],
            "application/vnd.google.colaboratory.intrinsic+json": {
              "type": "string"
            }
          },
          "metadata": {},
          "execution_count": 31
        }
      ],
      "source": [
        "format(1.56, \".20f\")"
      ]
    },
    {
      "cell_type": "markdown",
      "metadata": {
        "id": "czW8OSYzb3e5"
      },
      "source": [
        "(result: '1.56000000000000005329')"
      ]
    },
    {
      "cell_type": "code",
      "execution_count": null,
      "metadata": {
        "id": "hBPWgU11b3e5"
      },
      "outputs": [],
      "source": []
    },
    {
      "cell_type": "markdown",
      "metadata": {
        "id": "YgwgLMLKb3e6"
      },
      "source": [
        "7. __Round__ 2,320,576 to the next __multiple of 1,000__!"
      ]
    },
    {
      "cell_type": "code",
      "execution_count": null,
      "metadata": {
        "colab": {
          "base_uri": "https://localhost:8080/"
        },
        "id": "XE6fW4ycb3e7",
        "outputId": "435c88b7-4b66-4a9f-a8a7-ed48dc0517db"
      },
      "outputs": [
        {
          "output_type": "execute_result",
          "data": {
            "text/plain": [
              "2321000"
            ]
          },
          "metadata": {},
          "execution_count": 33
        }
      ],
      "source": [
        "round(2320576, -3)"
      ]
    },
    {
      "cell_type": "markdown",
      "metadata": {
        "id": "QoBXnqk_b3e8"
      },
      "source": [
        "(result: 2321000)"
      ]
    },
    {
      "cell_type": "code",
      "execution_count": null,
      "metadata": {
        "id": "OWKKefZtb3e8"
      },
      "outputs": [],
      "source": []
    },
    {
      "cell_type": "markdown",
      "metadata": {
        "id": "cdgb7fblb3e9"
      },
      "source": [
        "We have the list cf with cashflows starting today until year 6:"
      ]
    },
    {
      "cell_type": "code",
      "execution_count": null,
      "metadata": {
        "colab": {
          "base_uri": "https://localhost:8080/"
        },
        "id": "rgEeDvSzb3e-",
        "outputId": "b9f485c3-848f-4301-f94b-63080ffe10a2"
      },
      "outputs": [
        {
          "output_type": "execute_result",
          "data": {
            "text/plain": [
              "[-2000, 200, 300, 500, 750, 1000, 1500]"
            ]
          },
          "metadata": {},
          "execution_count": 34
        }
      ],
      "source": [
        "# run the cell\n",
        "cf = [-2000, 200, 300, 500, 750, 1000, 1500]\n",
        "cf"
      ]
    },
    {
      "cell_type": "markdown",
      "metadata": {
        "id": "wo2dUQdib3e-"
      },
      "source": [
        "8. Create the following __slices__ of cf:"
      ]
    },
    {
      "cell_type": "markdown",
      "metadata": {
        "id": "nvc34fw-b3e_"
      },
      "source": [
        "first two elements"
      ]
    },
    {
      "cell_type": "code",
      "execution_count": null,
      "metadata": {
        "colab": {
          "base_uri": "https://localhost:8080/"
        },
        "id": "lc7DNJOyb3e_",
        "outputId": "7ee5b751-30bb-4a92-8dfc-fa7b7595c591"
      },
      "outputs": [
        {
          "output_type": "execute_result",
          "data": {
            "text/plain": [
              "[-2000, 200]"
            ]
          },
          "metadata": {},
          "execution_count": 37
        }
      ],
      "source": [
        "cf[:2]"
      ]
    },
    {
      "cell_type": "markdown",
      "metadata": {
        "id": "pHiQhpHUb3fA"
      },
      "source": [
        "the elements 300, 500 and 750"
      ]
    },
    {
      "cell_type": "code",
      "execution_count": null,
      "metadata": {
        "colab": {
          "base_uri": "https://localhost:8080/"
        },
        "id": "T105FSESb3fA",
        "outputId": "09ee37b1-2d14-4da0-cee7-e087ec0aeba9"
      },
      "outputs": [
        {
          "output_type": "execute_result",
          "data": {
            "text/plain": [
              "[300, 500, 750]"
            ]
          },
          "metadata": {},
          "execution_count": 38
        }
      ],
      "source": [
        "cf[2:5]"
      ]
    },
    {
      "cell_type": "markdown",
      "metadata": {
        "id": "ozzp3stKb3fA"
      },
      "source": [
        "the last three elements"
      ]
    },
    {
      "cell_type": "code",
      "execution_count": null,
      "metadata": {
        "colab": {
          "base_uri": "https://localhost:8080/"
        },
        "id": "lhGkufd1b3fB",
        "outputId": "f2944bde-c2e1-44a2-9da3-20864559c7d5"
      },
      "outputs": [
        {
          "output_type": "execute_result",
          "data": {
            "text/plain": [
              "[750, 1000, 1500]"
            ]
          },
          "metadata": {},
          "execution_count": 40
        }
      ],
      "source": [
        "cf[-3:]"
      ]
    },
    {
      "cell_type": "markdown",
      "metadata": {
        "id": "2cfALtGZb3fB"
      },
      "source": [
        "all elements, except the last element"
      ]
    },
    {
      "cell_type": "code",
      "execution_count": null,
      "metadata": {
        "colab": {
          "base_uri": "https://localhost:8080/"
        },
        "id": "rNnnJWaGb3fC",
        "outputId": "1b538268-260f-4f40-d353-2ddefcfdebf8"
      },
      "outputs": [
        {
          "output_type": "execute_result",
          "data": {
            "text/plain": [
              "[-2000, 200, 300, 500, 750, 1000]"
            ]
          },
          "metadata": {},
          "execution_count": 41
        }
      ],
      "source": [
        "cf[:-1]"
      ]
    },
    {
      "cell_type": "markdown",
      "metadata": {
        "id": "IL89OQUpb3fC"
      },
      "source": [
        "every second element (starting from first element)"
      ]
    },
    {
      "cell_type": "code",
      "execution_count": null,
      "metadata": {
        "colab": {
          "base_uri": "https://localhost:8080/"
        },
        "id": "POzxyILCb3fD",
        "outputId": "9499b804-a615-4ca9-ecc2-1588835bdef9"
      },
      "outputs": [
        {
          "output_type": "execute_result",
          "data": {
            "text/plain": [
              "[-2000, 300, 750, 1500]"
            ]
          },
          "metadata": {},
          "execution_count": 42
        }
      ],
      "source": [
        "cf[::2]"
      ]
    },
    {
      "cell_type": "code",
      "execution_count": null,
      "metadata": {
        "id": "qaGUs1_Sb3fD"
      },
      "outputs": [],
      "source": []
    },
    {
      "cell_type": "markdown",
      "metadata": {
        "id": "uKSBJEGEb3fD"
      },
      "source": [
        "9. __Add__ the cashflow 1200 for year 7 to list cf. __Change__ cf in memory!"
      ]
    },
    {
      "cell_type": "code",
      "execution_count": null,
      "metadata": {
        "id": "VXWhBGZ5b3fE"
      },
      "outputs": [],
      "source": [
        "cf = cf + [1200]"
      ]
    },
    {
      "cell_type": "code",
      "execution_count": null,
      "metadata": {
        "colab": {
          "base_uri": "https://localhost:8080/"
        },
        "id": "q1nSmtWub3fE",
        "outputId": "fb578406-d97a-4443-8876-9c83b1388fbb"
      },
      "outputs": [
        {
          "output_type": "execute_result",
          "data": {
            "text/plain": [
              "[-2000, 200, 300, 500, 750, 1000, 1500, 1200]"
            ]
          },
          "metadata": {},
          "execution_count": 44
        }
      ],
      "source": [
        "cf"
      ]
    },
    {
      "cell_type": "markdown",
      "metadata": {
        "id": "t32FDKY0b3fE"
      },
      "source": [
        "10. __Change__ the cashflow in t2 (300) to 400. __Change__ cf in memory!"
      ]
    },
    {
      "cell_type": "code",
      "execution_count": null,
      "metadata": {
        "colab": {
          "base_uri": "https://localhost:8080/"
        },
        "id": "AD670KE8b3fF",
        "outputId": "ef736c27-ea82-45c8-9b68-2d31cf37b4b5"
      },
      "outputs": [
        {
          "output_type": "execute_result",
          "data": {
            "text/plain": [
              "[-2000, 200, 400, 500, 750, 1000, 1500, 1200]"
            ]
          },
          "metadata": {},
          "execution_count": 45
        }
      ],
      "source": [
        "cf[2] = 400\n",
        "cf"
      ]
    },
    {
      "cell_type": "code",
      "execution_count": null,
      "metadata": {
        "id": "r1pOECKXb3fF"
      },
      "outputs": [],
      "source": []
    },
    {
      "cell_type": "code",
      "execution_count": null,
      "metadata": {
        "id": "RATHtBvtb3fF"
      },
      "outputs": [],
      "source": []
    },
    {
      "cell_type": "markdown",
      "metadata": {
        "id": "zdPnBkYGb3fF"
      },
      "source": [
        "11. __Remove__ the last three years of cf (with slicing and variable reassignment )"
      ]
    },
    {
      "cell_type": "code",
      "execution_count": null,
      "metadata": {
        "id": "kvAzYRIIb3fG"
      },
      "outputs": [],
      "source": [
        "cf = cf[:-3]"
      ]
    },
    {
      "cell_type": "code",
      "execution_count": null,
      "metadata": {
        "colab": {
          "base_uri": "https://localhost:8080/"
        },
        "id": "emfjYMTpb3fG",
        "outputId": "d42c8337-4466-4565-bffa-d55d566875a9"
      },
      "outputs": [
        {
          "output_type": "execute_result",
          "data": {
            "text/plain": [
              "[-2000, 200, 400, 500, 750]"
            ]
          },
          "metadata": {},
          "execution_count": 47
        }
      ],
      "source": [
        "cf"
      ]
    },
    {
      "cell_type": "code",
      "execution_count": null,
      "metadata": {
        "id": "x5tQS939b3fG"
      },
      "outputs": [],
      "source": []
    },
    {
      "cell_type": "markdown",
      "metadata": {
        "id": "xv2Fiq9hb3fG"
      },
      "source": [
        "12. __Add 20__ to each and every element of cf. Create the new list __cf_new__!"
      ]
    },
    {
      "cell_type": "code",
      "execution_count": null,
      "metadata": {
        "colab": {
          "base_uri": "https://localhost:8080/"
        },
        "id": "sFUMRHb-b3fH",
        "outputId": "979017e3-6bd5-43ab-a8fe-1cc41ba79cc3"
      },
      "outputs": [
        {
          "output_type": "execute_result",
          "data": {
            "text/plain": [
              "[-1980, 220, 420, 520, 770]"
            ]
          },
          "metadata": {},
          "execution_count": 55
        }
      ],
      "source": [
        "cf_new = []\n",
        "for i in cf:\n",
        "  new = i + 20\n",
        "  cf_new.append(new)\n",
        "cf_new"
      ]
    },
    {
      "cell_type": "markdown",
      "metadata": {
        "id": "sO8sopthb3fH"
      },
      "source": [
        "(result: [-1980, 220, 420, 520, 770])"
      ]
    },
    {
      "cell_type": "code",
      "execution_count": null,
      "metadata": {
        "id": "n2g2-n8qb3fH"
      },
      "outputs": [],
      "source": []
    },
    {
      "cell_type": "markdown",
      "metadata": {
        "id": "kdALqxq2b3fH"
      },
      "source": [
        "13. __Sort__ cf_new from __high to low__! __Change__ cf_new in memory!"
      ]
    },
    {
      "cell_type": "code",
      "execution_count": null,
      "metadata": {
        "id": "5oyXr1aub3fH"
      },
      "outputs": [],
      "source": [
        "cf_new.sort(reverse = True)"
      ]
    },
    {
      "cell_type": "code",
      "execution_count": null,
      "metadata": {
        "colab": {
          "base_uri": "https://localhost:8080/"
        },
        "id": "TSk_JtNbb3fI",
        "outputId": "fb2535cc-d3ec-4dff-ac66-fa074032d252"
      },
      "outputs": [
        {
          "output_type": "execute_result",
          "data": {
            "text/plain": [
              "[770, 520, 420, 220, -1980]"
            ]
          },
          "metadata": {},
          "execution_count": 57
        }
      ],
      "source": [
        "cf_new"
      ]
    },
    {
      "cell_type": "markdown",
      "metadata": {
        "id": "GAhpAmSOb3fI"
      },
      "source": [
        "(result: [770, 520, 420, 220, -1980])"
      ]
    },
    {
      "cell_type": "code",
      "execution_count": null,
      "metadata": {
        "id": "Uv2OFPHXb3fI"
      },
      "outputs": [],
      "source": []
    },
    {
      "cell_type": "markdown",
      "metadata": {
        "id": "mrcLtgPWb3fJ"
      },
      "source": [
        "Initially, we have two projects with identical cashflows:"
      ]
    },
    {
      "cell_type": "code",
      "execution_count": null,
      "metadata": {
        "id": "-vJfZi0Sb3fJ"
      },
      "outputs": [],
      "source": [
        "#run the cell\n",
        "cf1 = [-50, 10, 30, 50]\n",
        "cf2 = cf1"
      ]
    },
    {
      "cell_type": "markdown",
      "metadata": {
        "id": "hhXHCbthb3fJ"
      },
      "source": [
        "Then, the first cashflow of project 1 changes to -60."
      ]
    },
    {
      "cell_type": "code",
      "execution_count": null,
      "metadata": {
        "colab": {
          "base_uri": "https://localhost:8080/"
        },
        "id": "8ZASwSgBb3fJ",
        "outputId": "48425225-a18c-401c-a79e-9f7107a0bee1"
      },
      "outputs": [
        {
          "output_type": "execute_result",
          "data": {
            "text/plain": [
              "[-60, 10, 30, 50]"
            ]
          },
          "metadata": {},
          "execution_count": 59
        }
      ],
      "source": [
        "#run the cell\n",
        "cf1[0] = -60\n",
        "cf1"
      ]
    },
    {
      "cell_type": "code",
      "execution_count": null,
      "metadata": {
        "id": "mcUZ-i5Sb3fK"
      },
      "outputs": [],
      "source": []
    },
    {
      "cell_type": "markdown",
      "metadata": {
        "id": "nEQ3kLwzb3fK"
      },
      "source": [
        "14. Check, whether __cf2 changed__ as well!"
      ]
    },
    {
      "cell_type": "code",
      "execution_count": null,
      "metadata": {
        "colab": {
          "base_uri": "https://localhost:8080/"
        },
        "id": "ALfw7A6_b3fK",
        "outputId": "9bae0310-c2e1-4971-90d0-19ace9cb2ab1"
      },
      "outputs": [
        {
          "output_type": "execute_result",
          "data": {
            "text/plain": [
              "[-60, 10, 30, 50]"
            ]
          },
          "metadata": {},
          "execution_count": 60
        }
      ],
      "source": [
        "cf2"
      ]
    },
    {
      "cell_type": "code",
      "execution_count": null,
      "metadata": {
        "id": "kAucFTAcb3fM"
      },
      "outputs": [],
      "source": []
    },
    {
      "cell_type": "markdown",
      "metadata": {
        "id": "uRpEjtzFb3fN"
      },
      "source": [
        "15. __Rewrite__ the above code and make sure that __cf2 does not change__! Follow __best practices__!"
      ]
    },
    {
      "cell_type": "code",
      "execution_count": null,
      "metadata": {
        "id": "lxxLoMylb3fO"
      },
      "outputs": [],
      "source": [
        "cf1 = [-50, 10, 30, 50]\n",
        "cf2 = cf1.copy()\n",
        "\n",
        "cf1[0] = -60"
      ]
    },
    {
      "cell_type": "code",
      "execution_count": null,
      "metadata": {
        "colab": {
          "base_uri": "https://localhost:8080/"
        },
        "id": "quizMb__b3fP",
        "outputId": "6933b502-b885-433e-da16-b00dd79abd5b"
      },
      "outputs": [
        {
          "output_type": "stream",
          "name": "stdout",
          "text": [
            "[-60, 10, 30, 50] [-50, 10, 30, 50]\n"
          ]
        }
      ],
      "source": [
        "print(cf1, cf2)"
      ]
    },
    {
      "cell_type": "code",
      "execution_count": null,
      "metadata": {
        "id": "WhVRIw4rb3fP"
      },
      "outputs": [],
      "source": []
    },
    {
      "cell_type": "markdown",
      "metadata": {
        "id": "RM0et4k0b3fP"
      },
      "source": [
        "# Well Done!"
      ]
    },
    {
      "cell_type": "markdown",
      "metadata": {
        "id": "Pw4XP0Kkb3fP"
      },
      "source": [
        "---------------------------------------------------------------------------------------------------------------------"
      ]
    },
    {
      "cell_type": "markdown",
      "metadata": {
        "id": "gKHlpMZib3fQ"
      },
      "source": [
        "# Solutions (Stop here if you want to code on your own!)"
      ]
    },
    {
      "cell_type": "markdown",
      "metadata": {
        "id": "YJm9PP0Vb3fQ"
      },
      "source": [
        "# ++++++++++++++++++++++++++++++++++++++++++++++++++++++++++++++"
      ]
    },
    {
      "cell_type": "markdown",
      "metadata": {
        "id": "RFpWPqOab3fQ"
      },
      "source": [
        "1. __Create and save objects__ of your choice with the following __data types__. Check the data type with the appropriate function!"
      ]
    },
    {
      "cell_type": "markdown",
      "metadata": {
        "id": "nTW8nVhAb3fQ"
      },
      "source": [
        "integer"
      ]
    },
    {
      "cell_type": "code",
      "execution_count": null,
      "metadata": {
        "id": "7X4spyXMb3fQ"
      },
      "outputs": [],
      "source": [
        "a = 14\n",
        "a"
      ]
    },
    {
      "cell_type": "code",
      "execution_count": null,
      "metadata": {
        "id": "uUXtjTrRb3fR"
      },
      "outputs": [],
      "source": [
        "type(a)"
      ]
    },
    {
      "cell_type": "markdown",
      "metadata": {
        "id": "f1IkD-GYb3fR"
      },
      "source": [
        "float"
      ]
    },
    {
      "cell_type": "code",
      "execution_count": null,
      "metadata": {
        "id": "xTrBA5Hab3fS"
      },
      "outputs": [],
      "source": [
        "a = 12.56\n",
        "a"
      ]
    },
    {
      "cell_type": "code",
      "execution_count": null,
      "metadata": {
        "id": "oP7fotfub3fS"
      },
      "outputs": [],
      "source": [
        "type(a)"
      ]
    },
    {
      "cell_type": "markdown",
      "metadata": {
        "id": "OIQ1lsBJb3fS"
      },
      "source": [
        "string"
      ]
    },
    {
      "cell_type": "code",
      "execution_count": null,
      "metadata": {
        "id": "KWVH2PDxb3fS"
      },
      "outputs": [],
      "source": [
        "a = \"Twitter\"\n",
        "a"
      ]
    },
    {
      "cell_type": "code",
      "execution_count": null,
      "metadata": {
        "id": "E6X-8_s5b3fS"
      },
      "outputs": [],
      "source": [
        "type(a)"
      ]
    },
    {
      "cell_type": "markdown",
      "metadata": {
        "id": "AFRRgtLhb3fT"
      },
      "source": [
        "bool"
      ]
    },
    {
      "cell_type": "code",
      "execution_count": null,
      "metadata": {
        "id": "D_1cJvI4b3fT"
      },
      "outputs": [],
      "source": [
        "a = True\n",
        "a"
      ]
    },
    {
      "cell_type": "code",
      "execution_count": null,
      "metadata": {
        "id": "oP-FqL7fb3fT"
      },
      "outputs": [],
      "source": [
        "type(a)"
      ]
    },
    {
      "cell_type": "code",
      "execution_count": null,
      "metadata": {
        "id": "j3ULf6bVb3fT"
      },
      "outputs": [],
      "source": []
    },
    {
      "cell_type": "markdown",
      "metadata": {
        "id": "voVt9W-Wb3fU"
      },
      "source": [
        "2. Determine the __sum__, the __number of elements__ and __maximum value__ in list l. Use __built-in functions__!"
      ]
    },
    {
      "cell_type": "code",
      "execution_count": null,
      "metadata": {
        "id": "cRIZJIwxb3fU"
      },
      "outputs": [],
      "source": [
        "# run the cell\n",
        "l = [-300, 40, 140, -430, 85, 280, 0, -560, 340]"
      ]
    },
    {
      "cell_type": "code",
      "execution_count": null,
      "metadata": {
        "id": "q2vdQWyjb3fU"
      },
      "outputs": [],
      "source": [
        "#sum\n",
        "sum(l)"
      ]
    },
    {
      "cell_type": "markdown",
      "metadata": {
        "id": "MCGmMpB9b3fV"
      },
      "source": [
        "(result: -405)"
      ]
    },
    {
      "cell_type": "code",
      "execution_count": null,
      "metadata": {
        "id": "1IjzWzicb3fV"
      },
      "outputs": [],
      "source": [
        "#number of elements\n",
        "len(l)"
      ]
    },
    {
      "cell_type": "markdown",
      "metadata": {
        "id": "Wpv6BP1Ub3fV"
      },
      "source": [
        "(result: 9)"
      ]
    },
    {
      "cell_type": "code",
      "execution_count": null,
      "metadata": {
        "id": "S73NHo8Hb3fV"
      },
      "outputs": [],
      "source": [
        "#maximum\n",
        "max(l)"
      ]
    },
    {
      "cell_type": "markdown",
      "metadata": {
        "id": "PrE2_T9Lb3fV"
      },
      "source": [
        "(result: 340)"
      ]
    },
    {
      "cell_type": "code",
      "execution_count": null,
      "metadata": {
        "id": "ReG8pkZjb3fW"
      },
      "outputs": [],
      "source": []
    },
    {
      "cell_type": "markdown",
      "metadata": {
        "id": "yaUA1vzFb3fW"
      },
      "source": [
        "3. Determine the __number of elements__ and __the alphabetically first value__ in string s. Use __built-in functions__!"
      ]
    },
    {
      "cell_type": "code",
      "execution_count": null,
      "metadata": {
        "id": "M2X78Vwzb3fW"
      },
      "outputs": [],
      "source": [
        "#run the cell\n",
        "s = \"myrmecophilous\""
      ]
    },
    {
      "cell_type": "code",
      "execution_count": null,
      "metadata": {
        "scrolled": true,
        "id": "ilmi-uGGb3fW"
      },
      "outputs": [],
      "source": [
        "#number of elements\n",
        "len(s)"
      ]
    },
    {
      "cell_type": "markdown",
      "metadata": {
        "id": "9MxHJ_lub3fX"
      },
      "source": [
        "(result: 14)"
      ]
    },
    {
      "cell_type": "code",
      "execution_count": null,
      "metadata": {
        "id": "tL5A26gFb3fX"
      },
      "outputs": [],
      "source": [
        "#alphabetically first value\n",
        "min(s)"
      ]
    },
    {
      "cell_type": "markdown",
      "metadata": {
        "id": "QtcIwPtub3fX"
      },
      "source": [
        "(result: \"c\")"
      ]
    },
    {
      "cell_type": "code",
      "execution_count": null,
      "metadata": {
        "id": "oknLdNMfb3fX"
      },
      "outputs": [],
      "source": []
    },
    {
      "cell_type": "markdown",
      "metadata": {
        "id": "idPVCkHLb3fX"
      },
      "source": [
        "4. __Check__ whether the following equation is __True__ in Python: 0.2 + 0.2 + 0.2 = 0.6"
      ]
    },
    {
      "cell_type": "code",
      "execution_count": null,
      "metadata": {
        "id": "QmuVzBcXb3fY"
      },
      "outputs": [],
      "source": [
        "0.2 + 0.2 + 0.2 == 0.6"
      ]
    },
    {
      "cell_type": "code",
      "execution_count": null,
      "metadata": {
        "id": "xbwfnco7b3fY"
      },
      "outputs": [],
      "source": []
    },
    {
      "cell_type": "markdown",
      "metadata": {
        "id": "O3yeYcPUb3fY"
      },
      "source": [
        "5. Get the __first 20 decimals__ of 0.2 and 0.6 and explain the result of exercise 4."
      ]
    },
    {
      "cell_type": "code",
      "execution_count": null,
      "metadata": {
        "id": "CWWE7jw2b3fY"
      },
      "outputs": [],
      "source": [
        "format(0.2, \".20f\")"
      ]
    },
    {
      "cell_type": "markdown",
      "metadata": {
        "id": "VhcYtVnob3fY"
      },
      "source": [
        "(result: '0.20000000000000001110')"
      ]
    },
    {
      "cell_type": "code",
      "execution_count": null,
      "metadata": {
        "id": "Jok7U1Ccb3fY"
      },
      "outputs": [],
      "source": [
        "format(0.6, \".20f\")"
      ]
    },
    {
      "cell_type": "markdown",
      "metadata": {
        "id": "W7UuFHHvb3fZ"
      },
      "source": [
        "(result: '0.59999999999999997780')"
      ]
    },
    {
      "cell_type": "code",
      "execution_count": null,
      "metadata": {
        "id": "GLHpfL3mb3fZ"
      },
      "outputs": [],
      "source": []
    },
    {
      "cell_type": "markdown",
      "metadata": {
        "id": "krXdqEksb3fZ"
      },
      "source": [
        "6. __Round__ 1.56456 to __2 decimals__! Check the __first 20 decimals__ of the rounded float. Does rounding guarantee exact numbers in Python?"
      ]
    },
    {
      "cell_type": "code",
      "execution_count": null,
      "metadata": {
        "scrolled": true,
        "id": "nCmotDDrb3fZ"
      },
      "outputs": [],
      "source": [
        "a = round(1.56456, 2)\n",
        "a"
      ]
    },
    {
      "cell_type": "markdown",
      "metadata": {
        "id": "qgPkMxqfb3fa"
      },
      "source": [
        "(result: 1.56)"
      ]
    },
    {
      "cell_type": "code",
      "execution_count": null,
      "metadata": {
        "scrolled": true,
        "id": "Rzb8q2i_b3fa"
      },
      "outputs": [],
      "source": [
        "format(a, \".20f\")"
      ]
    },
    {
      "cell_type": "markdown",
      "metadata": {
        "id": "HoxXgJDwb3fa"
      },
      "source": [
        "(result: '1.56000000000000005329' -> No!)"
      ]
    },
    {
      "cell_type": "code",
      "execution_count": null,
      "metadata": {
        "id": "VQS_AJc2b3fa"
      },
      "outputs": [],
      "source": []
    },
    {
      "cell_type": "markdown",
      "metadata": {
        "id": "BjVapjQUb3fb"
      },
      "source": [
        "7. __Round__ 2,320,576 to the next __multiple of 1,000__!"
      ]
    },
    {
      "cell_type": "code",
      "execution_count": null,
      "metadata": {
        "id": "DJoVIVs-b3fb"
      },
      "outputs": [],
      "source": [
        "round(2320576, -3)"
      ]
    },
    {
      "cell_type": "markdown",
      "metadata": {
        "id": "NaxoL_Srb3fc"
      },
      "source": [
        "(result: 2321000)"
      ]
    },
    {
      "cell_type": "code",
      "execution_count": null,
      "metadata": {
        "id": "Qlkr22_yb3fc"
      },
      "outputs": [],
      "source": []
    },
    {
      "cell_type": "markdown",
      "metadata": {
        "id": "5p-JWAVyb3fd"
      },
      "source": [
        "We have the list cf with cashflows starting today until year 6:"
      ]
    },
    {
      "cell_type": "code",
      "execution_count": null,
      "metadata": {
        "id": "L8JT97SMb3fd"
      },
      "outputs": [],
      "source": [
        "# run the cell\n",
        "cf = [-2000, 200, 300, 500, 750, 1000, 1500]\n",
        "cf"
      ]
    },
    {
      "cell_type": "markdown",
      "metadata": {
        "id": "VOUbZOvUb3fe"
      },
      "source": [
        "8. Create the following __slices__ of cf:"
      ]
    },
    {
      "cell_type": "markdown",
      "metadata": {
        "id": "NojRtVS-b3fe"
      },
      "source": [
        "first two elements"
      ]
    },
    {
      "cell_type": "code",
      "execution_count": null,
      "metadata": {
        "id": "_ChEgQIMb3ff"
      },
      "outputs": [],
      "source": [
        "cf[:2]"
      ]
    },
    {
      "cell_type": "markdown",
      "metadata": {
        "id": "d_Lhb5O_b3ff"
      },
      "source": [
        "the elements 300, 500 and 750"
      ]
    },
    {
      "cell_type": "code",
      "execution_count": null,
      "metadata": {
        "id": "T6Msu38bb3ff"
      },
      "outputs": [],
      "source": [
        "cf[2:5]"
      ]
    },
    {
      "cell_type": "markdown",
      "metadata": {
        "id": "6zcXDqnMb3ff"
      },
      "source": [
        "the last three elements"
      ]
    },
    {
      "cell_type": "code",
      "execution_count": null,
      "metadata": {
        "id": "ZzvhEA8Ob3fg"
      },
      "outputs": [],
      "source": [
        "cf[-3:]"
      ]
    },
    {
      "cell_type": "markdown",
      "metadata": {
        "id": "gdX0PWxnb3fg"
      },
      "source": [
        "all elements, except the last element"
      ]
    },
    {
      "cell_type": "code",
      "execution_count": null,
      "metadata": {
        "id": "xtAYJGg4b3fg"
      },
      "outputs": [],
      "source": [
        "cf[:-1]"
      ]
    },
    {
      "cell_type": "markdown",
      "metadata": {
        "id": "P535ktiRb3fg"
      },
      "source": [
        "every second element (starting from first element)"
      ]
    },
    {
      "cell_type": "code",
      "execution_count": null,
      "metadata": {
        "id": "ybOTEEHLb3fg"
      },
      "outputs": [],
      "source": [
        "cf[::2]"
      ]
    },
    {
      "cell_type": "code",
      "execution_count": null,
      "metadata": {
        "id": "O251VHRib3fg"
      },
      "outputs": [],
      "source": []
    },
    {
      "cell_type": "markdown",
      "metadata": {
        "id": "n9f8U-lXb3fh"
      },
      "source": [
        "9. __Add__ the cashflow 1200 for year 7 to list cf. __Change__ cf in memory!"
      ]
    },
    {
      "cell_type": "code",
      "execution_count": null,
      "metadata": {
        "id": "5bWLA-9Nb3fh"
      },
      "outputs": [],
      "source": [
        "cf.append(1200)"
      ]
    },
    {
      "cell_type": "code",
      "execution_count": null,
      "metadata": {
        "id": "RAGDEtKvb3fh"
      },
      "outputs": [],
      "source": [
        "cf"
      ]
    },
    {
      "cell_type": "markdown",
      "metadata": {
        "id": "lpv68u0ob3fh"
      },
      "source": [
        "10. __Change__ the cashflow in t2 (300) to 400. __Change__ cf in memory!"
      ]
    },
    {
      "cell_type": "code",
      "execution_count": null,
      "metadata": {
        "id": "u9dK_CKwb3fi"
      },
      "outputs": [],
      "source": [
        "cf[2] = 400"
      ]
    },
    {
      "cell_type": "code",
      "execution_count": null,
      "metadata": {
        "id": "vKWZvg03b3fi"
      },
      "outputs": [],
      "source": [
        "cf"
      ]
    },
    {
      "cell_type": "code",
      "execution_count": null,
      "metadata": {
        "id": "DQZhFN4Bb3fi"
      },
      "outputs": [],
      "source": []
    },
    {
      "cell_type": "markdown",
      "metadata": {
        "id": "8Ic7iOC2b3fi"
      },
      "source": [
        "11. __Remove__ the last three years of cf (with slicing and variable reassignment )"
      ]
    },
    {
      "cell_type": "code",
      "execution_count": null,
      "metadata": {
        "id": "cnXaRR1Gb3fj"
      },
      "outputs": [],
      "source": [
        "cf = cf[:-3]"
      ]
    },
    {
      "cell_type": "code",
      "execution_count": null,
      "metadata": {
        "id": "F3R9EtBjb3fj"
      },
      "outputs": [],
      "source": [
        "cf"
      ]
    },
    {
      "cell_type": "code",
      "execution_count": null,
      "metadata": {
        "id": "OIlHIRIjb3fj"
      },
      "outputs": [],
      "source": []
    },
    {
      "cell_type": "markdown",
      "metadata": {
        "id": "BerkYzN7b3fj"
      },
      "source": [
        "12. __Add 20__ to each and every element of cf. Create the new list __cf_new__!"
      ]
    },
    {
      "cell_type": "code",
      "execution_count": null,
      "metadata": {
        "id": "kecD1VLIb3fk"
      },
      "outputs": [],
      "source": [
        "cf_new = []\n",
        "for element in cf:\n",
        "    cf_new.append(element + 20)\n",
        "cf_new"
      ]
    },
    {
      "cell_type": "markdown",
      "metadata": {
        "id": "zmN7TlRXb3fk"
      },
      "source": [
        "(result: [-1980, 220, 420, 520, 770])"
      ]
    },
    {
      "cell_type": "code",
      "execution_count": null,
      "metadata": {
        "id": "i_2-0o7ub3fk"
      },
      "outputs": [],
      "source": []
    },
    {
      "cell_type": "markdown",
      "metadata": {
        "id": "RjxohWcHb3fk"
      },
      "source": [
        "13. __Sort__ cf_new from __high to low__! __Change__ cf_new in memory!"
      ]
    },
    {
      "cell_type": "code",
      "execution_count": null,
      "metadata": {
        "id": "1qbivaijb3fl"
      },
      "outputs": [],
      "source": [
        "cf_new.sort(reverse = True)"
      ]
    },
    {
      "cell_type": "code",
      "execution_count": null,
      "metadata": {
        "id": "hd5fC8MRb3fl"
      },
      "outputs": [],
      "source": [
        "cf_new"
      ]
    },
    {
      "cell_type": "markdown",
      "metadata": {
        "id": "xQtYYS3Hb3fl"
      },
      "source": [
        "(result: [770, 520, 420, 220, -1980])"
      ]
    },
    {
      "cell_type": "code",
      "execution_count": null,
      "metadata": {
        "id": "cULcK2mVb3fl"
      },
      "outputs": [],
      "source": []
    },
    {
      "cell_type": "markdown",
      "metadata": {
        "id": "utkfBbuZb3fl"
      },
      "source": [
        "Initially, we have two projects with identical cashflows:"
      ]
    },
    {
      "cell_type": "code",
      "execution_count": null,
      "metadata": {
        "id": "MG2-DLYGb3fm"
      },
      "outputs": [],
      "source": [
        "#run the cell\n",
        "cf1 = [-50, 10, 30, 50]\n",
        "cf2 = cf1"
      ]
    },
    {
      "cell_type": "markdown",
      "metadata": {
        "id": "kEkrp19ub3fm"
      },
      "source": [
        "Then, the first cashflow of project 1 changes to -60."
      ]
    },
    {
      "cell_type": "code",
      "execution_count": null,
      "metadata": {
        "id": "gOVw6Ofab3fm"
      },
      "outputs": [],
      "source": [
        "#run the cell\n",
        "cf1[0] = -60\n",
        "cf1"
      ]
    },
    {
      "cell_type": "code",
      "execution_count": null,
      "metadata": {
        "id": "EjPx3mrFb3fm"
      },
      "outputs": [],
      "source": []
    },
    {
      "cell_type": "markdown",
      "metadata": {
        "id": "XmvcxuU0b3fn"
      },
      "source": [
        "14. Check, whether __cf2 changed__ as well!"
      ]
    },
    {
      "cell_type": "code",
      "execution_count": null,
      "metadata": {
        "id": "P9P7kXwXb3fn"
      },
      "outputs": [],
      "source": [
        "cf2"
      ]
    },
    {
      "cell_type": "markdown",
      "metadata": {
        "id": "rEEyy5TXb3fn"
      },
      "source": [
        "it changed!"
      ]
    },
    {
      "cell_type": "code",
      "execution_count": null,
      "metadata": {
        "id": "EATLmaRZb3fn"
      },
      "outputs": [],
      "source": []
    },
    {
      "cell_type": "markdown",
      "metadata": {
        "id": "DACQZ5gqb3fo"
      },
      "source": [
        "15. __Rewrite__ the above code and make sure that __cf2 does not change__! Follow __best practices__!"
      ]
    },
    {
      "cell_type": "code",
      "execution_count": null,
      "metadata": {
        "id": "qCrKdNlMb3fo"
      },
      "outputs": [],
      "source": [
        "cf1 = [-50, 10, 30, 50]\n",
        "cf2 = cf1.copy()"
      ]
    },
    {
      "cell_type": "code",
      "execution_count": null,
      "metadata": {
        "id": "ffuNzjrWb3fo"
      },
      "outputs": [],
      "source": [
        "cf1[0] = -60\n",
        "cf1"
      ]
    },
    {
      "cell_type": "code",
      "execution_count": null,
      "metadata": {
        "id": "kIKwKPkmb3fo"
      },
      "outputs": [],
      "source": [
        "cf2"
      ]
    },
    {
      "cell_type": "code",
      "execution_count": null,
      "metadata": {
        "id": "9-TBUUwIb3fo"
      },
      "outputs": [],
      "source": []
    }
  ],
  "metadata": {
    "kernelspec": {
      "display_name": "Python 3 (ipykernel)",
      "language": "python",
      "name": "python3"
    },
    "language_info": {
      "codemirror_mode": {
        "name": "ipython",
        "version": 3
      },
      "file_extension": ".py",
      "mimetype": "text/x-python",
      "name": "python",
      "nbconvert_exporter": "python",
      "pygments_lexer": "ipython3",
      "version": "3.9.16"
    },
    "colab": {
      "provenance": [],
      "include_colab_link": true
    }
  },
  "nbformat": 4,
  "nbformat_minor": 0
}
