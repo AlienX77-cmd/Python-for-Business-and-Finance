{
  "cells": [
    {
      "cell_type": "markdown",
      "metadata": {
        "id": "view-in-github",
        "colab_type": "text"
      },
      "source": [
        "<a href=\"https://colab.research.google.com/github/AlienX77-cmd/Python-for-Business-and-Finance/blob/main/Part_4_Exercise_02.ipynb\" target=\"_parent\"><img src=\"https://colab.research.google.com/assets/colab-badge.svg\" alt=\"Open In Colab\"/></a>"
      ]
    },
    {
      "cell_type": "markdown",
      "metadata": {
        "id": "TffY9zHFf_HS"
      },
      "source": [
        "# Coding Exercises (Part 2)"
      ]
    },
    {
      "cell_type": "markdown",
      "metadata": {
        "id": "GHcKfIDNf_HU"
      },
      "source": [
        "Now, you will have the opportunity to analyze your own dataset. <br>\n",
        "__Follow the instructions__ and insert your code! You are either requested to\n",
        "- Complete the Code and __Fill in the gaps__. Gaps are marked with \"__---__\" and are __placeholders__ for your code fragment\n",
        "- Write Code completely __on your own__"
      ]
    },
    {
      "cell_type": "markdown",
      "metadata": {
        "id": "j2ZuJBjvf_HV"
      },
      "source": [
        "In some exercises, you will find questions that can only be answered, if your code is correct and returns the right output! The correct answer is provided below your coding cell. There you can check whether your code is correct."
      ]
    },
    {
      "cell_type": "markdown",
      "metadata": {
        "id": "QMquAsJ6f_HV"
      },
      "source": [
        "If you need a hint, check the __Hints Section__ at the end of this Notebook. Exercises and Hints are numerated accordingly."
      ]
    },
    {
      "cell_type": "markdown",
      "metadata": {
        "id": "EDq5DTwCf_HV"
      },
      "source": [
        "If you need some further help or if you want to check your code, you can also watch the __solutions videos__ or check the __solutions notebook__."
      ]
    },
    {
      "cell_type": "markdown",
      "metadata": {
        "id": "rTMvYfdtf_HX"
      },
      "source": [
        "### Have Fun!"
      ]
    },
    {
      "cell_type": "markdown",
      "metadata": {
        "id": "GspBQuwFf_HX"
      },
      "source": [
        "--------------------------------------------------------------------------------------------------------------"
      ]
    },
    {
      "cell_type": "markdown",
      "metadata": {
        "id": "9gBR9L0_f_HY"
      },
      "source": [
        "## Pandas: Basics"
      ]
    },
    {
      "cell_type": "markdown",
      "metadata": {
        "id": "pJbp0g22f_HY"
      },
      "source": [
        "### Exercise 2: Indexing and Slicing"
      ]
    },
    {
      "cell_type": "markdown",
      "metadata": {
        "id": "SKkr9BAdf_HZ"
      },
      "source": [
        "7. -__Import Pandas__ (as pd)<br>\n",
        "-__Import__ the Listings Dataset (__listings.csv__) and save the DataFrame in the variable __listings__ and<br>\n",
        "-__Inspect__ the __first 5 Rows__!"
      ]
    },
    {
      "cell_type": "code",
      "execution_count": 1,
      "metadata": {
        "id": "HY5nop5Df_Ha"
      },
      "outputs": [],
      "source": [
        "import pandas as pd"
      ]
    },
    {
      "cell_type": "code",
      "execution_count": 2,
      "metadata": {
        "id": "n2eycQ8rf_Hb"
      },
      "outputs": [],
      "source": [
        "listing = pd.read_csv(\"listings.csv\")"
      ]
    },
    {
      "cell_type": "code",
      "execution_count": 3,
      "metadata": {
        "colab": {
          "base_uri": "https://localhost:8080/",
          "height": 389
        },
        "id": "csrdlzUVf_Hb",
        "outputId": "26231519-2065-47b7-b7fb-ca51aec49802"
      },
      "outputs": [
        {
          "output_type": "execute_result",
          "data": {
            "text/plain": [
              "  Symbol Exchange                           Name  Last_Price    Market_Cap  \\\n",
              "0      A     NYSE     Agilent Technologies, Inc.       81.68  2.593470e+10   \n",
              "1     AA     NYSE              Alcoa Corporation       29.15  5.407810e+09   \n",
              "2   AABA   NASDAQ                    Altaba Inc.       75.39  4.278113e+10   \n",
              "3    AAC     NYSE             AAC Holdings, Inc.        2.16  5.314109e+07   \n",
              "4    AAL   NASDAQ  American Airlines Group, Inc.       34.02  1.527687e+10   \n",
              "\n",
              "   ADR TSO  IPO_Year            Sector  \\\n",
              "0      NaN    1999.0     Capital Goods   \n",
              "1      NaN    2016.0  Basic Industries   \n",
              "2      NaN       NaN        Technology   \n",
              "3      NaN    2014.0       Health Care   \n",
              "4      NaN       NaN    Transportation   \n",
              "\n",
              "                                           Industry  \n",
              "0  Biotechnology: Laboratory Analytical Instruments  \n",
              "1                                          Aluminum  \n",
              "2                                      EDP Services  \n",
              "3                              Medical Specialities  \n",
              "4                     Air Freight/Delivery Services  "
            ],
            "text/html": [
              "\n",
              "  <div id=\"df-4642c31a-a3b1-4e87-a385-b5d2932bc382\">\n",
              "    <div class=\"colab-df-container\">\n",
              "      <div>\n",
              "<style scoped>\n",
              "    .dataframe tbody tr th:only-of-type {\n",
              "        vertical-align: middle;\n",
              "    }\n",
              "\n",
              "    .dataframe tbody tr th {\n",
              "        vertical-align: top;\n",
              "    }\n",
              "\n",
              "    .dataframe thead th {\n",
              "        text-align: right;\n",
              "    }\n",
              "</style>\n",
              "<table border=\"1\" class=\"dataframe\">\n",
              "  <thead>\n",
              "    <tr style=\"text-align: right;\">\n",
              "      <th></th>\n",
              "      <th>Symbol</th>\n",
              "      <th>Exchange</th>\n",
              "      <th>Name</th>\n",
              "      <th>Last_Price</th>\n",
              "      <th>Market_Cap</th>\n",
              "      <th>ADR TSO</th>\n",
              "      <th>IPO_Year</th>\n",
              "      <th>Sector</th>\n",
              "      <th>Industry</th>\n",
              "    </tr>\n",
              "  </thead>\n",
              "  <tbody>\n",
              "    <tr>\n",
              "      <th>0</th>\n",
              "      <td>A</td>\n",
              "      <td>NYSE</td>\n",
              "      <td>Agilent Technologies, Inc.</td>\n",
              "      <td>81.68</td>\n",
              "      <td>2.593470e+10</td>\n",
              "      <td>NaN</td>\n",
              "      <td>1999.0</td>\n",
              "      <td>Capital Goods</td>\n",
              "      <td>Biotechnology: Laboratory Analytical Instruments</td>\n",
              "    </tr>\n",
              "    <tr>\n",
              "      <th>1</th>\n",
              "      <td>AA</td>\n",
              "      <td>NYSE</td>\n",
              "      <td>Alcoa Corporation</td>\n",
              "      <td>29.15</td>\n",
              "      <td>5.407810e+09</td>\n",
              "      <td>NaN</td>\n",
              "      <td>2016.0</td>\n",
              "      <td>Basic Industries</td>\n",
              "      <td>Aluminum</td>\n",
              "    </tr>\n",
              "    <tr>\n",
              "      <th>2</th>\n",
              "      <td>AABA</td>\n",
              "      <td>NASDAQ</td>\n",
              "      <td>Altaba Inc.</td>\n",
              "      <td>75.39</td>\n",
              "      <td>4.278113e+10</td>\n",
              "      <td>NaN</td>\n",
              "      <td>NaN</td>\n",
              "      <td>Technology</td>\n",
              "      <td>EDP Services</td>\n",
              "    </tr>\n",
              "    <tr>\n",
              "      <th>3</th>\n",
              "      <td>AAC</td>\n",
              "      <td>NYSE</td>\n",
              "      <td>AAC Holdings, Inc.</td>\n",
              "      <td>2.16</td>\n",
              "      <td>5.314109e+07</td>\n",
              "      <td>NaN</td>\n",
              "      <td>2014.0</td>\n",
              "      <td>Health Care</td>\n",
              "      <td>Medical Specialities</td>\n",
              "    </tr>\n",
              "    <tr>\n",
              "      <th>4</th>\n",
              "      <td>AAL</td>\n",
              "      <td>NASDAQ</td>\n",
              "      <td>American Airlines Group, Inc.</td>\n",
              "      <td>34.02</td>\n",
              "      <td>1.527687e+10</td>\n",
              "      <td>NaN</td>\n",
              "      <td>NaN</td>\n",
              "      <td>Transportation</td>\n",
              "      <td>Air Freight/Delivery Services</td>\n",
              "    </tr>\n",
              "  </tbody>\n",
              "</table>\n",
              "</div>\n",
              "      <button class=\"colab-df-convert\" onclick=\"convertToInteractive('df-4642c31a-a3b1-4e87-a385-b5d2932bc382')\"\n",
              "              title=\"Convert this dataframe to an interactive table.\"\n",
              "              style=\"display:none;\">\n",
              "        \n",
              "  <svg xmlns=\"http://www.w3.org/2000/svg\" height=\"24px\"viewBox=\"0 0 24 24\"\n",
              "       width=\"24px\">\n",
              "    <path d=\"M0 0h24v24H0V0z\" fill=\"none\"/>\n",
              "    <path d=\"M18.56 5.44l.94 2.06.94-2.06 2.06-.94-2.06-.94-.94-2.06-.94 2.06-2.06.94zm-11 1L8.5 8.5l.94-2.06 2.06-.94-2.06-.94L8.5 2.5l-.94 2.06-2.06.94zm10 10l.94 2.06.94-2.06 2.06-.94-2.06-.94-.94-2.06-.94 2.06-2.06.94z\"/><path d=\"M17.41 7.96l-1.37-1.37c-.4-.4-.92-.59-1.43-.59-.52 0-1.04.2-1.43.59L10.3 9.45l-7.72 7.72c-.78.78-.78 2.05 0 2.83L4 21.41c.39.39.9.59 1.41.59.51 0 1.02-.2 1.41-.59l7.78-7.78 2.81-2.81c.8-.78.8-2.07 0-2.86zM5.41 20L4 18.59l7.72-7.72 1.47 1.35L5.41 20z\"/>\n",
              "  </svg>\n",
              "      </button>\n",
              "      \n",
              "  <style>\n",
              "    .colab-df-container {\n",
              "      display:flex;\n",
              "      flex-wrap:wrap;\n",
              "      gap: 12px;\n",
              "    }\n",
              "\n",
              "    .colab-df-convert {\n",
              "      background-color: #E8F0FE;\n",
              "      border: none;\n",
              "      border-radius: 50%;\n",
              "      cursor: pointer;\n",
              "      display: none;\n",
              "      fill: #1967D2;\n",
              "      height: 32px;\n",
              "      padding: 0 0 0 0;\n",
              "      width: 32px;\n",
              "    }\n",
              "\n",
              "    .colab-df-convert:hover {\n",
              "      background-color: #E2EBFA;\n",
              "      box-shadow: 0px 1px 2px rgba(60, 64, 67, 0.3), 0px 1px 3px 1px rgba(60, 64, 67, 0.15);\n",
              "      fill: #174EA6;\n",
              "    }\n",
              "\n",
              "    [theme=dark] .colab-df-convert {\n",
              "      background-color: #3B4455;\n",
              "      fill: #D2E3FC;\n",
              "    }\n",
              "\n",
              "    [theme=dark] .colab-df-convert:hover {\n",
              "      background-color: #434B5C;\n",
              "      box-shadow: 0px 1px 3px 1px rgba(0, 0, 0, 0.15);\n",
              "      filter: drop-shadow(0px 1px 2px rgba(0, 0, 0, 0.3));\n",
              "      fill: #FFFFFF;\n",
              "    }\n",
              "  </style>\n",
              "\n",
              "      <script>\n",
              "        const buttonEl =\n",
              "          document.querySelector('#df-4642c31a-a3b1-4e87-a385-b5d2932bc382 button.colab-df-convert');\n",
              "        buttonEl.style.display =\n",
              "          google.colab.kernel.accessAllowed ? 'block' : 'none';\n",
              "\n",
              "        async function convertToInteractive(key) {\n",
              "          const element = document.querySelector('#df-4642c31a-a3b1-4e87-a385-b5d2932bc382');\n",
              "          const dataTable =\n",
              "            await google.colab.kernel.invokeFunction('convertToInteractive',\n",
              "                                                     [key], {});\n",
              "          if (!dataTable) return;\n",
              "\n",
              "          const docLinkHtml = 'Like what you see? Visit the ' +\n",
              "            '<a target=\"_blank\" href=https://colab.research.google.com/notebooks/data_table.ipynb>data table notebook</a>'\n",
              "            + ' to learn more about interactive tables.';\n",
              "          element.innerHTML = '';\n",
              "          dataTable['output_type'] = 'display_data';\n",
              "          await google.colab.output.renderOutput(dataTable, element);\n",
              "          const docLink = document.createElement('div');\n",
              "          docLink.innerHTML = docLinkHtml;\n",
              "          element.appendChild(docLink);\n",
              "        }\n",
              "      </script>\n",
              "    </div>\n",
              "  </div>\n",
              "  "
            ]
          },
          "metadata": {},
          "execution_count": 3
        }
      ],
      "source": [
        "listing.head(5)"
      ]
    },
    {
      "cell_type": "markdown",
      "metadata": {
        "id": "mezZyzO-f_Hb"
      },
      "source": [
        "8. __Select__ the column __\"Name\"__ with the __attribute__ notation! What is the __company name__ with __index label 4__?"
      ]
    },
    {
      "cell_type": "code",
      "execution_count": 4,
      "metadata": {
        "scrolled": true,
        "colab": {
          "base_uri": "https://localhost:8080/"
        },
        "id": "EByGRGgFf_Hc",
        "outputId": "efb6c6ab-4ce3-4e36-ed05-9cb52846685e"
      },
      "outputs": [
        {
          "output_type": "execute_result",
          "data": {
            "text/plain": [
              "0          Agilent Technologies, Inc.\n",
              "1                   Alcoa Corporation\n",
              "2                         Altaba Inc.\n",
              "3                  AAC Holdings, Inc.\n",
              "4       American Airlines Group, Inc.\n",
              "                    ...              \n",
              "6847                      Zumiez Inc.\n",
              "6848                      Zuora, Inc.\n",
              "6849                   Zymeworks Inc.\n",
              "6850    Zynerba Pharmaceuticals, Inc.\n",
              "6851                      Zynex, Inc.\n",
              "Name: Name, Length: 6852, dtype: object"
            ]
          },
          "metadata": {},
          "execution_count": 4
        }
      ],
      "source": [
        "listing[\"Name\"]"
      ]
    },
    {
      "cell_type": "markdown",
      "metadata": {
        "id": "YZyEVgw_f_Hc"
      },
      "source": [
        "The company name is ... American Airlines Group, Inc.!"
      ]
    },
    {
      "cell_type": "markdown",
      "metadata": {
        "id": "c8jRvruGf_Hc"
      },
      "source": [
        "9. Apply also the __second alternative__ to select the column __\"Name\"__!"
      ]
    },
    {
      "cell_type": "code",
      "execution_count": 9,
      "metadata": {
        "scrolled": true,
        "colab": {
          "base_uri": "https://localhost:8080/"
        },
        "id": "OP379G15f_Hc",
        "outputId": "cfa3f7aa-73d5-4730-a5d2-50959602769e"
      },
      "outputs": [
        {
          "output_type": "execute_result",
          "data": {
            "text/plain": [
              "0          Agilent Technologies, Inc.\n",
              "1                   Alcoa Corporation\n",
              "2                         Altaba Inc.\n",
              "3                  AAC Holdings, Inc.\n",
              "4       American Airlines Group, Inc.\n",
              "                    ...              \n",
              "6847                      Zumiez Inc.\n",
              "6848                      Zuora, Inc.\n",
              "6849                   Zymeworks Inc.\n",
              "6850    Zynerba Pharmaceuticals, Inc.\n",
              "6851                      Zynex, Inc.\n",
              "Name: Name, Length: 6852, dtype: object"
            ]
          },
          "metadata": {},
          "execution_count": 9
        }
      ],
      "source": [
        "listing.iloc[:,2]"
      ]
    },
    {
      "cell_type": "markdown",
      "metadata": {
        "id": "tWVWimi-f_Hc"
      },
      "source": [
        "10. __Select__ the listing/row at __index position 100__ with the __iloc__ operator (all columns)! What is the IPO_Year?"
      ]
    },
    {
      "cell_type": "code",
      "execution_count": 10,
      "metadata": {
        "scrolled": true,
        "colab": {
          "base_uri": "https://localhost:8080/"
        },
        "id": "jPaeJlLjf_Hd",
        "outputId": "e9be6ac5-3d90-4ca1-a154-e7243f550ec4"
      },
      "outputs": [
        {
          "output_type": "execute_result",
          "data": {
            "text/plain": [
              "Symbol                                                     ADVM\n",
              "Exchange                                                 NASDAQ\n",
              "Name                              Adverum Biotechnologies, Inc.\n",
              "Last_Price                                                 5.42\n",
              "Market_Cap                                         342549468.78\n",
              "ADR TSO                                                     NaN\n",
              "IPO_Year                                                 2014.0\n",
              "Sector                                              Health Care\n",
              "Industry      Biotechnology: Biological Products (No Diagnos...\n",
              "Name: 100, dtype: object"
            ]
          },
          "metadata": {},
          "execution_count": 10
        }
      ],
      "source": [
        "listing.iloc[100,:]"
      ]
    },
    {
      "cell_type": "markdown",
      "metadata": {
        "id": "dICa_ekkf_Hd"
      },
      "source": [
        "The IPO_Year of this listing is ... 2014!"
      ]
    },
    {
      "cell_type": "markdown",
      "metadata": {
        "id": "Y5zn1ebsf_Hd"
      },
      "source": [
        "11. __Select__ the listing/row at __index position 2000__ with the __iloc__ operator (and only the column __\"Name\"__)! <br>\n",
        "What is the __company name__ of this listing?"
      ]
    },
    {
      "cell_type": "code",
      "execution_count": 12,
      "metadata": {
        "colab": {
          "base_uri": "https://localhost:8080/",
          "height": 35
        },
        "id": "-3007uPAf_He",
        "outputId": "94b8bc10-0214-4678-f645-7018e9e912a0"
      },
      "outputs": [
        {
          "output_type": "execute_result",
          "data": {
            "text/plain": [
              "'Eagle Bancorp, Inc.'"
            ],
            "application/vnd.google.colaboratory.intrinsic+json": {
              "type": "string"
            }
          },
          "metadata": {},
          "execution_count": 12
        }
      ],
      "source": [
        "listing.iloc[2000, 2]"
      ]
    },
    {
      "cell_type": "markdown",
      "metadata": {
        "id": "iNJQauU-f_He"
      },
      "source": [
        "It´s the ... Eagle Bancorp, Inc.!"
      ]
    },
    {
      "cell_type": "markdown",
      "metadata": {
        "id": "t0i8pqIQf_He"
      },
      "source": [
        "12. __Select__ the __last 10 rows__ and the columns __Name, Last_Price, Sector__ and __Industry__ with the __iloc__ operator! __Fill in the Gaps__! <br>\n",
        "What is the __Sector__ of the __Zymeworks Inc.__?"
      ]
    },
    {
      "cell_type": "code",
      "execution_count": 13,
      "metadata": {
        "colab": {
          "base_uri": "https://localhost:8080/"
        },
        "id": "85d6rRpNf_Hf",
        "outputId": "0e6ea9ec-aaa7-4342-cd76-dc36181984e6"
      },
      "outputs": [
        {
          "output_type": "execute_result",
          "data": {
            "text/plain": [
              "Name          Zosano Pharma Corporation\n",
              "Last_Price                         3.71\n",
              "Sector                      Health Care\n",
              "Industry          Major Pharmaceuticals\n",
              "Name: 6842, dtype: object"
            ]
          },
          "metadata": {},
          "execution_count": 13
        }
      ],
      "source": [
        "listing.iloc[-10, [2, 3, 7, 8]]"
      ]
    },
    {
      "cell_type": "markdown",
      "metadata": {
        "id": "2XG_arJHf_Hf"
      },
      "source": [
        "The Sector is ... Healthcare!"
      ]
    },
    {
      "cell_type": "markdown",
      "metadata": {
        "id": "l0sbnbzxf_Hg"
      },
      "source": [
        "13. __Import__ the __Listings Dataset__ one more time (save in the variable __listings__) and set the column __\"Symbol\"__ as the __index__! <br>\n",
        "__Fill in the Gaps__!"
      ]
    },
    {
      "cell_type": "code",
      "execution_count": 14,
      "metadata": {
        "id": "RGhGbQwif_Hg"
      },
      "outputs": [],
      "source": [
        "listings = pd.read_csv(\"listings.csv\", index_col = \"Symbol\")"
      ]
    },
    {
      "cell_type": "code",
      "execution_count": 15,
      "metadata": {
        "colab": {
          "base_uri": "https://localhost:8080/",
          "height": 403
        },
        "id": "q1YBl169f_Hg",
        "outputId": "3f9f08b9-3ecc-4736-d3ba-648d61750193"
      },
      "outputs": [
        {
          "output_type": "execute_result",
          "data": {
            "text/plain": [
              "       Exchange                           Name  Last_Price    Market_Cap  \\\n",
              "Symbol                                                                     \n",
              "A          NYSE     Agilent Technologies, Inc.       81.68  2.593470e+10   \n",
              "AA         NYSE              Alcoa Corporation       29.15  5.407810e+09   \n",
              "AABA     NASDAQ                    Altaba Inc.       75.39  4.278113e+10   \n",
              "AAC        NYSE             AAC Holdings, Inc.        2.16  5.314109e+07   \n",
              "AAL      NASDAQ  American Airlines Group, Inc.       34.02  1.527687e+10   \n",
              "\n",
              "        ADR TSO  IPO_Year            Sector  \\\n",
              "Symbol                                        \n",
              "A           NaN    1999.0     Capital Goods   \n",
              "AA          NaN    2016.0  Basic Industries   \n",
              "AABA        NaN       NaN        Technology   \n",
              "AAC         NaN    2014.0       Health Care   \n",
              "AAL         NaN       NaN    Transportation   \n",
              "\n",
              "                                                Industry  \n",
              "Symbol                                                    \n",
              "A       Biotechnology: Laboratory Analytical Instruments  \n",
              "AA                                              Aluminum  \n",
              "AABA                                        EDP Services  \n",
              "AAC                                 Medical Specialities  \n",
              "AAL                        Air Freight/Delivery Services  "
            ],
            "text/html": [
              "\n",
              "  <div id=\"df-550ee5e5-da0d-4ed5-9f33-84d4419c17a2\">\n",
              "    <div class=\"colab-df-container\">\n",
              "      <div>\n",
              "<style scoped>\n",
              "    .dataframe tbody tr th:only-of-type {\n",
              "        vertical-align: middle;\n",
              "    }\n",
              "\n",
              "    .dataframe tbody tr th {\n",
              "        vertical-align: top;\n",
              "    }\n",
              "\n",
              "    .dataframe thead th {\n",
              "        text-align: right;\n",
              "    }\n",
              "</style>\n",
              "<table border=\"1\" class=\"dataframe\">\n",
              "  <thead>\n",
              "    <tr style=\"text-align: right;\">\n",
              "      <th></th>\n",
              "      <th>Exchange</th>\n",
              "      <th>Name</th>\n",
              "      <th>Last_Price</th>\n",
              "      <th>Market_Cap</th>\n",
              "      <th>ADR TSO</th>\n",
              "      <th>IPO_Year</th>\n",
              "      <th>Sector</th>\n",
              "      <th>Industry</th>\n",
              "    </tr>\n",
              "    <tr>\n",
              "      <th>Symbol</th>\n",
              "      <th></th>\n",
              "      <th></th>\n",
              "      <th></th>\n",
              "      <th></th>\n",
              "      <th></th>\n",
              "      <th></th>\n",
              "      <th></th>\n",
              "      <th></th>\n",
              "    </tr>\n",
              "  </thead>\n",
              "  <tbody>\n",
              "    <tr>\n",
              "      <th>A</th>\n",
              "      <td>NYSE</td>\n",
              "      <td>Agilent Technologies, Inc.</td>\n",
              "      <td>81.68</td>\n",
              "      <td>2.593470e+10</td>\n",
              "      <td>NaN</td>\n",
              "      <td>1999.0</td>\n",
              "      <td>Capital Goods</td>\n",
              "      <td>Biotechnology: Laboratory Analytical Instruments</td>\n",
              "    </tr>\n",
              "    <tr>\n",
              "      <th>AA</th>\n",
              "      <td>NYSE</td>\n",
              "      <td>Alcoa Corporation</td>\n",
              "      <td>29.15</td>\n",
              "      <td>5.407810e+09</td>\n",
              "      <td>NaN</td>\n",
              "      <td>2016.0</td>\n",
              "      <td>Basic Industries</td>\n",
              "      <td>Aluminum</td>\n",
              "    </tr>\n",
              "    <tr>\n",
              "      <th>AABA</th>\n",
              "      <td>NASDAQ</td>\n",
              "      <td>Altaba Inc.</td>\n",
              "      <td>75.39</td>\n",
              "      <td>4.278113e+10</td>\n",
              "      <td>NaN</td>\n",
              "      <td>NaN</td>\n",
              "      <td>Technology</td>\n",
              "      <td>EDP Services</td>\n",
              "    </tr>\n",
              "    <tr>\n",
              "      <th>AAC</th>\n",
              "      <td>NYSE</td>\n",
              "      <td>AAC Holdings, Inc.</td>\n",
              "      <td>2.16</td>\n",
              "      <td>5.314109e+07</td>\n",
              "      <td>NaN</td>\n",
              "      <td>2014.0</td>\n",
              "      <td>Health Care</td>\n",
              "      <td>Medical Specialities</td>\n",
              "    </tr>\n",
              "    <tr>\n",
              "      <th>AAL</th>\n",
              "      <td>NASDAQ</td>\n",
              "      <td>American Airlines Group, Inc.</td>\n",
              "      <td>34.02</td>\n",
              "      <td>1.527687e+10</td>\n",
              "      <td>NaN</td>\n",
              "      <td>NaN</td>\n",
              "      <td>Transportation</td>\n",
              "      <td>Air Freight/Delivery Services</td>\n",
              "    </tr>\n",
              "  </tbody>\n",
              "</table>\n",
              "</div>\n",
              "      <button class=\"colab-df-convert\" onclick=\"convertToInteractive('df-550ee5e5-da0d-4ed5-9f33-84d4419c17a2')\"\n",
              "              title=\"Convert this dataframe to an interactive table.\"\n",
              "              style=\"display:none;\">\n",
              "        \n",
              "  <svg xmlns=\"http://www.w3.org/2000/svg\" height=\"24px\"viewBox=\"0 0 24 24\"\n",
              "       width=\"24px\">\n",
              "    <path d=\"M0 0h24v24H0V0z\" fill=\"none\"/>\n",
              "    <path d=\"M18.56 5.44l.94 2.06.94-2.06 2.06-.94-2.06-.94-.94-2.06-.94 2.06-2.06.94zm-11 1L8.5 8.5l.94-2.06 2.06-.94-2.06-.94L8.5 2.5l-.94 2.06-2.06.94zm10 10l.94 2.06.94-2.06 2.06-.94-2.06-.94-.94-2.06-.94 2.06-2.06.94z\"/><path d=\"M17.41 7.96l-1.37-1.37c-.4-.4-.92-.59-1.43-.59-.52 0-1.04.2-1.43.59L10.3 9.45l-7.72 7.72c-.78.78-.78 2.05 0 2.83L4 21.41c.39.39.9.59 1.41.59.51 0 1.02-.2 1.41-.59l7.78-7.78 2.81-2.81c.8-.78.8-2.07 0-2.86zM5.41 20L4 18.59l7.72-7.72 1.47 1.35L5.41 20z\"/>\n",
              "  </svg>\n",
              "      </button>\n",
              "      \n",
              "  <style>\n",
              "    .colab-df-container {\n",
              "      display:flex;\n",
              "      flex-wrap:wrap;\n",
              "      gap: 12px;\n",
              "    }\n",
              "\n",
              "    .colab-df-convert {\n",
              "      background-color: #E8F0FE;\n",
              "      border: none;\n",
              "      border-radius: 50%;\n",
              "      cursor: pointer;\n",
              "      display: none;\n",
              "      fill: #1967D2;\n",
              "      height: 32px;\n",
              "      padding: 0 0 0 0;\n",
              "      width: 32px;\n",
              "    }\n",
              "\n",
              "    .colab-df-convert:hover {\n",
              "      background-color: #E2EBFA;\n",
              "      box-shadow: 0px 1px 2px rgba(60, 64, 67, 0.3), 0px 1px 3px 1px rgba(60, 64, 67, 0.15);\n",
              "      fill: #174EA6;\n",
              "    }\n",
              "\n",
              "    [theme=dark] .colab-df-convert {\n",
              "      background-color: #3B4455;\n",
              "      fill: #D2E3FC;\n",
              "    }\n",
              "\n",
              "    [theme=dark] .colab-df-convert:hover {\n",
              "      background-color: #434B5C;\n",
              "      box-shadow: 0px 1px 3px 1px rgba(0, 0, 0, 0.15);\n",
              "      filter: drop-shadow(0px 1px 2px rgba(0, 0, 0, 0.3));\n",
              "      fill: #FFFFFF;\n",
              "    }\n",
              "  </style>\n",
              "\n",
              "      <script>\n",
              "        const buttonEl =\n",
              "          document.querySelector('#df-550ee5e5-da0d-4ed5-9f33-84d4419c17a2 button.colab-df-convert');\n",
              "        buttonEl.style.display =\n",
              "          google.colab.kernel.accessAllowed ? 'block' : 'none';\n",
              "\n",
              "        async function convertToInteractive(key) {\n",
              "          const element = document.querySelector('#df-550ee5e5-da0d-4ed5-9f33-84d4419c17a2');\n",
              "          const dataTable =\n",
              "            await google.colab.kernel.invokeFunction('convertToInteractive',\n",
              "                                                     [key], {});\n",
              "          if (!dataTable) return;\n",
              "\n",
              "          const docLinkHtml = 'Like what you see? Visit the ' +\n",
              "            '<a target=\"_blank\" href=https://colab.research.google.com/notebooks/data_table.ipynb>data table notebook</a>'\n",
              "            + ' to learn more about interactive tables.';\n",
              "          element.innerHTML = '';\n",
              "          dataTable['output_type'] = 'display_data';\n",
              "          await google.colab.output.renderOutput(dataTable, element);\n",
              "          const docLink = document.createElement('div');\n",
              "          docLink.innerHTML = docLinkHtml;\n",
              "          element.appendChild(docLink);\n",
              "        }\n",
              "      </script>\n",
              "    </div>\n",
              "  </div>\n",
              "  "
            ]
          },
          "metadata": {},
          "execution_count": 15
        }
      ],
      "source": [
        "#run the cell and inspect!\n",
        "listings.head()"
      ]
    },
    {
      "cell_type": "code",
      "execution_count": 16,
      "metadata": {
        "colab": {
          "base_uri": "https://localhost:8080/"
        },
        "id": "v3YH3xK_f_Hh",
        "outputId": "d44400e7-8be1-4989-dcf6-cb5662812015"
      },
      "outputs": [
        {
          "output_type": "stream",
          "name": "stdout",
          "text": [
            "<class 'pandas.core.frame.DataFrame'>\n",
            "Index: 6852 entries, A to ZYXI\n",
            "Data columns (total 8 columns):\n",
            " #   Column      Non-Null Count  Dtype  \n",
            "---  ------      --------------  -----  \n",
            " 0   Exchange    6852 non-null   object \n",
            " 1   Name        6852 non-null   object \n",
            " 2   Last_Price  6745 non-null   float64\n",
            " 3   Market_Cap  5954 non-null   float64\n",
            " 4   ADR TSO     140 non-null    float64\n",
            " 5   IPO_Year    3105 non-null   float64\n",
            " 6   Sector      5309 non-null   object \n",
            " 7   Industry    5309 non-null   object \n",
            "dtypes: float64(4), object(4)\n",
            "memory usage: 481.8+ KB\n"
          ]
        }
      ],
      "source": [
        "#run the cell and inspect!\n",
        "listings.info()"
      ]
    },
    {
      "cell_type": "markdown",
      "metadata": {
        "id": "j13sw69Ef_Hi"
      },
      "source": [
        "14. __Inspect__ the new Index of the DataFrame by calling the __index__ attribute!"
      ]
    },
    {
      "cell_type": "code",
      "execution_count": 21,
      "metadata": {
        "scrolled": true,
        "colab": {
          "base_uri": "https://localhost:8080/"
        },
        "id": "XNFDy_0Gf_Hi",
        "outputId": "4b49a9db-e0cc-4828-b343-c50c7af0b53e"
      },
      "outputs": [
        {
          "output_type": "execute_result",
          "data": {
            "text/plain": [
              "Index(['A', 'AA', 'AABA', 'AAC', 'AAL', 'AAMC', 'AAME', 'AAN', 'AAOI', 'AAON',\n",
              "       ...\n",
              "       'ZSAN', 'ZTEST', 'ZTO', 'ZTR', 'ZTS', 'ZUMZ', 'ZUO', 'ZYME', 'ZYNE',\n",
              "       'ZYXI'],\n",
              "      dtype='object', name='Symbol', length=6852)"
            ]
          },
          "metadata": {},
          "execution_count": 21
        }
      ],
      "source": [
        "listings.index"
      ]
    },
    {
      "cell_type": "markdown",
      "metadata": {
        "id": "soNqCgTHf_Hj"
      },
      "source": [
        "15. __Select__ the __row__ with the index label __\"AAPL\"__ (Apple) (use the __loc__ operator)! What is the __Last_Price__?"
      ]
    },
    {
      "cell_type": "code",
      "execution_count": 22,
      "metadata": {
        "scrolled": true,
        "colab": {
          "base_uri": "https://localhost:8080/"
        },
        "id": "dUWrRYzpf_Hj",
        "outputId": "1e3c9e6c-5689-41dd-80c3-27dc23e2ff58"
      },
      "outputs": [
        {
          "output_type": "execute_result",
          "data": {
            "text/plain": [
              "Exchange                      NASDAQ\n",
              "Name                      Apple Inc.\n",
              "Last_Price                    200.62\n",
              "Market_Cap            945979473600.0\n",
              "ADR TSO                          NaN\n",
              "IPO_Year                      1980.0\n",
              "Sector                    Technology\n",
              "Industry      Computer Manufacturing\n",
              "Name: AAPL, dtype: object"
            ]
          },
          "metadata": {},
          "execution_count": 22
        }
      ],
      "source": [
        "listings.loc[\"AAPL\"]"
      ]
    },
    {
      "cell_type": "markdown",
      "metadata": {
        "id": "vl9UB2Djf_Hj"
      },
      "source": [
        "The Last_Price is ... 200.62!"
      ]
    },
    {
      "cell_type": "markdown",
      "metadata": {
        "id": "rDjFJXktf_Hk"
      },
      "source": [
        "16. __Select__ the __row__ with the index label __\"FB\"__ (Facebook) and only the columns __\"IPO_Year\"__ and __\"Industry\"__! <br>\n",
        "What´s the __Industry__?"
      ]
    },
    {
      "cell_type": "code",
      "execution_count": 23,
      "metadata": {
        "colab": {
          "base_uri": "https://localhost:8080/"
        },
        "id": "XiblX9Ndf_Hk",
        "outputId": "850c746b-c706-484a-aa83-f0d5c94fda87"
      },
      "outputs": [
        {
          "output_type": "execute_result",
          "data": {
            "text/plain": [
              "IPO_Year                                             2012.0\n",
              "Industry    Computer Software: Programming, Data Processing\n",
              "Name: FB, dtype: object"
            ]
          },
          "metadata": {},
          "execution_count": 23
        }
      ],
      "source": [
        "listings.loc[\"FB\", [\"IPO_Year\", \"Industry\"]]"
      ]
    },
    {
      "cell_type": "markdown",
      "metadata": {
        "id": "R-1uRmiyf_Hk"
      },
      "source": [
        "The Industry is ... Computer Software: Programming, Data Processing!"
      ]
    },
    {
      "cell_type": "markdown",
      "metadata": {
        "id": "ZqBPwmnLf_Hk"
      },
      "source": [
        "17. __Select__ the columns __\"Name\"__ and __\"Last_Price\"__ with the __loc__ operator (all rows)!"
      ]
    },
    {
      "cell_type": "code",
      "execution_count": 24,
      "metadata": {
        "scrolled": true,
        "colab": {
          "base_uri": "https://localhost:8080/",
          "height": 455
        },
        "id": "gY3yQ25qf_Hl",
        "outputId": "22809a51-5988-4c52-c702-5764b6ef2e07"
      },
      "outputs": [
        {
          "output_type": "execute_result",
          "data": {
            "text/plain": [
              "                                 Name  Last_Price\n",
              "Symbol                                           \n",
              "A          Agilent Technologies, Inc.       81.68\n",
              "AA                  Alcoa Corporation       29.15\n",
              "AABA                      Altaba Inc.       75.39\n",
              "AAC                AAC Holdings, Inc.        2.16\n",
              "AAL     American Airlines Group, Inc.       34.02\n",
              "...                               ...         ...\n",
              "ZUMZ                      Zumiez Inc.       26.72\n",
              "ZUO                       Zuora, Inc.       19.79\n",
              "ZYME                   Zymeworks Inc.       15.74\n",
              "ZYNE    Zynerba Pharmaceuticals, Inc.        7.85\n",
              "ZYXI                      Zynex, Inc.        5.02\n",
              "\n",
              "[6852 rows x 2 columns]"
            ],
            "text/html": [
              "\n",
              "  <div id=\"df-25b9ec16-7ddc-4a67-ae72-420b3dbc62b2\">\n",
              "    <div class=\"colab-df-container\">\n",
              "      <div>\n",
              "<style scoped>\n",
              "    .dataframe tbody tr th:only-of-type {\n",
              "        vertical-align: middle;\n",
              "    }\n",
              "\n",
              "    .dataframe tbody tr th {\n",
              "        vertical-align: top;\n",
              "    }\n",
              "\n",
              "    .dataframe thead th {\n",
              "        text-align: right;\n",
              "    }\n",
              "</style>\n",
              "<table border=\"1\" class=\"dataframe\">\n",
              "  <thead>\n",
              "    <tr style=\"text-align: right;\">\n",
              "      <th></th>\n",
              "      <th>Name</th>\n",
              "      <th>Last_Price</th>\n",
              "    </tr>\n",
              "    <tr>\n",
              "      <th>Symbol</th>\n",
              "      <th></th>\n",
              "      <th></th>\n",
              "    </tr>\n",
              "  </thead>\n",
              "  <tbody>\n",
              "    <tr>\n",
              "      <th>A</th>\n",
              "      <td>Agilent Technologies, Inc.</td>\n",
              "      <td>81.68</td>\n",
              "    </tr>\n",
              "    <tr>\n",
              "      <th>AA</th>\n",
              "      <td>Alcoa Corporation</td>\n",
              "      <td>29.15</td>\n",
              "    </tr>\n",
              "    <tr>\n",
              "      <th>AABA</th>\n",
              "      <td>Altaba Inc.</td>\n",
              "      <td>75.39</td>\n",
              "    </tr>\n",
              "    <tr>\n",
              "      <th>AAC</th>\n",
              "      <td>AAC Holdings, Inc.</td>\n",
              "      <td>2.16</td>\n",
              "    </tr>\n",
              "    <tr>\n",
              "      <th>AAL</th>\n",
              "      <td>American Airlines Group, Inc.</td>\n",
              "      <td>34.02</td>\n",
              "    </tr>\n",
              "    <tr>\n",
              "      <th>...</th>\n",
              "      <td>...</td>\n",
              "      <td>...</td>\n",
              "    </tr>\n",
              "    <tr>\n",
              "      <th>ZUMZ</th>\n",
              "      <td>Zumiez Inc.</td>\n",
              "      <td>26.72</td>\n",
              "    </tr>\n",
              "    <tr>\n",
              "      <th>ZUO</th>\n",
              "      <td>Zuora, Inc.</td>\n",
              "      <td>19.79</td>\n",
              "    </tr>\n",
              "    <tr>\n",
              "      <th>ZYME</th>\n",
              "      <td>Zymeworks Inc.</td>\n",
              "      <td>15.74</td>\n",
              "    </tr>\n",
              "    <tr>\n",
              "      <th>ZYNE</th>\n",
              "      <td>Zynerba Pharmaceuticals, Inc.</td>\n",
              "      <td>7.85</td>\n",
              "    </tr>\n",
              "    <tr>\n",
              "      <th>ZYXI</th>\n",
              "      <td>Zynex, Inc.</td>\n",
              "      <td>5.02</td>\n",
              "    </tr>\n",
              "  </tbody>\n",
              "</table>\n",
              "<p>6852 rows × 2 columns</p>\n",
              "</div>\n",
              "      <button class=\"colab-df-convert\" onclick=\"convertToInteractive('df-25b9ec16-7ddc-4a67-ae72-420b3dbc62b2')\"\n",
              "              title=\"Convert this dataframe to an interactive table.\"\n",
              "              style=\"display:none;\">\n",
              "        \n",
              "  <svg xmlns=\"http://www.w3.org/2000/svg\" height=\"24px\"viewBox=\"0 0 24 24\"\n",
              "       width=\"24px\">\n",
              "    <path d=\"M0 0h24v24H0V0z\" fill=\"none\"/>\n",
              "    <path d=\"M18.56 5.44l.94 2.06.94-2.06 2.06-.94-2.06-.94-.94-2.06-.94 2.06-2.06.94zm-11 1L8.5 8.5l.94-2.06 2.06-.94-2.06-.94L8.5 2.5l-.94 2.06-2.06.94zm10 10l.94 2.06.94-2.06 2.06-.94-2.06-.94-.94-2.06-.94 2.06-2.06.94z\"/><path d=\"M17.41 7.96l-1.37-1.37c-.4-.4-.92-.59-1.43-.59-.52 0-1.04.2-1.43.59L10.3 9.45l-7.72 7.72c-.78.78-.78 2.05 0 2.83L4 21.41c.39.39.9.59 1.41.59.51 0 1.02-.2 1.41-.59l7.78-7.78 2.81-2.81c.8-.78.8-2.07 0-2.86zM5.41 20L4 18.59l7.72-7.72 1.47 1.35L5.41 20z\"/>\n",
              "  </svg>\n",
              "      </button>\n",
              "      \n",
              "  <style>\n",
              "    .colab-df-container {\n",
              "      display:flex;\n",
              "      flex-wrap:wrap;\n",
              "      gap: 12px;\n",
              "    }\n",
              "\n",
              "    .colab-df-convert {\n",
              "      background-color: #E8F0FE;\n",
              "      border: none;\n",
              "      border-radius: 50%;\n",
              "      cursor: pointer;\n",
              "      display: none;\n",
              "      fill: #1967D2;\n",
              "      height: 32px;\n",
              "      padding: 0 0 0 0;\n",
              "      width: 32px;\n",
              "    }\n",
              "\n",
              "    .colab-df-convert:hover {\n",
              "      background-color: #E2EBFA;\n",
              "      box-shadow: 0px 1px 2px rgba(60, 64, 67, 0.3), 0px 1px 3px 1px rgba(60, 64, 67, 0.15);\n",
              "      fill: #174EA6;\n",
              "    }\n",
              "\n",
              "    [theme=dark] .colab-df-convert {\n",
              "      background-color: #3B4455;\n",
              "      fill: #D2E3FC;\n",
              "    }\n",
              "\n",
              "    [theme=dark] .colab-df-convert:hover {\n",
              "      background-color: #434B5C;\n",
              "      box-shadow: 0px 1px 3px 1px rgba(0, 0, 0, 0.15);\n",
              "      filter: drop-shadow(0px 1px 2px rgba(0, 0, 0, 0.3));\n",
              "      fill: #FFFFFF;\n",
              "    }\n",
              "  </style>\n",
              "\n",
              "      <script>\n",
              "        const buttonEl =\n",
              "          document.querySelector('#df-25b9ec16-7ddc-4a67-ae72-420b3dbc62b2 button.colab-df-convert');\n",
              "        buttonEl.style.display =\n",
              "          google.colab.kernel.accessAllowed ? 'block' : 'none';\n",
              "\n",
              "        async function convertToInteractive(key) {\n",
              "          const element = document.querySelector('#df-25b9ec16-7ddc-4a67-ae72-420b3dbc62b2');\n",
              "          const dataTable =\n",
              "            await google.colab.kernel.invokeFunction('convertToInteractive',\n",
              "                                                     [key], {});\n",
              "          if (!dataTable) return;\n",
              "\n",
              "          const docLinkHtml = 'Like what you see? Visit the ' +\n",
              "            '<a target=\"_blank\" href=https://colab.research.google.com/notebooks/data_table.ipynb>data table notebook</a>'\n",
              "            + ' to learn more about interactive tables.';\n",
              "          element.innerHTML = '';\n",
              "          dataTable['output_type'] = 'display_data';\n",
              "          await google.colab.output.renderOutput(dataTable, element);\n",
              "          const docLink = document.createElement('div');\n",
              "          docLink.innerHTML = docLinkHtml;\n",
              "          element.appendChild(docLink);\n",
              "        }\n",
              "      </script>\n",
              "    </div>\n",
              "  </div>\n",
              "  "
            ]
          },
          "metadata": {},
          "execution_count": 24
        }
      ],
      "source": [
        "listings.loc[:, [\"Name\", \"Last_Price\"]]"
      ]
    },
    {
      "cell_type": "markdown",
      "metadata": {
        "id": "yiWdzmaWf_Hl"
      },
      "source": [
        "18. __Select__ the last three columns __\"IPO_Year\"__, __\"Sector\"__ and __\"Industry\"__ for __\"MSFT\"__ (Microsoft) and __\"DIS\"__ (Disney) with the __loc__ operator. Don´t use \"Sector\" or \"Industry\" in your code! What is Disney´s __Industry__?"
      ]
    },
    {
      "cell_type": "code",
      "execution_count": 27,
      "metadata": {
        "colab": {
          "base_uri": "https://localhost:8080/",
          "height": 143
        },
        "id": "m2hyLin4f_Hl",
        "outputId": "add8557b-28dc-4de7-a274-53968018fabc"
      },
      "outputs": [
        {
          "output_type": "execute_result",
          "data": {
            "text/plain": [
              "        IPO_Year             Sector                                 Industry\n",
              "Symbol                                                                      \n",
              "MSFT      1986.0         Technology  Computer Software: Prepackaged Software\n",
              "DIS          NaN  Consumer Services                      Television Services"
            ],
            "text/html": [
              "\n",
              "  <div id=\"df-ed2ce284-3aef-4835-bad4-15295a1aaeb6\">\n",
              "    <div class=\"colab-df-container\">\n",
              "      <div>\n",
              "<style scoped>\n",
              "    .dataframe tbody tr th:only-of-type {\n",
              "        vertical-align: middle;\n",
              "    }\n",
              "\n",
              "    .dataframe tbody tr th {\n",
              "        vertical-align: top;\n",
              "    }\n",
              "\n",
              "    .dataframe thead th {\n",
              "        text-align: right;\n",
              "    }\n",
              "</style>\n",
              "<table border=\"1\" class=\"dataframe\">\n",
              "  <thead>\n",
              "    <tr style=\"text-align: right;\">\n",
              "      <th></th>\n",
              "      <th>IPO_Year</th>\n",
              "      <th>Sector</th>\n",
              "      <th>Industry</th>\n",
              "    </tr>\n",
              "    <tr>\n",
              "      <th>Symbol</th>\n",
              "      <th></th>\n",
              "      <th></th>\n",
              "      <th></th>\n",
              "    </tr>\n",
              "  </thead>\n",
              "  <tbody>\n",
              "    <tr>\n",
              "      <th>MSFT</th>\n",
              "      <td>1986.0</td>\n",
              "      <td>Technology</td>\n",
              "      <td>Computer Software: Prepackaged Software</td>\n",
              "    </tr>\n",
              "    <tr>\n",
              "      <th>DIS</th>\n",
              "      <td>NaN</td>\n",
              "      <td>Consumer Services</td>\n",
              "      <td>Television Services</td>\n",
              "    </tr>\n",
              "  </tbody>\n",
              "</table>\n",
              "</div>\n",
              "      <button class=\"colab-df-convert\" onclick=\"convertToInteractive('df-ed2ce284-3aef-4835-bad4-15295a1aaeb6')\"\n",
              "              title=\"Convert this dataframe to an interactive table.\"\n",
              "              style=\"display:none;\">\n",
              "        \n",
              "  <svg xmlns=\"http://www.w3.org/2000/svg\" height=\"24px\"viewBox=\"0 0 24 24\"\n",
              "       width=\"24px\">\n",
              "    <path d=\"M0 0h24v24H0V0z\" fill=\"none\"/>\n",
              "    <path d=\"M18.56 5.44l.94 2.06.94-2.06 2.06-.94-2.06-.94-.94-2.06-.94 2.06-2.06.94zm-11 1L8.5 8.5l.94-2.06 2.06-.94-2.06-.94L8.5 2.5l-.94 2.06-2.06.94zm10 10l.94 2.06.94-2.06 2.06-.94-2.06-.94-.94-2.06-.94 2.06-2.06.94z\"/><path d=\"M17.41 7.96l-1.37-1.37c-.4-.4-.92-.59-1.43-.59-.52 0-1.04.2-1.43.59L10.3 9.45l-7.72 7.72c-.78.78-.78 2.05 0 2.83L4 21.41c.39.39.9.59 1.41.59.51 0 1.02-.2 1.41-.59l7.78-7.78 2.81-2.81c.8-.78.8-2.07 0-2.86zM5.41 20L4 18.59l7.72-7.72 1.47 1.35L5.41 20z\"/>\n",
              "  </svg>\n",
              "      </button>\n",
              "      \n",
              "  <style>\n",
              "    .colab-df-container {\n",
              "      display:flex;\n",
              "      flex-wrap:wrap;\n",
              "      gap: 12px;\n",
              "    }\n",
              "\n",
              "    .colab-df-convert {\n",
              "      background-color: #E8F0FE;\n",
              "      border: none;\n",
              "      border-radius: 50%;\n",
              "      cursor: pointer;\n",
              "      display: none;\n",
              "      fill: #1967D2;\n",
              "      height: 32px;\n",
              "      padding: 0 0 0 0;\n",
              "      width: 32px;\n",
              "    }\n",
              "\n",
              "    .colab-df-convert:hover {\n",
              "      background-color: #E2EBFA;\n",
              "      box-shadow: 0px 1px 2px rgba(60, 64, 67, 0.3), 0px 1px 3px 1px rgba(60, 64, 67, 0.15);\n",
              "      fill: #174EA6;\n",
              "    }\n",
              "\n",
              "    [theme=dark] .colab-df-convert {\n",
              "      background-color: #3B4455;\n",
              "      fill: #D2E3FC;\n",
              "    }\n",
              "\n",
              "    [theme=dark] .colab-df-convert:hover {\n",
              "      background-color: #434B5C;\n",
              "      box-shadow: 0px 1px 3px 1px rgba(0, 0, 0, 0.15);\n",
              "      filter: drop-shadow(0px 1px 2px rgba(0, 0, 0, 0.3));\n",
              "      fill: #FFFFFF;\n",
              "    }\n",
              "  </style>\n",
              "\n",
              "      <script>\n",
              "        const buttonEl =\n",
              "          document.querySelector('#df-ed2ce284-3aef-4835-bad4-15295a1aaeb6 button.colab-df-convert');\n",
              "        buttonEl.style.display =\n",
              "          google.colab.kernel.accessAllowed ? 'block' : 'none';\n",
              "\n",
              "        async function convertToInteractive(key) {\n",
              "          const element = document.querySelector('#df-ed2ce284-3aef-4835-bad4-15295a1aaeb6');\n",
              "          const dataTable =\n",
              "            await google.colab.kernel.invokeFunction('convertToInteractive',\n",
              "                                                     [key], {});\n",
              "          if (!dataTable) return;\n",
              "\n",
              "          const docLinkHtml = 'Like what you see? Visit the ' +\n",
              "            '<a target=\"_blank\" href=https://colab.research.google.com/notebooks/data_table.ipynb>data table notebook</a>'\n",
              "            + ' to learn more about interactive tables.';\n",
              "          element.innerHTML = '';\n",
              "          dataTable['output_type'] = 'display_data';\n",
              "          await google.colab.output.renderOutput(dataTable, element);\n",
              "          const docLink = document.createElement('div');\n",
              "          docLink.innerHTML = docLinkHtml;\n",
              "          element.appendChild(docLink);\n",
              "        }\n",
              "      </script>\n",
              "    </div>\n",
              "  </div>\n",
              "  "
            ]
          },
          "metadata": {},
          "execution_count": 27
        }
      ],
      "source": [
        "listings.loc[[\"MSFT\", \"DIS\"], \"IPO_Year\":]"
      ]
    },
    {
      "cell_type": "markdown",
      "metadata": {
        "id": "nCesxvn0f_Hl"
      },
      "source": [
        "Disney´s Industry is ... Television Services"
      ]
    },
    {
      "cell_type": "markdown",
      "metadata": {
        "id": "E88r24dHf_Hm"
      },
      "source": [
        "# Well Done!"
      ]
    },
    {
      "cell_type": "markdown",
      "metadata": {
        "id": "EE9Brhg-f_Hm"
      },
      "source": [
        "---------------------------------------------------------------------------------------------------------------------"
      ]
    },
    {
      "cell_type": "markdown",
      "metadata": {
        "id": "ZZgfwL-af_Hm"
      },
      "source": [
        "# Hints (Spoiler!)"
      ]
    },
    {
      "cell_type": "markdown",
      "metadata": {
        "id": "viGDiLW5f_Hm"
      },
      "source": [
        "7. pandas as pd, pd.read_csv(\"filename\"), head()"
      ]
    },
    {
      "cell_type": "markdown",
      "metadata": {
        "id": "yvHs5Eg2f_Hm"
      },
      "source": [
        "8. listings.---"
      ]
    },
    {
      "cell_type": "markdown",
      "metadata": {
        "id": "HOECjyJdf_Hm"
      },
      "source": [
        "9. listings[\"---\"]"
      ]
    },
    {
      "cell_type": "markdown",
      "metadata": {
        "id": "DqR1ik2wf_Hn"
      },
      "source": [
        "10. listings.iloc[---]"
      ]
    },
    {
      "cell_type": "markdown",
      "metadata": {
        "id": "WNamePCHf_Hn"
      },
      "source": [
        "11. listings.iloc[row index position, column index position]; \"Name\" column is at index position ... 2"
      ]
    },
    {
      "cell_type": "markdown",
      "metadata": {
        "id": "0zAQ4MjZf_Ho"
      },
      "source": [
        "12. The last 10 rows = from index position -10 till the end (:); Count the column index positions of the Columns\n"
      ]
    },
    {
      "cell_type": "markdown",
      "metadata": {
        "id": "qwYBn-Tef_Hp"
      },
      "source": [
        "13. parameter index_col"
      ]
    },
    {
      "cell_type": "markdown",
      "metadata": {
        "id": "TODsPoGOf_Hp"
      },
      "source": [
        "14. listings.---"
      ]
    },
    {
      "cell_type": "markdown",
      "metadata": {
        "id": "rx36jczzf_Hq"
      },
      "source": [
        "15. listings.loc[\"row label\"]"
      ]
    },
    {
      "cell_type": "markdown",
      "metadata": {
        "id": "FA2rxkmrf_Hq"
      },
      "source": [
        "16. listings.loc[---, [---, ---]]"
      ]
    },
    {
      "cell_type": "markdown",
      "metadata": {
        "id": "mlq-ew5jf_Hs"
      },
      "source": [
        "17.  listings.loc[ : , [---, ---]]"
      ]
    },
    {
      "cell_type": "markdown",
      "metadata": {
        "id": "Nr1IqYcNf_Hs"
      },
      "source": [
        "18. listings.loc[[---, ---], ---:]"
      ]
    },
    {
      "cell_type": "code",
      "execution_count": null,
      "metadata": {
        "id": "cVTXHCNxf_Hs"
      },
      "outputs": [],
      "source": []
    }
  ],
  "metadata": {
    "kernelspec": {
      "display_name": "Python 3",
      "language": "python",
      "name": "python3"
    },
    "language_info": {
      "codemirror_mode": {
        "name": "ipython",
        "version": 3
      },
      "file_extension": ".py",
      "mimetype": "text/x-python",
      "name": "python",
      "nbconvert_exporter": "python",
      "pygments_lexer": "ipython3",
      "version": "3.7.3"
    },
    "colab": {
      "provenance": [],
      "include_colab_link": true
    }
  },
  "nbformat": 4,
  "nbformat_minor": 0
}