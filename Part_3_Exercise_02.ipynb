{
  "cells": [
    {
      "cell_type": "markdown",
      "metadata": {
        "id": "view-in-github",
        "colab_type": "text"
      },
      "source": [
        "<a href=\"https://colab.research.google.com/github/AlienX77-cmd/Python-for-Business-and-Finance/blob/main/Part_3_Exercise_02.ipynb\" target=\"_parent\"><img src=\"https://colab.research.google.com/assets/colab-badge.svg\" alt=\"Open In Colab\"/></a>"
      ]
    },
    {
      "cell_type": "markdown",
      "metadata": {
        "id": "KDZrUQqiiuGl"
      },
      "source": [
        "# Coding Exercises (Part 3)"
      ]
    },
    {
      "cell_type": "markdown",
      "metadata": {
        "id": "XWQbODbliuGn"
      },
      "source": [
        "Now, you will have the opportunity to practice what you have learned. <br>\n",
        "__Follow the instructions__ and insert your code!"
      ]
    },
    {
      "cell_type": "markdown",
      "metadata": {
        "id": "e8-oG_PYiuGp"
      },
      "source": [
        "The correct answer is provided below your coding cell. There you can check whether your code is correct."
      ]
    },
    {
      "cell_type": "markdown",
      "metadata": {
        "id": "_FI5QFwLiuGq"
      },
      "source": [
        "If you need some help or if you want to check your code, you can also have a look at the __solutions__."
      ]
    },
    {
      "cell_type": "markdown",
      "metadata": {
        "id": "HmY4f8YOiuGs"
      },
      "source": [
        "### Have Fun!"
      ]
    },
    {
      "cell_type": "markdown",
      "metadata": {
        "id": "iSn-rbfPiuGt"
      },
      "source": [
        "--------------------------------------------------------------------------------------------------------------"
      ]
    },
    {
      "cell_type": "markdown",
      "metadata": {
        "id": "d6iDD4U8iuGt"
      },
      "source": [
        "## Exercise 2: User-defined functions"
      ]
    },
    {
      "cell_type": "markdown",
      "metadata": {
        "id": "wDjoUd46iuGt"
      },
      "source": [
        "1. Create the user-defined function __present_value__ that calculates and returns the __present value of a single future payment__. (assume annual compounding freqeuncy, function should have three parameters)."
      ]
    },
    {
      "cell_type": "code",
      "execution_count": 14,
      "metadata": {
        "id": "S25u43NliuGu"
      },
      "outputs": [],
      "source": [
        "def present_value(fv, rate, nper):\n",
        "    pv = fv / (1 + rate)**nper\n",
        "    return pv"
      ]
    },
    {
      "cell_type": "code",
      "execution_count": null,
      "metadata": {
        "id": "4PEJbGmQiuGv"
      },
      "outputs": [],
      "source": []
    },
    {
      "cell_type": "markdown",
      "metadata": {
        "id": "TIFW4EZ4iuGw"
      },
      "source": [
        "2. __Call the function__ present_value for a __1,000 USD__ payment that occurs in __10 years__. Assume an __interest rate of 5.0%__."
      ]
    },
    {
      "cell_type": "code",
      "execution_count": 15,
      "metadata": {
        "colab": {
          "base_uri": "https://localhost:8080/"
        },
        "id": "AiC2blpjiuGx",
        "outputId": "7e09f73b-8862-41b2-8331-c7e0c6756c62"
      },
      "outputs": [
        {
          "output_type": "execute_result",
          "data": {
            "text/plain": [
              "613.9132535407591"
            ]
          },
          "metadata": {},
          "execution_count": 15
        }
      ],
      "source": [
        "present_value(1000, 0.05, 10)"
      ]
    },
    {
      "cell_type": "markdown",
      "metadata": {
        "id": "ilpwy9fdiuGx"
      },
      "source": [
        "(result: 613.9132535407591)"
      ]
    },
    {
      "cell_type": "code",
      "execution_count": null,
      "metadata": {
        "id": "a8TpxNqpiuGx"
      },
      "outputs": [],
      "source": []
    },
    {
      "cell_type": "markdown",
      "metadata": {
        "id": "iufa1X0SiuGx"
      },
      "source": [
        "3. Add the __fourth parameter m__ to the present_value function that allows to set __compounding frequency__ to __monthly/quarterly/semi-annual__. Define a __default argument for m__ in a way that present_value assumes __annual__ compounding frequency by default."
      ]
    },
    {
      "cell_type": "code",
      "execution_count": 16,
      "metadata": {
        "id": "41JAX2afiuGz"
      },
      "outputs": [],
      "source": [
        "def present_value(fv, rate, nper, m = 1):\n",
        "\t  pv = fv / (1 + rate/m)**(nper*m)\n",
        "\t  return pv"
      ]
    },
    {
      "cell_type": "code",
      "execution_count": null,
      "metadata": {
        "id": "l1RX65MAiuGz"
      },
      "outputs": [],
      "source": []
    },
    {
      "cell_type": "markdown",
      "metadata": {
        "id": "jxoYqoeAiuGz"
      },
      "source": [
        "4. __Call present_value__ with same inputs as in __Question 2__, but now assuming __monthly compounding frequency__."
      ]
    },
    {
      "cell_type": "code",
      "execution_count": 17,
      "metadata": {
        "colab": {
          "base_uri": "https://localhost:8080/"
        },
        "id": "OuYray6riuG0",
        "outputId": "fa02b607-21ee-4fb9-a5e0-cd4c3b6378d9"
      },
      "outputs": [
        {
          "output_type": "execute_result",
          "data": {
            "text/plain": [
              "607.1610402990219"
            ]
          },
          "metadata": {},
          "execution_count": 17
        }
      ],
      "source": [
        "present_value(1000, 0.05, 10, 12)"
      ]
    },
    {
      "cell_type": "markdown",
      "metadata": {
        "id": "1pBKO6OiiuG0"
      },
      "source": [
        "(result: 607.1610402990219)"
      ]
    },
    {
      "cell_type": "code",
      "execution_count": null,
      "metadata": {
        "id": "HFZMK0mLiuG1"
      },
      "outputs": [],
      "source": []
    },
    {
      "cell_type": "markdown",
      "metadata": {
        "id": "xjwOAYodiuG1"
      },
      "source": [
        "5. (DIFFICULT!) Create the __function mortgage_loan__ that __calculates and returns__ a __2-dim numpy array__ with __1) total debt payments__, __2) interest component__, __3) amortization component__ and __4) outstanding loan balance__ for each and every period (incl. start). <br>\n",
        "(As an example: the numpy array for a loan with a term of 48 months shall have 49 rows (for each period incl. start) and 4 columns) <br><br>"
      ]
    },
    {
      "cell_type": "markdown",
      "metadata": {
        "id": "_TJJkUV-iuG2"
      },
      "source": [
        "The function mortgage_loan shall have the __following parameters__:\n",
        "- Initial Loan Amount / Balance -> __pv__\n",
        "- Term (number of periods) -> __nper__\n",
        "- stated annual interest rate -> __r__\n",
        "- final Loan Balance at Maturity -> __fv__\n",
        "- compounding frequency -> __m__ (default argument m = 12)"
      ]
    },
    {
      "cell_type": "code",
      "source": [
        "!pip install numpy_financial"
      ],
      "metadata": {
        "colab": {
          "base_uri": "https://localhost:8080/"
        },
        "id": "65-HZoektfEX",
        "outputId": "a6265447-6b94-4610-e065-53601094a942"
      },
      "execution_count": 19,
      "outputs": [
        {
          "output_type": "stream",
          "name": "stdout",
          "text": [
            "Looking in indexes: https://pypi.org/simple, https://us-python.pkg.dev/colab-wheels/public/simple/\n",
            "Collecting numpy_financial\n",
            "  Downloading numpy_financial-1.0.0-py3-none-any.whl (14 kB)\n",
            "Requirement already satisfied: numpy>=1.15 in /usr/local/lib/python3.10/dist-packages (from numpy_financial) (1.22.4)\n",
            "Installing collected packages: numpy_financial\n",
            "Successfully installed numpy_financial-1.0.0\n"
          ]
        }
      ]
    },
    {
      "cell_type": "code",
      "execution_count": 20,
      "metadata": {
        "id": "ulD2G5hoiuG3"
      },
      "outputs": [],
      "source": [
        "# run the cell\n",
        "import numpy as np\n",
        "import numpy_financial as npf # NEW!!!\n",
        "np.set_printoptions(precision=2, suppress= True)"
      ]
    },
    {
      "cell_type": "code",
      "execution_count": 25,
      "metadata": {
        "id": "olq3oo5AiuG4"
      },
      "outputs": [],
      "source": [
        "def mortgage_loan(pv, nper, r, fv, m = 12):\n",
        "    array = np.empty((nper+1) * 4).reshape(nper+1, 4) #creating the empty array\n",
        "    array[0,[0, 1, 2]] = 0 # initial payments (total, interest, amortization) at inception (t = 0) are 0\n",
        "\n",
        "    #complete the code!\n",
        "\n",
        "    # Calculate Total Debt Payments\n",
        "    total = npf.pmt(rate = r/m, nper = nper, pv = pv, fv = fv)\n",
        "\n",
        "\t  # Total Debt Payments\n",
        "    array[1:, 0] = total #row = 1 to the end and column 0 only\n",
        "\n",
        "\t  # Compute the payment against loan principal.\n",
        "    array[1:, 1] = npf.ppmt(rate = r/m, per = range(1, nper + 1), nper = nper, pv = pv, fv = fv)\n",
        "\n",
        "\t  # Compute the interest portion of a payment.\n",
        "    array[1:, 2] = npf.ipmt(rate = r/m, per = range(1, nper + 1), nper = nper, pv = pv, fv = fv)\n",
        "\n",
        "\t  # Outstanding loan balance for each and every period (includinng start)\n",
        "    array[:, 3] = -npf.fv(rate = r/m, nper = range(nper + 1), pmt = total, pv = pv)\n",
        "\n",
        "    return array"
      ]
    },
    {
      "cell_type": "code",
      "execution_count": null,
      "metadata": {
        "id": "3GTJps8diuG5"
      },
      "outputs": [],
      "source": []
    },
    {
      "cell_type": "markdown",
      "metadata": {
        "id": "YPCEmGB7iuG5"
      },
      "source": [
        "6. __Call mortgage_loan__ for a loan with the following terms:"
      ]
    },
    {
      "cell_type": "markdown",
      "metadata": {
        "id": "YvLeAL8uiuG6"
      },
      "source": [
        "- __800,000 USD__ Initial Balance\n",
        "- 20 years -> __240 months__\n",
        "- __4.25%__ stated annual interest rate\n",
        "- final Loan Balance after 20 years: __0 USD__\n",
        "- __monthly__ compounding frequency"
      ]
    },
    {
      "cell_type": "code",
      "execution_count": 26,
      "metadata": {
        "colab": {
          "base_uri": "https://localhost:8080/"
        },
        "id": "M9g6X4CXiuG6",
        "outputId": "01098cca-c3a9-469e-9e33-f85dbeb99531"
      },
      "outputs": [
        {
          "output_type": "execute_result",
          "data": {
            "text/plain": [
              "array([[     0.  ,      0.  ,      0.  , 800000.  ],\n",
              "       [ -4953.88,  -2120.54,  -2833.33, 797879.46],\n",
              "       [ -4953.88,  -2128.05,  -2825.82, 795751.4 ],\n",
              "       [ -4953.88,  -2135.59,  -2818.29, 793615.82],\n",
              "       [ -4953.88,  -2143.15,  -2810.72, 791472.66],\n",
              "       [ -4953.88,  -2150.74,  -2803.13, 789321.92],\n",
              "       [ -4953.88,  -2158.36,  -2795.52, 787163.56],\n",
              "       [ -4953.88,  -2166.  ,  -2787.87, 784997.55],\n",
              "       [ -4953.88,  -2173.68,  -2780.2 , 782823.88],\n",
              "       [ -4953.88,  -2181.37,  -2772.5 , 780642.5 ],\n",
              "       [ -4953.88,  -2189.1 ,  -2764.78, 778453.4 ],\n",
              "       [ -4953.88,  -2196.85,  -2757.02, 776256.55],\n",
              "       [ -4953.88,  -2204.63,  -2749.24, 774051.92],\n",
              "       [ -4953.88,  -2212.44,  -2741.43, 771839.47],\n",
              "       [ -4953.88,  -2220.28,  -2733.6 , 769619.2 ],\n",
              "       [ -4953.88,  -2228.14,  -2725.73, 767391.05],\n",
              "       [ -4953.88,  -2236.03,  -2717.84, 765155.02],\n",
              "       [ -4953.88,  -2243.95,  -2709.92, 762911.07],\n",
              "       [ -4953.88,  -2251.9 ,  -2701.98, 760659.17],\n",
              "       [ -4953.88,  -2259.87,  -2694.  , 758399.3 ],\n",
              "       [ -4953.88,  -2267.88,  -2686.  , 756131.42],\n",
              "       [ -4953.88,  -2275.91,  -2677.97, 753855.51],\n",
              "       [ -4953.88,  -2283.97,  -2669.9 , 751571.54],\n",
              "       [ -4953.88,  -2292.06,  -2661.82, 749279.48],\n",
              "       [ -4953.88,  -2300.18,  -2653.7 , 746979.3 ],\n",
              "       [ -4953.88,  -2308.32,  -2645.55, 744670.98],\n",
              "       [ -4953.88,  -2316.5 ,  -2637.38, 742354.48],\n",
              "       [ -4953.88,  -2324.7 ,  -2629.17, 740029.77],\n",
              "       [ -4953.88,  -2332.94,  -2620.94, 737696.84],\n",
              "       [ -4953.88,  -2341.2 ,  -2612.68, 735355.64],\n",
              "       [ -4953.88,  -2349.49,  -2604.38, 733006.15],\n",
              "       [ -4953.88,  -2357.81,  -2596.06, 730648.33],\n",
              "       [ -4953.88,  -2366.16,  -2587.71, 728282.17],\n",
              "       [ -4953.88,  -2374.54,  -2579.33, 725907.63],\n",
              "       [ -4953.88,  -2382.95,  -2570.92, 723524.67],\n",
              "       [ -4953.88,  -2391.39,  -2562.48, 721133.28],\n",
              "       [ -4953.88,  -2399.86,  -2554.01, 718733.42],\n",
              "       [ -4953.88,  -2408.36,  -2545.51, 716325.06],\n",
              "       [ -4953.88,  -2416.89,  -2536.98, 713908.17],\n",
              "       [ -4953.88,  -2425.45,  -2528.42, 711482.72],\n",
              "       [ -4953.88,  -2434.04,  -2519.83, 709048.67],\n",
              "       [ -4953.88,  -2442.66,  -2511.21, 706606.01],\n",
              "       [ -4953.88,  -2451.31,  -2502.56, 704154.7 ],\n",
              "       [ -4953.88,  -2459.99,  -2493.88, 701694.71],\n",
              "       [ -4953.88,  -2468.71,  -2485.17, 699226.  ],\n",
              "       [ -4953.88,  -2477.45,  -2476.43, 696748.55],\n",
              "       [ -4953.88,  -2486.22,  -2467.65, 694262.32],\n",
              "       [ -4953.88,  -2495.03,  -2458.85, 691767.29],\n",
              "       [ -4953.88,  -2503.87,  -2450.01, 689263.43],\n",
              "       [ -4953.88,  -2512.73,  -2441.14, 686750.69],\n",
              "       [ -4953.88,  -2521.63,  -2432.24, 684229.06],\n",
              "       [ -4953.88,  -2530.56,  -2423.31, 681698.49],\n",
              "       [ -4953.88,  -2539.53,  -2414.35, 679158.97],\n",
              "       [ -4953.88,  -2548.52,  -2405.35, 676610.45],\n",
              "       [ -4953.88,  -2557.55,  -2396.33, 674052.9 ],\n",
              "       [ -4953.88,  -2566.61,  -2387.27, 671486.29],\n",
              "       [ -4953.88,  -2575.7 ,  -2378.18, 668910.6 ],\n",
              "       [ -4953.88,  -2584.82,  -2369.06, 666325.78],\n",
              "       [ -4953.88,  -2593.97,  -2359.9 , 663731.81],\n",
              "       [ -4953.88,  -2603.16,  -2350.72, 661128.65],\n",
              "       [ -4953.88,  -2612.38,  -2341.5 , 658516.27],\n",
              "       [ -4953.88,  -2621.63,  -2332.25, 655894.64],\n",
              "       [ -4953.88,  -2630.92,  -2322.96, 653263.73],\n",
              "       [ -4953.88,  -2640.23,  -2313.64, 650623.49],\n",
              "       [ -4953.88,  -2649.58,  -2304.29, 647973.91],\n",
              "       [ -4953.88,  -2658.97,  -2294.91, 645314.94],\n",
              "       [ -4953.88,  -2668.39,  -2285.49, 642646.56],\n",
              "       [ -4953.88,  -2677.84,  -2276.04, 639968.72],\n",
              "       [ -4953.88,  -2687.32,  -2266.56, 637281.4 ],\n",
              "       [ -4953.88,  -2696.84,  -2257.04, 634584.56],\n",
              "       [ -4953.88,  -2706.39,  -2247.49, 631878.17],\n",
              "       [ -4953.88,  -2715.97,  -2237.9 , 629162.2 ],\n",
              "       [ -4953.88,  -2725.59,  -2228.28, 626436.61],\n",
              "       [ -4953.88,  -2735.25,  -2218.63, 623701.36],\n",
              "       [ -4953.88,  -2744.93,  -2208.94, 620956.43],\n",
              "       [ -4953.88,  -2754.66,  -2199.22, 618201.77],\n",
              "       [ -4953.88,  -2764.41,  -2189.46, 615437.36],\n",
              "       [ -4953.88,  -2774.2 ,  -2179.67, 612663.16],\n",
              "       [ -4953.88,  -2784.03,  -2169.85, 609879.13],\n",
              "       [ -4953.88,  -2793.89,  -2159.99, 607085.24],\n",
              "       [ -4953.88,  -2803.78,  -2150.09, 604281.46],\n",
              "       [ -4953.88,  -2813.71,  -2140.16, 601467.75],\n",
              "       [ -4953.88,  -2823.68,  -2130.2 , 598644.07],\n",
              "       [ -4953.88,  -2833.68,  -2120.2 , 595810.39],\n",
              "       [ -4953.88,  -2843.71,  -2110.16, 592966.68],\n",
              "       [ -4953.88,  -2853.79,  -2100.09, 590112.9 ],\n",
              "       [ -4953.88,  -2863.89,  -2089.98, 587249.  ],\n",
              "       [ -4953.88,  -2874.04,  -2079.84, 584374.97],\n",
              "       [ -4953.88,  -2884.21,  -2069.66, 581490.75],\n",
              "       [ -4953.88,  -2894.43,  -2059.45, 578596.32],\n",
              "       [ -4953.88,  -2904.68,  -2049.2 , 575691.64],\n",
              "       [ -4953.88,  -2914.97,  -2038.91, 572776.68],\n",
              "       [ -4953.88,  -2925.29,  -2028.58, 569851.38],\n",
              "       [ -4953.88,  -2935.65,  -2018.22, 566915.73],\n",
              "       [ -4953.88,  -2946.05,  -2007.83, 563969.68],\n",
              "       [ -4953.88,  -2956.48,  -1997.39, 561013.2 ],\n",
              "       [ -4953.88,  -2966.95,  -1986.92, 558046.25],\n",
              "       [ -4953.88,  -2977.46,  -1976.41, 555068.78],\n",
              "       [ -4953.88,  -2988.01,  -1965.87, 552080.78],\n",
              "       [ -4953.88,  -2998.59,  -1955.29, 549082.19],\n",
              "       [ -4953.88,  -3009.21,  -1944.67, 546072.98],\n",
              "       [ -4953.88,  -3019.87,  -1934.01, 543053.11],\n",
              "       [ -4953.88,  -3030.56,  -1923.31, 540022.55],\n",
              "       [ -4953.88,  -3041.3 ,  -1912.58, 536981.25],\n",
              "       [ -4953.88,  -3052.07,  -1901.81, 533929.18],\n",
              "       [ -4953.88,  -3062.88,  -1891.  , 530866.31],\n",
              "       [ -4953.88,  -3073.72,  -1880.15, 527792.58],\n",
              "       [ -4953.88,  -3084.61,  -1869.27, 524707.97],\n",
              "       [ -4953.88,  -3095.54,  -1858.34, 521612.44],\n",
              "       [ -4953.88,  -3106.5 ,  -1847.38, 518505.94],\n",
              "       [ -4953.88,  -3117.5 ,  -1836.38, 515388.44],\n",
              "       [ -4953.88,  -3128.54,  -1825.33, 512259.9 ],\n",
              "       [ -4953.88,  -3139.62,  -1814.25, 509120.28],\n",
              "       [ -4953.88,  -3150.74,  -1803.13, 505969.53],\n",
              "       [ -4953.88,  -3161.9 ,  -1791.98, 502807.63],\n",
              "       [ -4953.88,  -3173.1 ,  -1780.78, 499634.53],\n",
              "       [ -4953.88,  -3184.34,  -1769.54, 496450.2 ],\n",
              "       [ -4953.88,  -3195.61,  -1758.26, 493254.58],\n",
              "       [ -4953.88,  -3206.93,  -1746.94, 490047.65],\n",
              "       [ -4953.88,  -3218.29,  -1735.59, 486829.36],\n",
              "       [ -4953.88,  -3229.69,  -1724.19, 483599.67],\n",
              "       [ -4953.88,  -3241.13,  -1712.75, 480358.55],\n",
              "       [ -4953.88,  -3252.61,  -1701.27, 477105.94],\n",
              "       [ -4953.88,  -3264.13,  -1689.75, 473841.81],\n",
              "       [ -4953.88,  -3275.69,  -1678.19, 470566.13],\n",
              "       [ -4953.88,  -3287.29,  -1666.59, 467278.84],\n",
              "       [ -4953.88,  -3298.93,  -1654.95, 463979.91],\n",
              "       [ -4953.88,  -3310.61,  -1643.26, 460669.3 ],\n",
              "       [ -4953.88,  -3322.34,  -1631.54, 457346.96],\n",
              "       [ -4953.88,  -3334.11,  -1619.77, 454012.85],\n",
              "       [ -4953.88,  -3345.91,  -1607.96, 450666.94],\n",
              "       [ -4953.88,  -3357.76,  -1596.11, 447309.18],\n",
              "       [ -4953.88,  -3369.66,  -1584.22, 443939.52],\n",
              "       [ -4953.88,  -3381.59,  -1572.29, 440557.93],\n",
              "       [ -4953.88,  -3393.57,  -1560.31, 437164.36],\n",
              "       [ -4953.88,  -3405.59,  -1548.29, 433758.78],\n",
              "       [ -4953.88,  -3417.65,  -1536.23, 430341.13],\n",
              "       [ -4953.88,  -3429.75,  -1524.12, 426911.38],\n",
              "       [ -4953.88,  -3441.9 ,  -1511.98, 423469.48],\n",
              "       [ -4953.88,  -3454.09,  -1499.79, 420015.39],\n",
              "       [ -4953.88,  -3466.32,  -1487.55, 416549.07],\n",
              "       [ -4953.88,  -3478.6 ,  -1475.28, 413070.48],\n",
              "       [ -4953.88,  -3490.92,  -1462.96, 409579.56],\n",
              "       [ -4953.88,  -3503.28,  -1450.59, 406076.28],\n",
              "       [ -4953.88,  -3515.69,  -1438.19, 402560.59],\n",
              "       [ -4953.88,  -3528.14,  -1425.74, 399032.45],\n",
              "       [ -4953.88,  -3540.64,  -1413.24, 395491.81],\n",
              "       [ -4953.88,  -3553.18,  -1400.7 , 391938.64],\n",
              "       [ -4953.88,  -3565.76,  -1388.12, 388372.88],\n",
              "       [ -4953.88,  -3578.39,  -1375.49, 384794.49],\n",
              "       [ -4953.88,  -3591.06,  -1362.81, 381203.43],\n",
              "       [ -4953.88,  -3603.78,  -1350.1 , 377599.65],\n",
              "       [ -4953.88,  -3616.54,  -1337.33, 373983.1 ],\n",
              "       [ -4953.88,  -3629.35,  -1324.52, 370353.75],\n",
              "       [ -4953.88,  -3642.21,  -1311.67, 366711.54],\n",
              "       [ -4953.88,  -3655.11,  -1298.77, 363056.44],\n",
              "       [ -4953.88,  -3668.05,  -1285.82, 359388.39],\n",
              "       [ -4953.88,  -3681.04,  -1272.83, 355707.34],\n",
              "       [ -4953.88,  -3694.08,  -1259.8 , 352013.27],\n",
              "       [ -4953.88,  -3707.16,  -1246.71, 348306.1 ],\n",
              "       [ -4953.88,  -3720.29,  -1233.58, 344585.81],\n",
              "       [ -4953.88,  -3733.47,  -1220.41, 340852.34],\n",
              "       [ -4953.88,  -3746.69,  -1207.19, 337105.65],\n",
              "       [ -4953.88,  -3759.96,  -1193.92, 333345.69],\n",
              "       [ -4953.88,  -3773.28,  -1180.6 , 329572.42],\n",
              "       [ -4953.88,  -3786.64,  -1167.24, 325785.78],\n",
              "       [ -4953.88,  -3800.05,  -1153.82, 321985.73],\n",
              "       [ -4953.88,  -3813.51,  -1140.37, 318172.22],\n",
              "       [ -4953.88,  -3827.02,  -1126.86, 314345.2 ],\n",
              "       [ -4953.88,  -3840.57,  -1113.31, 310504.63],\n",
              "       [ -4953.88,  -3854.17,  -1099.7 , 306650.46],\n",
              "       [ -4953.88,  -3867.82,  -1086.05, 302782.64],\n",
              "       [ -4953.88,  -3881.52,  -1072.36, 298901.12],\n",
              "       [ -4953.88,  -3895.27,  -1058.61, 295005.85],\n",
              "       [ -4953.88,  -3909.06,  -1044.81, 291096.79],\n",
              "       [ -4953.88,  -3922.91,  -1030.97, 287173.88],\n",
              "       [ -4953.88,  -3936.8 ,  -1017.07, 283237.08],\n",
              "       [ -4953.88,  -3950.74,  -1003.13, 279286.33],\n",
              "       [ -4953.88,  -3964.74,   -989.14, 275321.59],\n",
              "       [ -4953.88,  -3978.78,   -975.1 , 271342.82],\n",
              "       [ -4953.88,  -3992.87,   -961.01, 267349.95],\n",
              "       [ -4953.88,  -4007.01,   -946.86, 263342.94],\n",
              "       [ -4953.88,  -4021.2 ,   -932.67, 259321.73],\n",
              "       [ -4953.88,  -4035.44,   -918.43, 255286.29],\n",
              "       [ -4953.88,  -4049.74,   -904.14, 251236.55],\n",
              "       [ -4953.88,  -4064.08,   -889.8 , 247172.47],\n",
              "       [ -4953.88,  -4078.47,   -875.4 , 243094.  ],\n",
              "       [ -4953.88,  -4092.92,   -860.96, 239001.08],\n",
              "       [ -4953.88,  -4107.41,   -846.46, 234893.67],\n",
              "       [ -4953.88,  -4121.96,   -831.92, 230771.71],\n",
              "       [ -4953.88,  -4136.56,   -817.32, 226635.15],\n",
              "       [ -4953.88,  -4151.21,   -802.67, 222483.94],\n",
              "       [ -4953.88,  -4165.91,   -787.96, 218318.03],\n",
              "       [ -4953.88,  -4180.67,   -773.21, 214137.36],\n",
              "       [ -4953.88,  -4195.47,   -758.4 , 209941.89],\n",
              "       [ -4953.88,  -4210.33,   -743.54, 205731.55],\n",
              "       [ -4953.88,  -4225.24,   -728.63, 201506.31],\n",
              "       [ -4953.88,  -4240.21,   -713.67, 197266.1 ],\n",
              "       [ -4953.88,  -4255.22,   -698.65, 193010.88],\n",
              "       [ -4953.88,  -4270.3 ,   -683.58, 188740.58],\n",
              "       [ -4953.88,  -4285.42,   -668.46, 184455.16],\n",
              "       [ -4953.88,  -4300.6 ,   -653.28, 180154.57],\n",
              "       [ -4953.88,  -4315.83,   -638.05, 175838.74],\n",
              "       [ -4953.88,  -4331.11,   -622.76, 171507.63],\n",
              "       [ -4953.88,  -4346.45,   -607.42, 167161.17],\n",
              "       [ -4953.88,  -4361.85,   -592.03, 162799.33],\n",
              "       [ -4953.88,  -4377.29,   -576.58, 158422.03],\n",
              "       [ -4953.88,  -4392.8 ,   -561.08, 154029.23],\n",
              "       [ -4953.88,  -4408.36,   -545.52, 149620.88],\n",
              "       [ -4953.88,  -4423.97,   -529.91, 145196.91],\n",
              "       [ -4953.88,  -4439.64,   -514.24, 140757.27],\n",
              "       [ -4953.88,  -4455.36,   -498.52, 136301.91],\n",
              "       [ -4953.88,  -4471.14,   -482.74, 131830.77],\n",
              "       [ -4953.88,  -4486.98,   -466.9 , 127343.8 ],\n",
              "       [ -4953.88,  -4502.87,   -451.01, 122840.93],\n",
              "       [ -4953.88,  -4518.81,   -435.06, 118322.12],\n",
              "       [ -4953.88,  -4534.82,   -419.06, 113787.3 ],\n",
              "       [ -4953.88,  -4550.88,   -403.  , 109236.42],\n",
              "       [ -4953.88,  -4567.  ,   -386.88, 104669.42],\n",
              "       [ -4953.88,  -4583.17,   -370.7 , 100086.25],\n",
              "       [ -4953.88,  -4599.4 ,   -354.47,  95486.85],\n",
              "       [ -4953.88,  -4615.69,   -338.18,  90871.15],\n",
              "       [ -4953.88,  -4632.04,   -321.84,  86239.11],\n",
              "       [ -4953.88,  -4648.45,   -305.43,  81590.67],\n",
              "       [ -4953.88,  -4664.91,   -288.97,  76925.76],\n",
              "       [ -4953.88,  -4681.43,   -272.45,  72244.33],\n",
              "       [ -4953.88,  -4698.01,   -255.87,  67546.32],\n",
              "       [ -4953.88,  -4714.65,   -239.23,  62831.67],\n",
              "       [ -4953.88,  -4731.35,   -222.53,  58100.32],\n",
              "       [ -4953.88,  -4748.1 ,   -205.77,  53352.22],\n",
              "       [ -4953.88,  -4764.92,   -188.96,  48587.3 ],\n",
              "       [ -4953.88,  -4781.8 ,   -172.08,  43805.5 ],\n",
              "       [ -4953.88,  -4798.73,   -155.14,  39006.77],\n",
              "       [ -4953.88,  -4815.73,   -138.15,  34191.04],\n",
              "       [ -4953.88,  -4832.78,   -121.09,  29358.26],\n",
              "       [ -4953.88,  -4849.9 ,   -103.98,  24508.36],\n",
              "       [ -4953.88,  -4867.08,    -86.8 ,  19641.29],\n",
              "       [ -4953.88,  -4884.31,    -69.56,  14756.98],\n",
              "       [ -4953.88,  -4901.61,    -52.26,   9855.36],\n",
              "       [ -4953.88,  -4918.97,    -34.9 ,   4936.39],\n",
              "       [ -4953.88,  -4936.39,    -17.48,      0.  ]])"
            ]
          },
          "metadata": {},
          "execution_count": 26
        }
      ],
      "source": [
        "mortgage_loan(pv = 800000, nper = 240, r = 0.0425, fv = 0, m = 12)"
      ]
    },
    {
      "cell_type": "markdown",
      "metadata": {
        "id": "abBytBydiuG8"
      },
      "source": [
        "(the total debt payment per month is 4953.88)"
      ]
    },
    {
      "cell_type": "code",
      "execution_count": null,
      "metadata": {
        "id": "7mtlNHdIiuG8"
      },
      "outputs": [],
      "source": []
    },
    {
      "cell_type": "markdown",
      "metadata": {
        "id": "nUhTEtm0iuG9"
      },
      "source": [
        "7. __Visualize__ the remaining __Loan Balance__ over time."
      ]
    },
    {
      "cell_type": "code",
      "execution_count": 30,
      "metadata": {
        "id": "VXUnjGa4iuG9"
      },
      "outputs": [],
      "source": [
        "# run the cell!\n",
        "import matplotlib.pyplot as plt"
      ]
    },
    {
      "cell_type": "code",
      "execution_count": 27,
      "metadata": {
        "id": "KUHBZe2xiuG-"
      },
      "outputs": [],
      "source": [
        "balance = mortgage_loan(pv = 800000, nper = 240, r = 0.0425, fv = 0, m = 12)[:, -1] #all rows but only last column is chosen"
      ]
    },
    {
      "cell_type": "code",
      "execution_count": 28,
      "metadata": {
        "colab": {
          "base_uri": "https://localhost:8080/"
        },
        "id": "Fk8bBYIviuG-",
        "outputId": "8bc208a2-37a2-40ab-99a9-50703518c57d"
      },
      "outputs": [
        {
          "output_type": "execute_result",
          "data": {
            "text/plain": [
              "array([800000.  , 797879.46, 795751.4 , 793615.82, 791472.66, 789321.92,\n",
              "       787163.56, 784997.55, 782823.88, 780642.5 , 778453.4 , 776256.55,\n",
              "       774051.92, 771839.47, 769619.2 , 767391.05, 765155.02, 762911.07,\n",
              "       760659.17, 758399.3 , 756131.42, 753855.51, 751571.54, 749279.48,\n",
              "       746979.3 , 744670.98, 742354.48, 740029.77, 737696.84, 735355.64,\n",
              "       733006.15, 730648.33, 728282.17, 725907.63, 723524.67, 721133.28,\n",
              "       718733.42, 716325.06, 713908.17, 711482.72, 709048.67, 706606.01,\n",
              "       704154.7 , 701694.71, 699226.  , 696748.55, 694262.32, 691767.29,\n",
              "       689263.43, 686750.69, 684229.06, 681698.49, 679158.97, 676610.45,\n",
              "       674052.9 , 671486.29, 668910.6 , 666325.78, 663731.81, 661128.65,\n",
              "       658516.27, 655894.64, 653263.73, 650623.49, 647973.91, 645314.94,\n",
              "       642646.56, 639968.72, 637281.4 , 634584.56, 631878.17, 629162.2 ,\n",
              "       626436.61, 623701.36, 620956.43, 618201.77, 615437.36, 612663.16,\n",
              "       609879.13, 607085.24, 604281.46, 601467.75, 598644.07, 595810.39,\n",
              "       592966.68, 590112.9 , 587249.  , 584374.97, 581490.75, 578596.32,\n",
              "       575691.64, 572776.68, 569851.38, 566915.73, 563969.68, 561013.2 ,\n",
              "       558046.25, 555068.78, 552080.78, 549082.19, 546072.98, 543053.11,\n",
              "       540022.55, 536981.25, 533929.18, 530866.31, 527792.58, 524707.97,\n",
              "       521612.44, 518505.94, 515388.44, 512259.9 , 509120.28, 505969.53,\n",
              "       502807.63, 499634.53, 496450.2 , 493254.58, 490047.65, 486829.36,\n",
              "       483599.67, 480358.55, 477105.94, 473841.81, 470566.13, 467278.84,\n",
              "       463979.91, 460669.3 , 457346.96, 454012.85, 450666.94, 447309.18,\n",
              "       443939.52, 440557.93, 437164.36, 433758.78, 430341.13, 426911.38,\n",
              "       423469.48, 420015.39, 416549.07, 413070.48, 409579.56, 406076.28,\n",
              "       402560.59, 399032.45, 395491.81, 391938.64, 388372.88, 384794.49,\n",
              "       381203.43, 377599.65, 373983.1 , 370353.75, 366711.54, 363056.44,\n",
              "       359388.39, 355707.34, 352013.27, 348306.1 , 344585.81, 340852.34,\n",
              "       337105.65, 333345.69, 329572.42, 325785.78, 321985.73, 318172.22,\n",
              "       314345.2 , 310504.63, 306650.46, 302782.64, 298901.12, 295005.85,\n",
              "       291096.79, 287173.88, 283237.08, 279286.33, 275321.59, 271342.82,\n",
              "       267349.95, 263342.94, 259321.73, 255286.29, 251236.55, 247172.47,\n",
              "       243094.  , 239001.08, 234893.67, 230771.71, 226635.15, 222483.94,\n",
              "       218318.03, 214137.36, 209941.89, 205731.55, 201506.31, 197266.1 ,\n",
              "       193010.88, 188740.58, 184455.16, 180154.57, 175838.74, 171507.63,\n",
              "       167161.17, 162799.33, 158422.03, 154029.23, 149620.88, 145196.91,\n",
              "       140757.27, 136301.91, 131830.77, 127343.8 , 122840.93, 118322.12,\n",
              "       113787.3 , 109236.42, 104669.42, 100086.25,  95486.85,  90871.15,\n",
              "        86239.11,  81590.67,  76925.76,  72244.33,  67546.32,  62831.67,\n",
              "        58100.32,  53352.22,  48587.3 ,  43805.5 ,  39006.77,  34191.04,\n",
              "        29358.26,  24508.36,  19641.29,  14756.98,   9855.36,   4936.39,\n",
              "            0.  ])"
            ]
          },
          "metadata": {},
          "execution_count": 28
        }
      ],
      "source": [
        "balance"
      ]
    },
    {
      "cell_type": "code",
      "execution_count": 31,
      "metadata": {
        "colab": {
          "base_uri": "https://localhost:8080/",
          "height": 676
        },
        "id": "HeMi0lckiuG_",
        "outputId": "31bdb98b-eac6-4fc2-d7bc-8552d65a2d3e"
      },
      "outputs": [
        {
          "output_type": "display_data",
          "data": {
            "text/plain": [
              "<Figure size 1200x800 with 1 Axes>"
            ],
            "image/png": "[encoded data removed]"
          },
          "metadata": {}
        }
      ],
      "source": [
        "plt.figure(figsize = (12, 8))\n",
        "plt.plot(range(240+1), balance) #x axis = 240 months, y axis = balance values\n",
        "plt.show()"
      ]
    },
    {
      "cell_type": "code",
      "execution_count": null,
      "metadata": {
        "id": "Bxu46P4CiuG_"
      },
      "outputs": [],
      "source": []
    },
    {
      "cell_type": "markdown",
      "metadata": {
        "id": "GSzsChyriuHA"
      },
      "source": [
        "# Well Done!"
      ]
    },
    {
      "cell_type": "markdown",
      "metadata": {
        "id": "VlcuV3IPiuHA"
      },
      "source": [
        "---------------------------------------------------------------------------------------------------------------------"
      ]
    },
    {
      "cell_type": "markdown",
      "metadata": {
        "id": "rxLCh5k9iuHB"
      },
      "source": [
        "# Solutions (Stop here if you want to code on your own!)"
      ]
    },
    {
      "cell_type": "markdown",
      "metadata": {
        "id": "LZehkvb6iuHC"
      },
      "source": [
        "# ++++++++++++++++++++++++++++++++++++++++++++++++++++++++++++++"
      ]
    },
    {
      "cell_type": "code",
      "execution_count": null,
      "metadata": {
        "id": "3MIxHlpxiuHC"
      },
      "outputs": [],
      "source": []
    },
    {
      "cell_type": "markdown",
      "metadata": {
        "id": "sRfNlIJRiuHD"
      },
      "source": [
        "1. Create the user-defined function __present_value__ that calculates and returns the __present value of a single future payment__. (assume annual compounding freqeuncy, function should have three parameters)."
      ]
    },
    {
      "cell_type": "code",
      "execution_count": null,
      "metadata": {
        "id": "8qOUw2EeiuHD"
      },
      "outputs": [],
      "source": [
        "def present_value(fv, rate, nper):\n",
        "    pv = fv / (1 + rate)**nper\n",
        "    return pv"
      ]
    },
    {
      "cell_type": "code",
      "execution_count": null,
      "metadata": {
        "id": "l6QL6TjxiuHE"
      },
      "outputs": [],
      "source": []
    },
    {
      "cell_type": "markdown",
      "metadata": {
        "id": "Ym0-dogpiuHE"
      },
      "source": [
        "2. __Call the function__ present_value for a __1,000 USD__ payment that occurs in __10 years__. Assume an __interest rate of 5.0%__."
      ]
    },
    {
      "cell_type": "code",
      "execution_count": null,
      "metadata": {
        "id": "7l96BH7tiuHF"
      },
      "outputs": [],
      "source": [
        "present_value(fv = 1000, rate = 0.05, nper = 10)"
      ]
    },
    {
      "cell_type": "markdown",
      "metadata": {
        "id": "gKoo08ZriuHF"
      },
      "source": [
        "(result: 613.9132535407591)"
      ]
    },
    {
      "cell_type": "code",
      "execution_count": null,
      "metadata": {
        "id": "lUlSigeDiuHG"
      },
      "outputs": [],
      "source": []
    },
    {
      "cell_type": "markdown",
      "metadata": {
        "id": "W9zfLXVniuHH"
      },
      "source": [
        "3. Add the __fourth parameter m__ to the present_value function that allows to set __compounding frequency__ to __monthly/quarterly/semi-annual__. Define a __default argument for m__ in a way that present_value assumes __annual__ compounding frequency by default."
      ]
    },
    {
      "cell_type": "code",
      "execution_count": null,
      "metadata": {
        "id": "n9KiP7qciuHH"
      },
      "outputs": [],
      "source": [
        "def present_value(fv, rate, nper, m = 1):\n",
        "    pv = fv / (1 + rate/m)**(nper*m)\n",
        "    return pv"
      ]
    },
    {
      "cell_type": "code",
      "execution_count": null,
      "metadata": {
        "id": "0v7CJrhIiuHI"
      },
      "outputs": [],
      "source": []
    },
    {
      "cell_type": "markdown",
      "metadata": {
        "id": "xh1eIx0JiuHI"
      },
      "source": [
        "4. __Call present_value__ with same inputs as in __Question 2__, but now assuming __monthly compounding frequency__."
      ]
    },
    {
      "cell_type": "code",
      "execution_count": null,
      "metadata": {
        "id": "L_DtxZV-iuHJ"
      },
      "outputs": [],
      "source": [
        "present_value(fv = 1000, rate = 0.05, nper = 10, m = 12)"
      ]
    },
    {
      "cell_type": "markdown",
      "metadata": {
        "id": "7sXMtMGMiuHJ"
      },
      "source": [
        "(result: 607.1610402990219)"
      ]
    },
    {
      "cell_type": "code",
      "execution_count": null,
      "metadata": {
        "id": "0zydRVYhiuHK"
      },
      "outputs": [],
      "source": []
    },
    {
      "cell_type": "markdown",
      "metadata": {
        "id": "g54t9IQLiuHL"
      },
      "source": [
        "5. (DIFFICULT!) Create the __function mortgage_loan__ that __calculates and returns__ a __2-dim numpy array__ with __1) total debt payments__, __2) interest component__, __3) amortization component__ and __4) outstanding loan balance__ for each and every period (incl. start). <br>\n",
        "(As an example: the numpy array for a loan with a term of 48 months shall have 49 rows (for each period incl. start) and 4 columns) <br><br>"
      ]
    },
    {
      "cell_type": "markdown",
      "metadata": {
        "id": "uudh4_VViuHM"
      },
      "source": [
        "The function mortgage_loan shall have the __following parameters__:\n",
        "- Initial Loan Amount / Balance -> __pv__\n",
        "- Term (number of periods) -> __nper__\n",
        "- stated annual interest rate -> __r__\n",
        "- final Loan Balance at Maturity -> __fv__\n",
        "- compounding frequency -> __m__ (default argument m = 12)"
      ]
    },
    {
      "cell_type": "code",
      "execution_count": null,
      "metadata": {
        "id": "_Ojf84cRiuHN"
      },
      "outputs": [],
      "source": [
        "# run the cell\n",
        "import numpy as np\n",
        "import numpy_financial as npf # NEW!!!\n",
        "np.set_printoptions(precision=2, suppress= True)"
      ]
    },
    {
      "cell_type": "code",
      "execution_count": null,
      "metadata": {
        "id": "EQaqL6mqiuHN"
      },
      "outputs": [],
      "source": [
        "def mortgage_loan(pv, nper, r, fv, m = 12):\n",
        "\n",
        "    array = np.empty((nper+1) * 4).reshape(nper+1, 4)\n",
        "    array[0,[0, 1, 2]] = 0\n",
        "    total = npf.pmt(rate = r/m, nper = nper, pv = pv, fv = fv)\n",
        "    array[1:, 0] = total\n",
        "    array[1:, 1] = npf.ppmt(rate = r/m, per = range(1, nper + 1), nper = nper, pv = pv, fv = fv)\n",
        "    array[1:, 2] = npf.ipmt(rate = r/m, per = range(1, nper + 1), nper = nper, pv = pv, fv = fv)\n",
        "    array[:, 3] = -npf.fv(rate = r/m, nper = range(nper + 1), pmt = total, pv = pv)\n",
        "\n",
        "    return array"
      ]
    },
    {
      "cell_type": "code",
      "execution_count": null,
      "metadata": {
        "id": "haTiOVBqiuHO"
      },
      "outputs": [],
      "source": []
    },
    {
      "cell_type": "markdown",
      "metadata": {
        "id": "bR7mrSzEiuHP"
      },
      "source": [
        "6. __Call mortgage_loan__ for a loan with the following terms:"
      ]
    },
    {
      "cell_type": "markdown",
      "metadata": {
        "id": "KYl1zCK3iuHP"
      },
      "source": [
        "- __800,000 USD__ Initial Balance\n",
        "- 20 years -> __240 months__\n",
        "- __4.25%__ stated annual interest rate\n",
        "- final Loan Balance after 20 years: __0 USD__\n",
        "- __monthly__ compounding frequency"
      ]
    },
    {
      "cell_type": "code",
      "execution_count": null,
      "metadata": {
        "id": "-37525_7iuHQ"
      },
      "outputs": [],
      "source": [
        "mortgage_loan(pv = 800000, nper = 240, r = 0.0425, fv = 0, m = 12)"
      ]
    },
    {
      "cell_type": "markdown",
      "metadata": {
        "id": "EiszQgRwiuHQ"
      },
      "source": [
        "(the total debt payment per month is 4953.88)"
      ]
    },
    {
      "cell_type": "code",
      "execution_count": null,
      "metadata": {
        "id": "TbqUyoThiuHR"
      },
      "outputs": [],
      "source": []
    },
    {
      "cell_type": "markdown",
      "metadata": {
        "id": "Qt1hZLpBiuHR"
      },
      "source": [
        "7. __Visualize__ the remaining __Loan Balance__ over time."
      ]
    },
    {
      "cell_type": "code",
      "execution_count": null,
      "metadata": {
        "id": "m5hALK-NiuHT"
      },
      "outputs": [],
      "source": [
        "import matplotlib.pyplot as plt"
      ]
    },
    {
      "cell_type": "code",
      "execution_count": null,
      "metadata": {
        "id": "TdY3bSQKiuHT"
      },
      "outputs": [],
      "source": [
        "balance = mortgage_loan(pv = 800000, nper = 240, r = 0.0425, fv = 0, m = 12)[:, -1]"
      ]
    },
    {
      "cell_type": "code",
      "execution_count": null,
      "metadata": {
        "id": "13BKKTXziuHU"
      },
      "outputs": [],
      "source": [
        "balance"
      ]
    },
    {
      "cell_type": "code",
      "execution_count": null,
      "metadata": {
        "id": "U1C3ylfZiuHU"
      },
      "outputs": [],
      "source": [
        "plt.figure(figsize = (12 , 8))\n",
        "plt.plot(range(240+1), balance)\n",
        "plt.show()"
      ]
    },
    {
      "cell_type": "code",
      "execution_count": null,
      "metadata": {
        "id": "XY69G5FWiuHV"
      },
      "outputs": [],
      "source": []
    }
  ],
  "metadata": {
    "kernelspec": {
      "display_name": "Python 3 (ipykernel)",
      "language": "python",
      "name": "python3"
    },
    "language_info": {
      "codemirror_mode": {
        "name": "ipython",
        "version": 3
      },
      "file_extension": ".py",
      "mimetype": "text/x-python",
      "name": "python",
      "nbconvert_exporter": "python",
      "pygments_lexer": "ipython3",
      "version": "3.9.16"
    },
    "colab": {
      "provenance": [],
      "include_colab_link": true
    }
  },
  "nbformat": 4,
  "nbformat_minor": 0
}