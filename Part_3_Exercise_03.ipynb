{
  "cells": [
    {
      "cell_type": "markdown",
      "metadata": {
        "id": "view-in-github",
        "colab_type": "text"
      },
      "source": [
        "<a href=\"https://colab.research.google.com/github/AlienX77-cmd/Python-for-Business-and-Finance/blob/main/Part_3_Exercise_03.ipynb\" target=\"_parent\"><img src=\"https://colab.research.google.com/assets/colab-badge.svg\" alt=\"Open In Colab\"/></a>"
      ]
    },
    {
      "cell_type": "markdown",
      "metadata": {
        "id": "OhqeDFD5Ote8"
      },
      "source": [
        "# Coding Exercises (Part 3)"
      ]
    },
    {
      "cell_type": "markdown",
      "metadata": {
        "id": "BsHuZ0ncOte_"
      },
      "source": [
        "Now, you will have the opportunity to practice what you have learned. <br>\n",
        "__Follow the instructions__ and insert your code!"
      ]
    },
    {
      "cell_type": "markdown",
      "metadata": {
        "id": "czzHsgqPOtfA"
      },
      "source": [
        "The correct answer is provided below your coding cell. There you can check whether your code is correct."
      ]
    },
    {
      "cell_type": "markdown",
      "metadata": {
        "id": "KA9dXv6OOtfB"
      },
      "source": [
        "If you need some help or if you want to check your code, you can also have a look at the __solutions__."
      ]
    },
    {
      "cell_type": "markdown",
      "metadata": {
        "id": "_cmqBf2yOtfC"
      },
      "source": [
        "### Have Fun!"
      ]
    },
    {
      "cell_type": "markdown",
      "metadata": {
        "id": "7brsCkJgOtfD"
      },
      "source": [
        "--------------------------------------------------------------------------------------------------------------"
      ]
    },
    {
      "cell_type": "markdown",
      "metadata": {
        "id": "415jeCzxOtfE"
      },
      "source": [
        "## Exercise 3: Monte Carlo Simulations / Value-at-Risk"
      ]
    },
    {
      "cell_type": "code",
      "source": [
        "!pip install numpy_financial"
      ],
      "metadata": {
        "colab": {
          "base_uri": "https://localhost:8080/"
        },
        "id": "OP0NVBg2O6Jy",
        "outputId": "3af80316-5879-42d6-94c4-e63db4e55f3e"
      },
      "execution_count": 2,
      "outputs": [
        {
          "output_type": "stream",
          "name": "stdout",
          "text": [
            "Looking in indexes: https://pypi.org/simple, https://us-python.pkg.dev/colab-wheels/public/simple/\n",
            "Collecting numpy_financial\n",
            "  Downloading numpy_financial-1.0.0-py3-none-any.whl (14 kB)\n",
            "Requirement already satisfied: numpy>=1.15 in /usr/local/lib/python3.10/dist-packages (from numpy_financial) (1.22.4)\n",
            "Installing collected packages: numpy_financial\n",
            "Successfully installed numpy_financial-1.0.0\n"
          ]
        }
      ]
    },
    {
      "cell_type": "code",
      "execution_count": 3,
      "metadata": {
        "id": "cJxmmqh2OtfF"
      },
      "outputs": [],
      "source": [
        "# run the cell!\n",
        "import numpy as np\n",
        "import numpy_financial as npf # NEW!!!\n",
        "import scipy.stats as stats"
      ]
    },
    {
      "cell_type": "code",
      "execution_count": 5,
      "metadata": {
        "colab": {
          "base_uri": "https://localhost:8080/"
        },
        "id": "gvB5lw6WOtfG",
        "outputId": "50082e62-dd13-4bdf-cac7-8e50bb337e13"
      },
      "outputs": [
        {
          "output_type": "execute_result",
          "data": {
            "text/plain": [
              "array([ 0.00122829, -0.00608458,  0.00222031, ...,  0.00856263,\n",
              "       -0.00124155,  0.00849244])"
            ]
          },
          "metadata": {},
          "execution_count": 5
        }
      ],
      "source": [
        "# run the cell!\n",
        "sp_returns = np.loadtxt(\"sp_returns2.csv\", delimiter = \",\", usecols = 1)\n",
        "sp_returns"
      ]
    },
    {
      "cell_type": "markdown",
      "metadata": {
        "id": "I8lJDR1hOtfK"
      },
      "source": [
        "The Investment Fund XYZ currently has a __20,000,000 USD__ position in the __S&P 500 Index__. The Risk Manager of the Fund wants to estimate the __tail risk__ (extreme negative outcomes) of this position based on __historical data__ (and forecasts).<br><br>1. Calculate the __minimum loss__ over a __one-day period__ that will occur with __0.1%__ probability: __0.1% Value-at-Risk (VaR) of 20,000,000 USD over a one-day period__. Use the __parametric method__ (assume normality of returns)."
      ]
    },
    {
      "cell_type": "code",
      "execution_count": 7,
      "metadata": {
        "id": "6zQq54BVOtfL"
      },
      "outputs": [],
      "source": [
        "probability = 0.001\n",
        "Initial_investment = 20000000"
      ]
    },
    {
      "cell_type": "code",
      "execution_count": 8,
      "metadata": {
        "colab": {
          "base_uri": "https://localhost:8080/"
        },
        "id": "L5mSpIaSOtfM",
        "outputId": "41bcebc1-7efa-48f5-e17d-ae8bd364c4ef"
      },
      "outputs": [
        {
          "output_type": "execute_result",
          "data": {
            "text/plain": [
              "0.000267148957332019"
            ]
          },
          "metadata": {},
          "execution_count": 8
        }
      ],
      "source": [
        "mean = sp_returns.mean()\n",
        "mean"
      ]
    },
    {
      "cell_type": "code",
      "execution_count": 9,
      "metadata": {
        "colab": {
          "base_uri": "https://localhost:8080/"
        },
        "id": "5puCucSPOtfO",
        "outputId": "7e0ad6f3-f564-46cd-83e1-3837488d8ff6"
      },
      "outputs": [
        {
          "output_type": "execute_result",
          "data": {
            "text/plain": [
              "0.012484905249216954"
            ]
          },
          "metadata": {},
          "execution_count": 9
        }
      ],
      "source": [
        "std = sp_returns.std()\n",
        "std"
      ]
    },
    {
      "cell_type": "code",
      "execution_count": 10,
      "metadata": {
        "colab": {
          "base_uri": "https://localhost:8080/"
        },
        "id": "HnBc9_CXOtfP",
        "outputId": "de4b1d9b-533c-4e61-8696-67bdfb15eac9"
      },
      "outputs": [
        {
          "output_type": "execute_result",
          "data": {
            "text/plain": [
              "-766282.1716648465"
            ]
          },
          "metadata": {},
          "execution_count": 10
        }
      ],
      "source": [
        "#0.1% Value-at-Risk\n",
        "var_p = stats.norm.ppf(loc = mean, scale = std, q = probability) * Initial_investment\n",
        "var_p"
      ]
    },
    {
      "cell_type": "markdown",
      "metadata": {
        "id": "OkjlMNGXOtfP"
      },
      "source": [
        "(result: -766282.1716648465)"
      ]
    },
    {
      "cell_type": "code",
      "execution_count": null,
      "metadata": {
        "id": "HgKtgRqOOtfR"
      },
      "outputs": [],
      "source": []
    },
    {
      "cell_type": "markdown",
      "metadata": {
        "id": "WsK4e7rAOtfS"
      },
      "source": [
        "2. Calculate the __minimum loss__ over a __one-day period__ that will occur with __0.1%__ probability: __0.1% Value-at-Risk (VaR) of 20,000,000 USD over a one-day period__. Use the __historical method__."
      ]
    },
    {
      "cell_type": "code",
      "execution_count": 11,
      "metadata": {
        "colab": {
          "base_uri": "https://localhost:8080/"
        },
        "id": "vWyBcm9nOtfS",
        "outputId": "a7cf25d1-1f76-428b-ad90-ea9ddce55cb8"
      },
      "outputs": [
        {
          "output_type": "execute_result",
          "data": {
            "text/plain": [
              "-1520085.6249729295"
            ]
          },
          "metadata": {},
          "execution_count": 11
        }
      ],
      "source": [
        "var_h = np.percentile(sp_returns, probability * 100) * Initial_investment\n",
        "var_h"
      ]
    },
    {
      "cell_type": "markdown",
      "metadata": {
        "id": "qB-Gtpr2OtfT"
      },
      "source": [
        "(result: -1520085.6249729295)"
      ]
    },
    {
      "cell_type": "code",
      "execution_count": null,
      "metadata": {
        "id": "yDsJZeFmOtfV"
      },
      "outputs": [],
      "source": []
    },
    {
      "cell_type": "markdown",
      "metadata": {
        "id": "lnwyx2EoOtfV"
      },
      "source": [
        "3. Calculate the __expected loss__ over a __one-day period__ that will occur with __0.1%__ probability: __0.1% Conditional Value-at-Risk (CVaR) of 20,000,000 USD over a one-day period__. Use the __historical method__."
      ]
    },
    {
      "cell_type": "code",
      "execution_count": 12,
      "metadata": {
        "colab": {
          "base_uri": "https://localhost:8080/"
        },
        "id": "wWoHR_osOtfX",
        "outputId": "cf173fe7-98fc-44a4-97b7-879a57a09000"
      },
      "outputs": [
        {
          "output_type": "execute_result",
          "data": {
            "text/plain": [
              "array([-1761355.67515887, -1523341.52334153, -1806995.92188455,\n",
              "       -1785905.56101044])"
            ]
          },
          "metadata": {},
          "execution_count": 12
        }
      ],
      "source": [
        "tail = sp_returns[sp_returns < np.percentile(sp_returns, probability * 100)] * Initial_investment\n",
        "tail"
      ]
    },
    {
      "cell_type": "code",
      "execution_count": 13,
      "metadata": {
        "colab": {
          "base_uri": "https://localhost:8080/"
        },
        "id": "HXmlzbBjOtfg",
        "outputId": "ad7c872c-54a5-4d3b-f458-38c09e531cf5"
      },
      "outputs": [
        {
          "output_type": "execute_result",
          "data": {
            "text/plain": [
              "-1719399.6703488464"
            ]
          },
          "metadata": {},
          "execution_count": 13
        }
      ],
      "source": [
        "tail.mean()"
      ]
    },
    {
      "cell_type": "markdown",
      "source": [
        "(result: -1719399.6703488464)"
      ],
      "metadata": {
        "id": "bw2E3VK0hrQo"
      }
    },
    {
      "cell_type": "code",
      "execution_count": null,
      "metadata": {
        "id": "S-ab_MMUOtfj"
      },
      "outputs": [],
      "source": []
    },
    {
      "cell_type": "markdown",
      "metadata": {
        "id": "FZMr7ApKOtfk"
      },
      "source": [
        "__We continue with the dynamic & path-dependent retirement planning for John (65) (see Video Lectures).__ <br>"
      ]
    },
    {
      "cell_type": "markdown",
      "metadata": {
        "id": "83UaXmLgOtfl"
      },
      "source": [
        "We have already created the user-defined function __outliving_risk__ that returns the __risk of outliving the assets__ and the __average/expected monthly withdrawel__ amount (and the full sims_array)."
      ]
    },
    {
      "cell_type": "code",
      "execution_count": 15,
      "metadata": {
        "id": "0SXA_RPzOtfm"
      },
      "outputs": [],
      "source": [
        "# run the cell!\n",
        "\n",
        "def outliving_risk(assets, nper, annuity, red_annuity, mean_ret, std, balances, sims = 10000, seed = 123):\n",
        "\n",
        "    sims_array = np.empty(sims * (nper + 1)).reshape(sims, nper + 1)\n",
        "    withdrawels = []\n",
        "    np.random.seed(seed)\n",
        "\n",
        "    for sim in range(sims):\n",
        "        rets = np.random.normal(loc = mean_ret, scale = std, size = nper)\n",
        "        value_list = [assets]\n",
        "\n",
        "        for i in range(nper):\n",
        "\n",
        "            if value_list[i] < balances[i]: #value_list is the portfolio value, so when the balances (withdrawal value) is more than the portfolio value => this if statement will work.\n",
        "                withdrawel =  min(value_list[i] * (1 + rets[i]), red_annuity)\n",
        "            else:\n",
        "                withdrawel = min(value_list[i] * (1 + rets[i]), annuity)\n",
        "\n",
        "            withdrawels.append(withdrawel)\n",
        "            value = value_list[i] * (1 + rets[i]) - withdrawel\n",
        "            value_list.append(value)\n",
        "\n",
        "        sims_array[sim, :] = value_list\n",
        "\n",
        "    return (sims_array[:, -1] == 0).sum() / sims, np.mean(withdrawels), sims_array"
      ]
    },
    {
      "cell_type": "markdown",
      "metadata": {
        "id": "yQirX_gOOtfo"
      },
      "source": [
        "The expected __long-term return__ for his portfolio is __0.5%__ per month with a monthly __standard deviation of 2.5%__."
      ]
    },
    {
      "cell_type": "code",
      "execution_count": 16,
      "metadata": {
        "id": "HhrX47Q8Otfs"
      },
      "outputs": [],
      "source": [
        "# run the cell!\n",
        "\n",
        "mean_ret = 0.06/12\n",
        "std = 0.025"
      ]
    },
    {
      "cell_type": "markdown",
      "metadata": {
        "id": "4YmEOllcOtfv"
      },
      "source": [
        "In the following we calculate the __idealized (target) balances of his portfolio__ for the next 30 Years (0 USD in 30 years)."
      ]
    },
    {
      "cell_type": "code",
      "execution_count": 17,
      "metadata": {
        "id": "sAfsOkNqOtfw"
      },
      "outputs": [],
      "source": [
        "# run the cell!\n",
        "\n",
        "n = 30\n",
        "m = 12\n",
        "r = 0.03\n",
        "pv = 625000"
      ]
    },
    {
      "cell_type": "code",
      "execution_count": 19,
      "metadata": {
        "colab": {
          "base_uri": "https://localhost:8080/"
        },
        "id": "b3Fi8hmcOtfx",
        "outputId": "e008ea3f-3638-4564-f0ec-087c107fe603"
      },
      "outputs": [
        {
          "output_type": "execute_result",
          "data": {
            "text/plain": [
              "2635.0252108090995"
            ]
          },
          "metadata": {},
          "execution_count": 19
        }
      ],
      "source": [
        "# run the cell!\n",
        "\n",
        "annuity = npf.pmt(rate = r/m, nper = n*m, fv = 0, pv = - pv, when = \"end\")\n",
        "annuity"
      ]
    },
    {
      "cell_type": "code",
      "execution_count": 20,
      "metadata": {
        "scrolled": true,
        "colab": {
          "base_uri": "https://localhost:8080/"
        },
        "id": "xlxXyuwYOtfz",
        "outputId": "93ab706e-3ffd-4a4a-cd1e-0ada64f35652"
      },
      "outputs": [
        {
          "output_type": "execute_result",
          "data": {
            "text/plain": [
              "array([625000.        , 623927.47478919, 622852.26826535, 621774.37372521,\n",
              "       620693.78444871, 619610.49369903, 618524.49472246, 617435.78074846,\n",
              "       616344.34498952, 615250.18064119, 614153.28088198, 613053.63887338,\n",
              "       611951.24775975, 610846.10066834, 609738.1907092 , 608627.51097517,\n",
              "       607514.0545418 , 606397.81446734, 605278.7837927 , 604156.95554137,\n",
              "       603032.32271942, 601904.87831541, 600774.61530039, 599641.52662783,\n",
              "       598505.60523359, 597366.84403587, 596225.23593515, 595080.77381417,\n",
              "       593933.4505379 , 592783.25895344, 591630.19189001, 590474.24215893,\n",
              "       589315.40255352, 588153.66584909, 586989.0248029 , 585821.4721541 ,\n",
              "       584651.00062368, 583477.60291443, 582301.27171091, 581121.99967937,\n",
              "       579939.77946776, 578754.60370562, 577566.46500408, 576375.35595578,\n",
              "       575181.26913486, 573984.19709689, 572784.13237882, 571581.06749896,\n",
              "       570374.9949569 , 569165.90723348, 567953.79679075, 566738.65607192,\n",
              "       565520.47750129, 564299.25348424, 563074.97640714, 561847.63863735,\n",
              "       560617.23252313, 559383.75039363, 558147.18455881, 556907.52730939,\n",
              "       555664.77091686, 554418.90763334, 553169.92969162, 551917.82930504,\n",
              "       550662.59866749, 549404.22995335, 548142.71531742, 546878.04689491,\n",
              "       545610.21680134, 544339.21713253, 543065.03996455, 541787.67735365,\n",
              "       540507.12133623, 539223.36392876, 537936.39712777, 536646.21290978,\n",
              "       535352.80323125, 534056.16002852, 532756.27521778, 531453.14069502,\n",
              "       530146.74833594, 528837.08999598, 527524.15751016, 526207.94269312,\n",
              "       524888.43733905, 523565.63322158, 522239.52209383, 520910.09568826,\n",
              "       519577.34571667, 518241.26387015, 516901.84181902, 515559.07121275,\n",
              "       514212.94367998, 512863.45082837, 511510.58424463, 510154.33549443,\n",
              "       508794.69612236, 507431.65765186, 506065.21158518, 504695.34940333,\n",
              "       503322.06256603, 501945.34251164, 500565.18065711, 499181.56839794,\n",
              "       497794.49710813, 496403.95814009, 495009.94282463, 493612.44247088,\n",
              "       492211.44836625, 490806.95177635, 489398.94394499, 487987.41609404,\n",
              "       486572.35942347, 485153.76511122, 483731.62431318, 482305.92816316,\n",
              "       480876.66777276, 479443.83423138, 478007.41860615, 476567.41194186,\n",
              "       475123.8052609 , 473676.58956324, 472225.75582634, 470771.2950051 ,\n",
              "       469313.1980318 , 467851.45581607, 466386.05924481, 464916.99918211,\n",
              "       463444.26646926, 461967.85192462, 460487.74634362, 459003.94049867,\n",
              "       457516.42513911, 456025.19099115, 454530.22875782, 453031.5291189 ,\n",
              "       451529.08273089, 450022.88022691, 448512.91221667, 446999.1692864 ,\n",
              "       445481.64199881, 443960.32089299, 442435.19648442, 440906.25926482,\n",
              "       439373.49970217, 437836.90824062, 436296.47530041, 434752.19127785,\n",
              "       433204.04654524, 431652.03145079, 430096.13631861, 428536.3514486 ,\n",
              "       426972.66711641, 425405.07357339, 423833.56104652, 422258.11973832,\n",
              "       420678.73982686, 419095.41146562, 417508.12478347, 415916.86988462,\n",
              "       414321.63684853, 412722.41572984, 411119.19655835, 409511.96933894,\n",
              "       407900.72405148, 406285.4506508 , 404666.13906662, 403042.77920347,\n",
              "       401415.36094067, 399783.87413222, 398148.30860674, 396508.65416745,\n",
              "       394864.90059206, 393217.03763273, 391565.055016  , 389908.94244273,\n",
              "       388248.68958803, 386584.28610119, 384915.72160563, 383242.98569884,\n",
              "       381566.06795228, 379884.95791135, 378199.64509532, 376510.11899725,\n",
              "       374816.36908393, 373118.38479583, 371416.15554701, 369709.67072507,\n",
              "       367998.91969107, 366283.89177949, 364564.57629813, 362840.96252807,\n",
              "       361113.03972358, 359380.79711208, 357644.22389405, 355903.30924298,\n",
              "       354158.04230527, 352408.41220023, 350654.40801992, 348896.01882916,\n",
              "       347133.23366542, 345366.04153878, 343594.43143182, 341818.39229959,\n",
              "       340037.91306953, 338252.98264139, 336463.58988719, 334669.7236511 ,\n",
              "       332871.37274941, 331068.52597048, 329261.1720746 , 327449.29979397,\n",
              "       325632.89783265, 323811.95486642, 321986.45954278, 320156.40048083,\n",
              "       318321.76627122, 316482.54547609, 314638.72662897, 312790.29823473,\n",
              "       310937.24876951, 309079.56668063, 307217.24038652, 305350.25827668,\n",
              "       303478.60871156, 301602.28002253, 299721.26051178, 297835.53845225,\n",
              "       295945.10208757, 294049.93963198, 292150.03927025, 290245.38915761,\n",
              "       288335.9774197 , 286421.79215244, 284502.82142201, 282579.05326476,\n",
              "       280650.47568711, 278717.07666552, 276778.84414637, 274835.76604593,\n",
              "       272887.83025024, 270935.02461505, 268977.33696578, 267014.75509739,\n",
              "       265047.26677432, 263074.85973045, 261097.52166897, 259115.24026233,\n",
              "       257128.00315218, 255135.79794925, 253138.61223331, 251136.43355308,\n",
              "       249129.24942616, 247117.04733891, 245099.81474645, 243077.53907251,\n",
              "       241050.20770938, 239017.80801785, 236980.32732708, 234937.75293459,\n",
              "       232890.07210612, 230837.27207557, 228779.34004495, 226716.26318426,\n",
              "       224648.02863141, 222574.62349218, 220496.0348401 , 218412.24971639,\n",
              "       216323.25512987, 214229.03805689, 212129.58544122, 210024.88419402,\n",
              "       207914.92119369, 205799.68328587, 203679.15728327, 201553.32996567,\n",
              "       199422.18807978, 197285.71833917, 195143.90742421, 192996.74198196,\n",
              "       190844.2086261 , 188686.29393686, 186522.98446089, 184354.26671124,\n",
              "       182180.12716721, 180000.55227431, 177815.52844419, 175625.04205449,\n",
              "       173429.07944882, 171227.62693663, 169020.67079316, 166808.19725934,\n",
              "       164590.19254168, 162366.64281222, 160137.53420844, 157902.85283316,\n",
              "       155662.58475443, 153416.71600551, 151165.23258471, 148908.12045537,\n",
              "       146645.36554569, 144376.95374875, 142102.87092231, 139823.10288881,\n",
              "       137537.63543522, 135246.454313  , 132949.54523797, 130646.89389026,\n",
              "       128338.48591418, 126024.30691815, 123704.34247464, 121378.57812002,\n",
              "       119046.99935451, 116709.59164209, 114366.34041038, 112017.2310506 ,\n",
              "       109662.24891742, 107301.3793289 , 104934.60756641, 102561.91887452,\n",
              "       100183.2984609 ,  97798.73149624,  95408.20311417,  93011.69841115,\n",
              "        90609.20244637,  88200.70024168,  85786.17678147,  83365.61701261,\n",
              "        80939.00584434,  78506.32814814,  76067.5687577 ,  73622.71246879,\n",
              "        71171.74403915,  68714.64818844,  66251.4095981 ,  63782.01291129,\n",
              "        61306.44273276,  58824.68362878,  56336.72012704,  53842.53671655,\n",
              "        51342.11784753,  48835.44793134,  46322.51134036,  43803.2924079 ,\n",
              "        41277.77542811,  38745.94465587,  36207.78430671,  33663.27855666,\n",
              "        31112.41154225,  28555.16736029,  25991.53006788,  23421.48368224,\n",
              "        20845.01218064,  18262.09950028,  15672.72953822,  13076.88615126,\n",
              "        10474.55315583,   7865.71432791,   5250.35340292,   2628.45407562,\n",
              "           -0.        ])"
            ]
          },
          "metadata": {},
          "execution_count": 20
        }
      ],
      "source": [
        "# run the cell!\n",
        "\n",
        "balances = npf.fv(r/m, nper = range(0, n*m + 1), pmt = annuity, pv = -pv)\n",
        "balances"
      ]
    },
    {
      "cell_type": "markdown",
      "metadata": {
        "id": "FRbc0GQaOtf0"
      },
      "source": [
        "Finally, we could manage to define the following __path-dependent strategy__ (included in the function outliving_risk):\n",
        "- reduced monthly withdrawel = __2200__ if __portfolio balance < target balance__\n",
        "- __else__: monthly withdrawel = __3250__\n",
        "\n",
        "to lower __longevity risk to 9.55%__ and to increase expected/average income to __3,065 USD__."
      ]
    },
    {
      "cell_type": "code",
      "execution_count": 21,
      "metadata": {
        "colab": {
          "base_uri": "https://localhost:8080/"
        },
        "id": "XkbkAHjYOtf1",
        "outputId": "8df70a9f-1627-4e34-841c-c8eef0c98615"
      },
      "outputs": [
        {
          "output_type": "execute_result",
          "data": {
            "text/plain": [
              "(0.0955, 3065.4189444550166)"
            ]
          },
          "metadata": {},
          "execution_count": 21
        }
      ],
      "source": [
        "# run the cell\n",
        "\n",
        "outliving_risk(assets = pv, nper = n*m, annuity = 3250, red_annuity = 2200,\n",
        "               mean_ret = mean_ret, std = std, balances = balances, sims = 10000)[:2]"
      ]
    },
    {
      "cell_type": "markdown",
      "metadata": {
        "id": "7WfHlJMoOtf1"
      },
      "source": [
        "4. __Adjust__ the function __outliving_risk__ in way that allows John to __extract the upside__ in the very well performing paths (and increase expected income). <br>\n",
        "Add the follwing path-dependent rule: if portfolio balance is __more than 50% higher__ than target balance, __increase the annuity (3250) by x%__. Select x in a way that longevity risk is still __lower than 10%__."
      ]
    },
    {
      "cell_type": "code",
      "execution_count": 24,
      "metadata": {
        "id": "TKxXM-FXOtf2"
      },
      "outputs": [],
      "source": [
        "# Adjust!\n",
        "\n",
        "def outliving_risk(assets, nper, annuity, red_annuity, mean_ret, std, balances, sims = 10000, seed = 123):\n",
        "\n",
        "    sims_array = np.empty(sims * (nper + 1)).reshape(sims, nper + 1)\n",
        "    withdrawels = []\n",
        "    np.random.seed(seed)\n",
        "\n",
        "    for sim in range(sims):\n",
        "        rets = np.random.normal(loc = mean_ret, scale = std, size = nper)\n",
        "        value_list = [assets]\n",
        "\n",
        "        for i in range(nper):\n",
        "\n",
        "            if value_list[i] > (1 + 0.5) * balances[i]:\n",
        "                withdrawel =  min(value_list[i] * (1 + rets[i]), annuity * (1 + 0.24))\n",
        "            elif value_list[i] < balances[i]:\n",
        "                withdrawel =  min(value_list[i] * (1 + rets[i]), red_annuity)\n",
        "            else:\n",
        "                withdrawel = min(value_list[i] * (1 + rets[i]), annuity)\n",
        "\n",
        "            withdrawels.append(withdrawel)\n",
        "            value = value_list[i] * (1 + rets[i]) - withdrawel\n",
        "            value_list.append(value)\n",
        "\n",
        "        sims_array[sim, :] = value_list\n",
        "\n",
        "    return (sims_array[:, -1] == 0).sum() / sims, np.mean(withdrawels), sims_array"
      ]
    },
    {
      "cell_type": "code",
      "execution_count": 25,
      "metadata": {
        "colab": {
          "base_uri": "https://localhost:8080/"
        },
        "id": "D7VoBtDMOtf3",
        "outputId": "5a694176-0ad4-43d4-d0e2-dd054abc0b07"
      },
      "outputs": [
        {
          "output_type": "execute_result",
          "data": {
            "text/plain": [
              "(0.0996, 3415.372242114606)"
            ]
          },
          "metadata": {},
          "execution_count": 25
        }
      ],
      "source": [
        "# run and check!\n",
        "outliving_risk(assets = pv, nper = n*m, annuity = 3250, red_annuity = 2200,\n",
        "               mean_ret = mean_ret, std = std, balances = balances, sims = 10000)[:2]"
      ]
    },
    {
      "cell_type": "markdown",
      "metadata": {
        "id": "pSsod34qOtf6"
      },
      "source": [
        "(result: x could be up to 24%, -> increasing expected income to 3415.37)"
      ]
    },
    {
      "cell_type": "code",
      "execution_count": null,
      "metadata": {
        "id": "xmQbJbG6Otf8"
      },
      "outputs": [],
      "source": []
    },
    {
      "cell_type": "markdown",
      "metadata": {
        "id": "94FmljisOtf-"
      },
      "source": [
        "# Well Done!"
      ]
    },
    {
      "cell_type": "markdown",
      "metadata": {
        "id": "cE_j5eWFOtgA"
      },
      "source": [
        "---------------------------------------------------------------------------------------------------------------------"
      ]
    },
    {
      "cell_type": "markdown",
      "metadata": {
        "id": "5l8rMy2MOtgB"
      },
      "source": [
        "# Solutions (Stop here if you want to code on your own!)"
      ]
    },
    {
      "cell_type": "markdown",
      "metadata": {
        "id": "2WbyNOZeOtgD"
      },
      "source": [
        "__++++++++++++++++++++++++++++++++++++++++++++++++++++++++++++++++++++++++++++++++++++++++++++++++++++++++++++++++++++++__"
      ]
    },
    {
      "cell_type": "code",
      "execution_count": null,
      "metadata": {
        "id": "RBu8fcwwOtgF"
      },
      "outputs": [],
      "source": [
        "# run the cell!\n",
        "import numpy as np\n",
        "import numpy_financial as npf # NEW!!!\n",
        "import scipy.stats as stats"
      ]
    },
    {
      "cell_type": "code",
      "execution_count": null,
      "metadata": {
        "id": "zdG7icJpOtgG"
      },
      "outputs": [],
      "source": [
        "# run the cell!\n",
        "sp_returns = np.loadtxt(\"sp_returns2.csv\", delimiter = \",\", usecols = 1)\n",
        "sp_returns"
      ]
    },
    {
      "cell_type": "markdown",
      "metadata": {
        "id": "ZKMCe_EWOtgH"
      },
      "source": [
        "The Investment Fund XYZ currently has a __20,000,000 USD__ position in the __S&P 500 Index__. The Risk Manager of the Fund wants to estimate the __tail risk__ (extreme negative outcomes) of this position based on __historical data__ (and forecasts).<br><br>1. Calculate the __minimum loss__ over a __one-day period__ that will occur with __0.1%__ probability: __0.1% Value-at-Risk (VaR) of 20,000,000 USD over a one-day period__. Use the __parametric method__ (assume normality of returns)."
      ]
    },
    {
      "cell_type": "code",
      "execution_count": null,
      "metadata": {
        "id": "UJCxjbdFOtgH"
      },
      "outputs": [],
      "source": [
        "prob = 0.001\n",
        "I0 = 20000000"
      ]
    },
    {
      "cell_type": "code",
      "execution_count": null,
      "metadata": {
        "id": "FxUWsvYIOtgI"
      },
      "outputs": [],
      "source": [
        "mean = sp_returns.mean()\n",
        "mean"
      ]
    },
    {
      "cell_type": "code",
      "execution_count": null,
      "metadata": {
        "id": "C083t28DOtgK"
      },
      "outputs": [],
      "source": [
        "std = sp_returns.std()\n",
        "std"
      ]
    },
    {
      "cell_type": "code",
      "execution_count": null,
      "metadata": {
        "id": "ZpB8lf1LOtgM"
      },
      "outputs": [],
      "source": [
        "var_p = stats.norm.ppf(loc = mean, scale = std, q = prob) * I0\n",
        "var_p"
      ]
    },
    {
      "cell_type": "markdown",
      "metadata": {
        "id": "eO2opjEbOtgQ"
      },
      "source": [
        "(result: -766282.1716648465)"
      ]
    },
    {
      "cell_type": "code",
      "execution_count": null,
      "metadata": {
        "id": "KDb-xKdnOtgR"
      },
      "outputs": [],
      "source": []
    },
    {
      "cell_type": "markdown",
      "metadata": {
        "id": "zOqvpeGKOtgS"
      },
      "source": [
        "2. Calculate the __minimum loss__ over a __one-day period__ that will occur with __0.1%__ probability: __0.1% Value-at-Risk (VaR) of 20,000,000 USD over a one-day period__. Use the __historical method__."
      ]
    },
    {
      "cell_type": "code",
      "execution_count": null,
      "metadata": {
        "id": "dNxQg2kdOtgU"
      },
      "outputs": [],
      "source": [
        "var_h = np.percentile(sp_returns, prob * 100) * I0\n",
        "var_h"
      ]
    },
    {
      "cell_type": "markdown",
      "metadata": {
        "id": "wtIyHtkcOtgW"
      },
      "source": [
        "(result: -1520085.6249729295)"
      ]
    },
    {
      "cell_type": "markdown",
      "metadata": {
        "id": "CbKcqh0zOtgX"
      },
      "source": [
        "3. Calculate the __expected loss__ over a __one-day period__ that will occur with __0.1%__ probability: __0.1% Conditional Value-at-Risk (CVaR) of 20,000,000 USD over a one-day period__. Use the __historical method__."
      ]
    },
    {
      "cell_type": "code",
      "execution_count": null,
      "metadata": {
        "id": "rZkdBVCHOtgY"
      },
      "outputs": [],
      "source": [
        "tail = sp_returns[sp_returns < np.percentile(sp_returns, prob * 100)] * I0\n",
        "tail"
      ]
    },
    {
      "cell_type": "code",
      "execution_count": null,
      "metadata": {
        "id": "mUubRN92OtgZ"
      },
      "outputs": [],
      "source": [
        "tail.mean()"
      ]
    },
    {
      "cell_type": "markdown",
      "metadata": {
        "id": "1ewTqOxVOtgZ"
      },
      "source": [
        "(result: -1719399.6703488464)"
      ]
    },
    {
      "cell_type": "code",
      "execution_count": null,
      "metadata": {
        "id": "Hzs277C8Otga"
      },
      "outputs": [],
      "source": []
    },
    {
      "cell_type": "markdown",
      "metadata": {
        "id": "_ovFuRmrOtgb"
      },
      "source": [
        "__We continue with the dynamic & path-dependent retirement planning for John (65) (see Video Lectures).__ <br>"
      ]
    },
    {
      "cell_type": "markdown",
      "metadata": {
        "id": "oHrmLFC9Otg7"
      },
      "source": [
        "We have already created the user-defined function __outliving_risk__ that returns the __risk of outliving the assets__ and the __average/expected monthly withdrawel__ amount."
      ]
    },
    {
      "cell_type": "code",
      "execution_count": null,
      "metadata": {
        "id": "7fhbFK_kOtg_"
      },
      "outputs": [],
      "source": [
        "# run the cell!\n",
        "\n",
        "def outliving_risk(assets, nper, annuity, red_annuity, mean_ret, std, balances, sims = 10000, seed = 123):\n",
        "\n",
        "    sims_array = np.empty(sims * (nper + 1)).reshape(sims, nper + 1)\n",
        "    withdrawels = []\n",
        "    np.random.seed(seed)\n",
        "\n",
        "    for sim in range(sims):\n",
        "        rets = np.random.normal(loc = mean_ret, scale = std, size = nper)\n",
        "        value_list = [assets]\n",
        "\n",
        "        for i in range(nper):\n",
        "\n",
        "            if value_list[i] < balances[i]:\n",
        "                withdrawel =  min(value_list[i] * (1 + rets[i]), red_annuity)\n",
        "            else:\n",
        "                withdrawel = min(value_list[i] * (1 + rets[i]), annuity)\n",
        "\n",
        "            withdrawels.append(withdrawel)\n",
        "            value = value_list[i] * (1 + rets[i]) - withdrawel\n",
        "            value_list.append(value)\n",
        "\n",
        "        sims_array[sim, :] = value_list\n",
        "\n",
        "    return (sims_array[:, -1] == 0).sum() / sims, np.mean(withdrawels)"
      ]
    },
    {
      "cell_type": "markdown",
      "metadata": {
        "id": "VnC-vKjkOthA"
      },
      "source": [
        "The expected __long-term return__ for his portfolio is __0.5%__ per month with a monthly __standard deviation of 2.5%__."
      ]
    },
    {
      "cell_type": "code",
      "execution_count": null,
      "metadata": {
        "id": "Zx5J6EMROthB"
      },
      "outputs": [],
      "source": [
        "# run the cell!\n",
        "\n",
        "mean_ret = 0.06/12\n",
        "std = 0.025"
      ]
    },
    {
      "cell_type": "markdown",
      "metadata": {
        "id": "GatCm6kMOthC"
      },
      "source": [
        "In the following we calculate the __idealized (target) balances of his portfolio__ for the next 30 Years (0 USD in 30 years)."
      ]
    },
    {
      "cell_type": "code",
      "execution_count": null,
      "metadata": {
        "id": "fU6mS9KmOthC"
      },
      "outputs": [],
      "source": [
        "# run the cell!\n",
        "\n",
        "n = 30\n",
        "m = 12\n",
        "r = 0.03\n",
        "pv = 625000"
      ]
    },
    {
      "cell_type": "code",
      "execution_count": null,
      "metadata": {
        "id": "FIM768fvOthD"
      },
      "outputs": [],
      "source": [
        "# run the cell!\n",
        "\n",
        "annuity = npf.pmt(rate = r/m, nper = n*m, fv = 0, pv = - pv, when = \"end\")\n",
        "annuity"
      ]
    },
    {
      "cell_type": "code",
      "execution_count": null,
      "metadata": {
        "scrolled": true,
        "id": "0xXSteFiOthE"
      },
      "outputs": [],
      "source": [
        "# run the cell!\n",
        "\n",
        "balances = npf.fv(r/m, nper = range(0, n*m + 1), pmt = annuity, pv = -pv)\n",
        "balances"
      ]
    },
    {
      "cell_type": "markdown",
      "metadata": {
        "id": "JjPOQYkXOthE"
      },
      "source": [
        "Finally, we could manage to define the following __path-dependent strategy__ (included in the function outliving_risk):\n",
        "- reduced monthly withdrawel = __2200__ if __portfolio balance < target balance__\n",
        "- __else__: monthly withdrawel = __3250__\n",
        "\n",
        "to lower __longevity risk to 9.55%__ and to increase expected/average income to __3,065 USD__."
      ]
    },
    {
      "cell_type": "code",
      "execution_count": null,
      "metadata": {
        "id": "XpTCyVGhOthF"
      },
      "outputs": [],
      "source": [
        "# run the cell\n",
        "\n",
        "outliving_risk(assets = pv, nper = n*m, annuity = 3250, red_annuity = 2200,\n",
        "               mean_ret = mean_ret, std = std, balances = balances, sims = 10000)[:2]"
      ]
    },
    {
      "cell_type": "code",
      "execution_count": null,
      "metadata": {
        "id": "mZ2UEVHGOthF"
      },
      "outputs": [],
      "source": []
    },
    {
      "cell_type": "markdown",
      "metadata": {
        "id": "hZ7zA4ajOthH"
      },
      "source": [
        "4. __Adjust__ the function __outliving_risk__ in way that allows John to __extract the upside__ in the very well performing paths (and increase expected income). <br>\n",
        "Add the follwing path-dependent rule: if portfolio balance is __more than 50% higher__ than target balance, __increase the annuity (3250) by x%__. Select x in a way that longevity risk is still __lower than 10%__."
      ]
    },
    {
      "cell_type": "code",
      "execution_count": null,
      "metadata": {
        "id": "iEgEBGo1OthH"
      },
      "outputs": [],
      "source": [
        "def outliving_risk(assets, nper, annuity, red_annuity, mean_ret, std, balances, sims = 10000, seed = 123):\n",
        "\n",
        "    sims_array = np.empty(sims * (nper + 1)).reshape(sims, nper + 1)\n",
        "    withdrawels = []\n",
        "    np.random.seed(seed)\n",
        "\n",
        "    for sim in range(sims):\n",
        "        rets = np.random.normal(loc = mean_ret, scale = std, size = nper)\n",
        "        value_list = [assets]\n",
        "\n",
        "        for i in range(nper):\n",
        "\n",
        "            if value_list[i] < balances[i]:\n",
        "                withdrawel =  min(value_list[i] * (1 + rets[i]), red_annuity)\n",
        "            elif value_list[i] > 1.5 * balances[i]:\n",
        "                withdrawel =  min(value_list[i] * (1 + rets[i]), annuity * 1.24)\n",
        "            else:\n",
        "                withdrawel = min(value_list[i] * (1 + rets[i]), annuity)\n",
        "\n",
        "            withdrawels.append(withdrawel)\n",
        "            value = value_list[i] * (1 + rets[i]) - withdrawel\n",
        "            value_list.append(value)\n",
        "\n",
        "        sims_array[sim, :] = value_list\n",
        "\n",
        "    return (sims_array[:, -1] == 0).sum() / sims, np.mean(withdrawels), sims_array"
      ]
    },
    {
      "cell_type": "code",
      "execution_count": null,
      "metadata": {
        "id": "iZQ6tNwVOthI"
      },
      "outputs": [],
      "source": [
        "outliving_risk(assets = pv, nper = n*m, annuity = 3250, red_annuity = 2200,\n",
        "               mean_ret = mean_ret, std = std, balances = balances, sims = 10000)[:2]"
      ]
    },
    {
      "cell_type": "markdown",
      "metadata": {
        "id": "XNDoM1ncOthI"
      },
      "source": [
        "(result: x could be up to 24% -> increasing expected income to 3415.37)"
      ]
    },
    {
      "cell_type": "code",
      "execution_count": null,
      "metadata": {
        "id": "Kdek_fKeOthI"
      },
      "outputs": [],
      "source": []
    }
  ],
  "metadata": {
    "kernelspec": {
      "display_name": "Python 3 (ipykernel)",
      "language": "python",
      "name": "python3"
    },
    "language_info": {
      "codemirror_mode": {
        "name": "ipython",
        "version": 3
      },
      "file_extension": ".py",
      "mimetype": "text/x-python",
      "name": "python",
      "nbconvert_exporter": "python",
      "pygments_lexer": "ipython3",
      "version": "3.9.16"
    },
    "colab": {
      "provenance": [],
      "include_colab_link": true
    }
  },
  "nbformat": 4,
  "nbformat_minor": 0
}