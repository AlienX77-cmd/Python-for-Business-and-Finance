{
  "cells": [
    {
      "cell_type": "markdown",
      "metadata": {
        "id": "view-in-github",
        "colab_type": "text"
      },
      "source": [
        "<a href=\"https://colab.research.google.com/github/AlienX77-cmd/Python-for-Business-and-Finance/blob/main/Exercise_04.ipynb\" target=\"_parent\"><img src=\"https://colab.research.google.com/assets/colab-badge.svg\" alt=\"Open In Colab\"/></a>"
      ]
    },
    {
      "cell_type": "markdown",
      "metadata": {
        "id": "6ZOmEN0-8JNr"
      },
      "source": [
        "# Coding Exercises (Part 1)"
      ]
    },
    {
      "cell_type": "markdown",
      "metadata": {
        "id": "uDWBRvNN8JNt"
      },
      "source": [
        "Now, you will have the opportunity to practice what you have learned. <br>\n",
        "__Follow the instructions__ and insert your code! "
      ]
    },
    {
      "cell_type": "markdown",
      "metadata": {
        "id": "__ObLFxS8JNv"
      },
      "source": [
        "The correct answer is provided below your coding cell. There you can check whether your code is correct."
      ]
    },
    {
      "cell_type": "markdown",
      "metadata": {
        "id": "NpAWvGru8JNw"
      },
      "source": [
        "If you need some help or if you want to check your code, you can also have a look at the __solutions__."
      ]
    },
    {
      "cell_type": "markdown",
      "metadata": {
        "id": "FlaH5iGo8JNx"
      },
      "source": [
        "### Have Fun!"
      ]
    },
    {
      "cell_type": "markdown",
      "metadata": {
        "id": "gU2wd18g8JNx"
      },
      "source": [
        "--------------------------------------------------------------------------------------------------------------"
      ]
    },
    {
      "cell_type": "markdown",
      "metadata": {
        "id": "Swt2HkyU8JNx"
      },
      "source": [
        "## Exercise 4: Tuples, Dictionaries, Strings, Booleans & Operators"
      ]
    },
    {
      "cell_type": "markdown",
      "metadata": {
        "id": "2Yyy0aTJ8JNy"
      },
      "source": [
        "1. __Create and save a tuple__ with the elements 100, 0.03 and 103!"
      ]
    },
    {
      "cell_type": "code",
      "execution_count": 1,
      "metadata": {
        "id": "xH7WTiQd8JN0"
      },
      "outputs": [],
      "source": [
        "tup = (100, 0.03, 103)"
      ]
    },
    {
      "cell_type": "code",
      "execution_count": 2,
      "metadata": {
        "colab": {
          "base_uri": "https://localhost:8080/"
        },
        "id": "4TQDnzAJ8JN4",
        "outputId": "649f17f7-fdd1-4f99-d810-8fc4c6bb84c8"
      },
      "outputs": [
        {
          "output_type": "execute_result",
          "data": {
            "text/plain": [
              "(100, 0.03, 103)"
            ]
          },
          "metadata": {},
          "execution_count": 2
        }
      ],
      "source": [
        "tup"
      ]
    },
    {
      "cell_type": "code",
      "execution_count": null,
      "metadata": {
        "id": "JNTxS8NV8JN5"
      },
      "outputs": [],
      "source": []
    },
    {
      "cell_type": "markdown",
      "metadata": {
        "id": "Q1fvfA118JN6"
      },
      "source": [
        "2. __Index__ the tuple for the second element (0.03)"
      ]
    },
    {
      "cell_type": "code",
      "execution_count": 3,
      "metadata": {
        "colab": {
          "base_uri": "https://localhost:8080/"
        },
        "id": "WcP3bV_y8JN6",
        "outputId": "6cbe5b0d-a840-44c7-d931-729fa30ee682"
      },
      "outputs": [
        {
          "output_type": "execute_result",
          "data": {
            "text/plain": [
              "0.03"
            ]
          },
          "metadata": {},
          "execution_count": 3
        }
      ],
      "source": [
        "tup[1]"
      ]
    },
    {
      "cell_type": "code",
      "execution_count": null,
      "metadata": {
        "id": "hZQXVvMX8JN7"
      },
      "outputs": [],
      "source": []
    },
    {
      "cell_type": "markdown",
      "metadata": {
        "id": "Gxmrteml8JN7"
      },
      "source": [
        "3. Try to __change__ the third element to 106.09. Are tuples __mutable__?"
      ]
    },
    {
      "cell_type": "code",
      "execution_count": 4,
      "metadata": {
        "colab": {
          "base_uri": "https://localhost:8080/",
          "height": 171
        },
        "id": "EzCuEhQh8JN7",
        "outputId": "1aff2449-a809-465f-a060-103e180e5867"
      },
      "outputs": [
        {
          "output_type": "error",
          "ename": "TypeError",
          "evalue": "ignored",
          "traceback": [
            "\u001b[0;31m---------------------------------------------------------------------------\u001b[0m",
            "\u001b[0;31mTypeError\u001b[0m                                 Traceback (most recent call last)",
            "\u001b[0;32m<ipython-input-4-331d83133dc9>\u001b[0m in \u001b[0;36m<cell line: 1>\u001b[0;34m()\u001b[0m\n\u001b[0;32m----> 1\u001b[0;31m \u001b[0mtup\u001b[0m\u001b[0;34m[\u001b[0m\u001b[0;36m3\u001b[0m\u001b[0;34m]\u001b[0m \u001b[0;34m=\u001b[0m \u001b[0;36m106.09\u001b[0m\u001b[0;34m\u001b[0m\u001b[0;34m\u001b[0m\u001b[0m\n\u001b[0m",
            "\u001b[0;31mTypeError\u001b[0m: 'tuple' object does not support item assignment"
          ]
        }
      ],
      "source": [
        "tup[3] = 106.09"
      ]
    },
    {
      "cell_type": "code",
      "execution_count": null,
      "metadata": {
        "id": "1CXiM30o8JN8"
      },
      "outputs": [],
      "source": []
    },
    {
      "cell_type": "markdown",
      "metadata": {
        "id": "Q4ZNvSQg8JN8"
      },
      "source": [
        "4. Create and save a __dictionary__ with two Country/Capital Pairs of your choice (e.g. France/Paris)"
      ]
    },
    {
      "cell_type": "code",
      "execution_count": 5,
      "metadata": {
        "id": "aB3k7gFX8JN8"
      },
      "outputs": [],
      "source": [
        "dic = {\"France\": \"Paris\", \"USA\": \"Washington D.C.\"}"
      ]
    },
    {
      "cell_type": "code",
      "execution_count": null,
      "metadata": {
        "id": "vP7ZLd2I8JN9"
      },
      "outputs": [],
      "source": []
    },
    {
      "cell_type": "markdown",
      "metadata": {
        "id": "s_eE1RIL8JN9"
      },
      "source": [
        "5. __Return__ the Capital for one country of your choice."
      ]
    },
    {
      "cell_type": "code",
      "execution_count": 6,
      "metadata": {
        "colab": {
          "base_uri": "https://localhost:8080/",
          "height": 35
        },
        "id": "dRz8_-x58JN-",
        "outputId": "fe38151f-cd3f-497b-cf6d-6b4162a4b424"
      },
      "outputs": [
        {
          "output_type": "execute_result",
          "data": {
            "text/plain": [
              "'Washington D.C.'"
            ],
            "application/vnd.google.colaboratory.intrinsic+json": {
              "type": "string"
            }
          },
          "metadata": {},
          "execution_count": 6
        }
      ],
      "source": [
        "dic[\"USA\"]"
      ]
    },
    {
      "cell_type": "code",
      "execution_count": null,
      "metadata": {
        "id": "XYHSqruZ8JN-"
      },
      "outputs": [],
      "source": []
    },
    {
      "cell_type": "markdown",
      "metadata": {
        "id": "NEkaJRyn8JN-"
      },
      "source": [
        "6. __Iterate__ over your dictionary and __print__ for each key, value pair the following statement: __\"XYZ is the capital of ABC:\". Use string replacement!__"
      ]
    },
    {
      "cell_type": "code",
      "execution_count": 11,
      "metadata": {
        "colab": {
          "base_uri": "https://localhost:8080/"
        },
        "id": "3Gs8A3ID8JN_",
        "outputId": "0b8cd4e0-e91c-4cef-aea8-4bb4af49a661"
      },
      "outputs": [
        {
          "output_type": "stream",
          "name": "stdout",
          "text": [
            "Paris is the capital of France\n",
            "Washington D.C. is the capital of USA\n"
          ]
        }
      ],
      "source": [
        "for key, value in dic.items():\n",
        "  print(\"{} is the capital of {}\".format(value, key))"
      ]
    },
    {
      "cell_type": "code",
      "execution_count": null,
      "metadata": {
        "id": "u2DaFViK8JN_"
      },
      "outputs": [],
      "source": []
    },
    {
      "cell_type": "markdown",
      "metadata": {
        "id": "QJFeJP1X8JN_"
      },
      "source": [
        "7. __Save__ the following string in memory: \"US growth rate eases to 1.9% in the third quarter.\""
      ]
    },
    {
      "cell_type": "code",
      "execution_count": 12,
      "metadata": {
        "id": "_ywl_c9g8JOA"
      },
      "outputs": [],
      "source": [
        "string = \"US growth rate eases to 1.9% in the third quarter.\""
      ]
    },
    {
      "cell_type": "code",
      "execution_count": 14,
      "metadata": {
        "colab": {
          "base_uri": "https://localhost:8080/",
          "height": 35
        },
        "id": "_OIdpbaS8JOA",
        "outputId": "95d9bd03-f046-4d97-a6ac-ce4344ffeb89"
      },
      "outputs": [
        {
          "output_type": "execute_result",
          "data": {
            "text/plain": [
              "'US growth rate eases to 1.9% in the third quarter.'"
            ],
            "application/vnd.google.colaboratory.intrinsic+json": {
              "type": "string"
            }
          },
          "metadata": {},
          "execution_count": 14
        }
      ],
      "source": [
        "string"
      ]
    },
    {
      "cell_type": "code",
      "execution_count": null,
      "metadata": {
        "id": "1IqZbCw58JOA"
      },
      "outputs": [],
      "source": []
    },
    {
      "cell_type": "markdown",
      "metadata": {
        "id": "Asdzvgvt8JOA"
      },
      "source": [
        "8. __Index__ the string for the second last character."
      ]
    },
    {
      "cell_type": "code",
      "execution_count": 15,
      "metadata": {
        "colab": {
          "base_uri": "https://localhost:8080/",
          "height": 35
        },
        "id": "-oz_RPHE8JOB",
        "outputId": "078eb9b3-6264-4d45-84a7-c6772406ab69"
      },
      "outputs": [
        {
          "output_type": "execute_result",
          "data": {
            "text/plain": [
              "'r'"
            ],
            "application/vnd.google.colaboratory.intrinsic+json": {
              "type": "string"
            }
          },
          "metadata": {},
          "execution_count": 15
        }
      ],
      "source": [
        "string[-2]"
      ]
    },
    {
      "cell_type": "code",
      "execution_count": null,
      "metadata": {
        "id": "GzWJSgOj8JOB"
      },
      "outputs": [],
      "source": []
    },
    {
      "cell_type": "markdown",
      "metadata": {
        "id": "O04Mf-iT8JOB"
      },
      "source": [
        "9. Convert the string to __uppercase__. __Reassign__ your variable!"
      ]
    },
    {
      "cell_type": "code",
      "execution_count": 17,
      "metadata": {
        "id": "PtflFRiT8JOB"
      },
      "outputs": [],
      "source": [
        "string = string.upper()"
      ]
    },
    {
      "cell_type": "code",
      "execution_count": 18,
      "metadata": {
        "colab": {
          "base_uri": "https://localhost:8080/",
          "height": 35
        },
        "id": "UhMHtQ7_8JOB",
        "outputId": "5f8e7d08-ff57-4970-a317-cbd5bc2e5455"
      },
      "outputs": [
        {
          "output_type": "execute_result",
          "data": {
            "text/plain": [
              "'US GROWTH RATE EASES TO 1.9% IN THE THIRD QUARTER.'"
            ],
            "application/vnd.google.colaboratory.intrinsic+json": {
              "type": "string"
            }
          },
          "metadata": {},
          "execution_count": 18
        }
      ],
      "source": [
        "string"
      ]
    },
    {
      "cell_type": "code",
      "execution_count": null,
      "metadata": {
        "id": "uuX7FLWm8JOB"
      },
      "outputs": [],
      "source": []
    },
    {
      "cell_type": "markdown",
      "metadata": {
        "id": "YbuaqQIm8JOB"
      },
      "source": [
        "9. Check whether __a is greater than b__."
      ]
    },
    {
      "cell_type": "code",
      "execution_count": 20,
      "metadata": {
        "id": "vwa35Bn18JOC"
      },
      "outputs": [],
      "source": [
        "# run the cell!\n",
        "a = 5**12\n",
        "b = 4564 * 56750"
      ]
    },
    {
      "cell_type": "code",
      "execution_count": 21,
      "metadata": {
        "colab": {
          "base_uri": "https://localhost:8080/"
        },
        "id": "x-eUsS2d8JOC",
        "outputId": "a844e344-654e-4805-932f-c3401fdc11cc"
      },
      "outputs": [
        {
          "output_type": "execute_result",
          "data": {
            "text/plain": [
              "False"
            ]
          },
          "metadata": {},
          "execution_count": 21
        }
      ],
      "source": [
        "a > b"
      ]
    },
    {
      "cell_type": "code",
      "execution_count": 27,
      "metadata": {
        "colab": {
          "base_uri": "https://localhost:8080/"
        },
        "id": "jtZZtIba8JOD",
        "outputId": "c3b8ae71-1767-4aa2-bf41-d87002ecf995"
      },
      "outputs": [
        {
          "output_type": "stream",
          "name": "stdout",
          "text": [
            "244140625 259007000\n"
          ]
        }
      ],
      "source": [
        "print(a,b)"
      ]
    },
    {
      "cell_type": "code",
      "execution_count": null,
      "metadata": {
        "id": "Fd-9zeDa8JOD"
      },
      "outputs": [],
      "source": []
    },
    {
      "cell_type": "markdown",
      "metadata": {
        "id": "lZ8XZ2pU8JOD"
      },
      "source": [
        "10. Check whether __c is not equal to d__."
      ]
    },
    {
      "cell_type": "code",
      "execution_count": 22,
      "metadata": {
        "id": "QIQ4Hay38JOE"
      },
      "outputs": [],
      "source": [
        "# run the cell!\n",
        "c = 12**5\n",
        "d = 31104 * 8 "
      ]
    },
    {
      "cell_type": "code",
      "execution_count": 23,
      "metadata": {
        "colab": {
          "base_uri": "https://localhost:8080/"
        },
        "id": "HLGsBxch8JOF",
        "outputId": "2ce7afd0-ee5c-4e59-d8b3-199e5bcbd480"
      },
      "outputs": [
        {
          "output_type": "execute_result",
          "data": {
            "text/plain": [
              "False"
            ]
          },
          "metadata": {},
          "execution_count": 23
        }
      ],
      "source": [
        "c != d"
      ]
    },
    {
      "cell_type": "code",
      "execution_count": 28,
      "metadata": {
        "colab": {
          "base_uri": "https://localhost:8080/"
        },
        "id": "F7ZlGGpx8JOH",
        "outputId": "d7afc2d8-7851-41b2-d2be-4078ec764bc8"
      },
      "outputs": [
        {
          "output_type": "stream",
          "name": "stdout",
          "text": [
            "248832 248832\n"
          ]
        }
      ],
      "source": [
        "print(c,d)"
      ]
    },
    {
      "cell_type": "code",
      "execution_count": null,
      "metadata": {
        "id": "_OC-Fekd8JOH"
      },
      "outputs": [],
      "source": []
    },
    {
      "cell_type": "markdown",
      "metadata": {
        "id": "hbRqpGfi8JOH"
      },
      "source": [
        "We have the following code: "
      ]
    },
    {
      "cell_type": "code",
      "execution_count": 24,
      "metadata": {
        "id": "l4p3pLHh8JOI"
      },
      "outputs": [],
      "source": [
        "# run the cell!\n",
        "cf1 = [100, 200]\n",
        "cf2 = cf1\n",
        "cf3 = [100, 200]"
      ]
    },
    {
      "cell_type": "markdown",
      "metadata": {
        "id": "BXwhv7QA8JOI"
      },
      "source": [
        "11. Check whether __cf1 and cf2 are equal__."
      ]
    },
    {
      "cell_type": "code",
      "execution_count": 25,
      "metadata": {
        "colab": {
          "base_uri": "https://localhost:8080/"
        },
        "id": "bpnhaSDG8JOJ",
        "outputId": "36f0ecda-adaf-4625-ffc2-8ca9dd5f61b8"
      },
      "outputs": [
        {
          "output_type": "execute_result",
          "data": {
            "text/plain": [
              "True"
            ]
          },
          "metadata": {},
          "execution_count": 25
        }
      ],
      "source": [
        "cf1 == cf2"
      ]
    },
    {
      "cell_type": "markdown",
      "metadata": {
        "id": "WNMw2ZSe8JOJ"
      },
      "source": [
        "12. Check whether __cf3 and cf2__ are referencing to the very __same object__!"
      ]
    },
    {
      "cell_type": "code",
      "execution_count": 26,
      "metadata": {
        "colab": {
          "base_uri": "https://localhost:8080/"
        },
        "id": "ZpCz8bei8JOJ",
        "outputId": "04752288-a000-4046-992d-201db3c3752b"
      },
      "outputs": [
        {
          "output_type": "execute_result",
          "data": {
            "text/plain": [
              "False"
            ]
          },
          "metadata": {},
          "execution_count": 26
        }
      ],
      "source": [
        "cf3 is cf2"
      ]
    },
    {
      "cell_type": "code",
      "execution_count": null,
      "metadata": {
        "id": "xYB3-RgP8JOK"
      },
      "outputs": [],
      "source": []
    },
    {
      "cell_type": "markdown",
      "metadata": {
        "id": "1iIkUT_b8JOK"
      },
      "source": [
        "13. Check whether __at least one condition is met__."
      ]
    },
    {
      "cell_type": "code",
      "execution_count": 29,
      "metadata": {
        "id": "tBGQ5YfA8JOK"
      },
      "outputs": [],
      "source": [
        "# run the cell!\n",
        "condition_1 = 45754 % 3 == 0 #45754 divisible by 3"
      ]
    },
    {
      "cell_type": "code",
      "execution_count": 30,
      "metadata": {
        "id": "dy-D-XRf8JOK"
      },
      "outputs": [],
      "source": [
        "# run the cell!\n",
        "condition_2 = 45754 > 63 * 650 #45754 greater than 63 * 650"
      ]
    },
    {
      "cell_type": "code",
      "execution_count": 31,
      "metadata": {
        "colab": {
          "base_uri": "https://localhost:8080/"
        },
        "id": "IE99TJi88JOK",
        "outputId": "4b46baf3-2dc6-4358-ea84-c46e9f3ff296"
      },
      "outputs": [
        {
          "output_type": "execute_result",
          "data": {
            "text/plain": [
              "True"
            ]
          },
          "metadata": {},
          "execution_count": 31
        }
      ],
      "source": [
        "condition_1 or condition_2"
      ]
    },
    {
      "cell_type": "code",
      "execution_count": 36,
      "metadata": {
        "colab": {
          "base_uri": "https://localhost:8080/"
        },
        "id": "2k8grNlw8JOK",
        "outputId": "edc878db-0103-4901-e6a8-b0dbb27298e1"
      },
      "outputs": [
        {
          "output_type": "stream",
          "name": "stdout",
          "text": [
            "False True\n"
          ]
        }
      ],
      "source": [
        "print(condition_1, condition_2)"
      ]
    },
    {
      "cell_type": "code",
      "execution_count": null,
      "metadata": {
        "id": "ygQTTpId8JOL"
      },
      "outputs": [],
      "source": []
    },
    {
      "cell_type": "markdown",
      "metadata": {
        "id": "uo5kduPs8JOL"
      },
      "source": [
        "14. Check whether __both conditions are met__."
      ]
    },
    {
      "cell_type": "code",
      "execution_count": 32,
      "metadata": {
        "id": "QUIZN1HS8JOM"
      },
      "outputs": [],
      "source": [
        "# run the cell!\n",
        "condition_3 = 172578 % 7 == 0 #172578 divisible by 7"
      ]
    },
    {
      "cell_type": "code",
      "execution_count": 33,
      "metadata": {
        "id": "XnNWbUBw8JOM"
      },
      "outputs": [],
      "source": [
        "# run the cell!\n",
        "condition_4 = 172578 < 43145 * 4 #172578 less than 43145 * 4"
      ]
    },
    {
      "cell_type": "code",
      "execution_count": 34,
      "metadata": {
        "colab": {
          "base_uri": "https://localhost:8080/"
        },
        "id": "ZV-KlYa48JON",
        "outputId": "9c4d466f-b104-4d11-ddaf-0b7394ea3a32"
      },
      "outputs": [
        {
          "output_type": "execute_result",
          "data": {
            "text/plain": [
              "True"
            ]
          },
          "metadata": {},
          "execution_count": 34
        }
      ],
      "source": [
        "condition_3 and condition_4"
      ]
    },
    {
      "cell_type": "code",
      "execution_count": 37,
      "metadata": {
        "colab": {
          "base_uri": "https://localhost:8080/"
        },
        "id": "c8Mzh3Uu8JON",
        "outputId": "38cb5ed8-51f2-4e76-cf6f-e0a0d5a98b9b"
      },
      "outputs": [
        {
          "output_type": "stream",
          "name": "stdout",
          "text": [
            "True True\n"
          ]
        }
      ],
      "source": [
        "print(condition_3, condition_4)"
      ]
    },
    {
      "cell_type": "code",
      "execution_count": null,
      "metadata": {
        "id": "BDai6vBh8JON"
      },
      "outputs": [],
      "source": []
    },
    {
      "cell_type": "markdown",
      "metadata": {
        "id": "7XScdSjC8JOO"
      },
      "source": [
        "15. Does the following Code return __True or False__?"
      ]
    },
    {
      "cell_type": "code",
      "execution_count": 35,
      "metadata": {
        "colab": {
          "base_uri": "https://localhost:8080/"
        },
        "id": "LctBPs8A8JOO",
        "outputId": "aefcd291-a03e-4517-83b2-cc1e53991821"
      },
      "outputs": [
        {
          "output_type": "execute_result",
          "data": {
            "text/plain": [
              "False"
            ]
          },
          "metadata": {},
          "execution_count": 35
        }
      ],
      "source": [
        "# run the cell to check\n",
        "not((4 != 3) or not(type(23) == int))"
      ]
    },
    {
      "cell_type": "markdown",
      "metadata": {
        "id": "AXIV0Unq8JOP"
      },
      "source": [
        "# Well Done!"
      ]
    },
    {
      "cell_type": "markdown",
      "metadata": {
        "id": "OaNtJLDh8JOQ"
      },
      "source": [
        "---------------------------------------------------------------------------------------------------------------------"
      ]
    },
    {
      "cell_type": "markdown",
      "metadata": {
        "id": "MyC5Xwrg8JOQ"
      },
      "source": [
        "# Solutions (Stop here if you want to code on your own!)"
      ]
    },
    {
      "cell_type": "markdown",
      "metadata": {
        "id": "RceKIfda8JOQ"
      },
      "source": [
        "# ++++++++++++++++++++++++++++++++++++++++++++++++++++++++++++++"
      ]
    },
    {
      "cell_type": "markdown",
      "metadata": {
        "id": "vmKcNcwU8JOR"
      },
      "source": [
        "1. __Create and save a tuple__ with the elements 100, 0.03 and 103!"
      ]
    },
    {
      "cell_type": "code",
      "execution_count": null,
      "metadata": {
        "id": "sfz2t4nT8JOS"
      },
      "outputs": [],
      "source": [
        "tup = (100, 0.03, 103)"
      ]
    },
    {
      "cell_type": "code",
      "execution_count": null,
      "metadata": {
        "id": "sp4tNwkp8JOS"
      },
      "outputs": [],
      "source": [
        "tup"
      ]
    },
    {
      "cell_type": "code",
      "execution_count": null,
      "metadata": {
        "id": "ffFGI6Ci8JOS"
      },
      "outputs": [],
      "source": []
    },
    {
      "cell_type": "markdown",
      "metadata": {
        "id": "R9Ya-mxS8JOT"
      },
      "source": [
        "2. __Index__ the tuple for the second element (0.03)"
      ]
    },
    {
      "cell_type": "code",
      "execution_count": null,
      "metadata": {
        "id": "nlTyz6kb8JOU"
      },
      "outputs": [],
      "source": [
        "tup[1]"
      ]
    },
    {
      "cell_type": "code",
      "execution_count": null,
      "metadata": {
        "id": "_mB1rcmK8JOV"
      },
      "outputs": [],
      "source": []
    },
    {
      "cell_type": "markdown",
      "metadata": {
        "id": "aYEqsAn78JOW"
      },
      "source": [
        "3. Try to __change__ the third element to 106.09. Are tuples __mutable__?"
      ]
    },
    {
      "cell_type": "code",
      "execution_count": null,
      "metadata": {
        "id": "EsGNLA7U8JOX"
      },
      "outputs": [],
      "source": [
        "tup[2] = 106.09"
      ]
    },
    {
      "cell_type": "code",
      "execution_count": null,
      "metadata": {
        "id": "cQ6MdP9-8JOY"
      },
      "outputs": [],
      "source": []
    },
    {
      "cell_type": "markdown",
      "metadata": {
        "id": "VfU49iNh8JOY"
      },
      "source": [
        "4. Create and save a __dictionary__ with two Country/Capital Pairs of your choice (e.g. France/Paris)"
      ]
    },
    {
      "cell_type": "code",
      "execution_count": null,
      "metadata": {
        "id": "HgLIt-3V8JOZ"
      },
      "outputs": [],
      "source": [
        "mapping = {\"France\":\"Paris\", \"Italy\":\"Rome\"}\n",
        "mapping"
      ]
    },
    {
      "cell_type": "code",
      "execution_count": null,
      "metadata": {
        "id": "ibCzj_U58JOZ"
      },
      "outputs": [],
      "source": []
    },
    {
      "cell_type": "markdown",
      "metadata": {
        "id": "djviW2888JOa"
      },
      "source": [
        "5. __Return__ the Capital for one country of your choice."
      ]
    },
    {
      "cell_type": "code",
      "execution_count": null,
      "metadata": {
        "id": "8f6pp2F48JOa"
      },
      "outputs": [],
      "source": [
        "mapping[\"France\"]"
      ]
    },
    {
      "cell_type": "code",
      "execution_count": null,
      "metadata": {
        "id": "eLbAS8JI8JOb"
      },
      "outputs": [],
      "source": []
    },
    {
      "cell_type": "markdown",
      "metadata": {
        "id": "BEYUshYw8JOb"
      },
      "source": [
        "6. __Iterate__ over your dictionary and __print__ for each key, value pair the following statement: __\"XYZ is the capital of ABC:\". Use string replacement!__"
      ]
    },
    {
      "cell_type": "code",
      "execution_count": null,
      "metadata": {
        "id": "iJKkbisL8JOc"
      },
      "outputs": [],
      "source": [
        "for key, value in mapping.items():\n",
        "    print(\"{} is the capital of {}.\".format(value, key))"
      ]
    },
    {
      "cell_type": "code",
      "execution_count": null,
      "metadata": {
        "id": "0tJKXByJ8JOc"
      },
      "outputs": [],
      "source": []
    },
    {
      "cell_type": "markdown",
      "metadata": {
        "id": "-3rxlnss8JOd"
      },
      "source": [
        "7. __Save__ the following string in memory: \"US growth rate eases to 1.9% in the third quarter.\""
      ]
    },
    {
      "cell_type": "code",
      "execution_count": null,
      "metadata": {
        "id": "sJ4BVpoJ8JOd"
      },
      "outputs": [],
      "source": [
        "stat = \"US growth rate eases to 1.9% in the third quarter.\""
      ]
    },
    {
      "cell_type": "code",
      "execution_count": null,
      "metadata": {
        "id": "c1AtsGYt8JOe"
      },
      "outputs": [],
      "source": [
        "stat"
      ]
    },
    {
      "cell_type": "code",
      "execution_count": null,
      "metadata": {
        "id": "-ISopgNo8JOf"
      },
      "outputs": [],
      "source": []
    },
    {
      "cell_type": "markdown",
      "metadata": {
        "id": "rqjbx9_J8JOf"
      },
      "source": [
        "8. __Index__ the string for the second last character."
      ]
    },
    {
      "cell_type": "code",
      "execution_count": null,
      "metadata": {
        "id": "2Nf3ck0c8JOf"
      },
      "outputs": [],
      "source": [
        "stat[-2]"
      ]
    },
    {
      "cell_type": "markdown",
      "metadata": {
        "id": "gRSrPMHk8JOg"
      },
      "source": [
        "9. Convert the string to __uppercase__. __Reassign__ your variable!"
      ]
    },
    {
      "cell_type": "code",
      "execution_count": null,
      "metadata": {
        "id": "Gkw6g_4Y8JOh"
      },
      "outputs": [],
      "source": [
        "stat = stat.upper()"
      ]
    },
    {
      "cell_type": "code",
      "execution_count": null,
      "metadata": {
        "id": "zXs6PO_38JOj"
      },
      "outputs": [],
      "source": [
        "stat"
      ]
    },
    {
      "cell_type": "code",
      "execution_count": null,
      "metadata": {
        "id": "TYHo6env8JOk"
      },
      "outputs": [],
      "source": []
    },
    {
      "cell_type": "markdown",
      "metadata": {
        "id": "3y_PUhWL8JOk"
      },
      "source": [
        "9. Check whether __a is greater than b__."
      ]
    },
    {
      "cell_type": "code",
      "execution_count": null,
      "metadata": {
        "id": "TDFNIW9w8JOk"
      },
      "outputs": [],
      "source": [
        "# run the cell!\n",
        "a = 5**12\n",
        "b = 4564 * 56750"
      ]
    },
    {
      "cell_type": "code",
      "execution_count": null,
      "metadata": {
        "id": "ox4BjjVt8JOl"
      },
      "outputs": [],
      "source": [
        "a > b"
      ]
    },
    {
      "cell_type": "code",
      "execution_count": null,
      "metadata": {
        "id": "l0frCCXQ8JOn"
      },
      "outputs": [],
      "source": [
        "print(a, b)"
      ]
    },
    {
      "cell_type": "code",
      "execution_count": null,
      "metadata": {
        "id": "uBbNZC-e8JOo"
      },
      "outputs": [],
      "source": []
    },
    {
      "cell_type": "markdown",
      "metadata": {
        "id": "pe4QoIXH8JOp"
      },
      "source": [
        "10. Check whether __c is not equal to d__."
      ]
    },
    {
      "cell_type": "code",
      "execution_count": null,
      "metadata": {
        "id": "RZYD4UJp8JOq"
      },
      "outputs": [],
      "source": [
        "# run the cell!\n",
        "c = 12**5\n",
        "d = 31104 * 8 "
      ]
    },
    {
      "cell_type": "code",
      "execution_count": null,
      "metadata": {
        "id": "Q-vcPQ_h8JOq"
      },
      "outputs": [],
      "source": [
        "c != d"
      ]
    },
    {
      "cell_type": "code",
      "execution_count": null,
      "metadata": {
        "id": "gauqQpsi8JOr"
      },
      "outputs": [],
      "source": [
        "print(c, d)"
      ]
    },
    {
      "cell_type": "code",
      "execution_count": null,
      "metadata": {
        "id": "NmzhIydf8JOs"
      },
      "outputs": [],
      "source": []
    },
    {
      "cell_type": "markdown",
      "metadata": {
        "id": "BUKJuu478JOs"
      },
      "source": [
        "We have the following code: "
      ]
    },
    {
      "cell_type": "code",
      "execution_count": null,
      "metadata": {
        "id": "kw5Fqmfi8JOt"
      },
      "outputs": [],
      "source": [
        "cf1 = [100, 200]\n",
        "cf2 = cf1\n",
        "cf3 = [100, 200]"
      ]
    },
    {
      "cell_type": "markdown",
      "metadata": {
        "id": "eHMOD2qy8JOt"
      },
      "source": [
        "11. Check whether __cf1 and cf2 are equal__."
      ]
    },
    {
      "cell_type": "code",
      "execution_count": null,
      "metadata": {
        "id": "AZiHDDZ98JOu"
      },
      "outputs": [],
      "source": [
        "cf1 == cf2"
      ]
    },
    {
      "cell_type": "markdown",
      "metadata": {
        "id": "kmzvCbLr8JOu"
      },
      "source": [
        "12. Check whether __cf3 and cf2__ are referencing to the very __same object__!"
      ]
    },
    {
      "cell_type": "code",
      "execution_count": null,
      "metadata": {
        "id": "qyFk9Qai8JOu"
      },
      "outputs": [],
      "source": [
        "cf3 is cf2"
      ]
    },
    {
      "cell_type": "code",
      "execution_count": null,
      "metadata": {
        "id": "KehJdNKo8JOv"
      },
      "outputs": [],
      "source": []
    },
    {
      "cell_type": "markdown",
      "metadata": {
        "id": "RhF-KyTh8JOv"
      },
      "source": [
        "13. Check whether __at least one condition is met__."
      ]
    },
    {
      "cell_type": "code",
      "execution_count": null,
      "metadata": {
        "id": "S0ZTVN_h8JOv"
      },
      "outputs": [],
      "source": [
        "# run the cell!\n",
        "condition_1 = 45754 % 3 == 0 #45754 divisible by 3"
      ]
    },
    {
      "cell_type": "code",
      "execution_count": null,
      "metadata": {
        "id": "99gfBuNR8JOv"
      },
      "outputs": [],
      "source": [
        "# run the cell!\n",
        "condition_2 = 45754 > 63 * 650 #45754 greater than 63 * 650"
      ]
    },
    {
      "cell_type": "code",
      "execution_count": null,
      "metadata": {
        "id": "h7UQlrnM8JOw"
      },
      "outputs": [],
      "source": [
        "condition_1 or condition_2"
      ]
    },
    {
      "cell_type": "code",
      "execution_count": null,
      "metadata": {
        "id": "sqLvvyvo8JOw"
      },
      "outputs": [],
      "source": [
        "print(condition_1, condition_2)"
      ]
    },
    {
      "cell_type": "code",
      "execution_count": null,
      "metadata": {
        "id": "f2jZuuVB8JOx"
      },
      "outputs": [],
      "source": []
    },
    {
      "cell_type": "markdown",
      "metadata": {
        "id": "fLhF1HPs8JOy"
      },
      "source": [
        "14. Check whether __both conditions are met__."
      ]
    },
    {
      "cell_type": "code",
      "execution_count": null,
      "metadata": {
        "id": "lEsUroeS8JOy"
      },
      "outputs": [],
      "source": [
        "# run the cell!\n",
        "condition_3 = 172578 % 7 == 0 #172578 divisible by 7"
      ]
    },
    {
      "cell_type": "code",
      "execution_count": null,
      "metadata": {
        "id": "47EDQabc8JOy"
      },
      "outputs": [],
      "source": [
        "# run the cell!\n",
        "condition_4 = 172578 < 43145 * 4 #172578 less than 43145 * 4"
      ]
    },
    {
      "cell_type": "code",
      "execution_count": null,
      "metadata": {
        "id": "oAgqrIfj8JOz"
      },
      "outputs": [],
      "source": [
        "condition_3 and condition_4"
      ]
    },
    {
      "cell_type": "code",
      "execution_count": null,
      "metadata": {
        "id": "NqLI6xjr8JOz"
      },
      "outputs": [],
      "source": [
        "print(condition_3, condition_4)"
      ]
    },
    {
      "cell_type": "code",
      "execution_count": null,
      "metadata": {
        "id": "ank9rlXD8JOz"
      },
      "outputs": [],
      "source": []
    },
    {
      "cell_type": "markdown",
      "metadata": {
        "id": "uZ6US1kt8JO0"
      },
      "source": [
        "15. Does the following Code return __True or False__?"
      ]
    },
    {
      "cell_type": "code",
      "execution_count": null,
      "metadata": {
        "id": "7vN4rgm18JO0"
      },
      "outputs": [],
      "source": [
        "# run the cell to check\n",
        "not((4 != 3) or not(type(23) == int))"
      ]
    },
    {
      "cell_type": "code",
      "execution_count": null,
      "metadata": {
        "id": "w4R3oa5k8JO0"
      },
      "outputs": [],
      "source": []
    }
  ],
  "metadata": {
    "kernelspec": {
      "display_name": "Python 3 (ipykernel)",
      "language": "python",
      "name": "python3"
    },
    "language_info": {
      "codemirror_mode": {
        "name": "ipython",
        "version": 3
      },
      "file_extension": ".py",
      "mimetype": "text/x-python",
      "name": "python",
      "nbconvert_exporter": "python",
      "pygments_lexer": "ipython3",
      "version": "3.9.16"
    },
    "colab": {
      "provenance": [],
      "include_colab_link": true
    }
  },
  "nbformat": 4,
  "nbformat_minor": 0
}
