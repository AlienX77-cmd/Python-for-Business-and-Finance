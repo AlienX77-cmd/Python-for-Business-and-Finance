{
  "cells": [
    {
      "cell_type": "markdown",
      "metadata": {
        "id": "view-in-github",
        "colab_type": "text"
      },
      "source": [
        "<a href=\"https://colab.research.google.com/github/AlienX77-cmd/Python-for-Business-and-Finance/blob/main/Part_3_Exercise_01.ipynb\" target=\"_parent\"><img src=\"https://colab.research.google.com/assets/colab-badge.svg\" alt=\"Open In Colab\"/></a>"
      ]
    },
    {
      "cell_type": "markdown",
      "metadata": {
        "id": "qtkMAY1lLJeJ"
      },
      "source": [
        "# Coding Exercises (Part 3)"
      ]
    },
    {
      "cell_type": "markdown",
      "metadata": {
        "id": "Sj7No2c8LJeL"
      },
      "source": [
        "Now, you will have the opportunity to practice what you have learned. <br>\n",
        "__Follow the instructions__ and insert your code! "
      ]
    },
    {
      "cell_type": "markdown",
      "metadata": {
        "id": "Nj9T4pLdLJeN"
      },
      "source": [
        "The correct answer is provided below your coding cell. There you can check whether your code is correct."
      ]
    },
    {
      "cell_type": "markdown",
      "metadata": {
        "id": "PvU6QY-jLJeO"
      },
      "source": [
        "If you need some help or if you want to check your code, you can also have a look at the __solutions__."
      ]
    },
    {
      "cell_type": "markdown",
      "metadata": {
        "id": "LljIYwvsLJeP"
      },
      "source": [
        "### Have Fun!"
      ]
    },
    {
      "cell_type": "markdown",
      "metadata": {
        "id": "y5K37tg6LJeQ"
      },
      "source": [
        "--------------------------------------------------------------------------------------------------------------"
      ]
    },
    {
      "cell_type": "markdown",
      "metadata": {
        "id": "_5PE0UtwLJeQ"
      },
      "source": [
        "## Exercise 1: N-Dimensional Numpy Arrays"
      ]
    },
    {
      "cell_type": "code",
      "execution_count": 1,
      "metadata": {
        "id": "nOFbBMA0LJeR"
      },
      "outputs": [],
      "source": [
        "# run the cell!\n",
        "import numpy as np\n",
        "np.set_printoptions(precision=2, suppress= True)"
      ]
    },
    {
      "cell_type": "markdown",
      "metadata": {
        "id": "sKEpWPDvLJeS"
      },
      "source": [
        "Let´s assume we have three investment projects with the following cashflow plans:"
      ]
    },
    {
      "cell_type": "code",
      "execution_count": 2,
      "metadata": {
        "id": "duoJlpY0LJeT"
      },
      "outputs": [],
      "source": [
        "# run the cell!\n",
        "project_1 = [-500, 100, 150, 200, 200, 175, 100, 50]\n",
        "project_2 = [-750, 100, 125, 150, 175, 200, 250, 0]\n",
        "project_3 = [-2000, 500, 1000, 2500, 0, 0, 0, 0]"
      ]
    },
    {
      "cell_type": "markdown",
      "metadata": {
        "id": "btjLjZB4LJeU"
      },
      "source": [
        "1. Create and save a __2-dimensional Numpy Array__ (in the variable __projects__)."
      ]
    },
    {
      "cell_type": "code",
      "execution_count": 7,
      "metadata": {
        "id": "ZBRZXA4QLJeV"
      },
      "outputs": [],
      "source": [
        "projects = np.array([project_1, project_2, project_3])"
      ]
    },
    {
      "cell_type": "code",
      "execution_count": 8,
      "metadata": {
        "colab": {
          "base_uri": "https://localhost:8080/"
        },
        "id": "ajPodfyfLJeV",
        "outputId": "86a7dd3b-6e59-4355-b379-e4bd222db8d8"
      },
      "outputs": [
        {
          "output_type": "execute_result",
          "data": {
            "text/plain": [
              "array([[ -500,   100,   150,   200,   200,   175,   100,    50],\n",
              "       [ -750,   100,   125,   150,   175,   200,   250,     0],\n",
              "       [-2000,   500,  1000,  2500,     0,     0,     0,     0]])"
            ]
          },
          "metadata": {},
          "execution_count": 8
        }
      ],
      "source": [
        "projects"
      ]
    },
    {
      "cell_type": "code",
      "execution_count": null,
      "metadata": {
        "id": "Gd3tJXCWLJeW"
      },
      "outputs": [],
      "source": []
    },
    {
      "cell_type": "markdown",
      "metadata": {
        "id": "412UX7tjLJeW"
      },
      "source": [
        "2. Check the __shape__ of projects. __How many rows/columns__ do we have?"
      ]
    },
    {
      "cell_type": "code",
      "execution_count": 10,
      "metadata": {
        "colab": {
          "base_uri": "https://localhost:8080/"
        },
        "id": "DEgDu0EfLJeW",
        "outputId": "677546ad-9542-4976-8547-e3b34e51fe5e"
      },
      "outputs": [
        {
          "output_type": "execute_result",
          "data": {
            "text/plain": [
              "(3, 8)"
            ]
          },
          "metadata": {},
          "execution_count": 10
        }
      ],
      "source": [
        "projects.shape"
      ]
    },
    {
      "cell_type": "markdown",
      "metadata": {
        "id": "AWnqQAVtLJeX"
      },
      "source": [
        "(result: 3 rows, 8 columns)"
      ]
    },
    {
      "cell_type": "code",
      "execution_count": null,
      "metadata": {
        "id": "pdsaZVM7LJeX"
      },
      "outputs": [],
      "source": []
    },
    {
      "cell_type": "markdown",
      "metadata": {
        "id": "TdgIUx8kLJeX"
      },
      "source": [
        "3. __Slice__ projects for __the second project__."
      ]
    },
    {
      "cell_type": "code",
      "execution_count": 14,
      "metadata": {
        "colab": {
          "base_uri": "https://localhost:8080/"
        },
        "id": "cvUxl4uULJeY",
        "outputId": "c0fb0ee0-06b9-44e7-d94b-8dc6cad03e14"
      },
      "outputs": [
        {
          "output_type": "execute_result",
          "data": {
            "text/plain": [
              "array([-750,  100,  125,  150,  175,  200,  250,    0])"
            ]
          },
          "metadata": {},
          "execution_count": 14
        }
      ],
      "source": [
        "projects[1, :]"
      ]
    },
    {
      "cell_type": "code",
      "execution_count": null,
      "metadata": {
        "id": "1UL9WQYqLJeY"
      },
      "outputs": [],
      "source": []
    },
    {
      "cell_type": "markdown",
      "metadata": {
        "id": "SUhhUkPcLJeY"
      },
      "source": [
        "4. Return the __initial Investment__ of __Project 3__."
      ]
    },
    {
      "cell_type": "code",
      "execution_count": 15,
      "metadata": {
        "colab": {
          "base_uri": "https://localhost:8080/"
        },
        "id": "f512hEiFLJeY",
        "outputId": "9494a702-6346-4664-8da1-2c9cd1f4bf40"
      },
      "outputs": [
        {
          "output_type": "execute_result",
          "data": {
            "text/plain": [
              "-2000"
            ]
          },
          "metadata": {},
          "execution_count": 15
        }
      ],
      "source": [
        "projects[2,0]"
      ]
    },
    {
      "cell_type": "markdown",
      "metadata": {
        "id": "sXGXjMVBLJeZ"
      },
      "source": [
        "(result: -2000)"
      ]
    },
    {
      "cell_type": "code",
      "execution_count": null,
      "metadata": {
        "id": "mDHSK9YdLJeZ"
      },
      "outputs": [],
      "source": []
    },
    {
      "cell_type": "markdown",
      "metadata": {
        "id": "qNnI91WwLJeZ"
      },
      "source": [
        "5. Return the __final cashflow__ in year 7 for __all projects__."
      ]
    },
    {
      "cell_type": "code",
      "execution_count": 16,
      "metadata": {
        "colab": {
          "base_uri": "https://localhost:8080/"
        },
        "id": "Oaz4-aAHLJea",
        "outputId": "315ed71a-4292-4c55-ffd4-a1590ad87032"
      },
      "outputs": [
        {
          "output_type": "execute_result",
          "data": {
            "text/plain": [
              "array([50,  0,  0])"
            ]
          },
          "metadata": {},
          "execution_count": 16
        }
      ],
      "source": [
        "projects[:, 7]"
      ]
    },
    {
      "cell_type": "code",
      "execution_count": null,
      "metadata": {
        "id": "y2_n39uBLJea"
      },
      "outputs": [],
      "source": []
    },
    {
      "cell_type": "markdown",
      "metadata": {
        "id": "nzr3ZWDxLJea"
      },
      "source": [
        "6. Return the first positive cashflows (__Year 1__) for __Projects 1 and 2__."
      ]
    },
    {
      "cell_type": "code",
      "execution_count": 20,
      "metadata": {
        "colab": {
          "base_uri": "https://localhost:8080/"
        },
        "id": "R6lIOhj5LJea",
        "outputId": "868ed65a-2bea-4226-8f6c-2f3d7629edce"
      },
      "outputs": [
        {
          "output_type": "execute_result",
          "data": {
            "text/plain": [
              "array([100, 100])"
            ]
          },
          "metadata": {},
          "execution_count": 20
        }
      ],
      "source": [
        "projects[0:2, 1]"
      ]
    },
    {
      "cell_type": "markdown",
      "metadata": {
        "id": "NR41qaiCLJea"
      },
      "source": [
        "(result: array([100, 100]))"
      ]
    },
    {
      "cell_type": "code",
      "execution_count": null,
      "metadata": {
        "id": "lsFcmDXXLJeb"
      },
      "outputs": [],
      "source": []
    },
    {
      "cell_type": "markdown",
      "metadata": {
        "id": "6gDCZMvzLJeb"
      },
      "source": [
        "7. __Change__ the initial investment for __project 3__ to __-1900__."
      ]
    },
    {
      "cell_type": "code",
      "execution_count": 21,
      "metadata": {
        "id": "kmnh2O1OLJeb"
      },
      "outputs": [],
      "source": [
        "projects[2, 0] = -1900"
      ]
    },
    {
      "cell_type": "code",
      "execution_count": 22,
      "metadata": {
        "colab": {
          "base_uri": "https://localhost:8080/"
        },
        "id": "we8FleLQLJec",
        "outputId": "c4f2c14f-3e48-4b8a-a00d-cb75ef3986a6"
      },
      "outputs": [
        {
          "output_type": "execute_result",
          "data": {
            "text/plain": [
              "array([[ -500,   100,   150,   200,   200,   175,   100,    50],\n",
              "       [ -750,   100,   125,   150,   175,   200,   250,     0],\n",
              "       [-1900,   500,  1000,  2500,     0,     0,     0,     0]])"
            ]
          },
          "metadata": {},
          "execution_count": 22
        }
      ],
      "source": [
        "projects"
      ]
    },
    {
      "cell_type": "code",
      "execution_count": null,
      "metadata": {
        "id": "cpOfjL3mLJec"
      },
      "outputs": [],
      "source": []
    },
    {
      "cell_type": "markdown",
      "metadata": {
        "id": "gY22nPmMLJec"
      },
      "source": [
        "8. Change the __last cashflows__ in year 7 for all projects to __25__."
      ]
    },
    {
      "cell_type": "code",
      "execution_count": 23,
      "metadata": {
        "id": "GCteU9nTLJec"
      },
      "outputs": [],
      "source": [
        "projects[:, 7] = 25"
      ]
    },
    {
      "cell_type": "code",
      "execution_count": 24,
      "metadata": {
        "colab": {
          "base_uri": "https://localhost:8080/"
        },
        "id": "6UKDrVrkLJed",
        "outputId": "22320a51-4a53-4ef0-966d-985e8809dd0d"
      },
      "outputs": [
        {
          "output_type": "execute_result",
          "data": {
            "text/plain": [
              "array([[ -500,   100,   150,   200,   200,   175,   100,    25],\n",
              "       [ -750,   100,   125,   150,   175,   200,   250,    25],\n",
              "       [-1900,   500,  1000,  2500,     0,     0,     0,    25]])"
            ]
          },
          "metadata": {},
          "execution_count": 24
        }
      ],
      "source": [
        "projects"
      ]
    },
    {
      "cell_type": "code",
      "execution_count": null,
      "metadata": {
        "id": "A6iBvn6-LJed"
      },
      "outputs": [],
      "source": []
    },
    {
      "cell_type": "markdown",
      "metadata": {
        "id": "OsqTMCy6LJed"
      },
      "source": [
        "9. Calculate the total cashflows on each timestamp over all three projects (__column-wise sum__)."
      ]
    },
    {
      "cell_type": "code",
      "execution_count": 25,
      "metadata": {
        "colab": {
          "base_uri": "https://localhost:8080/"
        },
        "id": "1jHE3fU3LJed",
        "outputId": "7fc8af2f-211e-4242-f8ce-e7521663d608"
      },
      "outputs": [
        {
          "output_type": "execute_result",
          "data": {
            "text/plain": [
              "array([-3150,   700,  1275,  2850,   375,   375,   350,    75])"
            ]
          },
          "metadata": {},
          "execution_count": 25
        }
      ],
      "source": [
        "projects.sum(axis = 0)"
      ]
    },
    {
      "cell_type": "markdown",
      "metadata": {
        "id": "PfxIY2zuLJed"
      },
      "source": [
        "(results: array([-3150,   700,  1275,  2850,   375,   375,   350,    75]))"
      ]
    },
    {
      "cell_type": "code",
      "execution_count": null,
      "metadata": {
        "id": "UBPT0bUvLJee"
      },
      "outputs": [],
      "source": []
    },
    {
      "cell_type": "markdown",
      "metadata": {
        "id": "wHDq2Ku7LJee"
      },
      "source": [
        "10. Calculate __cumulative cashflows__ for all three projects."
      ]
    },
    {
      "cell_type": "code",
      "execution_count": 27,
      "metadata": {
        "colab": {
          "base_uri": "https://localhost:8080/"
        },
        "id": "Cc0iHfAALJef",
        "outputId": "159e8fee-e903-4e23-fd49-c0e6d73b4cba"
      },
      "outputs": [
        {
          "output_type": "execute_result",
          "data": {
            "text/plain": [
              "array([[ -500,  -400,  -250,   -50,   150,   325,   425,   450],\n",
              "       [ -750,  -650,  -525,  -375,  -200,     0,   250,   275],\n",
              "       [-1900, -1400,  -400,  2100,  2100,  2100,  2100,  2125]])"
            ]
          },
          "metadata": {},
          "execution_count": 27
        }
      ],
      "source": [
        "projects.cumsum(axis = 1)"
      ]
    },
    {
      "cell_type": "code",
      "execution_count": null,
      "metadata": {
        "id": "1WhHxnVgLJef"
      },
      "outputs": [],
      "source": []
    },
    {
      "cell_type": "markdown",
      "metadata": {
        "id": "W7ykUBPhLJef"
      },
      "source": [
        "11. Convert __all projects__ to EUR currency (__multiply with 0.9__)."
      ]
    },
    {
      "cell_type": "code",
      "execution_count": 29,
      "metadata": {
        "colab": {
          "base_uri": "https://localhost:8080/"
        },
        "id": "OxzkN38-LJef",
        "outputId": "b8826800-a259-4ddc-b076-fb205885c202"
      },
      "outputs": [
        {
          "output_type": "execute_result",
          "data": {
            "text/plain": [
              "array([[ -450. ,    90. ,   135. ,   180. ,   180. ,   157.5,    90. ,\n",
              "           22.5],\n",
              "       [ -675. ,    90. ,   112.5,   135. ,   157.5,   180. ,   225. ,\n",
              "           22.5],\n",
              "       [-1710. ,   450. ,   900. ,  2250. ,     0. ,     0. ,     0. ,\n",
              "           22.5]])"
            ]
          },
          "metadata": {},
          "execution_count": 29
        }
      ],
      "source": [
        "projects * 0.9"
      ]
    },
    {
      "cell_type": "code",
      "execution_count": null,
      "metadata": {
        "id": "BxiYZH7zLJeg"
      },
      "outputs": [],
      "source": []
    },
    {
      "cell_type": "markdown",
      "metadata": {
        "id": "6UYZv3f9LJeg"
      },
      "source": [
        "12. Convert __Project 1__ to EUR currency (__multiply with 0.9__), __Project 2__ to GBP currency (__multiply with 0.77__) and __Project 3__ to Yen Currency (__multiply with 109__)."
      ]
    },
    {
      "cell_type": "code",
      "execution_count": 31,
      "metadata": {
        "colab": {
          "base_uri": "https://localhost:8080/"
        },
        "id": "rQ64pCppLJeg",
        "outputId": "0aa1f4f4-c042-40dc-a4eb-2e1c9b84122f"
      },
      "outputs": [
        {
          "output_type": "execute_result",
          "data": {
            "text/plain": [
              "array([[  0.9 ],\n",
              "       [  0.77],\n",
              "       [109.  ]])"
            ]
          },
          "metadata": {},
          "execution_count": 31
        }
      ],
      "source": [
        "mult = np.array([0.9, 0.77, 109]).reshape(3, 1)\n",
        "mult"
      ]
    },
    {
      "cell_type": "code",
      "execution_count": 32,
      "metadata": {
        "colab": {
          "base_uri": "https://localhost:8080/"
        },
        "id": "Xmdb9DKkLJeg",
        "outputId": "d39d0e55-a713-4f5c-c002-661eefe68ba9"
      },
      "outputs": [
        {
          "output_type": "execute_result",
          "data": {
            "text/plain": [
              "array([[   -450.  ,      90.  ,     135.  ,     180.  ,     180.  ,\n",
              "            157.5 ,      90.  ,      22.5 ],\n",
              "       [   -577.5 ,      77.  ,      96.25,     115.5 ,     134.75,\n",
              "            154.  ,     192.5 ,      19.25],\n",
              "       [-207100.  ,   54500.  ,  109000.  ,  272500.  ,       0.  ,\n",
              "              0.  ,       0.  ,    2725.  ]])"
            ]
          },
          "metadata": {},
          "execution_count": 32
        }
      ],
      "source": [
        "projects * mult"
      ]
    },
    {
      "cell_type": "code",
      "execution_count": null,
      "metadata": {
        "id": "wdI5CFbxLJeh"
      },
      "outputs": [],
      "source": []
    },
    {
      "cell_type": "markdown",
      "metadata": {
        "id": "Wm1Is0C1LJeh"
      },
      "source": [
        "13. __Transpose__ projects!"
      ]
    },
    {
      "cell_type": "code",
      "execution_count": 35,
      "metadata": {
        "colab": {
          "base_uri": "https://localhost:8080/"
        },
        "id": "SyBQ7p2rLJeh",
        "outputId": "e5a65670-8efe-4b63-c3b0-e612def4a122"
      },
      "outputs": [
        {
          "output_type": "execute_result",
          "data": {
            "text/plain": [
              "array([[ -500,  -750, -1900],\n",
              "       [  100,   100,   500],\n",
              "       [  150,   125,  1000],\n",
              "       [  200,   150,  2500],\n",
              "       [  200,   175,     0],\n",
              "       [  175,   200,     0],\n",
              "       [  100,   250,     0],\n",
              "       [   25,    25,    25]])"
            ]
          },
          "metadata": {},
          "execution_count": 35
        }
      ],
      "source": [
        "projects.T"
      ]
    },
    {
      "cell_type": "code",
      "execution_count": null,
      "metadata": {
        "id": "GP9rfxyWLJei"
      },
      "outputs": [],
      "source": []
    },
    {
      "cell_type": "markdown",
      "metadata": {
        "id": "t3O4tnUILJei"
      },
      "source": [
        "14. Let´s assume that all three projects are postponed by one year. \"Add\" a __column with zero__ initial cashflows."
      ]
    },
    {
      "cell_type": "code",
      "execution_count": 40,
      "metadata": {
        "id": "3RkQdpKBLJei"
      },
      "outputs": [],
      "source": [
        "zeros = np.zeros(3).reshape(3,1)"
      ]
    },
    {
      "cell_type": "code",
      "execution_count": 41,
      "metadata": {
        "colab": {
          "base_uri": "https://localhost:8080/"
        },
        "id": "8I-skNZILJei",
        "outputId": "4647af10-d3d7-4d24-905a-5892e6eb6f54"
      },
      "outputs": [
        {
          "output_type": "execute_result",
          "data": {
            "text/plain": [
              "array([[    0.,  -500.,   100.,   150.,   200.,   200.,   175.,   100.,\n",
              "           25.],\n",
              "       [    0.,  -750.,   100.,   125.,   150.,   175.,   200.,   250.,\n",
              "           25.],\n",
              "       [    0., -1900.,   500.,  1000.,  2500.,     0.,     0.,     0.,\n",
              "           25.]])"
            ]
          },
          "metadata": {},
          "execution_count": 41
        }
      ],
      "source": [
        "np.hstack([zeros, projects])"
      ]
    },
    {
      "cell_type": "code",
      "execution_count": null,
      "metadata": {
        "id": "GnL7NloeLJei"
      },
      "outputs": [],
      "source": []
    },
    {
      "cell_type": "markdown",
      "metadata": {
        "id": "F5-VOr7BLJei"
      },
      "source": [
        "15. __Simulate__ playing Roulette 10 times (equally likely outcomes from __0 until 36__). Use a __random seed of 123__. "
      ]
    },
    {
      "cell_type": "code",
      "execution_count": 42,
      "metadata": {
        "colab": {
          "base_uri": "https://localhost:8080/"
        },
        "id": "EI0ibdWMLJej",
        "outputId": "1480d17c-0494-4021-a578-60c1a589ccce"
      },
      "outputs": [
        {
          "output_type": "execute_result",
          "data": {
            "text/plain": [
              "array([ 2, 28, 34, 17, 19, 22, 33, 32,  9, 32])"
            ]
          },
          "metadata": {},
          "execution_count": 42
        }
      ],
      "source": [
        "np.random.seed(123)\n",
        "np.random.randint(0, 37, 10)"
      ]
    },
    {
      "cell_type": "code",
      "execution_count": null,
      "metadata": {
        "id": "qJZBuK8iLJej"
      },
      "outputs": [],
      "source": []
    },
    {
      "cell_type": "markdown",
      "metadata": {
        "id": "wS4EJVr1LJej"
      },
      "source": [
        "16. Same as 15. but 100,000 simulations (__100,000 times 10 games__). Save the array in the variable roulette. Use a __random seed of 123__."
      ]
    },
    {
      "cell_type": "code",
      "execution_count": 43,
      "metadata": {
        "id": "SWnKTcwnLJej"
      },
      "outputs": [],
      "source": [
        "sims = 100000\n",
        "games = 10"
      ]
    },
    {
      "cell_type": "code",
      "execution_count": 44,
      "metadata": {
        "id": "qHQzhMoSLJek"
      },
      "outputs": [],
      "source": [
        "np.random.seed(123)\n",
        "roulette = np.random.randint(0, 37, sims*games).reshape(sims, games)"
      ]
    },
    {
      "cell_type": "code",
      "execution_count": 45,
      "metadata": {
        "colab": {
          "base_uri": "https://localhost:8080/"
        },
        "id": "7n5yWY8JLJek",
        "outputId": "e168fe90-1e97-4e45-9fe7-90200eee124b"
      },
      "outputs": [
        {
          "output_type": "execute_result",
          "data": {
            "text/plain": [
              "array([[ 2, 28, 34, ..., 32,  9, 32],\n",
              "       [32, 25, 19, ...,  4,  3,  2],\n",
              "       [20,  2, 20, ..., 21, 30, 27],\n",
              "       ...,\n",
              "       [11,  3, 34, ..., 32, 15, 22],\n",
              "       [18,  8, 16, ..., 35, 13, 32],\n",
              "       [22,  2, 34, ..., 20, 24,  7]])"
            ]
          },
          "metadata": {},
          "execution_count": 45
        }
      ],
      "source": [
        "roulette"
      ]
    },
    {
      "cell_type": "markdown",
      "metadata": {
        "id": "QnUhaNi_LJek"
      },
      "source": [
        "17. In how many simulations do we get the __number 13__ __four times__?"
      ]
    },
    {
      "cell_type": "code",
      "execution_count": 46,
      "metadata": {
        "colab": {
          "base_uri": "https://localhost:8080/"
        },
        "id": "5asnt6S4LJek",
        "outputId": "cd09904c-f2be-4961-85ea-3ae96e10aabe"
      },
      "outputs": [
        {
          "output_type": "execute_result",
          "data": {
            "text/plain": [
              "8"
            ]
          },
          "metadata": {},
          "execution_count": 46
        }
      ],
      "source": [
        "thirteen = (roulette == 13).sum(axis = 1)\n",
        "thirteen[thirteen == 4].size"
      ]
    },
    {
      "cell_type": "code",
      "execution_count": null,
      "metadata": {
        "id": "dW_qQaWeLJel"
      },
      "outputs": [],
      "source": []
    },
    {
      "cell_type": "markdown",
      "metadata": {
        "id": "b0lSoooPLJel"
      },
      "source": [
        "(result: 8)"
      ]
    },
    {
      "cell_type": "markdown",
      "metadata": {
        "id": "2ixgHjs-LJel"
      },
      "source": [
        "# Well Done!"
      ]
    },
    {
      "cell_type": "markdown",
      "metadata": {
        "id": "TSdxdTs7LJel"
      },
      "source": [
        "---------------------------------------------------------------------------------------------------------------------"
      ]
    },
    {
      "cell_type": "markdown",
      "metadata": {
        "id": "bGxHRjS2LJel"
      },
      "source": [
        "# Solutions (Stop here if you want to code on your own!)"
      ]
    },
    {
      "cell_type": "markdown",
      "metadata": {
        "id": "qHPTqO7pLJel"
      },
      "source": [
        "# ++++++++++++++++++++++++++++++++++++++++++++++++++++++++++++++"
      ]
    },
    {
      "cell_type": "code",
      "execution_count": null,
      "metadata": {
        "id": "HiXaNcovLJem"
      },
      "outputs": [],
      "source": [
        "# run the cell!\n",
        "import numpy as np\n",
        "np.set_printoptions(precision=2, suppress= True)"
      ]
    },
    {
      "cell_type": "markdown",
      "metadata": {
        "id": "eiiO1OY_LJem"
      },
      "source": [
        "Let´s assume we have three investment projects with the following cashflow plans:"
      ]
    },
    {
      "cell_type": "code",
      "execution_count": null,
      "metadata": {
        "id": "DgGLPbmmLJen"
      },
      "outputs": [],
      "source": [
        "# run the cell!\n",
        "project_1 = [-500, 100, 150, 200, 200, 175, 100, 50]\n",
        "project_2 = [-750, 100, 125, 150, 175, 200, 250, 0]\n",
        "project_3 = [-2000, 500, 1000, 2500, 0, 0, 0, 0]"
      ]
    },
    {
      "cell_type": "markdown",
      "metadata": {
        "id": "5PEiEM43LJen"
      },
      "source": [
        "1. Create and save a __2-dimensional Numpy Array__ (in the variable __projects__)."
      ]
    },
    {
      "cell_type": "code",
      "execution_count": null,
      "metadata": {
        "id": "gcq37XL4LJen"
      },
      "outputs": [],
      "source": [
        "projects = np.array([project_1, project_2, project_3])"
      ]
    },
    {
      "cell_type": "code",
      "execution_count": null,
      "metadata": {
        "id": "YUAN1UPSLJen"
      },
      "outputs": [],
      "source": [
        "projects"
      ]
    },
    {
      "cell_type": "code",
      "execution_count": null,
      "metadata": {
        "id": "e8Y8agJ8LJeo"
      },
      "outputs": [],
      "source": []
    },
    {
      "cell_type": "markdown",
      "metadata": {
        "id": "PqRacnikLJeo"
      },
      "source": [
        "2. Check the __shape__ of projects. __How many rows/columns__ do we have?"
      ]
    },
    {
      "cell_type": "code",
      "execution_count": null,
      "metadata": {
        "id": "QQ82HciZLJep"
      },
      "outputs": [],
      "source": [
        "projects.shape"
      ]
    },
    {
      "cell_type": "markdown",
      "metadata": {
        "id": "3EAEhgj1LJep"
      },
      "source": [
        "(result: 3 rows, 8 columns)"
      ]
    },
    {
      "cell_type": "code",
      "execution_count": null,
      "metadata": {
        "id": "6jdmy6_XLJep"
      },
      "outputs": [],
      "source": []
    },
    {
      "cell_type": "markdown",
      "metadata": {
        "id": "Z9jBBXRJLJep"
      },
      "source": [
        "3. __Slice__ projects for __the second project__."
      ]
    },
    {
      "cell_type": "code",
      "execution_count": null,
      "metadata": {
        "id": "lqxWJGKMLJeq"
      },
      "outputs": [],
      "source": [
        "projects[1]"
      ]
    },
    {
      "cell_type": "code",
      "execution_count": null,
      "metadata": {
        "id": "QYThJiPRLJeq"
      },
      "outputs": [],
      "source": []
    },
    {
      "cell_type": "markdown",
      "metadata": {
        "id": "KcV8o1ydLJeq"
      },
      "source": [
        "4. Return the __initial Investment__ of __Project 3__."
      ]
    },
    {
      "cell_type": "code",
      "execution_count": null,
      "metadata": {
        "id": "Zi8rghzjLJeq"
      },
      "outputs": [],
      "source": [
        "projects[-1, 0]"
      ]
    },
    {
      "cell_type": "markdown",
      "metadata": {
        "id": "cdceN0GsLJer"
      },
      "source": [
        "(result: -2000)"
      ]
    },
    {
      "cell_type": "code",
      "execution_count": null,
      "metadata": {
        "id": "0w30SuwdLJer"
      },
      "outputs": [],
      "source": []
    },
    {
      "cell_type": "markdown",
      "metadata": {
        "id": "8CkPck8mLJer"
      },
      "source": [
        "5. Return the __final cashflow__ in year 7 for __all projects__."
      ]
    },
    {
      "cell_type": "code",
      "execution_count": null,
      "metadata": {
        "id": "Goxv1lZbLJer"
      },
      "outputs": [],
      "source": [
        "projects[:, -1]"
      ]
    },
    {
      "cell_type": "code",
      "execution_count": null,
      "metadata": {
        "id": "Lween7hKLJes"
      },
      "outputs": [],
      "source": []
    },
    {
      "cell_type": "markdown",
      "metadata": {
        "id": "Ap9sUZH4LJet"
      },
      "source": [
        "6. Return the first positive cashflows (__Year 1__) for __Projects 1 and 2__."
      ]
    },
    {
      "cell_type": "code",
      "execution_count": null,
      "metadata": {
        "id": "5kuJKCMjLJet"
      },
      "outputs": [],
      "source": [
        "projects[:2, 1]"
      ]
    },
    {
      "cell_type": "markdown",
      "metadata": {
        "id": "NNY3ExmqLJeu"
      },
      "source": [
        "(result: array([100, 100]))"
      ]
    },
    {
      "cell_type": "code",
      "execution_count": null,
      "metadata": {
        "id": "RuO3kGtFLJeu"
      },
      "outputs": [],
      "source": []
    },
    {
      "cell_type": "markdown",
      "metadata": {
        "id": "TBE33ZM_LJev"
      },
      "source": [
        "7. __Change__ the initial investment for __project 3__ to __-1900__."
      ]
    },
    {
      "cell_type": "code",
      "execution_count": null,
      "metadata": {
        "id": "rsy_AnyhLJev"
      },
      "outputs": [],
      "source": [
        "projects[-1, 0] = -1900"
      ]
    },
    {
      "cell_type": "code",
      "execution_count": null,
      "metadata": {
        "id": "FPr_WSwOLJev"
      },
      "outputs": [],
      "source": [
        "projects"
      ]
    },
    {
      "cell_type": "code",
      "execution_count": null,
      "metadata": {
        "id": "xBJOJ_ulLJev"
      },
      "outputs": [],
      "source": []
    },
    {
      "cell_type": "markdown",
      "metadata": {
        "id": "NES8hQCrLJew"
      },
      "source": [
        "8. Change the __last cashflows__ in year 7 for all projects to __25__."
      ]
    },
    {
      "cell_type": "code",
      "execution_count": null,
      "metadata": {
        "id": "VDYFH_p6LJew"
      },
      "outputs": [],
      "source": [
        "projects[:, -1] = 25"
      ]
    },
    {
      "cell_type": "code",
      "execution_count": null,
      "metadata": {
        "id": "OC4IhJydLJew"
      },
      "outputs": [],
      "source": [
        "projects"
      ]
    },
    {
      "cell_type": "code",
      "execution_count": null,
      "metadata": {
        "id": "p_DrK_LGLJew"
      },
      "outputs": [],
      "source": []
    },
    {
      "cell_type": "markdown",
      "metadata": {
        "id": "5nXuQ0WyLJex"
      },
      "source": [
        "9. Calculate the total cashflows on each timestamp over all three projects (__column-wise sum__)."
      ]
    },
    {
      "cell_type": "code",
      "execution_count": null,
      "metadata": {
        "id": "l1wFdDwOLJex"
      },
      "outputs": [],
      "source": [
        "projects.sum(axis = 0)"
      ]
    },
    {
      "cell_type": "markdown",
      "metadata": {
        "id": "6sM2pCdXLJex"
      },
      "source": [
        "(results: array([-3150,   700,  1275,  2850,   375,   375,   350,    75]))"
      ]
    },
    {
      "cell_type": "code",
      "execution_count": null,
      "metadata": {
        "id": "DYFKosXHLJex"
      },
      "outputs": [],
      "source": []
    },
    {
      "cell_type": "markdown",
      "metadata": {
        "id": "gyzjWntZLJex"
      },
      "source": [
        "10. Calculate __cumulative cashflows__ for all three projects."
      ]
    },
    {
      "cell_type": "code",
      "execution_count": null,
      "metadata": {
        "id": "DHL81lG8LJey"
      },
      "outputs": [],
      "source": [
        "projects.cumsum(axis = 1)"
      ]
    },
    {
      "cell_type": "code",
      "execution_count": null,
      "metadata": {
        "id": "zNQEQ8wALJey"
      },
      "outputs": [],
      "source": []
    },
    {
      "cell_type": "markdown",
      "metadata": {
        "id": "dKaLWpJkLJey"
      },
      "source": [
        "11. Convert __all projects__ to EUR currency (__multiply with 0.9__)."
      ]
    },
    {
      "cell_type": "code",
      "execution_count": null,
      "metadata": {
        "id": "rJwEPmEkLJey"
      },
      "outputs": [],
      "source": [
        "projects * 0.9"
      ]
    },
    {
      "cell_type": "code",
      "execution_count": null,
      "metadata": {
        "id": "GdmjGMEaLJey"
      },
      "outputs": [],
      "source": []
    },
    {
      "cell_type": "markdown",
      "metadata": {
        "id": "rP01xSbXLJey"
      },
      "source": [
        "12. Convert __Project 1__ to EUR currency (__multiply with 0.9__), __Project 2__ to GBP currency (__multiply with 0.77__) and __Project 3__ to Yen Currency (__multiply with 109__)."
      ]
    },
    {
      "cell_type": "code",
      "execution_count": null,
      "metadata": {
        "id": "YGCdNL3GLJez"
      },
      "outputs": [],
      "source": [
        "vector = np.array([0.9, 0.77, 109]).reshape(3,1)\n",
        "vector"
      ]
    },
    {
      "cell_type": "code",
      "execution_count": null,
      "metadata": {
        "id": "0LD4jtUfLJez"
      },
      "outputs": [],
      "source": [
        "projects * vector"
      ]
    },
    {
      "cell_type": "code",
      "execution_count": null,
      "metadata": {
        "id": "2PEQq9kQLJez"
      },
      "outputs": [],
      "source": []
    },
    {
      "cell_type": "markdown",
      "metadata": {
        "id": "NxW0de05LJe0"
      },
      "source": [
        "13. __Transpose__ projects!"
      ]
    },
    {
      "cell_type": "code",
      "execution_count": null,
      "metadata": {
        "id": "3Ei5HEuHLJe0"
      },
      "outputs": [],
      "source": [
        "projects.T"
      ]
    },
    {
      "cell_type": "code",
      "execution_count": null,
      "metadata": {
        "id": "3kqSjnqkLJe0"
      },
      "outputs": [],
      "source": [
        "projects.transpose()"
      ]
    },
    {
      "cell_type": "code",
      "execution_count": null,
      "metadata": {
        "id": "Pk0D0k5WLJe0"
      },
      "outputs": [],
      "source": []
    },
    {
      "cell_type": "markdown",
      "metadata": {
        "id": "1SkEgx2VLJe0"
      },
      "source": [
        "14. Let´s assume that all three projects are postponed by one year. \"Add\" a __column with zero__ initial cashflows."
      ]
    },
    {
      "cell_type": "code",
      "execution_count": null,
      "metadata": {
        "id": "pcZBlFJtLJe1"
      },
      "outputs": [],
      "source": [
        "zeros = np.zeros(3).reshape(3,1)"
      ]
    },
    {
      "cell_type": "code",
      "execution_count": null,
      "metadata": {
        "id": "OsmnWcPeLJe1"
      },
      "outputs": [],
      "source": [
        "np.hstack([zeros, projects])"
      ]
    },
    {
      "cell_type": "code",
      "execution_count": null,
      "metadata": {
        "id": "yLKqI-jiLJe1"
      },
      "outputs": [],
      "source": []
    },
    {
      "cell_type": "markdown",
      "metadata": {
        "id": "cl8-ePdxLJe1"
      },
      "source": [
        "15. __Simulate__ playing Roulette 10 times (equally likely outcomes from __0 until 36__). Use a __random seed of 123__. "
      ]
    },
    {
      "cell_type": "code",
      "execution_count": null,
      "metadata": {
        "id": "cwjE6waiLJe2"
      },
      "outputs": [],
      "source": [
        "np.random.seed(123)\n",
        "np.random.randint(0, 37, 10)"
      ]
    },
    {
      "cell_type": "code",
      "execution_count": null,
      "metadata": {
        "id": "mQT3-khLLJe2"
      },
      "outputs": [],
      "source": []
    },
    {
      "cell_type": "markdown",
      "metadata": {
        "id": "Ds1Mod65LJe2"
      },
      "source": [
        "16. Same as 15. but 100,000 simulations (__100,000 times 10 games__). Save the array in the variable roulette."
      ]
    },
    {
      "cell_type": "code",
      "execution_count": null,
      "metadata": {
        "id": "b0CKa7gCLJe2"
      },
      "outputs": [],
      "source": [
        "games = 10\n",
        "sims = 100000"
      ]
    },
    {
      "cell_type": "code",
      "execution_count": null,
      "metadata": {
        "id": "m6pFp-MQLJe2"
      },
      "outputs": [],
      "source": [
        "np.random.seed(123)\n",
        "roulette = np.random.randint(0, 37, sims * games).reshape(sims, games)"
      ]
    },
    {
      "cell_type": "code",
      "execution_count": null,
      "metadata": {
        "id": "Ux5-hPB7LJe3"
      },
      "outputs": [],
      "source": []
    },
    {
      "cell_type": "markdown",
      "metadata": {
        "id": "hMidIdhgLJe3"
      },
      "source": [
        "17. In how many simulations do we get the __number 13__ __four times__?"
      ]
    },
    {
      "cell_type": "code",
      "execution_count": null,
      "metadata": {
        "id": "Qt5oVJ00LJe3"
      },
      "outputs": [],
      "source": [
        "thirteen = (roulette == 13).sum(axis = 1)"
      ]
    },
    {
      "cell_type": "code",
      "execution_count": null,
      "metadata": {
        "id": "YXmim6IwLJe4"
      },
      "outputs": [],
      "source": [
        "thirteen[thirteen == 4].size"
      ]
    },
    {
      "cell_type": "markdown",
      "metadata": {
        "id": "wOsFBm67LJe4"
      },
      "source": [
        "(result: 8)"
      ]
    },
    {
      "cell_type": "code",
      "execution_count": null,
      "metadata": {
        "id": "qTWWv-TdLJe4"
      },
      "outputs": [],
      "source": []
    }
  ],
  "metadata": {
    "kernelspec": {
      "display_name": "Python 3 (ipykernel)",
      "language": "python",
      "name": "python3"
    },
    "language_info": {
      "codemirror_mode": {
        "name": "ipython",
        "version": 3
      },
      "file_extension": ".py",
      "mimetype": "text/x-python",
      "name": "python",
      "nbconvert_exporter": "python",
      "pygments_lexer": "ipython3",
      "version": "3.9.16"
    },
    "colab": {
      "provenance": [],
      "include_colab_link": true
    }
  },
  "nbformat": 4,
  "nbformat_minor": 0
}