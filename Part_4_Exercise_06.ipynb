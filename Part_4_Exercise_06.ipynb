{
  "cells": [
    {
      "cell_type": "markdown",
      "metadata": {
        "id": "view-in-github",
        "colab_type": "text"
      },
      "source": [
        "<a href=\"https://colab.research.google.com/github/AlienX77-cmd/Python-for-Business-and-Finance/blob/main/Part_4_Exercise_06.ipynb\" target=\"_parent\"><img src=\"https://colab.research.google.com/assets/colab-badge.svg\" alt=\"Open In Colab\"/></a>"
      ]
    },
    {
      "cell_type": "markdown",
      "metadata": {
        "id": "4cDyYYQxfFaI"
      },
      "source": [
        "# Coding Exercises (Part 6)"
      ]
    },
    {
      "cell_type": "markdown",
      "metadata": {
        "id": "woppZE3JfFaL"
      },
      "source": [
        "Now, you will have the opportunity to analyze your own dataset. <br>\n",
        "__Follow the instructions__ and insert your code! You are either requested to\n",
        "- Complete the Code and __Fill in the gaps__. Gaps are marked with \"__---__\" and are __placeholders__ for your code fragment.\n",
        "- Write Code completely __on your own__"
      ]
    },
    {
      "cell_type": "markdown",
      "metadata": {
        "id": "RfPyhvJhfFaM"
      },
      "source": [
        "In some exercises, you will find questions that can only be answered, if your code is correct and returns the right output! The correct answer is provided below your coding cell. There you can check whether your code is correct."
      ]
    },
    {
      "cell_type": "markdown",
      "metadata": {
        "id": "GTS5ixiHfFaN"
      },
      "source": [
        "If you need a hint, check the __Hints Section__ at the end of this Notebook. Exercises and Hints are numerated accordingly."
      ]
    },
    {
      "cell_type": "markdown",
      "metadata": {
        "id": "xOdAcaGIfFaO"
      },
      "source": [
        "If you need some further help or if you want to check your code, you can also watch the __solutions videos__ or check the __solutions notebook__."
      ]
    },
    {
      "cell_type": "markdown",
      "metadata": {
        "id": "YXZ3a1JGfFaP"
      },
      "source": [
        "### Have Fun!"
      ]
    },
    {
      "cell_type": "markdown",
      "metadata": {
        "id": "h9CP7k7hfFaP"
      },
      "source": [
        "--------------------------------------------------------------------------------------------------------------"
      ]
    },
    {
      "cell_type": "markdown",
      "metadata": {
        "id": "KRN7axOHfFaQ"
      },
      "source": [
        "## Pandas: Intermediate"
      ]
    },
    {
      "cell_type": "markdown",
      "metadata": {
        "id": "-oeLv3STfFaQ"
      },
      "source": [
        "### Exercise 6: NA Values & Summary Statistics"
      ]
    },
    {
      "cell_type": "code",
      "execution_count": 1,
      "metadata": {
        "id": "gBgLcp8YfFaR"
      },
      "outputs": [],
      "source": [
        "# run the cell!\n",
        "import pandas as pd\n",
        "pd.options.display.float_format = '{:.2f}'.format"
      ]
    },
    {
      "cell_type": "code",
      "execution_count": 3,
      "metadata": {
        "id": "NDbEO4lDfFaS"
      },
      "outputs": [],
      "source": [
        "# run the cell!\n",
        "listings = pd.read_csv(\"listings.csv\")"
      ]
    },
    {
      "cell_type": "code",
      "execution_count": 4,
      "metadata": {
        "colab": {
          "base_uri": "https://localhost:8080/",
          "height": 319
        },
        "id": "9v8luBfifFaU",
        "outputId": "2fb4a508-a188-42d2-96e3-f4cb0fa963a9"
      },
      "outputs": [
        {
          "output_type": "execute_result",
          "data": {
            "text/plain": [
              "  Symbol Exchange                           Name  Last_Price     Market_Cap  \\\n",
              "0      A     NYSE     Agilent Technologies, Inc.       81.68 25934696179.92   \n",
              "1     AA     NYSE              Alcoa Corporation       29.15  5407809589.60   \n",
              "2   AABA   NASDAQ                    Altaba Inc.       75.39 42781131315.30   \n",
              "3    AAC     NYSE             AAC Holdings, Inc.        2.16    53141086.80   \n",
              "4    AAL   NASDAQ  American Airlines Group, Inc.       34.02 15276869742.96   \n",
              "\n",
              "   ADR TSO  IPO_Year            Sector  \\\n",
              "0      NaN   1999.00     Capital Goods   \n",
              "1      NaN   2016.00  Basic Industries   \n",
              "2      NaN       NaN        Technology   \n",
              "3      NaN   2014.00       Health Care   \n",
              "4      NaN       NaN    Transportation   \n",
              "\n",
              "                                           Industry  \n",
              "0  Biotechnology: Laboratory Analytical Instruments  \n",
              "1                                          Aluminum  \n",
              "2                                      EDP Services  \n",
              "3                              Medical Specialities  \n",
              "4                     Air Freight/Delivery Services  "
            ],
            "text/html": [
              "\n",
              "  <div id=\"df-a93e4181-bc26-471d-8bfb-e6aea43c7ca2\">\n",
              "    <div class=\"colab-df-container\">\n",
              "      <div>\n",
              "<style scoped>\n",
              "    .dataframe tbody tr th:only-of-type {\n",
              "        vertical-align: middle;\n",
              "    }\n",
              "\n",
              "    .dataframe tbody tr th {\n",
              "        vertical-align: top;\n",
              "    }\n",
              "\n",
              "    .dataframe thead th {\n",
              "        text-align: right;\n",
              "    }\n",
              "</style>\n",
              "<table border=\"1\" class=\"dataframe\">\n",
              "  <thead>\n",
              "    <tr style=\"text-align: right;\">\n",
              "      <th></th>\n",
              "      <th>Symbol</th>\n",
              "      <th>Exchange</th>\n",
              "      <th>Name</th>\n",
              "      <th>Last_Price</th>\n",
              "      <th>Market_Cap</th>\n",
              "      <th>ADR TSO</th>\n",
              "      <th>IPO_Year</th>\n",
              "      <th>Sector</th>\n",
              "      <th>Industry</th>\n",
              "    </tr>\n",
              "  </thead>\n",
              "  <tbody>\n",
              "    <tr>\n",
              "      <th>0</th>\n",
              "      <td>A</td>\n",
              "      <td>NYSE</td>\n",
              "      <td>Agilent Technologies, Inc.</td>\n",
              "      <td>81.68</td>\n",
              "      <td>25934696179.92</td>\n",
              "      <td>NaN</td>\n",
              "      <td>1999.00</td>\n",
              "      <td>Capital Goods</td>\n",
              "      <td>Biotechnology: Laboratory Analytical Instruments</td>\n",
              "    </tr>\n",
              "    <tr>\n",
              "      <th>1</th>\n",
              "      <td>AA</td>\n",
              "      <td>NYSE</td>\n",
              "      <td>Alcoa Corporation</td>\n",
              "      <td>29.15</td>\n",
              "      <td>5407809589.60</td>\n",
              "      <td>NaN</td>\n",
              "      <td>2016.00</td>\n",
              "      <td>Basic Industries</td>\n",
              "      <td>Aluminum</td>\n",
              "    </tr>\n",
              "    <tr>\n",
              "      <th>2</th>\n",
              "      <td>AABA</td>\n",
              "      <td>NASDAQ</td>\n",
              "      <td>Altaba Inc.</td>\n",
              "      <td>75.39</td>\n",
              "      <td>42781131315.30</td>\n",
              "      <td>NaN</td>\n",
              "      <td>NaN</td>\n",
              "      <td>Technology</td>\n",
              "      <td>EDP Services</td>\n",
              "    </tr>\n",
              "    <tr>\n",
              "      <th>3</th>\n",
              "      <td>AAC</td>\n",
              "      <td>NYSE</td>\n",
              "      <td>AAC Holdings, Inc.</td>\n",
              "      <td>2.16</td>\n",
              "      <td>53141086.80</td>\n",
              "      <td>NaN</td>\n",
              "      <td>2014.00</td>\n",
              "      <td>Health Care</td>\n",
              "      <td>Medical Specialities</td>\n",
              "    </tr>\n",
              "    <tr>\n",
              "      <th>4</th>\n",
              "      <td>AAL</td>\n",
              "      <td>NASDAQ</td>\n",
              "      <td>American Airlines Group, Inc.</td>\n",
              "      <td>34.02</td>\n",
              "      <td>15276869742.96</td>\n",
              "      <td>NaN</td>\n",
              "      <td>NaN</td>\n",
              "      <td>Transportation</td>\n",
              "      <td>Air Freight/Delivery Services</td>\n",
              "    </tr>\n",
              "  </tbody>\n",
              "</table>\n",
              "</div>\n",
              "      <button class=\"colab-df-convert\" onclick=\"convertToInteractive('df-a93e4181-bc26-471d-8bfb-e6aea43c7ca2')\"\n",
              "              title=\"Convert this dataframe to an interactive table.\"\n",
              "              style=\"display:none;\">\n",
              "        \n",
              "  <svg xmlns=\"http://www.w3.org/2000/svg\" height=\"24px\"viewBox=\"0 0 24 24\"\n",
              "       width=\"24px\">\n",
              "    <path d=\"M0 0h24v24H0V0z\" fill=\"none\"/>\n",
              "    <path d=\"M18.56 5.44l.94 2.06.94-2.06 2.06-.94-2.06-.94-.94-2.06-.94 2.06-2.06.94zm-11 1L8.5 8.5l.94-2.06 2.06-.94-2.06-.94L8.5 2.5l-.94 2.06-2.06.94zm10 10l.94 2.06.94-2.06 2.06-.94-2.06-.94-.94-2.06-.94 2.06-2.06.94z\"/><path d=\"M17.41 7.96l-1.37-1.37c-.4-.4-.92-.59-1.43-.59-.52 0-1.04.2-1.43.59L10.3 9.45l-7.72 7.72c-.78.78-.78 2.05 0 2.83L4 21.41c.39.39.9.59 1.41.59.51 0 1.02-.2 1.41-.59l7.78-7.78 2.81-2.81c.8-.78.8-2.07 0-2.86zM5.41 20L4 18.59l7.72-7.72 1.47 1.35L5.41 20z\"/>\n",
              "  </svg>\n",
              "      </button>\n",
              "      \n",
              "  <style>\n",
              "    .colab-df-container {\n",
              "      display:flex;\n",
              "      flex-wrap:wrap;\n",
              "      gap: 12px;\n",
              "    }\n",
              "\n",
              "    .colab-df-convert {\n",
              "      background-color: #E8F0FE;\n",
              "      border: none;\n",
              "      border-radius: 50%;\n",
              "      cursor: pointer;\n",
              "      display: none;\n",
              "      fill: #1967D2;\n",
              "      height: 32px;\n",
              "      padding: 0 0 0 0;\n",
              "      width: 32px;\n",
              "    }\n",
              "\n",
              "    .colab-df-convert:hover {\n",
              "      background-color: #E2EBFA;\n",
              "      box-shadow: 0px 1px 2px rgba(60, 64, 67, 0.3), 0px 1px 3px 1px rgba(60, 64, 67, 0.15);\n",
              "      fill: #174EA6;\n",
              "    }\n",
              "\n",
              "    [theme=dark] .colab-df-convert {\n",
              "      background-color: #3B4455;\n",
              "      fill: #D2E3FC;\n",
              "    }\n",
              "\n",
              "    [theme=dark] .colab-df-convert:hover {\n",
              "      background-color: #434B5C;\n",
              "      box-shadow: 0px 1px 3px 1px rgba(0, 0, 0, 0.15);\n",
              "      filter: drop-shadow(0px 1px 2px rgba(0, 0, 0, 0.3));\n",
              "      fill: #FFFFFF;\n",
              "    }\n",
              "  </style>\n",
              "\n",
              "      <script>\n",
              "        const buttonEl =\n",
              "          document.querySelector('#df-a93e4181-bc26-471d-8bfb-e6aea43c7ca2 button.colab-df-convert');\n",
              "        buttonEl.style.display =\n",
              "          google.colab.kernel.accessAllowed ? 'block' : 'none';\n",
              "\n",
              "        async function convertToInteractive(key) {\n",
              "          const element = document.querySelector('#df-a93e4181-bc26-471d-8bfb-e6aea43c7ca2');\n",
              "          const dataTable =\n",
              "            await google.colab.kernel.invokeFunction('convertToInteractive',\n",
              "                                                     [key], {});\n",
              "          if (!dataTable) return;\n",
              "\n",
              "          const docLinkHtml = 'Like what you see? Visit the ' +\n",
              "            '<a target=\"_blank\" href=https://colab.research.google.com/notebooks/data_table.ipynb>data table notebook</a>'\n",
              "            + ' to learn more about interactive tables.';\n",
              "          element.innerHTML = '';\n",
              "          dataTable['output_type'] = 'display_data';\n",
              "          await google.colab.output.renderOutput(dataTable, element);\n",
              "          const docLink = document.createElement('div');\n",
              "          docLink.innerHTML = docLinkHtml;\n",
              "          element.appendChild(docLink);\n",
              "        }\n",
              "      </script>\n",
              "    </div>\n",
              "  </div>\n",
              "  "
            ]
          },
          "metadata": {},
          "execution_count": 4
        }
      ],
      "source": [
        "# run the cell!\n",
        "listings.head()"
      ]
    },
    {
      "cell_type": "code",
      "execution_count": 5,
      "metadata": {
        "colab": {
          "base_uri": "https://localhost:8080/"
        },
        "id": "BXlc4y7GfFaU",
        "outputId": "9b76a5de-47f9-4564-aeec-fe6fbbf17b49"
      },
      "outputs": [
        {
          "output_type": "stream",
          "name": "stdout",
          "text": [
            "<class 'pandas.core.frame.DataFrame'>\n",
            "RangeIndex: 6852 entries, 0 to 6851\n",
            "Data columns (total 9 columns):\n",
            " #   Column      Non-Null Count  Dtype  \n",
            "---  ------      --------------  -----  \n",
            " 0   Symbol      6852 non-null   object \n",
            " 1   Exchange    6852 non-null   object \n",
            " 2   Name        6852 non-null   object \n",
            " 3   Last_Price  6745 non-null   float64\n",
            " 4   Market_Cap  5954 non-null   float64\n",
            " 5   ADR TSO     140 non-null    float64\n",
            " 6   IPO_Year    3105 non-null   float64\n",
            " 7   Sector      5309 non-null   object \n",
            " 8   Industry    5309 non-null   object \n",
            "dtypes: float64(4), object(5)\n",
            "memory usage: 481.9+ KB\n"
          ]
        }
      ],
      "source": [
        "# run the cell\n",
        "listings.info()"
      ]
    },
    {
      "cell_type": "markdown",
      "metadata": {
        "id": "X_Cih4MifFaU"
      },
      "source": [
        "51. Get the __amount__ of __NA-values__ per __column__! __Fill in the gaps__! <br> How many __NA-values__ are in the __ADR TSO__ column?"
      ]
    },
    {
      "cell_type": "code",
      "execution_count": 7,
      "metadata": {
        "colab": {
          "base_uri": "https://localhost:8080/"
        },
        "id": "3a_txLKcfFaU",
        "outputId": "0c44fd19-b2a0-4956-86dc-d0a311457d4b"
      },
      "outputs": [
        {
          "output_type": "execute_result",
          "data": {
            "text/plain": [
              "Symbol           0\n",
              "Exchange         0\n",
              "Name             0\n",
              "Last_Price     107\n",
              "Market_Cap     898\n",
              "ADR TSO       6712\n",
              "IPO_Year      3747\n",
              "Sector        1543\n",
              "Industry      1543\n",
              "dtype: int64"
            ]
          },
          "metadata": {},
          "execution_count": 7
        }
      ],
      "source": [
        "listings.isna().sum(axis = 0)"
      ]
    },
    {
      "cell_type": "markdown",
      "metadata": {
        "id": "Uh6v8sk0fFaV"
      },
      "source": [
        "There are ... 6712 NA-values in the ADR TSO column!"
      ]
    },
    {
      "cell_type": "markdown",
      "metadata": {
        "id": "7JHTMzCrfFaV"
      },
      "source": [
        "52. Get the __amount__ of __non-null values__ per column (don´t use info() method)! <br>"
      ]
    },
    {
      "cell_type": "code",
      "execution_count": 9,
      "metadata": {
        "colab": {
          "base_uri": "https://localhost:8080/"
        },
        "id": "B3cf50l_fFaV",
        "outputId": "18abe0a7-5236-48aa-c36a-fce6ad94321a"
      },
      "outputs": [
        {
          "output_type": "execute_result",
          "data": {
            "text/plain": [
              "Symbol        6852\n",
              "Exchange      6852\n",
              "Name          6852\n",
              "Last_Price    6745\n",
              "Market_Cap    5954\n",
              "ADR TSO        140\n",
              "IPO_Year      3105\n",
              "Sector        5309\n",
              "Industry      5309\n",
              "dtype: int64"
            ]
          },
          "metadata": {},
          "execution_count": 9
        }
      ],
      "source": [
        "listings.notna().sum(axis = 0)"
      ]
    },
    {
      "cell_type": "markdown",
      "metadata": {
        "id": "Cz5jgOUKfFaX"
      },
      "source": [
        "53. __Drop__ all __rows__ with __at least one NA-Value__ from listings (don´t overwrite listings!). __How many__ rows/listing are __left__?"
      ]
    },
    {
      "cell_type": "code",
      "execution_count": 11,
      "metadata": {
        "colab": {
          "base_uri": "https://localhost:8080/"
        },
        "id": "URT5_ZALfFaX",
        "outputId": "d6f7e505-3700-4720-b7b1-aee854f51e94"
      },
      "outputs": [
        {
          "output_type": "execute_result",
          "data": {
            "text/plain": [
              "(100, 9)"
            ]
          },
          "metadata": {},
          "execution_count": 11
        }
      ],
      "source": [
        "listings.dropna().shape"
      ]
    },
    {
      "cell_type": "markdown",
      "metadata": {
        "id": "WAkc5WljfFaX"
      },
      "source": [
        "There are only ... 100 rows left."
      ]
    },
    {
      "cell_type": "markdown",
      "metadata": {
        "id": "RalR8nQafFaX"
      },
      "source": [
        "54. __Drop__ all __columns__ with __at least one NA-Value__ from listings (don´t overwrite listings!). __How many__ columns are __left__?"
      ]
    },
    {
      "cell_type": "code",
      "execution_count": 12,
      "metadata": {
        "colab": {
          "base_uri": "https://localhost:8080/"
        },
        "id": "kqn7CGSyfFaY",
        "outputId": "0edf39ed-e8ac-4b3a-960c-a314b8391988"
      },
      "outputs": [
        {
          "output_type": "execute_result",
          "data": {
            "text/plain": [
              "(6852, 3)"
            ]
          },
          "metadata": {},
          "execution_count": 12
        }
      ],
      "source": [
        "listings.dropna(axis = 1).shape"
      ]
    },
    {
      "cell_type": "markdown",
      "metadata": {
        "id": "T6apukDNfFaY"
      },
      "source": [
        "There are only ... 3 columns left!"
      ]
    },
    {
      "cell_type": "markdown",
      "metadata": {
        "id": "SfHwc87jfFaY"
      },
      "source": [
        "55. We finally decide to __drop__ all __columns__ with __less than 3000 non-null values__. __Overwrite__ listings! __Fill in the gaps!__"
      ]
    },
    {
      "cell_type": "code",
      "execution_count": 13,
      "metadata": {
        "id": "tbyONAo6fFaY"
      },
      "outputs": [],
      "source": [
        "listings.dropna(axis = 1, thresh = 3000, inplace = True) #drop columns with more than 3000 null values"
      ]
    },
    {
      "cell_type": "code",
      "execution_count": 14,
      "metadata": {
        "colab": {
          "base_uri": "https://localhost:8080/"
        },
        "id": "JXQqgXw5fFaZ",
        "outputId": "a894a9fe-72f8-4788-9f21-d2bd051c836a"
      },
      "outputs": [
        {
          "output_type": "stream",
          "name": "stdout",
          "text": [
            "<class 'pandas.core.frame.DataFrame'>\n",
            "RangeIndex: 6852 entries, 0 to 6851\n",
            "Data columns (total 8 columns):\n",
            " #   Column      Non-Null Count  Dtype  \n",
            "---  ------      --------------  -----  \n",
            " 0   Symbol      6852 non-null   object \n",
            " 1   Exchange    6852 non-null   object \n",
            " 2   Name        6852 non-null   object \n",
            " 3   Last_Price  6745 non-null   float64\n",
            " 4   Market_Cap  5954 non-null   float64\n",
            " 5   IPO_Year    3105 non-null   float64\n",
            " 6   Sector      5309 non-null   object \n",
            " 7   Industry    5309 non-null   object \n",
            "dtypes: float64(3), object(5)\n",
            "memory usage: 428.4+ KB\n"
          ]
        }
      ],
      "source": [
        "# run the cell!\n",
        "listings.info()"
      ]
    },
    {
      "cell_type": "markdown",
      "metadata": {
        "id": "IsupSGV_fFaZ"
      },
      "source": [
        "56. __Filter__ listings for all rows/listings with __NA-values__ in the __Last_Price__ column. Save the new DataFrame in the variable __no_price__. <br>\n",
        "__Fill in the gaps__!"
      ]
    },
    {
      "cell_type": "code",
      "execution_count": 16,
      "metadata": {
        "id": "sLWjyBaWfFaZ"
      },
      "outputs": [],
      "source": [
        "no_price = listings.loc[listings.Last_Price.isna()]"
      ]
    },
    {
      "cell_type": "markdown",
      "metadata": {
        "id": "iFoL_7mgfFaa"
      },
      "source": [
        "What do all listings with __NA-values in the Last_Price__ column have in common (hint: check the __Market_Cap__ column)?"
      ]
    },
    {
      "cell_type": "code",
      "execution_count": 17,
      "metadata": {
        "scrolled": false,
        "colab": {
          "base_uri": "https://localhost:8080/",
          "height": 206
        },
        "id": "QizY13DffFaa",
        "outputId": "3b91509f-677a-4aa8-c2ab-60a270dcefe9"
      },
      "outputs": [
        {
          "output_type": "execute_result",
          "data": {
            "text/plain": [
              "     Symbol Exchange                                       Name  Last_Price  \\\n",
              "151   AGM.A     NYSE  Federal Agricultural Mortgage Corporation         NaN   \n",
              "190  AIG.WS     NYSE         American International Group, Inc.         NaN   \n",
              "224   AKO.A     NYSE                  Embotelladora Andina S.A.         NaN   \n",
              "225   AKO.B     NYSE                  Embotelladora Andina S.A.         NaN   \n",
              "254    ALIT   NASDAQ                                Alight Inc.         NaN   \n",
              "\n",
              "     Market_Cap  IPO_Year Sector Industry  \n",
              "151        0.00       NaN    NaN      NaN  \n",
              "190        0.00       NaN    NaN      NaN  \n",
              "224        0.00       NaN    NaN      NaN  \n",
              "225        0.00       NaN    NaN      NaN  \n",
              "254        0.00       NaN    NaN      NaN  "
            ],
            "text/html": [
              "\n",
              "  <div id=\"df-b4b215c4-bd7a-4ff9-8bb1-ee2fe2fa78d2\">\n",
              "    <div class=\"colab-df-container\">\n",
              "      <div>\n",
              "<style scoped>\n",
              "    .dataframe tbody tr th:only-of-type {\n",
              "        vertical-align: middle;\n",
              "    }\n",
              "\n",
              "    .dataframe tbody tr th {\n",
              "        vertical-align: top;\n",
              "    }\n",
              "\n",
              "    .dataframe thead th {\n",
              "        text-align: right;\n",
              "    }\n",
              "</style>\n",
              "<table border=\"1\" class=\"dataframe\">\n",
              "  <thead>\n",
              "    <tr style=\"text-align: right;\">\n",
              "      <th></th>\n",
              "      <th>Symbol</th>\n",
              "      <th>Exchange</th>\n",
              "      <th>Name</th>\n",
              "      <th>Last_Price</th>\n",
              "      <th>Market_Cap</th>\n",
              "      <th>IPO_Year</th>\n",
              "      <th>Sector</th>\n",
              "      <th>Industry</th>\n",
              "    </tr>\n",
              "  </thead>\n",
              "  <tbody>\n",
              "    <tr>\n",
              "      <th>151</th>\n",
              "      <td>AGM.A</td>\n",
              "      <td>NYSE</td>\n",
              "      <td>Federal Agricultural Mortgage Corporation</td>\n",
              "      <td>NaN</td>\n",
              "      <td>0.00</td>\n",
              "      <td>NaN</td>\n",
              "      <td>NaN</td>\n",
              "      <td>NaN</td>\n",
              "    </tr>\n",
              "    <tr>\n",
              "      <th>190</th>\n",
              "      <td>AIG.WS</td>\n",
              "      <td>NYSE</td>\n",
              "      <td>American International Group, Inc.</td>\n",
              "      <td>NaN</td>\n",
              "      <td>0.00</td>\n",
              "      <td>NaN</td>\n",
              "      <td>NaN</td>\n",
              "      <td>NaN</td>\n",
              "    </tr>\n",
              "    <tr>\n",
              "      <th>224</th>\n",
              "      <td>AKO.A</td>\n",
              "      <td>NYSE</td>\n",
              "      <td>Embotelladora Andina S.A.</td>\n",
              "      <td>NaN</td>\n",
              "      <td>0.00</td>\n",
              "      <td>NaN</td>\n",
              "      <td>NaN</td>\n",
              "      <td>NaN</td>\n",
              "    </tr>\n",
              "    <tr>\n",
              "      <th>225</th>\n",
              "      <td>AKO.B</td>\n",
              "      <td>NYSE</td>\n",
              "      <td>Embotelladora Andina S.A.</td>\n",
              "      <td>NaN</td>\n",
              "      <td>0.00</td>\n",
              "      <td>NaN</td>\n",
              "      <td>NaN</td>\n",
              "      <td>NaN</td>\n",
              "    </tr>\n",
              "    <tr>\n",
              "      <th>254</th>\n",
              "      <td>ALIT</td>\n",
              "      <td>NASDAQ</td>\n",
              "      <td>Alight Inc.</td>\n",
              "      <td>NaN</td>\n",
              "      <td>0.00</td>\n",
              "      <td>NaN</td>\n",
              "      <td>NaN</td>\n",
              "      <td>NaN</td>\n",
              "    </tr>\n",
              "  </tbody>\n",
              "</table>\n",
              "</div>\n",
              "      <button class=\"colab-df-convert\" onclick=\"convertToInteractive('df-b4b215c4-bd7a-4ff9-8bb1-ee2fe2fa78d2')\"\n",
              "              title=\"Convert this dataframe to an interactive table.\"\n",
              "              style=\"display:none;\">\n",
              "        \n",
              "  <svg xmlns=\"http://www.w3.org/2000/svg\" height=\"24px\"viewBox=\"0 0 24 24\"\n",
              "       width=\"24px\">\n",
              "    <path d=\"M0 0h24v24H0V0z\" fill=\"none\"/>\n",
              "    <path d=\"M18.56 5.44l.94 2.06.94-2.06 2.06-.94-2.06-.94-.94-2.06-.94 2.06-2.06.94zm-11 1L8.5 8.5l.94-2.06 2.06-.94-2.06-.94L8.5 2.5l-.94 2.06-2.06.94zm10 10l.94 2.06.94-2.06 2.06-.94-2.06-.94-.94-2.06-.94 2.06-2.06.94z\"/><path d=\"M17.41 7.96l-1.37-1.37c-.4-.4-.92-.59-1.43-.59-.52 0-1.04.2-1.43.59L10.3 9.45l-7.72 7.72c-.78.78-.78 2.05 0 2.83L4 21.41c.39.39.9.59 1.41.59.51 0 1.02-.2 1.41-.59l7.78-7.78 2.81-2.81c.8-.78.8-2.07 0-2.86zM5.41 20L4 18.59l7.72-7.72 1.47 1.35L5.41 20z\"/>\n",
              "  </svg>\n",
              "      </button>\n",
              "      \n",
              "  <style>\n",
              "    .colab-df-container {\n",
              "      display:flex;\n",
              "      flex-wrap:wrap;\n",
              "      gap: 12px;\n",
              "    }\n",
              "\n",
              "    .colab-df-convert {\n",
              "      background-color: #E8F0FE;\n",
              "      border: none;\n",
              "      border-radius: 50%;\n",
              "      cursor: pointer;\n",
              "      display: none;\n",
              "      fill: #1967D2;\n",
              "      height: 32px;\n",
              "      padding: 0 0 0 0;\n",
              "      width: 32px;\n",
              "    }\n",
              "\n",
              "    .colab-df-convert:hover {\n",
              "      background-color: #E2EBFA;\n",
              "      box-shadow: 0px 1px 2px rgba(60, 64, 67, 0.3), 0px 1px 3px 1px rgba(60, 64, 67, 0.15);\n",
              "      fill: #174EA6;\n",
              "    }\n",
              "\n",
              "    [theme=dark] .colab-df-convert {\n",
              "      background-color: #3B4455;\n",
              "      fill: #D2E3FC;\n",
              "    }\n",
              "\n",
              "    [theme=dark] .colab-df-convert:hover {\n",
              "      background-color: #434B5C;\n",
              "      box-shadow: 0px 1px 3px 1px rgba(0, 0, 0, 0.15);\n",
              "      filter: drop-shadow(0px 1px 2px rgba(0, 0, 0, 0.3));\n",
              "      fill: #FFFFFF;\n",
              "    }\n",
              "  </style>\n",
              "\n",
              "      <script>\n",
              "        const buttonEl =\n",
              "          document.querySelector('#df-b4b215c4-bd7a-4ff9-8bb1-ee2fe2fa78d2 button.colab-df-convert');\n",
              "        buttonEl.style.display =\n",
              "          google.colab.kernel.accessAllowed ? 'block' : 'none';\n",
              "\n",
              "        async function convertToInteractive(key) {\n",
              "          const element = document.querySelector('#df-b4b215c4-bd7a-4ff9-8bb1-ee2fe2fa78d2');\n",
              "          const dataTable =\n",
              "            await google.colab.kernel.invokeFunction('convertToInteractive',\n",
              "                                                     [key], {});\n",
              "          if (!dataTable) return;\n",
              "\n",
              "          const docLinkHtml = 'Like what you see? Visit the ' +\n",
              "            '<a target=\"_blank\" href=https://colab.research.google.com/notebooks/data_table.ipynb>data table notebook</a>'\n",
              "            + ' to learn more about interactive tables.';\n",
              "          element.innerHTML = '';\n",
              "          dataTable['output_type'] = 'display_data';\n",
              "          await google.colab.output.renderOutput(dataTable, element);\n",
              "          const docLink = document.createElement('div');\n",
              "          docLink.innerHTML = docLinkHtml;\n",
              "          element.appendChild(docLink);\n",
              "        }\n",
              "      </script>\n",
              "    </div>\n",
              "  </div>\n",
              "  "
            ]
          },
          "metadata": {},
          "execution_count": 17
        }
      ],
      "source": [
        "# run the cell and inspect!\n",
        "no_price.head()"
      ]
    },
    {
      "cell_type": "code",
      "execution_count": 18,
      "metadata": {
        "colab": {
          "base_uri": "https://localhost:8080/"
        },
        "id": "W6I_LIQOfFab",
        "outputId": "526b9063-f5a8-4f41-e84d-df0594706587"
      },
      "outputs": [
        {
          "output_type": "stream",
          "name": "stdout",
          "text": [
            "<class 'pandas.core.frame.DataFrame'>\n",
            "Int64Index: 107 entries, 151 to 6839\n",
            "Data columns (total 8 columns):\n",
            " #   Column      Non-Null Count  Dtype  \n",
            "---  ------      --------------  -----  \n",
            " 0   Symbol      107 non-null    object \n",
            " 1   Exchange    107 non-null    object \n",
            " 2   Name        107 non-null    object \n",
            " 3   Last_Price  0 non-null      float64\n",
            " 4   Market_Cap  107 non-null    float64\n",
            " 5   IPO_Year    27 non-null     float64\n",
            " 6   Sector      3 non-null      object \n",
            " 7   Industry    3 non-null      object \n",
            "dtypes: float64(3), object(5)\n",
            "memory usage: 7.5+ KB\n"
          ]
        }
      ],
      "source": [
        "# run the cell and inspect!\n",
        "no_price.info()"
      ]
    },
    {
      "cell_type": "code",
      "execution_count": 19,
      "metadata": {
        "colab": {
          "base_uri": "https://localhost:8080/"
        },
        "id": "K-bEYkpWfFac",
        "outputId": "98ebf8e9-ba0b-4a1d-d53c-7111d467f620"
      },
      "outputs": [
        {
          "output_type": "execute_result",
          "data": {
            "text/plain": [
              "0.00    107\n",
              "Name: Market_Cap, dtype: int64"
            ]
          },
          "metadata": {},
          "execution_count": 19
        }
      ],
      "source": [
        "#run the cell and inspect!\n",
        "no_price.Market_Cap.value_counts()"
      ]
    },
    {
      "cell_type": "markdown",
      "metadata": {
        "id": "DNzpGtmQfFac"
      },
      "source": [
        "The Market_Cap is 0.0 for all listings with NA-values in the Last_Price column. Therefore, it might make sense to..."
      ]
    },
    {
      "cell_type": "markdown",
      "metadata": {
        "id": "yYLjnfOlfFac"
      },
      "source": [
        "57. ...__Fill all NA-Values__ in the __Last_Price__ column of listings with __0.0__! __Save the change__!"
      ]
    },
    {
      "cell_type": "code",
      "execution_count": 20,
      "metadata": {
        "id": "HfUs3ORSfFac"
      },
      "outputs": [],
      "source": [
        "listings.Last_Price.fillna(0, inplace = True)"
      ]
    },
    {
      "cell_type": "code",
      "execution_count": 21,
      "metadata": {
        "colab": {
          "base_uri": "https://localhost:8080/"
        },
        "id": "HKvu5GcGfFad",
        "outputId": "afeb9558-2739-4107-ba7d-8324d90c7f81"
      },
      "outputs": [
        {
          "output_type": "stream",
          "name": "stdout",
          "text": [
            "<class 'pandas.core.frame.DataFrame'>\n",
            "RangeIndex: 6852 entries, 0 to 6851\n",
            "Data columns (total 8 columns):\n",
            " #   Column      Non-Null Count  Dtype  \n",
            "---  ------      --------------  -----  \n",
            " 0   Symbol      6852 non-null   object \n",
            " 1   Exchange    6852 non-null   object \n",
            " 2   Name        6852 non-null   object \n",
            " 3   Last_Price  6852 non-null   float64\n",
            " 4   Market_Cap  5954 non-null   float64\n",
            " 5   IPO_Year    3105 non-null   float64\n",
            " 6   Sector      5309 non-null   object \n",
            " 7   Industry    5309 non-null   object \n",
            "dtypes: float64(3), object(5)\n",
            "memory usage: 428.4+ KB\n"
          ]
        }
      ],
      "source": [
        "# run the cell!\n",
        "listings.info()"
      ]
    },
    {
      "cell_type": "markdown",
      "metadata": {
        "id": "7YnSkI7rfFad"
      },
      "source": [
        "58. __Filter__ listings for all rows/listings that have __non-null values__ in the __IPO_Year__ column! __Save__ the new DataFrame in the variable __known_year__. <br>\n",
        "__Fill in the gaps!__"
      ]
    },
    {
      "cell_type": "code",
      "execution_count": 23,
      "metadata": {
        "id": "j0InEr7cfFaf"
      },
      "outputs": [],
      "source": [
        "known_year = listings.loc[listings.IPO_Year.notna()]"
      ]
    },
    {
      "cell_type": "markdown",
      "metadata": {
        "id": "tdUCB-xrfFag"
      },
      "source": [
        "__How many__ listings with known IPO_Year are in the __known_year__ DataFrame?"
      ]
    },
    {
      "cell_type": "code",
      "execution_count": 24,
      "metadata": {
        "colab": {
          "base_uri": "https://localhost:8080/",
          "height": 206
        },
        "id": "DZfXp3txfFah",
        "outputId": "9363afb7-761c-4c48-a5d6-3b3e968ae465"
      },
      "outputs": [
        {
          "output_type": "execute_result",
          "data": {
            "text/plain": [
              "   Symbol Exchange                           Name  Last_Price      Market_Cap  \\\n",
              "0       A     NYSE     Agilent Technologies, Inc.       81.68  25934696179.92   \n",
              "1      AA     NYSE              Alcoa Corporation       29.15   5407809589.60   \n",
              "3     AAC     NYSE             AAC Holdings, Inc.        2.16     53141086.80   \n",
              "8    AAOI   NASDAQ  Applied Optoelectronics, Inc.       12.30    244556139.90   \n",
              "11   AAPL   NASDAQ                     Apple Inc.      200.62 945979473600.00   \n",
              "\n",
              "    IPO_Year            Sector  \\\n",
              "0    1999.00     Capital Goods   \n",
              "1    2016.00  Basic Industries   \n",
              "3    2014.00       Health Care   \n",
              "8    2013.00        Technology   \n",
              "11   1980.00        Technology   \n",
              "\n",
              "                                            Industry  \n",
              "0   Biotechnology: Laboratory Analytical Instruments  \n",
              "1                                           Aluminum  \n",
              "3                               Medical Specialities  \n",
              "8                                     Semiconductors  \n",
              "11                            Computer Manufacturing  "
            ],
            "text/html": [
              "\n",
              "  <div id=\"df-d5e1d985-1fae-4d9f-bfe0-9db231c0a3fc\">\n",
              "    <div class=\"colab-df-container\">\n",
              "      <div>\n",
              "<style scoped>\n",
              "    .dataframe tbody tr th:only-of-type {\n",
              "        vertical-align: middle;\n",
              "    }\n",
              "\n",
              "    .dataframe tbody tr th {\n",
              "        vertical-align: top;\n",
              "    }\n",
              "\n",
              "    .dataframe thead th {\n",
              "        text-align: right;\n",
              "    }\n",
              "</style>\n",
              "<table border=\"1\" class=\"dataframe\">\n",
              "  <thead>\n",
              "    <tr style=\"text-align: right;\">\n",
              "      <th></th>\n",
              "      <th>Symbol</th>\n",
              "      <th>Exchange</th>\n",
              "      <th>Name</th>\n",
              "      <th>Last_Price</th>\n",
              "      <th>Market_Cap</th>\n",
              "      <th>IPO_Year</th>\n",
              "      <th>Sector</th>\n",
              "      <th>Industry</th>\n",
              "    </tr>\n",
              "  </thead>\n",
              "  <tbody>\n",
              "    <tr>\n",
              "      <th>0</th>\n",
              "      <td>A</td>\n",
              "      <td>NYSE</td>\n",
              "      <td>Agilent Technologies, Inc.</td>\n",
              "      <td>81.68</td>\n",
              "      <td>25934696179.92</td>\n",
              "      <td>1999.00</td>\n",
              "      <td>Capital Goods</td>\n",
              "      <td>Biotechnology: Laboratory Analytical Instruments</td>\n",
              "    </tr>\n",
              "    <tr>\n",
              "      <th>1</th>\n",
              "      <td>AA</td>\n",
              "      <td>NYSE</td>\n",
              "      <td>Alcoa Corporation</td>\n",
              "      <td>29.15</td>\n",
              "      <td>5407809589.60</td>\n",
              "      <td>2016.00</td>\n",
              "      <td>Basic Industries</td>\n",
              "      <td>Aluminum</td>\n",
              "    </tr>\n",
              "    <tr>\n",
              "      <th>3</th>\n",
              "      <td>AAC</td>\n",
              "      <td>NYSE</td>\n",
              "      <td>AAC Holdings, Inc.</td>\n",
              "      <td>2.16</td>\n",
              "      <td>53141086.80</td>\n",
              "      <td>2014.00</td>\n",
              "      <td>Health Care</td>\n",
              "      <td>Medical Specialities</td>\n",
              "    </tr>\n",
              "    <tr>\n",
              "      <th>8</th>\n",
              "      <td>AAOI</td>\n",
              "      <td>NASDAQ</td>\n",
              "      <td>Applied Optoelectronics, Inc.</td>\n",
              "      <td>12.30</td>\n",
              "      <td>244556139.90</td>\n",
              "      <td>2013.00</td>\n",
              "      <td>Technology</td>\n",
              "      <td>Semiconductors</td>\n",
              "    </tr>\n",
              "    <tr>\n",
              "      <th>11</th>\n",
              "      <td>AAPL</td>\n",
              "      <td>NASDAQ</td>\n",
              "      <td>Apple Inc.</td>\n",
              "      <td>200.62</td>\n",
              "      <td>945979473600.00</td>\n",
              "      <td>1980.00</td>\n",
              "      <td>Technology</td>\n",
              "      <td>Computer Manufacturing</td>\n",
              "    </tr>\n",
              "  </tbody>\n",
              "</table>\n",
              "</div>\n",
              "      <button class=\"colab-df-convert\" onclick=\"convertToInteractive('df-d5e1d985-1fae-4d9f-bfe0-9db231c0a3fc')\"\n",
              "              title=\"Convert this dataframe to an interactive table.\"\n",
              "              style=\"display:none;\">\n",
              "        \n",
              "  <svg xmlns=\"http://www.w3.org/2000/svg\" height=\"24px\"viewBox=\"0 0 24 24\"\n",
              "       width=\"24px\">\n",
              "    <path d=\"M0 0h24v24H0V0z\" fill=\"none\"/>\n",
              "    <path d=\"M18.56 5.44l.94 2.06.94-2.06 2.06-.94-2.06-.94-.94-2.06-.94 2.06-2.06.94zm-11 1L8.5 8.5l.94-2.06 2.06-.94-2.06-.94L8.5 2.5l-.94 2.06-2.06.94zm10 10l.94 2.06.94-2.06 2.06-.94-2.06-.94-.94-2.06-.94 2.06-2.06.94z\"/><path d=\"M17.41 7.96l-1.37-1.37c-.4-.4-.92-.59-1.43-.59-.52 0-1.04.2-1.43.59L10.3 9.45l-7.72 7.72c-.78.78-.78 2.05 0 2.83L4 21.41c.39.39.9.59 1.41.59.51 0 1.02-.2 1.41-.59l7.78-7.78 2.81-2.81c.8-.78.8-2.07 0-2.86zM5.41 20L4 18.59l7.72-7.72 1.47 1.35L5.41 20z\"/>\n",
              "  </svg>\n",
              "      </button>\n",
              "      \n",
              "  <style>\n",
              "    .colab-df-container {\n",
              "      display:flex;\n",
              "      flex-wrap:wrap;\n",
              "      gap: 12px;\n",
              "    }\n",
              "\n",
              "    .colab-df-convert {\n",
              "      background-color: #E8F0FE;\n",
              "      border: none;\n",
              "      border-radius: 50%;\n",
              "      cursor: pointer;\n",
              "      display: none;\n",
              "      fill: #1967D2;\n",
              "      height: 32px;\n",
              "      padding: 0 0 0 0;\n",
              "      width: 32px;\n",
              "    }\n",
              "\n",
              "    .colab-df-convert:hover {\n",
              "      background-color: #E2EBFA;\n",
              "      box-shadow: 0px 1px 2px rgba(60, 64, 67, 0.3), 0px 1px 3px 1px rgba(60, 64, 67, 0.15);\n",
              "      fill: #174EA6;\n",
              "    }\n",
              "\n",
              "    [theme=dark] .colab-df-convert {\n",
              "      background-color: #3B4455;\n",
              "      fill: #D2E3FC;\n",
              "    }\n",
              "\n",
              "    [theme=dark] .colab-df-convert:hover {\n",
              "      background-color: #434B5C;\n",
              "      box-shadow: 0px 1px 3px 1px rgba(0, 0, 0, 0.15);\n",
              "      filter: drop-shadow(0px 1px 2px rgba(0, 0, 0, 0.3));\n",
              "      fill: #FFFFFF;\n",
              "    }\n",
              "  </style>\n",
              "\n",
              "      <script>\n",
              "        const buttonEl =\n",
              "          document.querySelector('#df-d5e1d985-1fae-4d9f-bfe0-9db231c0a3fc button.colab-df-convert');\n",
              "        buttonEl.style.display =\n",
              "          google.colab.kernel.accessAllowed ? 'block' : 'none';\n",
              "\n",
              "        async function convertToInteractive(key) {\n",
              "          const element = document.querySelector('#df-d5e1d985-1fae-4d9f-bfe0-9db231c0a3fc');\n",
              "          const dataTable =\n",
              "            await google.colab.kernel.invokeFunction('convertToInteractive',\n",
              "                                                     [key], {});\n",
              "          if (!dataTable) return;\n",
              "\n",
              "          const docLinkHtml = 'Like what you see? Visit the ' +\n",
              "            '<a target=\"_blank\" href=https://colab.research.google.com/notebooks/data_table.ipynb>data table notebook</a>'\n",
              "            + ' to learn more about interactive tables.';\n",
              "          element.innerHTML = '';\n",
              "          dataTable['output_type'] = 'display_data';\n",
              "          await google.colab.output.renderOutput(dataTable, element);\n",
              "          const docLink = document.createElement('div');\n",
              "          docLink.innerHTML = docLinkHtml;\n",
              "          element.appendChild(docLink);\n",
              "        }\n",
              "      </script>\n",
              "    </div>\n",
              "  </div>\n",
              "  "
            ]
          },
          "metadata": {},
          "execution_count": 24
        }
      ],
      "source": [
        "# run the cell!\n",
        "known_year.head()"
      ]
    },
    {
      "cell_type": "code",
      "execution_count": 25,
      "metadata": {
        "colab": {
          "base_uri": "https://localhost:8080/"
        },
        "id": "fICtU5NxfFah",
        "outputId": "9b1301b5-e6f4-44d3-bbfe-3dfa2b8a1da0"
      },
      "outputs": [
        {
          "output_type": "execute_result",
          "data": {
            "text/plain": [
              "(3105, 8)"
            ]
          },
          "metadata": {},
          "execution_count": 25
        }
      ],
      "source": [
        "# run the cell!\n",
        "known_year.shape"
      ]
    },
    {
      "cell_type": "markdown",
      "metadata": {
        "id": "pwi3MctOfFai"
      },
      "source": [
        "There are ... 3105 listings with known IPO_Year!"
      ]
    },
    {
      "cell_type": "markdown",
      "metadata": {
        "id": "qLpy7c6PfFaj"
      },
      "source": [
        "Finally, we figured out that __IPO_Year__ information is __not available__ for stocks with an IPO __prior to 1970__. Therefore..."
      ]
    },
    {
      "cell_type": "markdown",
      "metadata": {
        "id": "1JA1CnvifFaj"
      },
      "source": [
        "59. ... we decide to __fill all NA-Values__ in the __IPO_Year__ column with __1969__. __Save__ the change!"
      ]
    },
    {
      "cell_type": "code",
      "execution_count": 26,
      "metadata": {
        "scrolled": true,
        "id": "sT4Ggz2afFaj"
      },
      "outputs": [],
      "source": [
        "listings.IPO_Year.fillna(1969, inplace = True)"
      ]
    },
    {
      "cell_type": "markdown",
      "metadata": {
        "id": "mkUo-W1pfFak"
      },
      "source": [
        "Make a __final inspection__ of our listings DataFrame. Which __columns__ still contain __NA-values__?"
      ]
    },
    {
      "cell_type": "code",
      "execution_count": 27,
      "metadata": {
        "colab": {
          "base_uri": "https://localhost:8080/",
          "height": 206
        },
        "id": "5dJC1pglfFal",
        "outputId": "652677d0-cdc1-4807-aae6-6a3ddc966fd3"
      },
      "outputs": [
        {
          "output_type": "execute_result",
          "data": {
            "text/plain": [
              "  Symbol Exchange                           Name  Last_Price     Market_Cap  \\\n",
              "0      A     NYSE     Agilent Technologies, Inc.       81.68 25934696179.92   \n",
              "1     AA     NYSE              Alcoa Corporation       29.15  5407809589.60   \n",
              "2   AABA   NASDAQ                    Altaba Inc.       75.39 42781131315.30   \n",
              "3    AAC     NYSE             AAC Holdings, Inc.        2.16    53141086.80   \n",
              "4    AAL   NASDAQ  American Airlines Group, Inc.       34.02 15276869742.96   \n",
              "\n",
              "   IPO_Year            Sector  \\\n",
              "0   1999.00     Capital Goods   \n",
              "1   2016.00  Basic Industries   \n",
              "2   1969.00        Technology   \n",
              "3   2014.00       Health Care   \n",
              "4   1969.00    Transportation   \n",
              "\n",
              "                                           Industry  \n",
              "0  Biotechnology: Laboratory Analytical Instruments  \n",
              "1                                          Aluminum  \n",
              "2                                      EDP Services  \n",
              "3                              Medical Specialities  \n",
              "4                     Air Freight/Delivery Services  "
            ],
            "text/html": [
              "\n",
              "  <div id=\"df-f721668f-3fde-4f4d-9ca2-c4100d5e26b1\">\n",
              "    <div class=\"colab-df-container\">\n",
              "      <div>\n",
              "<style scoped>\n",
              "    .dataframe tbody tr th:only-of-type {\n",
              "        vertical-align: middle;\n",
              "    }\n",
              "\n",
              "    .dataframe tbody tr th {\n",
              "        vertical-align: top;\n",
              "    }\n",
              "\n",
              "    .dataframe thead th {\n",
              "        text-align: right;\n",
              "    }\n",
              "</style>\n",
              "<table border=\"1\" class=\"dataframe\">\n",
              "  <thead>\n",
              "    <tr style=\"text-align: right;\">\n",
              "      <th></th>\n",
              "      <th>Symbol</th>\n",
              "      <th>Exchange</th>\n",
              "      <th>Name</th>\n",
              "      <th>Last_Price</th>\n",
              "      <th>Market_Cap</th>\n",
              "      <th>IPO_Year</th>\n",
              "      <th>Sector</th>\n",
              "      <th>Industry</th>\n",
              "    </tr>\n",
              "  </thead>\n",
              "  <tbody>\n",
              "    <tr>\n",
              "      <th>0</th>\n",
              "      <td>A</td>\n",
              "      <td>NYSE</td>\n",
              "      <td>Agilent Technologies, Inc.</td>\n",
              "      <td>81.68</td>\n",
              "      <td>25934696179.92</td>\n",
              "      <td>1999.00</td>\n",
              "      <td>Capital Goods</td>\n",
              "      <td>Biotechnology: Laboratory Analytical Instruments</td>\n",
              "    </tr>\n",
              "    <tr>\n",
              "      <th>1</th>\n",
              "      <td>AA</td>\n",
              "      <td>NYSE</td>\n",
              "      <td>Alcoa Corporation</td>\n",
              "      <td>29.15</td>\n",
              "      <td>5407809589.60</td>\n",
              "      <td>2016.00</td>\n",
              "      <td>Basic Industries</td>\n",
              "      <td>Aluminum</td>\n",
              "    </tr>\n",
              "    <tr>\n",
              "      <th>2</th>\n",
              "      <td>AABA</td>\n",
              "      <td>NASDAQ</td>\n",
              "      <td>Altaba Inc.</td>\n",
              "      <td>75.39</td>\n",
              "      <td>42781131315.30</td>\n",
              "      <td>1969.00</td>\n",
              "      <td>Technology</td>\n",
              "      <td>EDP Services</td>\n",
              "    </tr>\n",
              "    <tr>\n",
              "      <th>3</th>\n",
              "      <td>AAC</td>\n",
              "      <td>NYSE</td>\n",
              "      <td>AAC Holdings, Inc.</td>\n",
              "      <td>2.16</td>\n",
              "      <td>53141086.80</td>\n",
              "      <td>2014.00</td>\n",
              "      <td>Health Care</td>\n",
              "      <td>Medical Specialities</td>\n",
              "    </tr>\n",
              "    <tr>\n",
              "      <th>4</th>\n",
              "      <td>AAL</td>\n",
              "      <td>NASDAQ</td>\n",
              "      <td>American Airlines Group, Inc.</td>\n",
              "      <td>34.02</td>\n",
              "      <td>15276869742.96</td>\n",
              "      <td>1969.00</td>\n",
              "      <td>Transportation</td>\n",
              "      <td>Air Freight/Delivery Services</td>\n",
              "    </tr>\n",
              "  </tbody>\n",
              "</table>\n",
              "</div>\n",
              "      <button class=\"colab-df-convert\" onclick=\"convertToInteractive('df-f721668f-3fde-4f4d-9ca2-c4100d5e26b1')\"\n",
              "              title=\"Convert this dataframe to an interactive table.\"\n",
              "              style=\"display:none;\">\n",
              "        \n",
              "  <svg xmlns=\"http://www.w3.org/2000/svg\" height=\"24px\"viewBox=\"0 0 24 24\"\n",
              "       width=\"24px\">\n",
              "    <path d=\"M0 0h24v24H0V0z\" fill=\"none\"/>\n",
              "    <path d=\"M18.56 5.44l.94 2.06.94-2.06 2.06-.94-2.06-.94-.94-2.06-.94 2.06-2.06.94zm-11 1L8.5 8.5l.94-2.06 2.06-.94-2.06-.94L8.5 2.5l-.94 2.06-2.06.94zm10 10l.94 2.06.94-2.06 2.06-.94-2.06-.94-.94-2.06-.94 2.06-2.06.94z\"/><path d=\"M17.41 7.96l-1.37-1.37c-.4-.4-.92-.59-1.43-.59-.52 0-1.04.2-1.43.59L10.3 9.45l-7.72 7.72c-.78.78-.78 2.05 0 2.83L4 21.41c.39.39.9.59 1.41.59.51 0 1.02-.2 1.41-.59l7.78-7.78 2.81-2.81c.8-.78.8-2.07 0-2.86zM5.41 20L4 18.59l7.72-7.72 1.47 1.35L5.41 20z\"/>\n",
              "  </svg>\n",
              "      </button>\n",
              "      \n",
              "  <style>\n",
              "    .colab-df-container {\n",
              "      display:flex;\n",
              "      flex-wrap:wrap;\n",
              "      gap: 12px;\n",
              "    }\n",
              "\n",
              "    .colab-df-convert {\n",
              "      background-color: #E8F0FE;\n",
              "      border: none;\n",
              "      border-radius: 50%;\n",
              "      cursor: pointer;\n",
              "      display: none;\n",
              "      fill: #1967D2;\n",
              "      height: 32px;\n",
              "      padding: 0 0 0 0;\n",
              "      width: 32px;\n",
              "    }\n",
              "\n",
              "    .colab-df-convert:hover {\n",
              "      background-color: #E2EBFA;\n",
              "      box-shadow: 0px 1px 2px rgba(60, 64, 67, 0.3), 0px 1px 3px 1px rgba(60, 64, 67, 0.15);\n",
              "      fill: #174EA6;\n",
              "    }\n",
              "\n",
              "    [theme=dark] .colab-df-convert {\n",
              "      background-color: #3B4455;\n",
              "      fill: #D2E3FC;\n",
              "    }\n",
              "\n",
              "    [theme=dark] .colab-df-convert:hover {\n",
              "      background-color: #434B5C;\n",
              "      box-shadow: 0px 1px 3px 1px rgba(0, 0, 0, 0.15);\n",
              "      filter: drop-shadow(0px 1px 2px rgba(0, 0, 0, 0.3));\n",
              "      fill: #FFFFFF;\n",
              "    }\n",
              "  </style>\n",
              "\n",
              "      <script>\n",
              "        const buttonEl =\n",
              "          document.querySelector('#df-f721668f-3fde-4f4d-9ca2-c4100d5e26b1 button.colab-df-convert');\n",
              "        buttonEl.style.display =\n",
              "          google.colab.kernel.accessAllowed ? 'block' : 'none';\n",
              "\n",
              "        async function convertToInteractive(key) {\n",
              "          const element = document.querySelector('#df-f721668f-3fde-4f4d-9ca2-c4100d5e26b1');\n",
              "          const dataTable =\n",
              "            await google.colab.kernel.invokeFunction('convertToInteractive',\n",
              "                                                     [key], {});\n",
              "          if (!dataTable) return;\n",
              "\n",
              "          const docLinkHtml = 'Like what you see? Visit the ' +\n",
              "            '<a target=\"_blank\" href=https://colab.research.google.com/notebooks/data_table.ipynb>data table notebook</a>'\n",
              "            + ' to learn more about interactive tables.';\n",
              "          element.innerHTML = '';\n",
              "          dataTable['output_type'] = 'display_data';\n",
              "          await google.colab.output.renderOutput(dataTable, element);\n",
              "          const docLink = document.createElement('div');\n",
              "          docLink.innerHTML = docLinkHtml;\n",
              "          element.appendChild(docLink);\n",
              "        }\n",
              "      </script>\n",
              "    </div>\n",
              "  </div>\n",
              "  "
            ]
          },
          "metadata": {},
          "execution_count": 27
        }
      ],
      "source": [
        "# run the cell!\n",
        "listings.head()"
      ]
    },
    {
      "cell_type": "code",
      "execution_count": 28,
      "metadata": {
        "colab": {
          "base_uri": "https://localhost:8080/"
        },
        "id": "nnyYytpNfFal",
        "outputId": "3031a47d-8349-411e-bc95-503dc842aec9"
      },
      "outputs": [
        {
          "output_type": "stream",
          "name": "stdout",
          "text": [
            "<class 'pandas.core.frame.DataFrame'>\n",
            "RangeIndex: 6852 entries, 0 to 6851\n",
            "Data columns (total 8 columns):\n",
            " #   Column      Non-Null Count  Dtype  \n",
            "---  ------      --------------  -----  \n",
            " 0   Symbol      6852 non-null   object \n",
            " 1   Exchange    6852 non-null   object \n",
            " 2   Name        6852 non-null   object \n",
            " 3   Last_Price  6852 non-null   float64\n",
            " 4   Market_Cap  5954 non-null   float64\n",
            " 5   IPO_Year    6852 non-null   float64\n",
            " 6   Sector      5309 non-null   object \n",
            " 7   Industry    5309 non-null   object \n",
            "dtypes: float64(3), object(5)\n",
            "memory usage: 428.4+ KB\n"
          ]
        }
      ],
      "source": [
        "#run the cell!\n",
        "listings.info()"
      ]
    },
    {
      "cell_type": "markdown",
      "metadata": {
        "id": "Kaa1Awd7fFam"
      },
      "source": [
        "The columns ... Sector & Industry still contain NA-values!"
      ]
    },
    {
      "cell_type": "markdown",
      "metadata": {
        "id": "o0mLrBApfFam"
      },
      "source": [
        "60. __Transform the datatype__ in the IPO_Year column to integer (beyond the scope of this course, run the cell!)"
      ]
    },
    {
      "cell_type": "code",
      "execution_count": 29,
      "metadata": {
        "id": "0xWqK-4EfFan"
      },
      "outputs": [],
      "source": [
        "#run the cell!\n",
        "listings.IPO_Year = listings.IPO_Year.astype(\"int\")"
      ]
    },
    {
      "cell_type": "code",
      "execution_count": 30,
      "metadata": {
        "colab": {
          "base_uri": "https://localhost:8080/"
        },
        "id": "uKhh3m0vfFan",
        "outputId": "6fe0ecea-4be1-4547-cf79-9cf6434ed3e8"
      },
      "outputs": [
        {
          "output_type": "stream",
          "name": "stdout",
          "text": [
            "<class 'pandas.core.frame.DataFrame'>\n",
            "RangeIndex: 6852 entries, 0 to 6851\n",
            "Data columns (total 8 columns):\n",
            " #   Column      Non-Null Count  Dtype  \n",
            "---  ------      --------------  -----  \n",
            " 0   Symbol      6852 non-null   object \n",
            " 1   Exchange    6852 non-null   object \n",
            " 2   Name        6852 non-null   object \n",
            " 3   Last_Price  6852 non-null   float64\n",
            " 4   Market_Cap  5954 non-null   float64\n",
            " 5   IPO_Year    6852 non-null   int64  \n",
            " 6   Sector      5309 non-null   object \n",
            " 7   Industry    5309 non-null   object \n",
            "dtypes: float64(2), int64(1), object(5)\n",
            "memory usage: 428.4+ KB\n"
          ]
        }
      ],
      "source": [
        "#run the cell and inspect!\n",
        "listings.info()"
      ]
    },
    {
      "cell_type": "code",
      "execution_count": 31,
      "metadata": {
        "colab": {
          "base_uri": "https://localhost:8080/",
          "height": 206
        },
        "id": "mzaZ9ILafFao",
        "outputId": "3b9efa7c-9f0f-4f2d-b0a9-1a41db85622c"
      },
      "outputs": [
        {
          "output_type": "execute_result",
          "data": {
            "text/plain": [
              "  Symbol Exchange                           Name  Last_Price     Market_Cap  \\\n",
              "0      A     NYSE     Agilent Technologies, Inc.       81.68 25934696179.92   \n",
              "1     AA     NYSE              Alcoa Corporation       29.15  5407809589.60   \n",
              "2   AABA   NASDAQ                    Altaba Inc.       75.39 42781131315.30   \n",
              "3    AAC     NYSE             AAC Holdings, Inc.        2.16    53141086.80   \n",
              "4    AAL   NASDAQ  American Airlines Group, Inc.       34.02 15276869742.96   \n",
              "\n",
              "   IPO_Year            Sector  \\\n",
              "0      1999     Capital Goods   \n",
              "1      2016  Basic Industries   \n",
              "2      1969        Technology   \n",
              "3      2014       Health Care   \n",
              "4      1969    Transportation   \n",
              "\n",
              "                                           Industry  \n",
              "0  Biotechnology: Laboratory Analytical Instruments  \n",
              "1                                          Aluminum  \n",
              "2                                      EDP Services  \n",
              "3                              Medical Specialities  \n",
              "4                     Air Freight/Delivery Services  "
            ],
            "text/html": [
              "\n",
              "  <div id=\"df-e8778088-bb17-4fea-bb16-87a228549010\">\n",
              "    <div class=\"colab-df-container\">\n",
              "      <div>\n",
              "<style scoped>\n",
              "    .dataframe tbody tr th:only-of-type {\n",
              "        vertical-align: middle;\n",
              "    }\n",
              "\n",
              "    .dataframe tbody tr th {\n",
              "        vertical-align: top;\n",
              "    }\n",
              "\n",
              "    .dataframe thead th {\n",
              "        text-align: right;\n",
              "    }\n",
              "</style>\n",
              "<table border=\"1\" class=\"dataframe\">\n",
              "  <thead>\n",
              "    <tr style=\"text-align: right;\">\n",
              "      <th></th>\n",
              "      <th>Symbol</th>\n",
              "      <th>Exchange</th>\n",
              "      <th>Name</th>\n",
              "      <th>Last_Price</th>\n",
              "      <th>Market_Cap</th>\n",
              "      <th>IPO_Year</th>\n",
              "      <th>Sector</th>\n",
              "      <th>Industry</th>\n",
              "    </tr>\n",
              "  </thead>\n",
              "  <tbody>\n",
              "    <tr>\n",
              "      <th>0</th>\n",
              "      <td>A</td>\n",
              "      <td>NYSE</td>\n",
              "      <td>Agilent Technologies, Inc.</td>\n",
              "      <td>81.68</td>\n",
              "      <td>25934696179.92</td>\n",
              "      <td>1999</td>\n",
              "      <td>Capital Goods</td>\n",
              "      <td>Biotechnology: Laboratory Analytical Instruments</td>\n",
              "    </tr>\n",
              "    <tr>\n",
              "      <th>1</th>\n",
              "      <td>AA</td>\n",
              "      <td>NYSE</td>\n",
              "      <td>Alcoa Corporation</td>\n",
              "      <td>29.15</td>\n",
              "      <td>5407809589.60</td>\n",
              "      <td>2016</td>\n",
              "      <td>Basic Industries</td>\n",
              "      <td>Aluminum</td>\n",
              "    </tr>\n",
              "    <tr>\n",
              "      <th>2</th>\n",
              "      <td>AABA</td>\n",
              "      <td>NASDAQ</td>\n",
              "      <td>Altaba Inc.</td>\n",
              "      <td>75.39</td>\n",
              "      <td>42781131315.30</td>\n",
              "      <td>1969</td>\n",
              "      <td>Technology</td>\n",
              "      <td>EDP Services</td>\n",
              "    </tr>\n",
              "    <tr>\n",
              "      <th>3</th>\n",
              "      <td>AAC</td>\n",
              "      <td>NYSE</td>\n",
              "      <td>AAC Holdings, Inc.</td>\n",
              "      <td>2.16</td>\n",
              "      <td>53141086.80</td>\n",
              "      <td>2014</td>\n",
              "      <td>Health Care</td>\n",
              "      <td>Medical Specialities</td>\n",
              "    </tr>\n",
              "    <tr>\n",
              "      <th>4</th>\n",
              "      <td>AAL</td>\n",
              "      <td>NASDAQ</td>\n",
              "      <td>American Airlines Group, Inc.</td>\n",
              "      <td>34.02</td>\n",
              "      <td>15276869742.96</td>\n",
              "      <td>1969</td>\n",
              "      <td>Transportation</td>\n",
              "      <td>Air Freight/Delivery Services</td>\n",
              "    </tr>\n",
              "  </tbody>\n",
              "</table>\n",
              "</div>\n",
              "      <button class=\"colab-df-convert\" onclick=\"convertToInteractive('df-e8778088-bb17-4fea-bb16-87a228549010')\"\n",
              "              title=\"Convert this dataframe to an interactive table.\"\n",
              "              style=\"display:none;\">\n",
              "        \n",
              "  <svg xmlns=\"http://www.w3.org/2000/svg\" height=\"24px\"viewBox=\"0 0 24 24\"\n",
              "       width=\"24px\">\n",
              "    <path d=\"M0 0h24v24H0V0z\" fill=\"none\"/>\n",
              "    <path d=\"M18.56 5.44l.94 2.06.94-2.06 2.06-.94-2.06-.94-.94-2.06-.94 2.06-2.06.94zm-11 1L8.5 8.5l.94-2.06 2.06-.94-2.06-.94L8.5 2.5l-.94 2.06-2.06.94zm10 10l.94 2.06.94-2.06 2.06-.94-2.06-.94-.94-2.06-.94 2.06-2.06.94z\"/><path d=\"M17.41 7.96l-1.37-1.37c-.4-.4-.92-.59-1.43-.59-.52 0-1.04.2-1.43.59L10.3 9.45l-7.72 7.72c-.78.78-.78 2.05 0 2.83L4 21.41c.39.39.9.59 1.41.59.51 0 1.02-.2 1.41-.59l7.78-7.78 2.81-2.81c.8-.78.8-2.07 0-2.86zM5.41 20L4 18.59l7.72-7.72 1.47 1.35L5.41 20z\"/>\n",
              "  </svg>\n",
              "      </button>\n",
              "      \n",
              "  <style>\n",
              "    .colab-df-container {\n",
              "      display:flex;\n",
              "      flex-wrap:wrap;\n",
              "      gap: 12px;\n",
              "    }\n",
              "\n",
              "    .colab-df-convert {\n",
              "      background-color: #E8F0FE;\n",
              "      border: none;\n",
              "      border-radius: 50%;\n",
              "      cursor: pointer;\n",
              "      display: none;\n",
              "      fill: #1967D2;\n",
              "      height: 32px;\n",
              "      padding: 0 0 0 0;\n",
              "      width: 32px;\n",
              "    }\n",
              "\n",
              "    .colab-df-convert:hover {\n",
              "      background-color: #E2EBFA;\n",
              "      box-shadow: 0px 1px 2px rgba(60, 64, 67, 0.3), 0px 1px 3px 1px rgba(60, 64, 67, 0.15);\n",
              "      fill: #174EA6;\n",
              "    }\n",
              "\n",
              "    [theme=dark] .colab-df-convert {\n",
              "      background-color: #3B4455;\n",
              "      fill: #D2E3FC;\n",
              "    }\n",
              "\n",
              "    [theme=dark] .colab-df-convert:hover {\n",
              "      background-color: #434B5C;\n",
              "      box-shadow: 0px 1px 3px 1px rgba(0, 0, 0, 0.15);\n",
              "      filter: drop-shadow(0px 1px 2px rgba(0, 0, 0, 0.3));\n",
              "      fill: #FFFFFF;\n",
              "    }\n",
              "  </style>\n",
              "\n",
              "      <script>\n",
              "        const buttonEl =\n",
              "          document.querySelector('#df-e8778088-bb17-4fea-bb16-87a228549010 button.colab-df-convert');\n",
              "        buttonEl.style.display =\n",
              "          google.colab.kernel.accessAllowed ? 'block' : 'none';\n",
              "\n",
              "        async function convertToInteractive(key) {\n",
              "          const element = document.querySelector('#df-e8778088-bb17-4fea-bb16-87a228549010');\n",
              "          const dataTable =\n",
              "            await google.colab.kernel.invokeFunction('convertToInteractive',\n",
              "                                                     [key], {});\n",
              "          if (!dataTable) return;\n",
              "\n",
              "          const docLinkHtml = 'Like what you see? Visit the ' +\n",
              "            '<a target=\"_blank\" href=https://colab.research.google.com/notebooks/data_table.ipynb>data table notebook</a>'\n",
              "            + ' to learn more about interactive tables.';\n",
              "          element.innerHTML = '';\n",
              "          dataTable['output_type'] = 'display_data';\n",
              "          await google.colab.output.renderOutput(dataTable, element);\n",
              "          const docLink = document.createElement('div');\n",
              "          docLink.innerHTML = docLinkHtml;\n",
              "          element.appendChild(docLink);\n",
              "        }\n",
              "      </script>\n",
              "    </div>\n",
              "  </div>\n",
              "  "
            ]
          },
          "metadata": {},
          "execution_count": 31
        }
      ],
      "source": [
        "#run the cell!\n",
        "listings.head()"
      ]
    },
    {
      "cell_type": "markdown",
      "metadata": {
        "id": "uOTLb3iCfFap"
      },
      "source": [
        "61. __Save and export__ the cleaned DataFrame to the new csv-file __listings_clean.csv__! __Fill in the gaps!__"
      ]
    },
    {
      "cell_type": "code",
      "execution_count": 32,
      "metadata": {
        "id": "goeUYV_8fFap"
      },
      "outputs": [],
      "source": [
        "listings.to_csv(\"listings_clean.csv\", index = False)"
      ]
    },
    {
      "cell_type": "markdown",
      "metadata": {
        "id": "zOGK_6rRfFap"
      },
      "source": [
        "62. __Re-Import__ listings_clean.csv and save the DataFrame in the variable __listings_clean__!"
      ]
    },
    {
      "cell_type": "code",
      "execution_count": 34,
      "metadata": {
        "id": "2O4EJyqhfFaq"
      },
      "outputs": [],
      "source": [
        "listings_clean = pd.read_csv(\"listings_clean.csv\")"
      ]
    },
    {
      "cell_type": "code",
      "execution_count": 35,
      "metadata": {
        "colab": {
          "base_uri": "https://localhost:8080/",
          "height": 206
        },
        "id": "OGzVhLGqfFaq",
        "outputId": "66aed378-67e4-4ab9-acff-027b717a6ef3"
      },
      "outputs": [
        {
          "output_type": "execute_result",
          "data": {
            "text/plain": [
              "  Symbol Exchange                           Name  Last_Price     Market_Cap  \\\n",
              "0      A     NYSE     Agilent Technologies, Inc.       81.68 25934696179.92   \n",
              "1     AA     NYSE              Alcoa Corporation       29.15  5407809589.60   \n",
              "2   AABA   NASDAQ                    Altaba Inc.       75.39 42781131315.30   \n",
              "3    AAC     NYSE             AAC Holdings, Inc.        2.16    53141086.80   \n",
              "4    AAL   NASDAQ  American Airlines Group, Inc.       34.02 15276869742.96   \n",
              "\n",
              "   IPO_Year            Sector  \\\n",
              "0      1999     Capital Goods   \n",
              "1      2016  Basic Industries   \n",
              "2      1969        Technology   \n",
              "3      2014       Health Care   \n",
              "4      1969    Transportation   \n",
              "\n",
              "                                           Industry  \n",
              "0  Biotechnology: Laboratory Analytical Instruments  \n",
              "1                                          Aluminum  \n",
              "2                                      EDP Services  \n",
              "3                              Medical Specialities  \n",
              "4                     Air Freight/Delivery Services  "
            ],
            "text/html": [
              "\n",
              "  <div id=\"df-5709cbdb-5338-4da5-85d0-040f72f3d3bf\">\n",
              "    <div class=\"colab-df-container\">\n",
              "      <div>\n",
              "<style scoped>\n",
              "    .dataframe tbody tr th:only-of-type {\n",
              "        vertical-align: middle;\n",
              "    }\n",
              "\n",
              "    .dataframe tbody tr th {\n",
              "        vertical-align: top;\n",
              "    }\n",
              "\n",
              "    .dataframe thead th {\n",
              "        text-align: right;\n",
              "    }\n",
              "</style>\n",
              "<table border=\"1\" class=\"dataframe\">\n",
              "  <thead>\n",
              "    <tr style=\"text-align: right;\">\n",
              "      <th></th>\n",
              "      <th>Symbol</th>\n",
              "      <th>Exchange</th>\n",
              "      <th>Name</th>\n",
              "      <th>Last_Price</th>\n",
              "      <th>Market_Cap</th>\n",
              "      <th>IPO_Year</th>\n",
              "      <th>Sector</th>\n",
              "      <th>Industry</th>\n",
              "    </tr>\n",
              "  </thead>\n",
              "  <tbody>\n",
              "    <tr>\n",
              "      <th>0</th>\n",
              "      <td>A</td>\n",
              "      <td>NYSE</td>\n",
              "      <td>Agilent Technologies, Inc.</td>\n",
              "      <td>81.68</td>\n",
              "      <td>25934696179.92</td>\n",
              "      <td>1999</td>\n",
              "      <td>Capital Goods</td>\n",
              "      <td>Biotechnology: Laboratory Analytical Instruments</td>\n",
              "    </tr>\n",
              "    <tr>\n",
              "      <th>1</th>\n",
              "      <td>AA</td>\n",
              "      <td>NYSE</td>\n",
              "      <td>Alcoa Corporation</td>\n",
              "      <td>29.15</td>\n",
              "      <td>5407809589.60</td>\n",
              "      <td>2016</td>\n",
              "      <td>Basic Industries</td>\n",
              "      <td>Aluminum</td>\n",
              "    </tr>\n",
              "    <tr>\n",
              "      <th>2</th>\n",
              "      <td>AABA</td>\n",
              "      <td>NASDAQ</td>\n",
              "      <td>Altaba Inc.</td>\n",
              "      <td>75.39</td>\n",
              "      <td>42781131315.30</td>\n",
              "      <td>1969</td>\n",
              "      <td>Technology</td>\n",
              "      <td>EDP Services</td>\n",
              "    </tr>\n",
              "    <tr>\n",
              "      <th>3</th>\n",
              "      <td>AAC</td>\n",
              "      <td>NYSE</td>\n",
              "      <td>AAC Holdings, Inc.</td>\n",
              "      <td>2.16</td>\n",
              "      <td>53141086.80</td>\n",
              "      <td>2014</td>\n",
              "      <td>Health Care</td>\n",
              "      <td>Medical Specialities</td>\n",
              "    </tr>\n",
              "    <tr>\n",
              "      <th>4</th>\n",
              "      <td>AAL</td>\n",
              "      <td>NASDAQ</td>\n",
              "      <td>American Airlines Group, Inc.</td>\n",
              "      <td>34.02</td>\n",
              "      <td>15276869742.96</td>\n",
              "      <td>1969</td>\n",
              "      <td>Transportation</td>\n",
              "      <td>Air Freight/Delivery Services</td>\n",
              "    </tr>\n",
              "  </tbody>\n",
              "</table>\n",
              "</div>\n",
              "      <button class=\"colab-df-convert\" onclick=\"convertToInteractive('df-5709cbdb-5338-4da5-85d0-040f72f3d3bf')\"\n",
              "              title=\"Convert this dataframe to an interactive table.\"\n",
              "              style=\"display:none;\">\n",
              "        \n",
              "  <svg xmlns=\"http://www.w3.org/2000/svg\" height=\"24px\"viewBox=\"0 0 24 24\"\n",
              "       width=\"24px\">\n",
              "    <path d=\"M0 0h24v24H0V0z\" fill=\"none\"/>\n",
              "    <path d=\"M18.56 5.44l.94 2.06.94-2.06 2.06-.94-2.06-.94-.94-2.06-.94 2.06-2.06.94zm-11 1L8.5 8.5l.94-2.06 2.06-.94-2.06-.94L8.5 2.5l-.94 2.06-2.06.94zm10 10l.94 2.06.94-2.06 2.06-.94-2.06-.94-.94-2.06-.94 2.06-2.06.94z\"/><path d=\"M17.41 7.96l-1.37-1.37c-.4-.4-.92-.59-1.43-.59-.52 0-1.04.2-1.43.59L10.3 9.45l-7.72 7.72c-.78.78-.78 2.05 0 2.83L4 21.41c.39.39.9.59 1.41.59.51 0 1.02-.2 1.41-.59l7.78-7.78 2.81-2.81c.8-.78.8-2.07 0-2.86zM5.41 20L4 18.59l7.72-7.72 1.47 1.35L5.41 20z\"/>\n",
              "  </svg>\n",
              "      </button>\n",
              "      \n",
              "  <style>\n",
              "    .colab-df-container {\n",
              "      display:flex;\n",
              "      flex-wrap:wrap;\n",
              "      gap: 12px;\n",
              "    }\n",
              "\n",
              "    .colab-df-convert {\n",
              "      background-color: #E8F0FE;\n",
              "      border: none;\n",
              "      border-radius: 50%;\n",
              "      cursor: pointer;\n",
              "      display: none;\n",
              "      fill: #1967D2;\n",
              "      height: 32px;\n",
              "      padding: 0 0 0 0;\n",
              "      width: 32px;\n",
              "    }\n",
              "\n",
              "    .colab-df-convert:hover {\n",
              "      background-color: #E2EBFA;\n",
              "      box-shadow: 0px 1px 2px rgba(60, 64, 67, 0.3), 0px 1px 3px 1px rgba(60, 64, 67, 0.15);\n",
              "      fill: #174EA6;\n",
              "    }\n",
              "\n",
              "    [theme=dark] .colab-df-convert {\n",
              "      background-color: #3B4455;\n",
              "      fill: #D2E3FC;\n",
              "    }\n",
              "\n",
              "    [theme=dark] .colab-df-convert:hover {\n",
              "      background-color: #434B5C;\n",
              "      box-shadow: 0px 1px 3px 1px rgba(0, 0, 0, 0.15);\n",
              "      filter: drop-shadow(0px 1px 2px rgba(0, 0, 0, 0.3));\n",
              "      fill: #FFFFFF;\n",
              "    }\n",
              "  </style>\n",
              "\n",
              "      <script>\n",
              "        const buttonEl =\n",
              "          document.querySelector('#df-5709cbdb-5338-4da5-85d0-040f72f3d3bf button.colab-df-convert');\n",
              "        buttonEl.style.display =\n",
              "          google.colab.kernel.accessAllowed ? 'block' : 'none';\n",
              "\n",
              "        async function convertToInteractive(key) {\n",
              "          const element = document.querySelector('#df-5709cbdb-5338-4da5-85d0-040f72f3d3bf');\n",
              "          const dataTable =\n",
              "            await google.colab.kernel.invokeFunction('convertToInteractive',\n",
              "                                                     [key], {});\n",
              "          if (!dataTable) return;\n",
              "\n",
              "          const docLinkHtml = 'Like what you see? Visit the ' +\n",
              "            '<a target=\"_blank\" href=https://colab.research.google.com/notebooks/data_table.ipynb>data table notebook</a>'\n",
              "            + ' to learn more about interactive tables.';\n",
              "          element.innerHTML = '';\n",
              "          dataTable['output_type'] = 'display_data';\n",
              "          await google.colab.output.renderOutput(dataTable, element);\n",
              "          const docLink = document.createElement('div');\n",
              "          docLink.innerHTML = docLinkHtml;\n",
              "          element.appendChild(docLink);\n",
              "        }\n",
              "      </script>\n",
              "    </div>\n",
              "  </div>\n",
              "  "
            ]
          },
          "metadata": {},
          "execution_count": 35
        }
      ],
      "source": [
        "# run the cell!\n",
        "listings_clean.head()"
      ]
    },
    {
      "cell_type": "code",
      "execution_count": 36,
      "metadata": {
        "colab": {
          "base_uri": "https://localhost:8080/"
        },
        "id": "rWCPVgnyfFaq",
        "outputId": "e8538f81-09c1-40ae-cb57-3afc6c8f9a40"
      },
      "outputs": [
        {
          "output_type": "stream",
          "name": "stdout",
          "text": [
            "<class 'pandas.core.frame.DataFrame'>\n",
            "RangeIndex: 6852 entries, 0 to 6851\n",
            "Data columns (total 8 columns):\n",
            " #   Column      Non-Null Count  Dtype  \n",
            "---  ------      --------------  -----  \n",
            " 0   Symbol      6852 non-null   object \n",
            " 1   Exchange    6852 non-null   object \n",
            " 2   Name        6852 non-null   object \n",
            " 3   Last_Price  6852 non-null   float64\n",
            " 4   Market_Cap  5954 non-null   float64\n",
            " 5   IPO_Year    6852 non-null   int64  \n",
            " 6   Sector      5309 non-null   object \n",
            " 7   Industry    5309 non-null   object \n",
            "dtypes: float64(2), int64(1), object(5)\n",
            "memory usage: 428.4+ KB\n"
          ]
        }
      ],
      "source": [
        "# run the cell!\n",
        "listings_clean.info()"
      ]
    },
    {
      "cell_type": "markdown",
      "metadata": {
        "id": "JN6LWtaYfFar"
      },
      "source": [
        "63. Call an appropriate method on the __listings_clean__ DataFrame that provides plenty of __summary statistics__!"
      ]
    },
    {
      "cell_type": "code",
      "execution_count": 38,
      "metadata": {
        "scrolled": true,
        "colab": {
          "base_uri": "https://localhost:8080/",
          "height": 300
        },
        "id": "u6qnI8LIfFar",
        "outputId": "68013d59-23f2-4b45-ad02-c8d513e1e09c"
      },
      "outputs": [
        {
          "output_type": "execute_result",
          "data": {
            "text/plain": [
              "       Last_Price      Market_Cap  IPO_Year\n",
              "count     6852.00         5954.00   6852.00\n",
              "mean        36.79   7174440219.09   1987.14\n",
              "std         98.58  35254552925.59     20.89\n",
              "min          0.00            0.00   1969.00\n",
              "25%          7.70    120376889.75   1969.00\n",
              "50%         19.98    558517593.27   1969.00\n",
              "75%         36.85   2888746939.46   2012.00\n",
              "max       4299.99 945979473600.00   2019.00"
            ],
            "text/html": [
              "\n",
              "  <div id=\"df-34a779d6-2a0d-4a17-9116-bab639629d10\">\n",
              "    <div class=\"colab-df-container\">\n",
              "      <div>\n",
              "<style scoped>\n",
              "    .dataframe tbody tr th:only-of-type {\n",
              "        vertical-align: middle;\n",
              "    }\n",
              "\n",
              "    .dataframe tbody tr th {\n",
              "        vertical-align: top;\n",
              "    }\n",
              "\n",
              "    .dataframe thead th {\n",
              "        text-align: right;\n",
              "    }\n",
              "</style>\n",
              "<table border=\"1\" class=\"dataframe\">\n",
              "  <thead>\n",
              "    <tr style=\"text-align: right;\">\n",
              "      <th></th>\n",
              "      <th>Last_Price</th>\n",
              "      <th>Market_Cap</th>\n",
              "      <th>IPO_Year</th>\n",
              "    </tr>\n",
              "  </thead>\n",
              "  <tbody>\n",
              "    <tr>\n",
              "      <th>count</th>\n",
              "      <td>6852.00</td>\n",
              "      <td>5954.00</td>\n",
              "      <td>6852.00</td>\n",
              "    </tr>\n",
              "    <tr>\n",
              "      <th>mean</th>\n",
              "      <td>36.79</td>\n",
              "      <td>7174440219.09</td>\n",
              "      <td>1987.14</td>\n",
              "    </tr>\n",
              "    <tr>\n",
              "      <th>std</th>\n",
              "      <td>98.58</td>\n",
              "      <td>35254552925.59</td>\n",
              "      <td>20.89</td>\n",
              "    </tr>\n",
              "    <tr>\n",
              "      <th>min</th>\n",
              "      <td>0.00</td>\n",
              "      <td>0.00</td>\n",
              "      <td>1969.00</td>\n",
              "    </tr>\n",
              "    <tr>\n",
              "      <th>25%</th>\n",
              "      <td>7.70</td>\n",
              "      <td>120376889.75</td>\n",
              "      <td>1969.00</td>\n",
              "    </tr>\n",
              "    <tr>\n",
              "      <th>50%</th>\n",
              "      <td>19.98</td>\n",
              "      <td>558517593.27</td>\n",
              "      <td>1969.00</td>\n",
              "    </tr>\n",
              "    <tr>\n",
              "      <th>75%</th>\n",
              "      <td>36.85</td>\n",
              "      <td>2888746939.46</td>\n",
              "      <td>2012.00</td>\n",
              "    </tr>\n",
              "    <tr>\n",
              "      <th>max</th>\n",
              "      <td>4299.99</td>\n",
              "      <td>945979473600.00</td>\n",
              "      <td>2019.00</td>\n",
              "    </tr>\n",
              "  </tbody>\n",
              "</table>\n",
              "</div>\n",
              "      <button class=\"colab-df-convert\" onclick=\"convertToInteractive('df-34a779d6-2a0d-4a17-9116-bab639629d10')\"\n",
              "              title=\"Convert this dataframe to an interactive table.\"\n",
              "              style=\"display:none;\">\n",
              "        \n",
              "  <svg xmlns=\"http://www.w3.org/2000/svg\" height=\"24px\"viewBox=\"0 0 24 24\"\n",
              "       width=\"24px\">\n",
              "    <path d=\"M0 0h24v24H0V0z\" fill=\"none\"/>\n",
              "    <path d=\"M18.56 5.44l.94 2.06.94-2.06 2.06-.94-2.06-.94-.94-2.06-.94 2.06-2.06.94zm-11 1L8.5 8.5l.94-2.06 2.06-.94-2.06-.94L8.5 2.5l-.94 2.06-2.06.94zm10 10l.94 2.06.94-2.06 2.06-.94-2.06-.94-.94-2.06-.94 2.06-2.06.94z\"/><path d=\"M17.41 7.96l-1.37-1.37c-.4-.4-.92-.59-1.43-.59-.52 0-1.04.2-1.43.59L10.3 9.45l-7.72 7.72c-.78.78-.78 2.05 0 2.83L4 21.41c.39.39.9.59 1.41.59.51 0 1.02-.2 1.41-.59l7.78-7.78 2.81-2.81c.8-.78.8-2.07 0-2.86zM5.41 20L4 18.59l7.72-7.72 1.47 1.35L5.41 20z\"/>\n",
              "  </svg>\n",
              "      </button>\n",
              "      \n",
              "  <style>\n",
              "    .colab-df-container {\n",
              "      display:flex;\n",
              "      flex-wrap:wrap;\n",
              "      gap: 12px;\n",
              "    }\n",
              "\n",
              "    .colab-df-convert {\n",
              "      background-color: #E8F0FE;\n",
              "      border: none;\n",
              "      border-radius: 50%;\n",
              "      cursor: pointer;\n",
              "      display: none;\n",
              "      fill: #1967D2;\n",
              "      height: 32px;\n",
              "      padding: 0 0 0 0;\n",
              "      width: 32px;\n",
              "    }\n",
              "\n",
              "    .colab-df-convert:hover {\n",
              "      background-color: #E2EBFA;\n",
              "      box-shadow: 0px 1px 2px rgba(60, 64, 67, 0.3), 0px 1px 3px 1px rgba(60, 64, 67, 0.15);\n",
              "      fill: #174EA6;\n",
              "    }\n",
              "\n",
              "    [theme=dark] .colab-df-convert {\n",
              "      background-color: #3B4455;\n",
              "      fill: #D2E3FC;\n",
              "    }\n",
              "\n",
              "    [theme=dark] .colab-df-convert:hover {\n",
              "      background-color: #434B5C;\n",
              "      box-shadow: 0px 1px 3px 1px rgba(0, 0, 0, 0.15);\n",
              "      filter: drop-shadow(0px 1px 2px rgba(0, 0, 0, 0.3));\n",
              "      fill: #FFFFFF;\n",
              "    }\n",
              "  </style>\n",
              "\n",
              "      <script>\n",
              "        const buttonEl =\n",
              "          document.querySelector('#df-34a779d6-2a0d-4a17-9116-bab639629d10 button.colab-df-convert');\n",
              "        buttonEl.style.display =\n",
              "          google.colab.kernel.accessAllowed ? 'block' : 'none';\n",
              "\n",
              "        async function convertToInteractive(key) {\n",
              "          const element = document.querySelector('#df-34a779d6-2a0d-4a17-9116-bab639629d10');\n",
              "          const dataTable =\n",
              "            await google.colab.kernel.invokeFunction('convertToInteractive',\n",
              "                                                     [key], {});\n",
              "          if (!dataTable) return;\n",
              "\n",
              "          const docLinkHtml = 'Like what you see? Visit the ' +\n",
              "            '<a target=\"_blank\" href=https://colab.research.google.com/notebooks/data_table.ipynb>data table notebook</a>'\n",
              "            + ' to learn more about interactive tables.';\n",
              "          element.innerHTML = '';\n",
              "          dataTable['output_type'] = 'display_data';\n",
              "          await google.colab.output.renderOutput(dataTable, element);\n",
              "          const docLink = document.createElement('div');\n",
              "          docLink.innerHTML = docLinkHtml;\n",
              "          element.appendChild(docLink);\n",
              "        }\n",
              "      </script>\n",
              "    </div>\n",
              "  </div>\n",
              "  "
            ]
          },
          "metadata": {},
          "execution_count": 38
        }
      ],
      "source": [
        "listings_clean.describe()"
      ]
    },
    {
      "cell_type": "markdown",
      "metadata": {
        "id": "PAL32OSyfFar"
      },
      "source": [
        "63a. __Calculate__ the __mean__ and the __standard deviation__ for the numerical columns (use the appropriate method!)."
      ]
    },
    {
      "cell_type": "code",
      "execution_count": 39,
      "metadata": {
        "colab": {
          "base_uri": "https://localhost:8080/",
          "height": 168
        },
        "id": "1lWp5LGafFar",
        "outputId": "7695841f-be26-49b7-8f30-ddac5aed69fe"
      },
      "outputs": [
        {
          "output_type": "stream",
          "name": "stderr",
          "text": [
            "<ipython-input-39-5ed26ebfc507>:1: FutureWarning: ['Symbol', 'Exchange', 'Name', 'Sector', 'Industry'] did not aggregate successfully. If any error is raised this will raise in a future version of pandas. Drop these columns/ops to avoid this warning.\n",
            "  listings_clean.agg([\"mean\", \"std\"])\n"
          ]
        },
        {
          "output_type": "execute_result",
          "data": {
            "text/plain": [
              "      Last_Price     Market_Cap  IPO_Year\n",
              "mean       36.79  7174440219.09   1987.14\n",
              "std        98.58 35254552925.59     20.89"
            ],
            "text/html": [
              "\n",
              "  <div id=\"df-18e91097-e085-42c9-b401-9e6ead58f048\">\n",
              "    <div class=\"colab-df-container\">\n",
              "      <div>\n",
              "<style scoped>\n",
              "    .dataframe tbody tr th:only-of-type {\n",
              "        vertical-align: middle;\n",
              "    }\n",
              "\n",
              "    .dataframe tbody tr th {\n",
              "        vertical-align: top;\n",
              "    }\n",
              "\n",
              "    .dataframe thead th {\n",
              "        text-align: right;\n",
              "    }\n",
              "</style>\n",
              "<table border=\"1\" class=\"dataframe\">\n",
              "  <thead>\n",
              "    <tr style=\"text-align: right;\">\n",
              "      <th></th>\n",
              "      <th>Last_Price</th>\n",
              "      <th>Market_Cap</th>\n",
              "      <th>IPO_Year</th>\n",
              "    </tr>\n",
              "  </thead>\n",
              "  <tbody>\n",
              "    <tr>\n",
              "      <th>mean</th>\n",
              "      <td>36.79</td>\n",
              "      <td>7174440219.09</td>\n",
              "      <td>1987.14</td>\n",
              "    </tr>\n",
              "    <tr>\n",
              "      <th>std</th>\n",
              "      <td>98.58</td>\n",
              "      <td>35254552925.59</td>\n",
              "      <td>20.89</td>\n",
              "    </tr>\n",
              "  </tbody>\n",
              "</table>\n",
              "</div>\n",
              "      <button class=\"colab-df-convert\" onclick=\"convertToInteractive('df-18e91097-e085-42c9-b401-9e6ead58f048')\"\n",
              "              title=\"Convert this dataframe to an interactive table.\"\n",
              "              style=\"display:none;\">\n",
              "        \n",
              "  <svg xmlns=\"http://www.w3.org/2000/svg\" height=\"24px\"viewBox=\"0 0 24 24\"\n",
              "       width=\"24px\">\n",
              "    <path d=\"M0 0h24v24H0V0z\" fill=\"none\"/>\n",
              "    <path d=\"M18.56 5.44l.94 2.06.94-2.06 2.06-.94-2.06-.94-.94-2.06-.94 2.06-2.06.94zm-11 1L8.5 8.5l.94-2.06 2.06-.94-2.06-.94L8.5 2.5l-.94 2.06-2.06.94zm10 10l.94 2.06.94-2.06 2.06-.94-2.06-.94-.94-2.06-.94 2.06-2.06.94z\"/><path d=\"M17.41 7.96l-1.37-1.37c-.4-.4-.92-.59-1.43-.59-.52 0-1.04.2-1.43.59L10.3 9.45l-7.72 7.72c-.78.78-.78 2.05 0 2.83L4 21.41c.39.39.9.59 1.41.59.51 0 1.02-.2 1.41-.59l7.78-7.78 2.81-2.81c.8-.78.8-2.07 0-2.86zM5.41 20L4 18.59l7.72-7.72 1.47 1.35L5.41 20z\"/>\n",
              "  </svg>\n",
              "      </button>\n",
              "      \n",
              "  <style>\n",
              "    .colab-df-container {\n",
              "      display:flex;\n",
              "      flex-wrap:wrap;\n",
              "      gap: 12px;\n",
              "    }\n",
              "\n",
              "    .colab-df-convert {\n",
              "      background-color: #E8F0FE;\n",
              "      border: none;\n",
              "      border-radius: 50%;\n",
              "      cursor: pointer;\n",
              "      display: none;\n",
              "      fill: #1967D2;\n",
              "      height: 32px;\n",
              "      padding: 0 0 0 0;\n",
              "      width: 32px;\n",
              "    }\n",
              "\n",
              "    .colab-df-convert:hover {\n",
              "      background-color: #E2EBFA;\n",
              "      box-shadow: 0px 1px 2px rgba(60, 64, 67, 0.3), 0px 1px 3px 1px rgba(60, 64, 67, 0.15);\n",
              "      fill: #174EA6;\n",
              "    }\n",
              "\n",
              "    [theme=dark] .colab-df-convert {\n",
              "      background-color: #3B4455;\n",
              "      fill: #D2E3FC;\n",
              "    }\n",
              "\n",
              "    [theme=dark] .colab-df-convert:hover {\n",
              "      background-color: #434B5C;\n",
              "      box-shadow: 0px 1px 3px 1px rgba(0, 0, 0, 0.15);\n",
              "      filter: drop-shadow(0px 1px 2px rgba(0, 0, 0, 0.3));\n",
              "      fill: #FFFFFF;\n",
              "    }\n",
              "  </style>\n",
              "\n",
              "      <script>\n",
              "        const buttonEl =\n",
              "          document.querySelector('#df-18e91097-e085-42c9-b401-9e6ead58f048 button.colab-df-convert');\n",
              "        buttonEl.style.display =\n",
              "          google.colab.kernel.accessAllowed ? 'block' : 'none';\n",
              "\n",
              "        async function convertToInteractive(key) {\n",
              "          const element = document.querySelector('#df-18e91097-e085-42c9-b401-9e6ead58f048');\n",
              "          const dataTable =\n",
              "            await google.colab.kernel.invokeFunction('convertToInteractive',\n",
              "                                                     [key], {});\n",
              "          if (!dataTable) return;\n",
              "\n",
              "          const docLinkHtml = 'Like what you see? Visit the ' +\n",
              "            '<a target=\"_blank\" href=https://colab.research.google.com/notebooks/data_table.ipynb>data table notebook</a>'\n",
              "            + ' to learn more about interactive tables.';\n",
              "          element.innerHTML = '';\n",
              "          dataTable['output_type'] = 'display_data';\n",
              "          await google.colab.output.renderOutput(dataTable, element);\n",
              "          const docLink = document.createElement('div');\n",
              "          docLink.innerHTML = docLinkHtml;\n",
              "          element.appendChild(docLink);\n",
              "        }\n",
              "      </script>\n",
              "    </div>\n",
              "  </div>\n",
              "  "
            ]
          },
          "metadata": {},
          "execution_count": 39
        }
      ],
      "source": [
        "listings_clean.agg([\"mean\", \"std\"])"
      ]
    },
    {
      "cell_type": "markdown",
      "metadata": {
        "id": "IVjJpS7XfFas"
      },
      "source": [
        "64. Get some summary statistics on all __non-numerical columns__ by passing __\"O\"__ to the __include parameter__ of the __describe()__ method! __Fill in the gaps!__ <br>\n",
        "What is the __most frequent__ value in the __Industry__ column?"
      ]
    },
    {
      "cell_type": "code",
      "execution_count": 40,
      "metadata": {
        "colab": {
          "base_uri": "https://localhost:8080/",
          "height": 175
        },
        "id": "AKNh1D5dfFas",
        "outputId": "b5d846c5-a7af-45e5-b3a8-807945afadeb"
      },
      "outputs": [
        {
          "output_type": "execute_result",
          "data": {
            "text/plain": [
              "       Symbol Exchange            Name   Sector               Industry\n",
              "count    6852     6852            6852     5309                   5309\n",
              "unique   6840        3            5766       12                    135\n",
              "top      CDOR   NASDAQ  Public Storage  Finance  Major Pharmaceuticals\n",
              "freq        2     3435              14     1059                    470"
            ],
            "text/html": [
              "\n",
              "  <div id=\"df-4c121c65-100f-40ca-bc96-07dd3b5708ab\">\n",
              "    <div class=\"colab-df-container\">\n",
              "      <div>\n",
              "<style scoped>\n",
              "    .dataframe tbody tr th:only-of-type {\n",
              "        vertical-align: middle;\n",
              "    }\n",
              "\n",
              "    .dataframe tbody tr th {\n",
              "        vertical-align: top;\n",
              "    }\n",
              "\n",
              "    .dataframe thead th {\n",
              "        text-align: right;\n",
              "    }\n",
              "</style>\n",
              "<table border=\"1\" class=\"dataframe\">\n",
              "  <thead>\n",
              "    <tr style=\"text-align: right;\">\n",
              "      <th></th>\n",
              "      <th>Symbol</th>\n",
              "      <th>Exchange</th>\n",
              "      <th>Name</th>\n",
              "      <th>Sector</th>\n",
              "      <th>Industry</th>\n",
              "    </tr>\n",
              "  </thead>\n",
              "  <tbody>\n",
              "    <tr>\n",
              "      <th>count</th>\n",
              "      <td>6852</td>\n",
              "      <td>6852</td>\n",
              "      <td>6852</td>\n",
              "      <td>5309</td>\n",
              "      <td>5309</td>\n",
              "    </tr>\n",
              "    <tr>\n",
              "      <th>unique</th>\n",
              "      <td>6840</td>\n",
              "      <td>3</td>\n",
              "      <td>5766</td>\n",
              "      <td>12</td>\n",
              "      <td>135</td>\n",
              "    </tr>\n",
              "    <tr>\n",
              "      <th>top</th>\n",
              "      <td>CDOR</td>\n",
              "      <td>NASDAQ</td>\n",
              "      <td>Public Storage</td>\n",
              "      <td>Finance</td>\n",
              "      <td>Major Pharmaceuticals</td>\n",
              "    </tr>\n",
              "    <tr>\n",
              "      <th>freq</th>\n",
              "      <td>2</td>\n",
              "      <td>3435</td>\n",
              "      <td>14</td>\n",
              "      <td>1059</td>\n",
              "      <td>470</td>\n",
              "    </tr>\n",
              "  </tbody>\n",
              "</table>\n",
              "</div>\n",
              "      <button class=\"colab-df-convert\" onclick=\"convertToInteractive('df-4c121c65-100f-40ca-bc96-07dd3b5708ab')\"\n",
              "              title=\"Convert this dataframe to an interactive table.\"\n",
              "              style=\"display:none;\">\n",
              "        \n",
              "  <svg xmlns=\"http://www.w3.org/2000/svg\" height=\"24px\"viewBox=\"0 0 24 24\"\n",
              "       width=\"24px\">\n",
              "    <path d=\"M0 0h24v24H0V0z\" fill=\"none\"/>\n",
              "    <path d=\"M18.56 5.44l.94 2.06.94-2.06 2.06-.94-2.06-.94-.94-2.06-.94 2.06-2.06.94zm-11 1L8.5 8.5l.94-2.06 2.06-.94-2.06-.94L8.5 2.5l-.94 2.06-2.06.94zm10 10l.94 2.06.94-2.06 2.06-.94-2.06-.94-.94-2.06-.94 2.06-2.06.94z\"/><path d=\"M17.41 7.96l-1.37-1.37c-.4-.4-.92-.59-1.43-.59-.52 0-1.04.2-1.43.59L10.3 9.45l-7.72 7.72c-.78.78-.78 2.05 0 2.83L4 21.41c.39.39.9.59 1.41.59.51 0 1.02-.2 1.41-.59l7.78-7.78 2.81-2.81c.8-.78.8-2.07 0-2.86zM5.41 20L4 18.59l7.72-7.72 1.47 1.35L5.41 20z\"/>\n",
              "  </svg>\n",
              "      </button>\n",
              "      \n",
              "  <style>\n",
              "    .colab-df-container {\n",
              "      display:flex;\n",
              "      flex-wrap:wrap;\n",
              "      gap: 12px;\n",
              "    }\n",
              "\n",
              "    .colab-df-convert {\n",
              "      background-color: #E8F0FE;\n",
              "      border: none;\n",
              "      border-radius: 50%;\n",
              "      cursor: pointer;\n",
              "      display: none;\n",
              "      fill: #1967D2;\n",
              "      height: 32px;\n",
              "      padding: 0 0 0 0;\n",
              "      width: 32px;\n",
              "    }\n",
              "\n",
              "    .colab-df-convert:hover {\n",
              "      background-color: #E2EBFA;\n",
              "      box-shadow: 0px 1px 2px rgba(60, 64, 67, 0.3), 0px 1px 3px 1px rgba(60, 64, 67, 0.15);\n",
              "      fill: #174EA6;\n",
              "    }\n",
              "\n",
              "    [theme=dark] .colab-df-convert {\n",
              "      background-color: #3B4455;\n",
              "      fill: #D2E3FC;\n",
              "    }\n",
              "\n",
              "    [theme=dark] .colab-df-convert:hover {\n",
              "      background-color: #434B5C;\n",
              "      box-shadow: 0px 1px 3px 1px rgba(0, 0, 0, 0.15);\n",
              "      filter: drop-shadow(0px 1px 2px rgba(0, 0, 0, 0.3));\n",
              "      fill: #FFFFFF;\n",
              "    }\n",
              "  </style>\n",
              "\n",
              "      <script>\n",
              "        const buttonEl =\n",
              "          document.querySelector('#df-4c121c65-100f-40ca-bc96-07dd3b5708ab button.colab-df-convert');\n",
              "        buttonEl.style.display =\n",
              "          google.colab.kernel.accessAllowed ? 'block' : 'none';\n",
              "\n",
              "        async function convertToInteractive(key) {\n",
              "          const element = document.querySelector('#df-4c121c65-100f-40ca-bc96-07dd3b5708ab');\n",
              "          const dataTable =\n",
              "            await google.colab.kernel.invokeFunction('convertToInteractive',\n",
              "                                                     [key], {});\n",
              "          if (!dataTable) return;\n",
              "\n",
              "          const docLinkHtml = 'Like what you see? Visit the ' +\n",
              "            '<a target=\"_blank\" href=https://colab.research.google.com/notebooks/data_table.ipynb>data table notebook</a>'\n",
              "            + ' to learn more about interactive tables.';\n",
              "          element.innerHTML = '';\n",
              "          dataTable['output_type'] = 'display_data';\n",
              "          await google.colab.output.renderOutput(dataTable, element);\n",
              "          const docLink = document.createElement('div');\n",
              "          docLink.innerHTML = docLinkHtml;\n",
              "          element.appendChild(docLink);\n",
              "        }\n",
              "      </script>\n",
              "    </div>\n",
              "  </div>\n",
              "  "
            ]
          },
          "metadata": {},
          "execution_count": 40
        }
      ],
      "source": [
        "listings_clean.describe(include = \"O\")"
      ]
    },
    {
      "cell_type": "markdown",
      "metadata": {
        "id": "HecuECejfFas"
      },
      "source": [
        "The most frequent Industry is ... Major Pharmaceuticals with 470 appearances."
      ]
    },
    {
      "cell_type": "markdown",
      "metadata": {
        "id": "KLX8nswxfFat"
      },
      "source": [
        "65. Get the __maximum__ values for all columns! Which is the (alphabetically) __last Symbol__?"
      ]
    },
    {
      "cell_type": "code",
      "execution_count": 41,
      "metadata": {
        "colab": {
          "base_uri": "https://localhost:8080/"
        },
        "id": "-g3Rtm1vfFau",
        "outputId": "72f83e56-2128-4c05-aeeb-e74a9f1f483a"
      },
      "outputs": [
        {
          "output_type": "stream",
          "name": "stderr",
          "text": [
            "<ipython-input-41-acd42b5cf42a>:1: FutureWarning: The default value of numeric_only in DataFrame.max is deprecated. In a future version, it will default to False. In addition, specifying 'numeric_only=None' is deprecated. Select only valid columns or specify the value of numeric_only to silence this warning.\n",
            "  listings_clean.max()\n"
          ]
        },
        {
          "output_type": "execute_result",
          "data": {
            "text/plain": [
              "Symbol                  ZYXI\n",
              "Exchange                NYSE\n",
              "Name             voxeljet AG\n",
              "Last_Price           4299.99\n",
              "Market_Cap   945979473600.00\n",
              "IPO_Year                2019\n",
              "dtype: object"
            ]
          },
          "metadata": {},
          "execution_count": 41
        }
      ],
      "source": [
        "listings_clean.max()"
      ]
    },
    {
      "cell_type": "markdown",
      "metadata": {
        "id": "5B3hP7rIfFau"
      },
      "source": [
        "The (alphabetically) last Symbol is ... ZYXI!"
      ]
    },
    {
      "cell_type": "markdown",
      "metadata": {
        "id": "kpvUYiJLfFav"
      },
      "source": [
        "66. __Calculate__ the __total Market_Cap__ over all listings."
      ]
    },
    {
      "cell_type": "code",
      "execution_count": 42,
      "metadata": {
        "colab": {
          "base_uri": "https://localhost:8080/"
        },
        "id": "3dL09bHQfFav",
        "outputId": "7997195a-b0e3-4e52-af3c-cd25fe3af40a"
      },
      "outputs": [
        {
          "output_type": "execute_result",
          "data": {
            "text/plain": [
              "42716617064473.484"
            ]
          },
          "metadata": {},
          "execution_count": 42
        }
      ],
      "source": [
        "listings_clean.Market_Cap.sum()"
      ]
    },
    {
      "cell_type": "markdown",
      "metadata": {
        "id": "JDxgFNXZfFaw"
      },
      "source": [
        "67. Create a __correlation matrix__ for the __listings_clean__ DataFrame! Are Market_Cap and Last_Price __positively correlated__?"
      ]
    },
    {
      "cell_type": "code",
      "execution_count": 43,
      "metadata": {
        "colab": {
          "base_uri": "https://localhost:8080/",
          "height": 199
        },
        "id": "7AS5kwV9fFaw",
        "outputId": "a730ab90-b560-49c7-f0c1-99fbcca2cd54"
      },
      "outputs": [
        {
          "output_type": "stream",
          "name": "stderr",
          "text": [
            "<ipython-input-43-257041b11356>:1: FutureWarning: The default value of numeric_only in DataFrame.corr is deprecated. In a future version, it will default to False. Select only valid columns or specify the value of numeric_only to silence this warning.\n",
            "  listings_clean.corr()\n"
          ]
        },
        {
          "output_type": "execute_result",
          "data": {
            "text/plain": [
              "            Last_Price  Market_Cap  IPO_Year\n",
              "Last_Price        1.00        0.31     -0.06\n",
              "Market_Cap        0.31        1.00     -0.07\n",
              "IPO_Year         -0.06       -0.07      1.00"
            ],
            "text/html": [
              "\n",
              "  <div id=\"df-592ddc89-9d32-44ee-ac92-dbb31d0b826d\">\n",
              "    <div class=\"colab-df-container\">\n",
              "      <div>\n",
              "<style scoped>\n",
              "    .dataframe tbody tr th:only-of-type {\n",
              "        vertical-align: middle;\n",
              "    }\n",
              "\n",
              "    .dataframe tbody tr th {\n",
              "        vertical-align: top;\n",
              "    }\n",
              "\n",
              "    .dataframe thead th {\n",
              "        text-align: right;\n",
              "    }\n",
              "</style>\n",
              "<table border=\"1\" class=\"dataframe\">\n",
              "  <thead>\n",
              "    <tr style=\"text-align: right;\">\n",
              "      <th></th>\n",
              "      <th>Last_Price</th>\n",
              "      <th>Market_Cap</th>\n",
              "      <th>IPO_Year</th>\n",
              "    </tr>\n",
              "  </thead>\n",
              "  <tbody>\n",
              "    <tr>\n",
              "      <th>Last_Price</th>\n",
              "      <td>1.00</td>\n",
              "      <td>0.31</td>\n",
              "      <td>-0.06</td>\n",
              "    </tr>\n",
              "    <tr>\n",
              "      <th>Market_Cap</th>\n",
              "      <td>0.31</td>\n",
              "      <td>1.00</td>\n",
              "      <td>-0.07</td>\n",
              "    </tr>\n",
              "    <tr>\n",
              "      <th>IPO_Year</th>\n",
              "      <td>-0.06</td>\n",
              "      <td>-0.07</td>\n",
              "      <td>1.00</td>\n",
              "    </tr>\n",
              "  </tbody>\n",
              "</table>\n",
              "</div>\n",
              "      <button class=\"colab-df-convert\" onclick=\"convertToInteractive('df-592ddc89-9d32-44ee-ac92-dbb31d0b826d')\"\n",
              "              title=\"Convert this dataframe to an interactive table.\"\n",
              "              style=\"display:none;\">\n",
              "        \n",
              "  <svg xmlns=\"http://www.w3.org/2000/svg\" height=\"24px\"viewBox=\"0 0 24 24\"\n",
              "       width=\"24px\">\n",
              "    <path d=\"M0 0h24v24H0V0z\" fill=\"none\"/>\n",
              "    <path d=\"M18.56 5.44l.94 2.06.94-2.06 2.06-.94-2.06-.94-.94-2.06-.94 2.06-2.06.94zm-11 1L8.5 8.5l.94-2.06 2.06-.94-2.06-.94L8.5 2.5l-.94 2.06-2.06.94zm10 10l.94 2.06.94-2.06 2.06-.94-2.06-.94-.94-2.06-.94 2.06-2.06.94z\"/><path d=\"M17.41 7.96l-1.37-1.37c-.4-.4-.92-.59-1.43-.59-.52 0-1.04.2-1.43.59L10.3 9.45l-7.72 7.72c-.78.78-.78 2.05 0 2.83L4 21.41c.39.39.9.59 1.41.59.51 0 1.02-.2 1.41-.59l7.78-7.78 2.81-2.81c.8-.78.8-2.07 0-2.86zM5.41 20L4 18.59l7.72-7.72 1.47 1.35L5.41 20z\"/>\n",
              "  </svg>\n",
              "      </button>\n",
              "      \n",
              "  <style>\n",
              "    .colab-df-container {\n",
              "      display:flex;\n",
              "      flex-wrap:wrap;\n",
              "      gap: 12px;\n",
              "    }\n",
              "\n",
              "    .colab-df-convert {\n",
              "      background-color: #E8F0FE;\n",
              "      border: none;\n",
              "      border-radius: 50%;\n",
              "      cursor: pointer;\n",
              "      display: none;\n",
              "      fill: #1967D2;\n",
              "      height: 32px;\n",
              "      padding: 0 0 0 0;\n",
              "      width: 32px;\n",
              "    }\n",
              "\n",
              "    .colab-df-convert:hover {\n",
              "      background-color: #E2EBFA;\n",
              "      box-shadow: 0px 1px 2px rgba(60, 64, 67, 0.3), 0px 1px 3px 1px rgba(60, 64, 67, 0.15);\n",
              "      fill: #174EA6;\n",
              "    }\n",
              "\n",
              "    [theme=dark] .colab-df-convert {\n",
              "      background-color: #3B4455;\n",
              "      fill: #D2E3FC;\n",
              "    }\n",
              "\n",
              "    [theme=dark] .colab-df-convert:hover {\n",
              "      background-color: #434B5C;\n",
              "      box-shadow: 0px 1px 3px 1px rgba(0, 0, 0, 0.15);\n",
              "      filter: drop-shadow(0px 1px 2px rgba(0, 0, 0, 0.3));\n",
              "      fill: #FFFFFF;\n",
              "    }\n",
              "  </style>\n",
              "\n",
              "      <script>\n",
              "        const buttonEl =\n",
              "          document.querySelector('#df-592ddc89-9d32-44ee-ac92-dbb31d0b826d button.colab-df-convert');\n",
              "        buttonEl.style.display =\n",
              "          google.colab.kernel.accessAllowed ? 'block' : 'none';\n",
              "\n",
              "        async function convertToInteractive(key) {\n",
              "          const element = document.querySelector('#df-592ddc89-9d32-44ee-ac92-dbb31d0b826d');\n",
              "          const dataTable =\n",
              "            await google.colab.kernel.invokeFunction('convertToInteractive',\n",
              "                                                     [key], {});\n",
              "          if (!dataTable) return;\n",
              "\n",
              "          const docLinkHtml = 'Like what you see? Visit the ' +\n",
              "            '<a target=\"_blank\" href=https://colab.research.google.com/notebooks/data_table.ipynb>data table notebook</a>'\n",
              "            + ' to learn more about interactive tables.';\n",
              "          element.innerHTML = '';\n",
              "          dataTable['output_type'] = 'display_data';\n",
              "          await google.colab.output.renderOutput(dataTable, element);\n",
              "          const docLink = document.createElement('div');\n",
              "          docLink.innerHTML = docLinkHtml;\n",
              "          element.appendChild(docLink);\n",
              "        }\n",
              "      </script>\n",
              "    </div>\n",
              "  </div>\n",
              "  "
            ]
          },
          "metadata": {},
          "execution_count": 43
        }
      ],
      "source": [
        "listings_clean.corr()"
      ]
    },
    {
      "cell_type": "markdown",
      "metadata": {
        "id": "TzP_VbKyfFax"
      },
      "source": [
        "Market_Cap and Last_Price are ... positively correlated.The higher the Price, the higher the Market Capitalization."
      ]
    },
    {
      "cell_type": "markdown",
      "metadata": {
        "id": "cprHMfe5fFay"
      },
      "source": [
        "# Well Done!"
      ]
    },
    {
      "cell_type": "markdown",
      "metadata": {
        "id": "Q21bp4j7fFay"
      },
      "source": [
        "------------------------------"
      ]
    },
    {
      "cell_type": "markdown",
      "metadata": {
        "id": "w-Il8gIhfFaz"
      },
      "source": [
        "# Hints (Spoiler!)"
      ]
    },
    {
      "cell_type": "markdown",
      "metadata": {
        "id": "7cEeS01MfFaz"
      },
      "source": [
        "51. isna() method, sum() method"
      ]
    },
    {
      "cell_type": "markdown",
      "metadata": {
        "id": "_s0B2EplfFaz"
      },
      "source": [
        "52. notna() method, sum() method"
      ]
    },
    {
      "cell_type": "markdown",
      "metadata": {
        "id": "iP0wnGNbfFaz"
      },
      "source": [
        "53. dropna(axis = 0) method and shape attribute"
      ]
    },
    {
      "cell_type": "markdown",
      "metadata": {
        "id": "vwVBTIwGfFa0"
      },
      "source": [
        "54. dropna(axis = 1) method and shape attribute"
      ]
    },
    {
      "cell_type": "markdown",
      "metadata": {
        "id": "bevT-vGLfFa0"
      },
      "source": [
        "55. dropna() method, thresh parameter"
      ]
    },
    {
      "cell_type": "markdown",
      "metadata": {
        "id": "L_PCJV5OfFa0"
      },
      "source": [
        "56. pass listings.Last_Price.isna() to the loc operator"
      ]
    },
    {
      "cell_type": "markdown",
      "metadata": {
        "id": "HJICbWWCfFa0"
      },
      "source": [
        "57. fillna() method"
      ]
    },
    {
      "cell_type": "markdown",
      "metadata": {
        "id": "fXVrn4S7fFa0"
      },
      "source": [
        "58. pass listings.IPO_Year.notna() to the loc operator"
      ]
    },
    {
      "cell_type": "markdown",
      "metadata": {
        "id": "cxy6PtJ3fFa1"
      },
      "source": [
        "59. fillna() method"
      ]
    },
    {
      "cell_type": "markdown",
      "metadata": {
        "id": "VGvd_vt7fFa1"
      },
      "source": [
        "60. run the cell!"
      ]
    },
    {
      "cell_type": "markdown",
      "metadata": {
        "id": "lGeKtRFKfFa2"
      },
      "source": [
        "61. to_csv() method"
      ]
    },
    {
      "cell_type": "markdown",
      "metadata": {
        "id": "MfpQGSHbfFa2"
      },
      "source": [
        "62. You should know this already!"
      ]
    },
    {
      "cell_type": "markdown",
      "metadata": {
        "id": "DkwDlCzcfFa2"
      },
      "source": [
        "63. describe() method"
      ]
    },
    {
      "cell_type": "markdown",
      "metadata": {
        "id": "7WvjyS8sfFa2"
      },
      "source": [
        "63a. agg() method, pass list with \"mean\" and \"std\""
      ]
    },
    {
      "cell_type": "markdown",
      "metadata": {
        "id": "z6zQSEs1fFa2"
      },
      "source": [
        "64. describe() method and include parameter"
      ]
    },
    {
      "cell_type": "markdown",
      "metadata": {
        "id": "t7sqoBkxfFa3"
      },
      "source": [
        "65. max() method"
      ]
    },
    {
      "cell_type": "markdown",
      "metadata": {
        "id": "wC8m7mHQfFa3"
      },
      "source": [
        "66. sum() method"
      ]
    },
    {
      "cell_type": "markdown",
      "metadata": {
        "id": "djBPPMK6fFa3"
      },
      "source": [
        "67. corr() method"
      ]
    },
    {
      "cell_type": "code",
      "execution_count": null,
      "metadata": {
        "id": "DyH0rnI3fFa3"
      },
      "outputs": [],
      "source": []
    }
  ],
  "metadata": {
    "kernelspec": {
      "display_name": "Python 3",
      "language": "python",
      "name": "python3"
    },
    "language_info": {
      "codemirror_mode": {
        "name": "ipython",
        "version": 3
      },
      "file_extension": ".py",
      "mimetype": "text/x-python",
      "name": "python",
      "nbconvert_exporter": "python",
      "pygments_lexer": "ipython3",
      "version": "3.7.3"
    },
    "colab": {
      "provenance": [],
      "include_colab_link": true
    }
  },
  "nbformat": 4,
  "nbformat_minor": 0
}