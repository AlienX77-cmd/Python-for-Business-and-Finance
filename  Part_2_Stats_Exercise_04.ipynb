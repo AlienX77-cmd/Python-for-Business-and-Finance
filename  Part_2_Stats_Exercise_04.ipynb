{
  "cells": [
    {
      "cell_type": "markdown",
      "metadata": {
        "id": "view-in-github",
        "colab_type": "text"
      },
      "source": [
        "<a href=\"https://colab.research.google.com/github/AlienX77-cmd/Python-for-Business-and-Finance/blob/main/%20Part_2_Stats_Exercise_04.ipynb\" target=\"_parent\"><img src=\"https://colab.research.google.com/assets/colab-badge.svg\" alt=\"Open In Colab\"/></a>"
      ]
    },
    {
      "cell_type": "markdown",
      "metadata": {
        "id": "jhlh6eeolrB4"
      },
      "source": [
        "# Coding Exercises (Part 2)"
      ]
    },
    {
      "cell_type": "markdown",
      "metadata": {
        "id": "gBNi4EetlrB7"
      },
      "source": [
        "Now, you will have the opportunity to practice what you have learned. <br>\n",
        "__Follow the instructions__ and insert your code! "
      ]
    },
    {
      "cell_type": "markdown",
      "metadata": {
        "id": "JPgZttvFlrB-"
      },
      "source": [
        "The correct answer is provided below your coding cell. There you can check whether your code is correct."
      ]
    },
    {
      "cell_type": "markdown",
      "metadata": {
        "id": "PITAth-plrB_"
      },
      "source": [
        "If you need some help or if you want to check your code, you can also have a look at the __solutions__."
      ]
    },
    {
      "cell_type": "markdown",
      "metadata": {
        "id": "1DLU6ssklrCA"
      },
      "source": [
        "### Have Fun!"
      ]
    },
    {
      "cell_type": "markdown",
      "metadata": {
        "id": "JUmzVIN0lrCA"
      },
      "source": [
        "--------------------------------------------------------------------------------------------------------------"
      ]
    },
    {
      "cell_type": "markdown",
      "metadata": {
        "id": "x86zL6NIlrCB"
      },
      "source": [
        "## Exercise 4: Hypothesis Testing"
      ]
    },
    {
      "cell_type": "markdown",
      "metadata": {
        "id": "YUsqbOaolrCC"
      },
      "source": [
        "You have a random sample (drawn from S&P 500) with 50 stocks/companies and their annual returns for the year 2018 (__sample size = 50__)"
      ]
    },
    {
      "cell_type": "markdown",
      "metadata": {
        "id": "zxXfC_ghlrCD"
      },
      "source": [
        "1. Import the sample. "
      ]
    },
    {
      "cell_type": "code",
      "execution_count": 7,
      "metadata": {
        "id": "ePQH088ylrCE"
      },
      "outputs": [],
      "source": [
        "# run the cell\n",
        "import numpy as np\n",
        "import scipy.stats as stats\n",
        "np.set_printoptions(precision=4, suppress= True)"
      ]
    },
    {
      "cell_type": "code",
      "execution_count": 8,
      "metadata": {
        "scrolled": true,
        "colab": {
          "base_uri": "https://localhost:8080/"
        },
        "id": "ox-9_2KVlrCF",
        "outputId": "94ed8f35-46eb-47d0-e5d1-c7e764543793"
      },
      "outputs": [
        {
          "output_type": "execute_result",
          "data": {
            "text/plain": [
              "array([ -3.189 ,  -0.7402, -10.0045,  -0.6494,  -6.7991, -10.3929,\n",
              "       -19.4511, -21.3489, -23.8865, -24.194 ,  19.9705,  -2.8071,\n",
              "        -7.9205,   2.8771, -42.3216,   1.7465, -54.1992, -20.5551,\n",
              "        -0.0258,  36.4959, -22.8224, -57.5208, -10.6338,  -9.1523,\n",
              "         9.707 , -21.1643, -23.9187,   7.2802, -45.8564,  33.4487,\n",
              "         0.0822,  -7.8966, -27.5657,   9.678 , -15.3846,  35.2119,\n",
              "         7.1421,  17.2502,  73.3463,  35.6039,  18.6085,  27.3282,\n",
              "        -0.8907,   4.4209, -27.6435, -18.8478,  10.0865,  22.4127,\n",
              "        -6.1347, -20.2881])"
            ]
          },
          "metadata": {},
          "execution_count": 8
        }
      ],
      "source": [
        "# run the cell\n",
        "sample = np.loadtxt(\"sample_2018.csv\", delimiter = \",\", usecols = 1)\n",
        "sample"
      ]
    },
    {
      "cell_type": "code",
      "execution_count": 8,
      "metadata": {
        "id": "f6glQ3HHlrCG"
      },
      "outputs": [],
      "source": []
    },
    {
      "cell_type": "markdown",
      "metadata": {
        "id": "9nViZqs2lrCG"
      },
      "source": [
        "2. Test on a __10% level of significance__, whether the (equally-weighted) mean return for the whole S&P 500 population for the year 2018 is __equal to 0%__ or not. Formulate H0 and Ha and calculate the __t-statistic__ and the __p-value__ of your test."
      ]
    },
    {
      "cell_type": "markdown",
      "metadata": {
        "id": "vd44U2jHlrCH"
      },
      "source": []
    },
    {
      "cell_type": "code",
      "execution_count": 29,
      "metadata": {
        "colab": {
          "base_uri": "https://localhost:8080/"
        },
        "id": "XrtNR3XflrCH",
        "outputId": "8eb330c9-79cb-46ea-8a99-6bd03146308a"
      },
      "outputs": [
        {
          "output_type": "execute_result",
          "data": {
            "text/plain": [
              "TtestResult(statistic=-1.1023818747645209, pvalue=0.27568087004548397, df=49)"
            ]
          },
          "metadata": {},
          "execution_count": 29
        }
      ],
      "source": [
        "#H0: mean return == 0%\n",
        "#Ha: mean return != 0%\n",
        "H0 = 0\n",
        "stats.ttest_1samp(sample, H0)"
      ]
    },
    {
      "cell_type": "code",
      "execution_count": 8,
      "metadata": {
        "id": "cQ9uVqvulrCH"
      },
      "outputs": [],
      "source": []
    },
    {
      "cell_type": "markdown",
      "metadata": {
        "id": "9WLqvIHxlrCH"
      },
      "source": [
        "(result: Ttest_1sampResult(statistic=-1.1023818747645209, pvalue=0.27568087004548397)"
      ]
    },
    {
      "cell_type": "code",
      "execution_count": 8,
      "metadata": {
        "id": "WMohlM-ClrCI"
      },
      "outputs": [],
      "source": []
    },
    {
      "cell_type": "markdown",
      "metadata": {
        "id": "LSbaCrInlrCI"
      },
      "source": [
        "3. Can you __reject H0__ (and conclude that the true mean is significantly different from 0%)?"
      ]
    },
    {
      "cell_type": "code",
      "execution_count": 30,
      "metadata": {
        "id": "hR9jDGH-lrCI"
      },
      "outputs": [],
      "source": [
        "conf = 0.9"
      ]
    },
    {
      "cell_type": "code",
      "execution_count": 31,
      "metadata": {
        "id": "G0YWMO6zlrCI"
      },
      "outputs": [],
      "source": [
        "t_stat, p_value = stats.ttest_1samp(sample, H0)"
      ]
    },
    {
      "cell_type": "code",
      "execution_count": 32,
      "metadata": {
        "colab": {
          "base_uri": "https://localhost:8080/"
        },
        "id": "GabN9YHalrCI",
        "outputId": "f1a4aded-fd0b-446e-bf8e-4633855ab09c"
      },
      "outputs": [
        {
          "output_type": "execute_result",
          "data": {
            "text/plain": [
              "(-1.1023818747645209, 0.27568087004548397)"
            ]
          },
          "metadata": {},
          "execution_count": 32
        }
      ],
      "source": [
        "t_stat, p_value"
      ]
    },
    {
      "cell_type": "code",
      "execution_count": 33,
      "metadata": {
        "colab": {
          "base_uri": "https://localhost:8080/"
        },
        "id": "pJzHq2fQlrCJ",
        "outputId": "18649cc1-5eed-4e4d-e323-95c2b563c28b"
      },
      "outputs": [
        {
          "output_type": "execute_result",
          "data": {
            "text/plain": [
              "False"
            ]
          },
          "metadata": {},
          "execution_count": 33
        }
      ],
      "source": [
        "p_value < 1-conf"
      ]
    },
    {
      "cell_type": "markdown",
      "metadata": {
        "id": "7BPe_lNFlrCJ"
      },
      "source": [
        "4. Test on a __5% level of significance__, whether the (equally-weighted) mean return for the whole S&P 500 population for the year 2018 is __equal to or greater than 5%__ (H0). Can you conclude that the mean return is lower than 5% (Ha)?"
      ]
    },
    {
      "cell_type": "code",
      "execution_count": 34,
      "metadata": {
        "id": "Kc1g8ZG_lrCL"
      },
      "outputs": [],
      "source": [
        "#run the cell!\n",
        "H0 = 5"
      ]
    },
    {
      "cell_type": "code",
      "execution_count": 35,
      "metadata": {
        "id": "l0BhQ0uylrCL"
      },
      "outputs": [],
      "source": [
        "t_stat, p_value = stats.ttest_1samp(sample, H0)"
      ]
    },
    {
      "cell_type": "code",
      "execution_count": 36,
      "metadata": {
        "colab": {
          "base_uri": "https://localhost:8080/"
        },
        "id": "FMnEEOR9lrCL",
        "outputId": "1e84f2b4-ce63-4542-c723-3d2041c211ad"
      },
      "outputs": [
        {
          "output_type": "execute_result",
          "data": {
            "text/plain": [
              "(-2.5414652019770783, 0.01425369761073307)"
            ]
          },
          "metadata": {},
          "execution_count": 36
        }
      ],
      "source": [
        "t_stat, p_value"
      ]
    },
    {
      "cell_type": "code",
      "execution_count": 37,
      "metadata": {
        "colab": {
          "base_uri": "https://localhost:8080/"
        },
        "id": "PS9lXZIrlrCL",
        "outputId": "28154479-c081-41a5-eb30-6b76ed299468"
      },
      "outputs": [
        {
          "output_type": "execute_result",
          "data": {
            "text/plain": [
              "0.007126848805366535"
            ]
          },
          "metadata": {},
          "execution_count": 37
        }
      ],
      "source": [
        "p_value = p_value / 2\n",
        "p_value"
      ]
    },
    {
      "cell_type": "code",
      "execution_count": 38,
      "metadata": {
        "colab": {
          "base_uri": "https://localhost:8080/"
        },
        "id": "CgA8hWselrCL",
        "outputId": "732bfb4b-07f0-499d-830c-2857bb8ace78"
      },
      "outputs": [
        {
          "output_type": "execute_result",
          "data": {
            "text/plain": [
              "True"
            ]
          },
          "metadata": {},
          "execution_count": 38
        }
      ],
      "source": [
        "conf = 0.95\n",
        "p_value < 1-conf"
      ]
    },
    {
      "cell_type": "markdown",
      "metadata": {
        "id": "BG3JIsVhlrCM"
      },
      "source": [
        "(result: pvalue = 0.007126848805366535, reject H0)"
      ]
    },
    {
      "cell_type": "code",
      "execution_count": 9,
      "metadata": {
        "id": "dMLYppiElrCM"
      },
      "outputs": [],
      "source": []
    },
    {
      "cell_type": "markdown",
      "metadata": {
        "id": "3VHzX1-dlrCX"
      },
      "source": [
        "5. Import the full __S&P 500 population__ (annual returns) for the year 2018."
      ]
    },
    {
      "cell_type": "code",
      "execution_count": 10,
      "metadata": {
        "scrolled": true,
        "colab": {
          "base_uri": "https://localhost:8080/"
        },
        "id": "ghvcAqIFlrCY",
        "outputId": "e4306325-12c3-4e26-8be9-0f96093a4df9"
      },
      "outputs": [
        {
          "output_type": "execute_result",
          "data": {
            "text/plain": [
              "array([ -1.5081, -38.8238,  55.9434,  -7.6819,  -5.7802, -19.4511,\n",
              "        69.7722,  24.5663,  -8.6681,  27.3282,  -4.0099,   1.7465,\n",
              "        10.2739, -40.8947,  21.3679,  10.0865,   1.5767,  31.7636,\n",
              "         2.4151, -18.8165, -35.1796,  -0.5262, -12.5744,  14.6018,\n",
              "        -6.1347, -39.9953,  -6.2559, -17.9567, -21.6694,  -1.2695,\n",
              "       -18.7139, -36.6588, -21.1864,  73.3463,  -7.9205, -53.2229,\n",
              "         9.678 , -39.1338,  11.3268,  26.3837, -12.6581,  -3.1167,\n",
              "        15.1415,   7.2388, -30.3198, -37.6125,  -2.06  ,  -8.3485,\n",
              "       -27.6435, -12.7498, -38.4954,   6.7179, -26.0897,  -3.2173,\n",
              "        -1.2884, -22.6624,  -1.6067,  -4.924 ,  17.9428,   7.2802,\n",
              "       -17.378 ,   0.8818, -13.6163, -25.0183,   3.7046, -32.6794,\n",
              "       -13.6877, -32.2377,  -7.8633, -13.3866,  -1.2608, -24.4262,\n",
              "        18.362 , -16.8734,   5.0232,   1.9473,  39.8548, -32.4525,\n",
              "       -13.9199, -30.3454, -43.7749, -27.2401, -20.2881, -12.5368,\n",
              "       -22.7787,  -7.8966, -26.4237,  -2.6034, -26.6536,   3.6346,\n",
              "        14.7647, -16.427 , -40.1782, -22.8224,  -0.3996, -29.5617,\n",
              "        31.0544,  -6.6001, -15.1447,  -6.1254,   2.1875, -20.9808,\n",
              "         2.9447, -21.8062, -14.2322,  27.429 ,  46.7633, -25.4642,\n",
              "         4.3763,  11.816 ,  -1.2694, -25.0251, -19.7552,  14.5814,\n",
              "        12.352 ,   8.5536, -67.3705, -30.4926, -40.9373,  10.0255,\n",
              "        31.7422,  11.671 ,  12.8522,   7.1103,  -8.4532, -11.3912,\n",
              "        15.6818, -10.0828, -13.2119, -32.2261,  -9.6225, -10.3929,\n",
              "       -25.5598,  -7.1753, -24.194 ,  15.1167, -16.7327, -32.2694,\n",
              "         9.707 ,  -0.1953,  10.0983,   7.8413, -47.7277,  -6.8745,\n",
              "       -18.2462, -14.4398,  -6.0639,   2.4162,   0.5938,   2.3897,\n",
              "       -30.2837, -45.7488, -35.4976, -24.5193, -25.1722,   7.5943,\n",
              "        -9.9706, -21.2517,  -9.5035,   1.0374, -21.956 , -15.1528,\n",
              "       -18.8954, -22.146 ,   3.8733,   2.3583,   1.9431, -12.1848,\n",
              "       -13.6312,   5.0375,   7.0644,  33.4487,  13.5245,   2.6125,\n",
              "        -5.4104,   2.8702, -37.47  , -27.2158,  -4.7915, -24.5155,\n",
              "       -45.0321, -44.7785, -36.2908,  21.6852,  22.4127,   7.1421,\n",
              "        11.2704, -22.973 ,  -8.5371, -10.6338,  -4.6458, -22.6431,\n",
              "         1.5005,  -9.3969, -37.1766,  60.9979,  -7.8093, -23.6569,\n",
              "       -56.9726, -13.6237, -34.6264, -18.5867,  -7.0022, -17.2481,\n",
              "        -0.8907,  -0.6379,   0.5263,   2.2945, -24.7798,   5.4558,\n",
              "       -36.0064,  19.1407, -45.8564, -10.7383, -18.3379, -41.7025,\n",
              "        39.4695,   6.9018, -10.1884, -14.9357,  -0.2538, -22.2281,\n",
              "       -20.1655, -11.157 , -33.2547,  -5.3801, -11.0416, -26.3304,\n",
              "        -9.2618,  -3.189 ,  -3.7757,  16.4331,  11.4943, -15.9698,\n",
              "        -6.3519,  13.7905, -26.3264,   5.513 ,  18.8643,  -5.918 ,\n",
              "       -13.3543,  36.4959, -34.2414,   4.8062,   1.2782,  24.1285,\n",
              "       -31.291 ,   1.3393, -46.2943,  16.3534,   2.0966, -14.1532,\n",
              "        29.1171,   2.0788, -25.2502, -54.7072, -18.9163, -22.3039,\n",
              "       -12.7047, -34.2339,   7.1135,  -8.9107,  -6.1404,  -9.4539,\n",
              "        -2.8071, -15.7841, -27.5657,  44.5433, -43.9686, -17.3554,\n",
              "       -15.6467,  -6.1744, -15.3846,  -2.5573,   2.8771,   0.4736,\n",
              "        19.9705,  -9.1523, -10.2339, -57.7217, -18.8478, -24.9738,\n",
              "       -37.6502, -21.9422,  -7.3915,   1.0538, -41.0868,  35.2119,\n",
              "       -18.6233, -33.6542,  -1.3142,  -1.1513, -26.4302, -28.5561,\n",
              "        30.3986, -25.3263,  19.1743,  22.9915,  -5.4196, -34.3179,\n",
              "       -20.9902, -34.2285,   1.9986, -18.4797, -29.4389,  -5.5958,\n",
              "        -6.7991,  10.5387, -19.6598, -28.9308, -57.5208,  36.4047,\n",
              "         2.8748, -23.9187,  -3.0962, -19.5437, -22.5154, -31.5362,\n",
              "        12.3149, -11.7308,  33.9435, -16.834 , -24.9666,  14.9044,\n",
              "        17.3603,  24.2528, -17.4045, -10.0045, -23.2247,  -4.1125,\n",
              "       -35.5472, -36.7536, -21.1643,   4.8158,  10.5833,  -8.129 ,\n",
              "        33.4028,  -0.7402,  17.2502, -43.704 , -36.0989, -21.0681,\n",
              "       -28.4564,  35.6039,   2.1463,   6.8149, -17.1389, -18.3706,\n",
              "       -30.9302, -40.5178, -30.9639, -30.5984,  11.1014,  -0.8793,\n",
              "        -0.7003,  -5.203 ,  42.2217, -17.9066,  -5.0088, -23.5829,\n",
              "       -19.682 ,  -0.3301,  -7.972 ,  18.6085, -38.2653,  -0.7619,\n",
              "         5.9126, -25.719 , -21.6842, -31.713 ,   5.703 ,  -9.3319,\n",
              "       -36.3275, -20.043 , -21.3367,   0.0822, -13.3453,  -8.4006,\n",
              "       -54.1992, -29.7443,  -3.3971, -16.0059, -32.7017, -23.2421,\n",
              "       -24.4952,  13.0943, -11.2621,  -8.7237, -19.4836,  -2.3637,\n",
              "       -15.4814,  -3.5482, -22.7431,   1.5484, -17.3908,  -1.842 ,\n",
              "        32.2942, -24.1558,  14.9903,   1.861 ,   1.6573,   6.3896,\n",
              "       -18.5946,  -0.5326,  10.3779, -20.0701, -30.6085,  -4.9898,\n",
              "       -18.7578, -24.4124, -45.6893, -20.9056, -17.2404,  -1.8771,\n",
              "        -8.6089,  -2.1195,  -0.6494,   0.3273, -22.9292, -34.9657,\n",
              "        -8.3413, -28.7483, -29.9723, -29.2048, -39.1349,  -0.0258,\n",
              "       -33.856 ,   2.5523, -26.8004, -31.8387,  22.0887, -21.3489,\n",
              "         2.2828,  -0.4444, -23.8865,  14.5959,  17.1529,  -0.4251,\n",
              "       -23.5587,  55.3976, -12.9515, -12.8281,  11.3177, -35.4385,\n",
              "        -4.7459,  18.409 , -10.1781, -19.332 ,  20.045 ,  21.4137,\n",
              "        23.3976,   2.2066,   2.5143,   7.0598,  11.6937, -47.1671,\n",
              "         1.9985, -18.9845, -40.9575, -15.6215, -17.4257,  14.8395,\n",
              "         0.7557,  -4.6355, -15.9688, -20.0522, -24.3826, -20.5551,\n",
              "        12.5625,  28.3467,   7.7139,  -1.0832,   4.4209, -15.8664,\n",
              "        -4.3636,  -6.293 ,  15.3299, -53.8036,   3.8838,   8.7816,\n",
              "       -24.5426, -36.3911,   0.1593,   1.9119, -29.5507,  -6.7038,\n",
              "       -41.0378, -10.363 , -38.0885, -42.3216, -49.7992,   2.3696,\n",
              "        25.0964, -18.4959, -43.6427, -32.5901,  -4.2522,  12.2534,\n",
              "       -20.4604,  17.2821])"
            ]
          },
          "metadata": {},
          "execution_count": 10
        }
      ],
      "source": [
        "# run the cell\n",
        "pop = np.loadtxt(\"SP500_2018.csv\", delimiter = \",\", usecols = 1)\n",
        "pop"
      ]
    },
    {
      "cell_type": "code",
      "execution_count": 10,
      "metadata": {
        "id": "2lCvGxQ2lrCZ"
      },
      "outputs": [],
      "source": []
    },
    {
      "cell_type": "markdown",
      "metadata": {
        "id": "pAATh2wolrCa"
      },
      "source": [
        "6. Calculate the population´s __skew__ and __kurtosis__."
      ]
    },
    {
      "cell_type": "code",
      "execution_count": 39,
      "metadata": {
        "colab": {
          "base_uri": "https://localhost:8080/"
        },
        "id": "ySQNNn2olrCa",
        "outputId": "7769fb0f-1128-48a8-87a1-6404235dafa9"
      },
      "outputs": [
        {
          "output_type": "execute_result",
          "data": {
            "text/plain": [
              "0.41505283064889537"
            ]
          },
          "metadata": {},
          "execution_count": 39
        }
      ],
      "source": [
        "stats.skew(pop)"
      ]
    },
    {
      "cell_type": "code",
      "execution_count": 40,
      "metadata": {
        "colab": {
          "base_uri": "https://localhost:8080/"
        },
        "id": "m8js7Aq_lrCb",
        "outputId": "117361a6-c2bf-4425-c9d5-7b654b9d9482"
      },
      "outputs": [
        {
          "output_type": "execute_result",
          "data": {
            "text/plain": [
              "0.6618700837691662"
            ]
          },
          "metadata": {},
          "execution_count": 40
        }
      ],
      "source": [
        "stats.kurtosis(pop)"
      ]
    },
    {
      "cell_type": "code",
      "execution_count": 10,
      "metadata": {
        "id": "Ylgn9EswlrCb"
      },
      "outputs": [],
      "source": []
    },
    {
      "cell_type": "markdown",
      "metadata": {
        "id": "JwFE-1pdlrCb"
      },
      "source": [
        "7. Test for __skew__ on a __5% significance__ level. "
      ]
    },
    {
      "cell_type": "code",
      "execution_count": 41,
      "metadata": {
        "colab": {
          "base_uri": "https://localhost:8080/"
        },
        "id": "R1ooWF_NlrCc",
        "outputId": "1d55ceab-b5ed-47b3-e8b4-093fff290ded"
      },
      "outputs": [
        {
          "output_type": "execute_result",
          "data": {
            "text/plain": [
              "SkewtestResult(statistic=3.700813132575524, pvalue=0.00021490969981373073)"
            ]
          },
          "metadata": {},
          "execution_count": 41
        }
      ],
      "source": [
        "stats.skewtest(pop)"
      ]
    },
    {
      "cell_type": "markdown",
      "metadata": {
        "id": "TmQqiGAtlrCc"
      },
      "source": [
        "(results: SkewtestResult(statistic=3.700813132575524, pvalue=0.00021490969981373073))"
      ]
    },
    {
      "cell_type": "code",
      "execution_count": 10,
      "metadata": {
        "id": "xOg43091lrCd"
      },
      "outputs": [],
      "source": []
    },
    {
      "cell_type": "markdown",
      "metadata": {
        "id": "HGAHLCSflrCd"
      },
      "source": [
        "8. Test for __kurtosis__ on a __5% significance__ level."
      ]
    },
    {
      "cell_type": "code",
      "execution_count": 42,
      "metadata": {
        "colab": {
          "base_uri": "https://localhost:8080/"
        },
        "id": "hAQqIb4xlrCd",
        "outputId": "4daac279-a3cb-437d-abb1-ee794705cf79"
      },
      "outputs": [
        {
          "output_type": "execute_result",
          "data": {
            "text/plain": [
              "KurtosistestResult(statistic=2.5240612693439624, pvalue=0.011600770790237903)"
            ]
          },
          "metadata": {},
          "execution_count": 42
        }
      ],
      "source": [
        "stats.kurtosistest(pop)"
      ]
    },
    {
      "cell_type": "markdown",
      "metadata": {
        "id": "SkPO5iaVlrCe"
      },
      "source": [
        "(results: KurtosistestResult(statistic=2.5240612693439624, pvalue=0.011600770790237903))"
      ]
    },
    {
      "cell_type": "code",
      "execution_count": 10,
      "metadata": {
        "id": "sPTyPf2ilrCe"
      },
      "outputs": [],
      "source": []
    },
    {
      "cell_type": "markdown",
      "metadata": {
        "id": "pjbfxUJRlrCf"
      },
      "source": [
        "9. Test for __Normality__ on a __5% significance__ level!"
      ]
    },
    {
      "cell_type": "code",
      "execution_count": 43,
      "metadata": {
        "colab": {
          "base_uri": "https://localhost:8080/"
        },
        "id": "0rztoJe6lrCg",
        "outputId": "b0a1e96a-bd48-49a0-8d96-0ae651e90ac2"
      },
      "outputs": [
        {
          "output_type": "execute_result",
          "data": {
            "text/plain": [
              "NormaltestResult(statistic=20.066903133645717, pvalue=4.390635151897616e-05)"
            ]
          },
          "metadata": {},
          "execution_count": 43
        }
      ],
      "source": [
        "stats.normaltest(pop)"
      ]
    },
    {
      "cell_type": "markdown",
      "metadata": {
        "id": "Gbx3Z_gelrCh"
      },
      "source": [
        "(results: NormaltestResult(statistic=20.066903133645717, pvalue=4.390635151897616e-05))"
      ]
    },
    {
      "cell_type": "code",
      "execution_count": 10,
      "metadata": {
        "id": "ZyLvTtfblrCh"
      },
      "outputs": [],
      "source": []
    },
    {
      "cell_type": "markdown",
      "metadata": {
        "id": "Z7CpRvg7lrCh"
      },
      "source": [
        "# Well Done!"
      ]
    },
    {
      "cell_type": "markdown",
      "metadata": {
        "id": "NiNwvBzClrCi"
      },
      "source": [
        "---------------------------------------------------------------------------------------------------------------------"
      ]
    },
    {
      "cell_type": "markdown",
      "metadata": {
        "id": "xmmNjZMDlrCi"
      },
      "source": [
        "# Solutions (Stop here if you want to code on your own!)"
      ]
    },
    {
      "cell_type": "markdown",
      "metadata": {
        "id": "ZyAKzFvjlrCk"
      },
      "source": [
        "# ++++++++++++++++++++++++++++++++++++++++++++++++++++++++++++++"
      ]
    },
    {
      "cell_type": "markdown",
      "metadata": {
        "id": "RLXtIHpylrCk"
      },
      "source": [
        "You have a random sample (drawn from S&P 500) with 50 stocks/companies and their annual returns for the year 2018 (__sample size = 50__)"
      ]
    },
    {
      "cell_type": "markdown",
      "metadata": {
        "id": "H7tQEDYPlrCk"
      },
      "source": [
        "1. Import the sample. "
      ]
    },
    {
      "cell_type": "code",
      "execution_count": 11,
      "metadata": {
        "id": "SBGDo3tDlrCk"
      },
      "outputs": [],
      "source": [
        "# run the cell\n",
        "import numpy as np\n",
        "import scipy.stats as stats\n",
        "np.set_printoptions(precision=4, suppress= True)"
      ]
    },
    {
      "cell_type": "code",
      "execution_count": 12,
      "metadata": {
        "scrolled": true,
        "colab": {
          "base_uri": "https://localhost:8080/"
        },
        "id": "jK97x_gSlrCl",
        "outputId": "a9fc763c-9a85-4d67-8029-96de4d5b4333"
      },
      "outputs": [
        {
          "output_type": "execute_result",
          "data": {
            "text/plain": [
              "array([ -3.189 ,  -0.7402, -10.0045,  -0.6494,  -6.7991, -10.3929,\n",
              "       -19.4511, -21.3489, -23.8865, -24.194 ,  19.9705,  -2.8071,\n",
              "        -7.9205,   2.8771, -42.3216,   1.7465, -54.1992, -20.5551,\n",
              "        -0.0258,  36.4959, -22.8224, -57.5208, -10.6338,  -9.1523,\n",
              "         9.707 , -21.1643, -23.9187,   7.2802, -45.8564,  33.4487,\n",
              "         0.0822,  -7.8966, -27.5657,   9.678 , -15.3846,  35.2119,\n",
              "         7.1421,  17.2502,  73.3463,  35.6039,  18.6085,  27.3282,\n",
              "        -0.8907,   4.4209, -27.6435, -18.8478,  10.0865,  22.4127,\n",
              "        -6.1347, -20.2881])"
            ]
          },
          "metadata": {},
          "execution_count": 12
        }
      ],
      "source": [
        "# run the cell\n",
        "sample = np.loadtxt(\"sample_2018.csv\", delimiter = \",\", usecols = 1)\n",
        "sample"
      ]
    },
    {
      "cell_type": "code",
      "execution_count": 12,
      "metadata": {
        "id": "tFxkRJx0lrCl"
      },
      "outputs": [],
      "source": []
    },
    {
      "cell_type": "markdown",
      "metadata": {
        "id": "A2emv7NGlrCm"
      },
      "source": [
        "2. Test on a __10% level of significance__, whether the (equally-weighted) mean return for the whole S&P 500 population for the year 2018 is __equal to 0%__ or not. Formulate H0 and Ha and calculate the __t-statistic__ and the __p-value__ of your test."
      ]
    },
    {
      "cell_type": "markdown",
      "metadata": {
        "id": "TxsM-ixMlrCm"
      },
      "source": [
        "__H0:__ mean return == 0% <br> \n",
        "__Ha:__ mean return != 0%"
      ]
    },
    {
      "cell_type": "code",
      "execution_count": 13,
      "metadata": {
        "id": "0sFfdcPmlrCn"
      },
      "outputs": [],
      "source": [
        "H0 = 0"
      ]
    },
    {
      "cell_type": "code",
      "execution_count": 14,
      "metadata": {
        "colab": {
          "base_uri": "https://localhost:8080/"
        },
        "id": "G6BoSrpSlrCn",
        "outputId": "349790c7-6147-42ff-c45a-c6f928a34145"
      },
      "outputs": [
        {
          "output_type": "execute_result",
          "data": {
            "text/plain": [
              "TtestResult(statistic=-1.1023818747645209, pvalue=0.27568087004548397, df=49)"
            ]
          },
          "metadata": {},
          "execution_count": 14
        }
      ],
      "source": [
        "stats.ttest_1samp(sample, H0)"
      ]
    },
    {
      "cell_type": "markdown",
      "metadata": {
        "id": "QSN1OKpdlrCo"
      },
      "source": [
        "(result: Ttest_1sampResult(statistic=-1.1023818747645209, pvalue=0.27568087004548397)"
      ]
    },
    {
      "cell_type": "code",
      "execution_count": 14,
      "metadata": {
        "id": "Vhc_e5nGlrCo"
      },
      "outputs": [],
      "source": []
    },
    {
      "cell_type": "markdown",
      "metadata": {
        "id": "ekUp2EdolrCp"
      },
      "source": [
        "3. Can you __reject H0__ (and conclude that the true mean is significantly different from 0%)?"
      ]
    },
    {
      "cell_type": "code",
      "execution_count": 15,
      "metadata": {
        "id": "9dv4F5BclrCp"
      },
      "outputs": [],
      "source": [
        "conf = 0.9"
      ]
    },
    {
      "cell_type": "code",
      "execution_count": 16,
      "metadata": {
        "id": "oz3Pu_32lrCq"
      },
      "outputs": [],
      "source": [
        "t_stat, p_value = stats.ttest_1samp(sample, H0)"
      ]
    },
    {
      "cell_type": "code",
      "execution_count": 17,
      "metadata": {
        "colab": {
          "base_uri": "https://localhost:8080/"
        },
        "id": "EQQXGoohlrCq",
        "outputId": "7d969f31-a5f3-482b-8482-e8759f7183a3"
      },
      "outputs": [
        {
          "output_type": "execute_result",
          "data": {
            "text/plain": [
              "False"
            ]
          },
          "metadata": {},
          "execution_count": 17
        }
      ],
      "source": [
        "p_value < 1-conf"
      ]
    },
    {
      "cell_type": "code",
      "execution_count": 17,
      "metadata": {
        "id": "o6UBl5YPlrCr"
      },
      "outputs": [],
      "source": []
    },
    {
      "cell_type": "markdown",
      "metadata": {
        "id": "_TBm6GaglrCr"
      },
      "source": [
        "4. Test on a __5% level of significance__, whether the (equally-weighted) mean return for the whole S&P 500 population for the year 2018 is __equal to or greater than 5%__ (H0). Can you conclude that the mean return is lower than 5% (Ha)?"
      ]
    },
    {
      "cell_type": "code",
      "execution_count": 18,
      "metadata": {
        "id": "pg82krdDlrCs"
      },
      "outputs": [],
      "source": [
        "#run the cell!\n",
        "H0 = 5"
      ]
    },
    {
      "cell_type": "code",
      "execution_count": 19,
      "metadata": {
        "id": "hNaKf1T1lrCt"
      },
      "outputs": [],
      "source": [
        "t_stat, p_value = stats.ttest_1samp(sample, H0)"
      ]
    },
    {
      "cell_type": "code",
      "execution_count": 20,
      "metadata": {
        "colab": {
          "base_uri": "https://localhost:8080/"
        },
        "id": "1jWqZvh8lrCt",
        "outputId": "4967cc84-5581-4c30-9363-0fb50f2ed1e2"
      },
      "outputs": [
        {
          "output_type": "execute_result",
          "data": {
            "text/plain": [
              "-2.5414652019770783"
            ]
          },
          "metadata": {},
          "execution_count": 20
        }
      ],
      "source": [
        "t_stat"
      ]
    },
    {
      "cell_type": "code",
      "execution_count": 21,
      "metadata": {
        "id": "HSDFKn37lrCu"
      },
      "outputs": [],
      "source": [
        "p_value = p_value / 2"
      ]
    },
    {
      "cell_type": "code",
      "execution_count": 22,
      "metadata": {
        "colab": {
          "base_uri": "https://localhost:8080/"
        },
        "id": "MRyu703XlrCv",
        "outputId": "07067694-f52f-4acd-a00c-62a1a544f105"
      },
      "outputs": [
        {
          "output_type": "execute_result",
          "data": {
            "text/plain": [
              "0.007126848805366535"
            ]
          },
          "metadata": {},
          "execution_count": 22
        }
      ],
      "source": [
        "p_value"
      ]
    },
    {
      "cell_type": "markdown",
      "metadata": {
        "id": "d6N0-9HblrCw"
      },
      "source": [
        "(result: pvalue = 0.007126848805366535, reject H0)"
      ]
    },
    {
      "cell_type": "code",
      "execution_count": 22,
      "metadata": {
        "id": "TSsF5GLolrCx"
      },
      "outputs": [],
      "source": []
    },
    {
      "cell_type": "markdown",
      "metadata": {
        "id": "5Yv626kXlrCx"
      },
      "source": [
        "5. Import the full __S&P 500 population__ (annual returns) for the year 2018."
      ]
    },
    {
      "cell_type": "code",
      "execution_count": 23,
      "metadata": {
        "scrolled": true,
        "colab": {
          "base_uri": "https://localhost:8080/"
        },
        "id": "SH3IvuqHlrCx",
        "outputId": "118888a6-92c2-4845-c747-0b91c9537e56"
      },
      "outputs": [
        {
          "output_type": "execute_result",
          "data": {
            "text/plain": [
              "array([ -1.5081, -38.8238,  55.9434,  -7.6819,  -5.7802, -19.4511,\n",
              "        69.7722,  24.5663,  -8.6681,  27.3282,  -4.0099,   1.7465,\n",
              "        10.2739, -40.8947,  21.3679,  10.0865,   1.5767,  31.7636,\n",
              "         2.4151, -18.8165, -35.1796,  -0.5262, -12.5744,  14.6018,\n",
              "        -6.1347, -39.9953,  -6.2559, -17.9567, -21.6694,  -1.2695,\n",
              "       -18.7139, -36.6588, -21.1864,  73.3463,  -7.9205, -53.2229,\n",
              "         9.678 , -39.1338,  11.3268,  26.3837, -12.6581,  -3.1167,\n",
              "        15.1415,   7.2388, -30.3198, -37.6125,  -2.06  ,  -8.3485,\n",
              "       -27.6435, -12.7498, -38.4954,   6.7179, -26.0897,  -3.2173,\n",
              "        -1.2884, -22.6624,  -1.6067,  -4.924 ,  17.9428,   7.2802,\n",
              "       -17.378 ,   0.8818, -13.6163, -25.0183,   3.7046, -32.6794,\n",
              "       -13.6877, -32.2377,  -7.8633, -13.3866,  -1.2608, -24.4262,\n",
              "        18.362 , -16.8734,   5.0232,   1.9473,  39.8548, -32.4525,\n",
              "       -13.9199, -30.3454, -43.7749, -27.2401, -20.2881, -12.5368,\n",
              "       -22.7787,  -7.8966, -26.4237,  -2.6034, -26.6536,   3.6346,\n",
              "        14.7647, -16.427 , -40.1782, -22.8224,  -0.3996, -29.5617,\n",
              "        31.0544,  -6.6001, -15.1447,  -6.1254,   2.1875, -20.9808,\n",
              "         2.9447, -21.8062, -14.2322,  27.429 ,  46.7633, -25.4642,\n",
              "         4.3763,  11.816 ,  -1.2694, -25.0251, -19.7552,  14.5814,\n",
              "        12.352 ,   8.5536, -67.3705, -30.4926, -40.9373,  10.0255,\n",
              "        31.7422,  11.671 ,  12.8522,   7.1103,  -8.4532, -11.3912,\n",
              "        15.6818, -10.0828, -13.2119, -32.2261,  -9.6225, -10.3929,\n",
              "       -25.5598,  -7.1753, -24.194 ,  15.1167, -16.7327, -32.2694,\n",
              "         9.707 ,  -0.1953,  10.0983,   7.8413, -47.7277,  -6.8745,\n",
              "       -18.2462, -14.4398,  -6.0639,   2.4162,   0.5938,   2.3897,\n",
              "       -30.2837, -45.7488, -35.4976, -24.5193, -25.1722,   7.5943,\n",
              "        -9.9706, -21.2517,  -9.5035,   1.0374, -21.956 , -15.1528,\n",
              "       -18.8954, -22.146 ,   3.8733,   2.3583,   1.9431, -12.1848,\n",
              "       -13.6312,   5.0375,   7.0644,  33.4487,  13.5245,   2.6125,\n",
              "        -5.4104,   2.8702, -37.47  , -27.2158,  -4.7915, -24.5155,\n",
              "       -45.0321, -44.7785, -36.2908,  21.6852,  22.4127,   7.1421,\n",
              "        11.2704, -22.973 ,  -8.5371, -10.6338,  -4.6458, -22.6431,\n",
              "         1.5005,  -9.3969, -37.1766,  60.9979,  -7.8093, -23.6569,\n",
              "       -56.9726, -13.6237, -34.6264, -18.5867,  -7.0022, -17.2481,\n",
              "        -0.8907,  -0.6379,   0.5263,   2.2945, -24.7798,   5.4558,\n",
              "       -36.0064,  19.1407, -45.8564, -10.7383, -18.3379, -41.7025,\n",
              "        39.4695,   6.9018, -10.1884, -14.9357,  -0.2538, -22.2281,\n",
              "       -20.1655, -11.157 , -33.2547,  -5.3801, -11.0416, -26.3304,\n",
              "        -9.2618,  -3.189 ,  -3.7757,  16.4331,  11.4943, -15.9698,\n",
              "        -6.3519,  13.7905, -26.3264,   5.513 ,  18.8643,  -5.918 ,\n",
              "       -13.3543,  36.4959, -34.2414,   4.8062,   1.2782,  24.1285,\n",
              "       -31.291 ,   1.3393, -46.2943,  16.3534,   2.0966, -14.1532,\n",
              "        29.1171,   2.0788, -25.2502, -54.7072, -18.9163, -22.3039,\n",
              "       -12.7047, -34.2339,   7.1135,  -8.9107,  -6.1404,  -9.4539,\n",
              "        -2.8071, -15.7841, -27.5657,  44.5433, -43.9686, -17.3554,\n",
              "       -15.6467,  -6.1744, -15.3846,  -2.5573,   2.8771,   0.4736,\n",
              "        19.9705,  -9.1523, -10.2339, -57.7217, -18.8478, -24.9738,\n",
              "       -37.6502, -21.9422,  -7.3915,   1.0538, -41.0868,  35.2119,\n",
              "       -18.6233, -33.6542,  -1.3142,  -1.1513, -26.4302, -28.5561,\n",
              "        30.3986, -25.3263,  19.1743,  22.9915,  -5.4196, -34.3179,\n",
              "       -20.9902, -34.2285,   1.9986, -18.4797, -29.4389,  -5.5958,\n",
              "        -6.7991,  10.5387, -19.6598, -28.9308, -57.5208,  36.4047,\n",
              "         2.8748, -23.9187,  -3.0962, -19.5437, -22.5154, -31.5362,\n",
              "        12.3149, -11.7308,  33.9435, -16.834 , -24.9666,  14.9044,\n",
              "        17.3603,  24.2528, -17.4045, -10.0045, -23.2247,  -4.1125,\n",
              "       -35.5472, -36.7536, -21.1643,   4.8158,  10.5833,  -8.129 ,\n",
              "        33.4028,  -0.7402,  17.2502, -43.704 , -36.0989, -21.0681,\n",
              "       -28.4564,  35.6039,   2.1463,   6.8149, -17.1389, -18.3706,\n",
              "       -30.9302, -40.5178, -30.9639, -30.5984,  11.1014,  -0.8793,\n",
              "        -0.7003,  -5.203 ,  42.2217, -17.9066,  -5.0088, -23.5829,\n",
              "       -19.682 ,  -0.3301,  -7.972 ,  18.6085, -38.2653,  -0.7619,\n",
              "         5.9126, -25.719 , -21.6842, -31.713 ,   5.703 ,  -9.3319,\n",
              "       -36.3275, -20.043 , -21.3367,   0.0822, -13.3453,  -8.4006,\n",
              "       -54.1992, -29.7443,  -3.3971, -16.0059, -32.7017, -23.2421,\n",
              "       -24.4952,  13.0943, -11.2621,  -8.7237, -19.4836,  -2.3637,\n",
              "       -15.4814,  -3.5482, -22.7431,   1.5484, -17.3908,  -1.842 ,\n",
              "        32.2942, -24.1558,  14.9903,   1.861 ,   1.6573,   6.3896,\n",
              "       -18.5946,  -0.5326,  10.3779, -20.0701, -30.6085,  -4.9898,\n",
              "       -18.7578, -24.4124, -45.6893, -20.9056, -17.2404,  -1.8771,\n",
              "        -8.6089,  -2.1195,  -0.6494,   0.3273, -22.9292, -34.9657,\n",
              "        -8.3413, -28.7483, -29.9723, -29.2048, -39.1349,  -0.0258,\n",
              "       -33.856 ,   2.5523, -26.8004, -31.8387,  22.0887, -21.3489,\n",
              "         2.2828,  -0.4444, -23.8865,  14.5959,  17.1529,  -0.4251,\n",
              "       -23.5587,  55.3976, -12.9515, -12.8281,  11.3177, -35.4385,\n",
              "        -4.7459,  18.409 , -10.1781, -19.332 ,  20.045 ,  21.4137,\n",
              "        23.3976,   2.2066,   2.5143,   7.0598,  11.6937, -47.1671,\n",
              "         1.9985, -18.9845, -40.9575, -15.6215, -17.4257,  14.8395,\n",
              "         0.7557,  -4.6355, -15.9688, -20.0522, -24.3826, -20.5551,\n",
              "        12.5625,  28.3467,   7.7139,  -1.0832,   4.4209, -15.8664,\n",
              "        -4.3636,  -6.293 ,  15.3299, -53.8036,   3.8838,   8.7816,\n",
              "       -24.5426, -36.3911,   0.1593,   1.9119, -29.5507,  -6.7038,\n",
              "       -41.0378, -10.363 , -38.0885, -42.3216, -49.7992,   2.3696,\n",
              "        25.0964, -18.4959, -43.6427, -32.5901,  -4.2522,  12.2534,\n",
              "       -20.4604,  17.2821])"
            ]
          },
          "metadata": {},
          "execution_count": 23
        }
      ],
      "source": [
        "# run the cell\n",
        "pop = np.loadtxt(\"SP500_2018.csv\", delimiter = \",\", usecols = 1)\n",
        "pop"
      ]
    },
    {
      "cell_type": "code",
      "execution_count": 23,
      "metadata": {
        "id": "pQOZCDf4lrCy"
      },
      "outputs": [],
      "source": []
    },
    {
      "cell_type": "markdown",
      "metadata": {
        "id": "20tRlhBdlrCz"
      },
      "source": [
        "6. Calculate the population´s __skew__ and __kurtosis__."
      ]
    },
    {
      "cell_type": "code",
      "execution_count": 24,
      "metadata": {
        "colab": {
          "base_uri": "https://localhost:8080/"
        },
        "id": "-Tl7pq5ylrC1",
        "outputId": "478778aa-5234-4488-fa09-8306144b905b"
      },
      "outputs": [
        {
          "output_type": "execute_result",
          "data": {
            "text/plain": [
              "0.41505283064889537"
            ]
          },
          "metadata": {},
          "execution_count": 24
        }
      ],
      "source": [
        "stats.skew(pop)"
      ]
    },
    {
      "cell_type": "code",
      "execution_count": 25,
      "metadata": {
        "colab": {
          "base_uri": "https://localhost:8080/"
        },
        "id": "94s_KLIrlrC2",
        "outputId": "4e7dfa13-d184-483e-dd5b-84e943624d69"
      },
      "outputs": [
        {
          "output_type": "execute_result",
          "data": {
            "text/plain": [
              "0.6618700837691662"
            ]
          },
          "metadata": {},
          "execution_count": 25
        }
      ],
      "source": [
        "stats.kurtosis(pop)"
      ]
    },
    {
      "cell_type": "code",
      "execution_count": 25,
      "metadata": {
        "id": "1-E2Dlg2lrC2"
      },
      "outputs": [],
      "source": []
    },
    {
      "cell_type": "markdown",
      "metadata": {
        "id": "rgc9nHPqlrC2"
      },
      "source": [
        "7. Test for __skew__ on a __5% significance__ level. "
      ]
    },
    {
      "cell_type": "code",
      "execution_count": 26,
      "metadata": {
        "colab": {
          "base_uri": "https://localhost:8080/"
        },
        "id": "M3X5zIVqlrC2",
        "outputId": "752bb678-75dd-42f8-f8ca-2ee4aa62b820"
      },
      "outputs": [
        {
          "output_type": "execute_result",
          "data": {
            "text/plain": [
              "SkewtestResult(statistic=3.700813132575524, pvalue=0.00021490969981373073)"
            ]
          },
          "metadata": {},
          "execution_count": 26
        }
      ],
      "source": [
        "stats.skewtest(pop)"
      ]
    },
    {
      "cell_type": "markdown",
      "metadata": {
        "id": "JoWFcAVjlrC4"
      },
      "source": [
        "(results: SkewtestResult(statistic=3.700813132575524, pvalue=0.00021490969981373073))"
      ]
    },
    {
      "cell_type": "code",
      "execution_count": 26,
      "metadata": {
        "id": "H4NEwrI_lrC4"
      },
      "outputs": [],
      "source": []
    },
    {
      "cell_type": "markdown",
      "metadata": {
        "id": "5xdRlmEUlrC4"
      },
      "source": [
        "8. Test for __kurtosis__ on a __5% significance__ level."
      ]
    },
    {
      "cell_type": "code",
      "execution_count": 27,
      "metadata": {
        "colab": {
          "base_uri": "https://localhost:8080/"
        },
        "id": "EXbqeAY9lrC4",
        "outputId": "b2ca501f-888d-46ba-e52f-cc44442ad459"
      },
      "outputs": [
        {
          "output_type": "execute_result",
          "data": {
            "text/plain": [
              "KurtosistestResult(statistic=2.5240612693439624, pvalue=0.011600770790237903)"
            ]
          },
          "metadata": {},
          "execution_count": 27
        }
      ],
      "source": [
        "stats.kurtosistest(pop)"
      ]
    },
    {
      "cell_type": "markdown",
      "metadata": {
        "id": "GBhtYR-ClrC4"
      },
      "source": [
        "(results: KurtosistestResult(statistic=2.5240612693439624, pvalue=0.011600770790237903))"
      ]
    },
    {
      "cell_type": "code",
      "execution_count": 27,
      "metadata": {
        "id": "PLwPxHqzlrC4"
      },
      "outputs": [],
      "source": []
    },
    {
      "cell_type": "markdown",
      "metadata": {
        "id": "OIvUpqPklrC4"
      },
      "source": [
        "9. Test for __Normality__ on a __5% significance__ level!"
      ]
    },
    {
      "cell_type": "code",
      "execution_count": 28,
      "metadata": {
        "colab": {
          "base_uri": "https://localhost:8080/"
        },
        "id": "e2V1Ox4BlrC5",
        "outputId": "b34330f7-a415-481d-cc75-05c2266e53df"
      },
      "outputs": [
        {
          "output_type": "execute_result",
          "data": {
            "text/plain": [
              "NormaltestResult(statistic=20.066903133645717, pvalue=4.390635151897616e-05)"
            ]
          },
          "metadata": {},
          "execution_count": 28
        }
      ],
      "source": [
        "stats.normaltest(pop)"
      ]
    },
    {
      "cell_type": "markdown",
      "metadata": {
        "id": "Rz4qrc_slrC6"
      },
      "source": [
        "(results: NormaltestResult(statistic=20.066903133645717, pvalue=4.390635151897616e-05))"
      ]
    }
  ],
  "metadata": {
    "kernelspec": {
      "display_name": "Python 3 (ipykernel)",
      "language": "python",
      "name": "python3"
    },
    "language_info": {
      "codemirror_mode": {
        "name": "ipython",
        "version": 3
      },
      "file_extension": ".py",
      "mimetype": "text/x-python",
      "name": "python",
      "nbconvert_exporter": "python",
      "pygments_lexer": "ipython3",
      "version": "3.9.16"
    },
    "colab": {
      "provenance": [],
      "include_colab_link": true
    }
  },
  "nbformat": 4,
  "nbformat_minor": 0
}