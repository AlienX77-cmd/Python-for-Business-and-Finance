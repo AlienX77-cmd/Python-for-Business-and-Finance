{
  "cells": [
    {
      "cell_type": "markdown",
      "metadata": {
        "id": "view-in-github",
        "colab_type": "text"
      },
      "source": [
        "<a href=\"https://colab.research.google.com/github/AlienX77-cmd/Python-for-Business-and-Finance/blob/main/Part_4_Exercise_03.ipynb\" target=\"_parent\"><img src=\"https://colab.research.google.com/assets/colab-badge.svg\" alt=\"Open In Colab\"/></a>"
      ]
    },
    {
      "cell_type": "markdown",
      "metadata": {
        "id": "HGl4RrzYekqw"
      },
      "source": [
        "# Coding Exercises (Part 3)"
      ]
    },
    {
      "cell_type": "markdown",
      "metadata": {
        "id": "zaQq7TUjekq0"
      },
      "source": [
        "Now, you will have the opportunity to analyze your own dataset. <br>\n",
        "__Follow the instructions__ and insert your code! You are either requested to\n",
        "- Complete the Code and __Fill in the gaps__. Gaps are marked with \"__---__\" and are __placeholders__ for your code fragment.\n",
        "- Write Code completely __on your own__."
      ]
    },
    {
      "cell_type": "markdown",
      "metadata": {
        "id": "qDTI6PS7ekq2"
      },
      "source": [
        "In some exercises, you will find questions that can only be answered, if your code is correct and returns the right output! The correct answer is provided below your coding cell. There you can check whether your code is correct."
      ]
    },
    {
      "cell_type": "markdown",
      "metadata": {
        "id": "oBKympgQekq2"
      },
      "source": [
        "If you need a hint, check the __Hints Section__ at the end of this Notebook. Exercises and Hints are numerated accordingly."
      ]
    },
    {
      "cell_type": "markdown",
      "metadata": {
        "id": "aacdBRB9ekq3"
      },
      "source": [
        "If you need some further help or if you want to check your code, you can also watch the __solutions videos__ or check the __solutions notebook__."
      ]
    },
    {
      "cell_type": "markdown",
      "metadata": {
        "id": "IMOvITx4ekq3"
      },
      "source": [
        "### Have Fun!"
      ]
    },
    {
      "cell_type": "markdown",
      "metadata": {
        "id": "PAqomOxgekq4"
      },
      "source": [
        "--------------------------------------------------------------------------------------------------------------"
      ]
    },
    {
      "cell_type": "markdown",
      "metadata": {
        "id": "rWZRAl_Sekq4"
      },
      "source": [
        "## Pandas: Intermediate Topics\n"
      ]
    },
    {
      "cell_type": "markdown",
      "metadata": {
        "id": "jSCvOBDaekq5"
      },
      "source": [
        "### Exercise 3: Analyzing Columns / Pandas Series"
      ]
    },
    {
      "cell_type": "code",
      "execution_count": 1,
      "metadata": {
        "id": "WVP6syN0ekq6"
      },
      "outputs": [],
      "source": [
        "#run the cell!\n",
        "import pandas as pd"
      ]
    },
    {
      "cell_type": "code",
      "execution_count": 2,
      "metadata": {
        "id": "Uj7x1hbGekq7"
      },
      "outputs": [],
      "source": [
        "#run the cell!\n",
        "listings = pd.read_csv(\"listings.csv\")"
      ]
    },
    {
      "cell_type": "code",
      "execution_count": 3,
      "metadata": {
        "colab": {
          "base_uri": "https://localhost:8080/",
          "height": 250
        },
        "id": "qOf7UW7Oekq8",
        "outputId": "3feda876-6e6b-4b31-b6ad-8e653df681a2"
      },
      "outputs": [
        {
          "output_type": "execute_result",
          "data": {
            "text/plain": [
              "  Symbol Exchange                           Name  Last_Price    Market_Cap  \\\n",
              "0      A     NYSE     Agilent Technologies, Inc.       81.68  2.593470e+10   \n",
              "1     AA     NYSE              Alcoa Corporation       29.15  5.407810e+09   \n",
              "2   AABA   NASDAQ                    Altaba Inc.       75.39  4.278113e+10   \n",
              "3    AAC     NYSE             AAC Holdings, Inc.        2.16  5.314109e+07   \n",
              "4    AAL   NASDAQ  American Airlines Group, Inc.       34.02  1.527687e+10   \n",
              "\n",
              "   ADR TSO  IPO_Year            Sector  \\\n",
              "0      NaN    1999.0     Capital Goods   \n",
              "1      NaN    2016.0  Basic Industries   \n",
              "2      NaN       NaN        Technology   \n",
              "3      NaN    2014.0       Health Care   \n",
              "4      NaN       NaN    Transportation   \n",
              "\n",
              "                                           Industry  \n",
              "0  Biotechnology: Laboratory Analytical Instruments  \n",
              "1                                          Aluminum  \n",
              "2                                      EDP Services  \n",
              "3                              Medical Specialities  \n",
              "4                     Air Freight/Delivery Services  "
            ],
            "text/html": [
              "\n",
              "  <div id=\"df-c45b6472-0339-48be-8d09-33703bc921f3\">\n",
              "    <div class=\"colab-df-container\">\n",
              "      <div>\n",
              "<style scoped>\n",
              "    .dataframe tbody tr th:only-of-type {\n",
              "        vertical-align: middle;\n",
              "    }\n",
              "\n",
              "    .dataframe tbody tr th {\n",
              "        vertical-align: top;\n",
              "    }\n",
              "\n",
              "    .dataframe thead th {\n",
              "        text-align: right;\n",
              "    }\n",
              "</style>\n",
              "<table border=\"1\" class=\"dataframe\">\n",
              "  <thead>\n",
              "    <tr style=\"text-align: right;\">\n",
              "      <th></th>\n",
              "      <th>Symbol</th>\n",
              "      <th>Exchange</th>\n",
              "      <th>Name</th>\n",
              "      <th>Last_Price</th>\n",
              "      <th>Market_Cap</th>\n",
              "      <th>ADR TSO</th>\n",
              "      <th>IPO_Year</th>\n",
              "      <th>Sector</th>\n",
              "      <th>Industry</th>\n",
              "    </tr>\n",
              "  </thead>\n",
              "  <tbody>\n",
              "    <tr>\n",
              "      <th>0</th>\n",
              "      <td>A</td>\n",
              "      <td>NYSE</td>\n",
              "      <td>Agilent Technologies, Inc.</td>\n",
              "      <td>81.68</td>\n",
              "      <td>2.593470e+10</td>\n",
              "      <td>NaN</td>\n",
              "      <td>1999.0</td>\n",
              "      <td>Capital Goods</td>\n",
              "      <td>Biotechnology: Laboratory Analytical Instruments</td>\n",
              "    </tr>\n",
              "    <tr>\n",
              "      <th>1</th>\n",
              "      <td>AA</td>\n",
              "      <td>NYSE</td>\n",
              "      <td>Alcoa Corporation</td>\n",
              "      <td>29.15</td>\n",
              "      <td>5.407810e+09</td>\n",
              "      <td>NaN</td>\n",
              "      <td>2016.0</td>\n",
              "      <td>Basic Industries</td>\n",
              "      <td>Aluminum</td>\n",
              "    </tr>\n",
              "    <tr>\n",
              "      <th>2</th>\n",
              "      <td>AABA</td>\n",
              "      <td>NASDAQ</td>\n",
              "      <td>Altaba Inc.</td>\n",
              "      <td>75.39</td>\n",
              "      <td>4.278113e+10</td>\n",
              "      <td>NaN</td>\n",
              "      <td>NaN</td>\n",
              "      <td>Technology</td>\n",
              "      <td>EDP Services</td>\n",
              "    </tr>\n",
              "    <tr>\n",
              "      <th>3</th>\n",
              "      <td>AAC</td>\n",
              "      <td>NYSE</td>\n",
              "      <td>AAC Holdings, Inc.</td>\n",
              "      <td>2.16</td>\n",
              "      <td>5.314109e+07</td>\n",
              "      <td>NaN</td>\n",
              "      <td>2014.0</td>\n",
              "      <td>Health Care</td>\n",
              "      <td>Medical Specialities</td>\n",
              "    </tr>\n",
              "    <tr>\n",
              "      <th>4</th>\n",
              "      <td>AAL</td>\n",
              "      <td>NASDAQ</td>\n",
              "      <td>American Airlines Group, Inc.</td>\n",
              "      <td>34.02</td>\n",
              "      <td>1.527687e+10</td>\n",
              "      <td>NaN</td>\n",
              "      <td>NaN</td>\n",
              "      <td>Transportation</td>\n",
              "      <td>Air Freight/Delivery Services</td>\n",
              "    </tr>\n",
              "  </tbody>\n",
              "</table>\n",
              "</div>\n",
              "      <button class=\"colab-df-convert\" onclick=\"convertToInteractive('df-c45b6472-0339-48be-8d09-33703bc921f3')\"\n",
              "              title=\"Convert this dataframe to an interactive table.\"\n",
              "              style=\"display:none;\">\n",
              "        \n",
              "  <svg xmlns=\"http://www.w3.org/2000/svg\" height=\"24px\"viewBox=\"0 0 24 24\"\n",
              "       width=\"24px\">\n",
              "    <path d=\"M0 0h24v24H0V0z\" fill=\"none\"/>\n",
              "    <path d=\"M18.56 5.44l.94 2.06.94-2.06 2.06-.94-2.06-.94-.94-2.06-.94 2.06-2.06.94zm-11 1L8.5 8.5l.94-2.06 2.06-.94-2.06-.94L8.5 2.5l-.94 2.06-2.06.94zm10 10l.94 2.06.94-2.06 2.06-.94-2.06-.94-.94-2.06-.94 2.06-2.06.94z\"/><path d=\"M17.41 7.96l-1.37-1.37c-.4-.4-.92-.59-1.43-.59-.52 0-1.04.2-1.43.59L10.3 9.45l-7.72 7.72c-.78.78-.78 2.05 0 2.83L4 21.41c.39.39.9.59 1.41.59.51 0 1.02-.2 1.41-.59l7.78-7.78 2.81-2.81c.8-.78.8-2.07 0-2.86zM5.41 20L4 18.59l7.72-7.72 1.47 1.35L5.41 20z\"/>\n",
              "  </svg>\n",
              "      </button>\n",
              "      \n",
              "  <style>\n",
              "    .colab-df-container {\n",
              "      display:flex;\n",
              "      flex-wrap:wrap;\n",
              "      gap: 12px;\n",
              "    }\n",
              "\n",
              "    .colab-df-convert {\n",
              "      background-color: #E8F0FE;\n",
              "      border: none;\n",
              "      border-radius: 50%;\n",
              "      cursor: pointer;\n",
              "      display: none;\n",
              "      fill: #1967D2;\n",
              "      height: 32px;\n",
              "      padding: 0 0 0 0;\n",
              "      width: 32px;\n",
              "    }\n",
              "\n",
              "    .colab-df-convert:hover {\n",
              "      background-color: #E2EBFA;\n",
              "      box-shadow: 0px 1px 2px rgba(60, 64, 67, 0.3), 0px 1px 3px 1px rgba(60, 64, 67, 0.15);\n",
              "      fill: #174EA6;\n",
              "    }\n",
              "\n",
              "    [theme=dark] .colab-df-convert {\n",
              "      background-color: #3B4455;\n",
              "      fill: #D2E3FC;\n",
              "    }\n",
              "\n",
              "    [theme=dark] .colab-df-convert:hover {\n",
              "      background-color: #434B5C;\n",
              "      box-shadow: 0px 1px 3px 1px rgba(0, 0, 0, 0.15);\n",
              "      filter: drop-shadow(0px 1px 2px rgba(0, 0, 0, 0.3));\n",
              "      fill: #FFFFFF;\n",
              "    }\n",
              "  </style>\n",
              "\n",
              "      <script>\n",
              "        const buttonEl =\n",
              "          document.querySelector('#df-c45b6472-0339-48be-8d09-33703bc921f3 button.colab-df-convert');\n",
              "        buttonEl.style.display =\n",
              "          google.colab.kernel.accessAllowed ? 'block' : 'none';\n",
              "\n",
              "        async function convertToInteractive(key) {\n",
              "          const element = document.querySelector('#df-c45b6472-0339-48be-8d09-33703bc921f3');\n",
              "          const dataTable =\n",
              "            await google.colab.kernel.invokeFunction('convertToInteractive',\n",
              "                                                     [key], {});\n",
              "          if (!dataTable) return;\n",
              "\n",
              "          const docLinkHtml = 'Like what you see? Visit the ' +\n",
              "            '<a target=\"_blank\" href=https://colab.research.google.com/notebooks/data_table.ipynb>data table notebook</a>'\n",
              "            + ' to learn more about interactive tables.';\n",
              "          element.innerHTML = '';\n",
              "          dataTable['output_type'] = 'display_data';\n",
              "          await google.colab.output.renderOutput(dataTable, element);\n",
              "          const docLink = document.createElement('div');\n",
              "          docLink.innerHTML = docLinkHtml;\n",
              "          element.appendChild(docLink);\n",
              "        }\n",
              "      </script>\n",
              "    </div>\n",
              "  </div>\n",
              "  "
            ]
          },
          "metadata": {},
          "execution_count": 3
        }
      ],
      "source": [
        "#run the cell!\n",
        "listings.head()"
      ]
    },
    {
      "cell_type": "code",
      "execution_count": 4,
      "metadata": {
        "colab": {
          "base_uri": "https://localhost:8080/"
        },
        "id": "qR-Pj7hoekq8",
        "outputId": "7e98d788-836e-43d3-c6d7-290ddea71d51"
      },
      "outputs": [
        {
          "output_type": "stream",
          "name": "stdout",
          "text": [
            "<class 'pandas.core.frame.DataFrame'>\n",
            "RangeIndex: 6852 entries, 0 to 6851\n",
            "Data columns (total 9 columns):\n",
            " #   Column      Non-Null Count  Dtype  \n",
            "---  ------      --------------  -----  \n",
            " 0   Symbol      6852 non-null   object \n",
            " 1   Exchange    6852 non-null   object \n",
            " 2   Name        6852 non-null   object \n",
            " 3   Last_Price  6745 non-null   float64\n",
            " 4   Market_Cap  5954 non-null   float64\n",
            " 5   ADR TSO     140 non-null    float64\n",
            " 6   IPO_Year    3105 non-null   float64\n",
            " 7   Sector      5309 non-null   object \n",
            " 8   Industry    5309 non-null   object \n",
            "dtypes: float64(4), object(5)\n",
            "memory usage: 481.9+ KB\n"
          ]
        }
      ],
      "source": [
        "#run the cell!\n",
        "listings.info()"
      ]
    },
    {
      "cell_type": "markdown",
      "metadata": {
        "id": "YfyM6ZUIekq9"
      },
      "source": [
        "19. __Select__ the numerical column __\"Last_Price\"__, create a __copy__ and __save__ the column/Pandas Series in the variable __price__! __Fill in the gaps!__"
      ]
    },
    {
      "cell_type": "code",
      "execution_count": 5,
      "metadata": {
        "id": "j_8EF5jcekq-"
      },
      "outputs": [],
      "source": [
        "price = listings.Last_Price.copy()"
      ]
    },
    {
      "cell_type": "code",
      "execution_count": 6,
      "metadata": {
        "colab": {
          "base_uri": "https://localhost:8080/"
        },
        "id": "a3AKhX5Rekq-",
        "outputId": "56f8856f-70d9-4693-ac82-9d62015a1012"
      },
      "outputs": [
        {
          "output_type": "execute_result",
          "data": {
            "text/plain": [
              "0    81.68\n",
              "1    29.15\n",
              "2    75.39\n",
              "3     2.16\n",
              "4    34.02\n",
              "Name: Last_Price, dtype: float64"
            ]
          },
          "metadata": {},
          "execution_count": 6
        }
      ],
      "source": [
        "#run the cell!\n",
        "price.head()"
      ]
    },
    {
      "cell_type": "markdown",
      "metadata": {
        "id": "tlIGmE2iekq-"
      },
      "source": [
        "20. Get some __summary statistics__ on the Series __price__! What is the __price__ of the __most expensive stock__?"
      ]
    },
    {
      "cell_type": "code",
      "execution_count": 7,
      "metadata": {
        "colab": {
          "base_uri": "https://localhost:8080/"
        },
        "id": "wjOP2kDkekq_",
        "outputId": "a32a62a1-b8ac-40c7-c1e2-090209a0eadf"
      },
      "outputs": [
        {
          "output_type": "execute_result",
          "data": {
            "text/plain": [
              "count    6745.000000\n",
              "mean       37.372232\n",
              "std        99.249040\n",
              "min         0.003000\n",
              "25%         8.310000\n",
              "50%        20.573500\n",
              "75%        37.370000\n",
              "max      4299.990000\n",
              "Name: Last_Price, dtype: float64"
            ]
          },
          "metadata": {},
          "execution_count": 7
        }
      ],
      "source": [
        "price.describe()"
      ]
    },
    {
      "cell_type": "markdown",
      "metadata": {
        "id": "R_w6bv7Eekq_"
      },
      "source": [
        "The price of the most expensive stock is ... 4299.99!"
      ]
    },
    {
      "cell_type": "markdown",
      "metadata": {
        "id": "v-Y_UwMjekq_"
      },
      "source": [
        "21. Get the __minimum Value__ in the Series __price__ by explicitly calling the ... method! The cheapest stock has a __Last_Price__ of...?"
      ]
    },
    {
      "cell_type": "code",
      "execution_count": 8,
      "metadata": {
        "colab": {
          "base_uri": "https://localhost:8080/"
        },
        "id": "tbOkxhfRekq_",
        "outputId": "93befd5d-7f41-41eb-add3-fc6d493f3564"
      },
      "outputs": [
        {
          "output_type": "execute_result",
          "data": {
            "text/plain": [
              "0.003"
            ]
          },
          "metadata": {},
          "execution_count": 8
        }
      ],
      "source": [
        "price.min()"
      ]
    },
    {
      "cell_type": "markdown",
      "metadata": {
        "id": "Wn18SPkqekq_"
      },
      "source": [
        "The cheapest stock has a stock price of... 0.003!"
      ]
    },
    {
      "cell_type": "markdown",
      "metadata": {
        "id": "62qHm9ViekrA"
      },
      "source": [
        "22. Get the Frequency/__Counts__ of all unique __values__ in the Series __price__! What is the __most frequent__ price?"
      ]
    },
    {
      "cell_type": "code",
      "execution_count": 9,
      "metadata": {
        "scrolled": true,
        "colab": {
          "base_uri": "https://localhost:8080/"
        },
        "id": "DUVt_ROqekrA",
        "outputId": "db3d68d7-5c4f-4d60-fdbe-b2f4fe1fe4f9"
      },
      "outputs": [
        {
          "output_type": "execute_result",
          "data": {
            "text/plain": [
              "25.0000     9\n",
              "9.7300      9\n",
              "1.6100      8\n",
              "2.5000      8\n",
              "10.2600     7\n",
              "           ..\n",
              "0.6712      1\n",
              "103.3600    1\n",
              "25.8850     1\n",
              "7.7700      1\n",
              "101.3300    1\n",
              "Name: Last_Price, Length: 4470, dtype: int64"
            ]
          },
          "metadata": {},
          "execution_count": 9
        }
      ],
      "source": [
        "price.value_counts()"
      ]
    },
    {
      "cell_type": "markdown",
      "metadata": {
        "id": "6xT2tmJ-ekrA"
      },
      "source": [
        "The most frequent values are ... 25.0 and 9.73!"
      ]
    },
    {
      "cell_type": "markdown",
      "metadata": {
        "id": "IT2WgZQsekrB"
      },
      "source": [
        "23. Get the __relative frequencies__ in the Series __price__! What is the __relative frequency__ of the __most frequent price__?"
      ]
    },
    {
      "cell_type": "code",
      "execution_count": 10,
      "metadata": {
        "scrolled": true,
        "colab": {
          "base_uri": "https://localhost:8080/"
        },
        "id": "_vXIArewekrC",
        "outputId": "2275ca07-714b-44af-a143-4a918b3afc6a"
      },
      "outputs": [
        {
          "output_type": "execute_result",
          "data": {
            "text/plain": [
              "25.0000     0.001334\n",
              "9.7300      0.001334\n",
              "1.6100      0.001186\n",
              "2.5000      0.001186\n",
              "10.2600     0.001038\n",
              "              ...   \n",
              "0.6712      0.000148\n",
              "103.3600    0.000148\n",
              "25.8850     0.000148\n",
              "7.7700      0.000148\n",
              "101.3300    0.000148\n",
              "Name: Last_Price, Length: 4470, dtype: float64"
            ]
          },
          "metadata": {},
          "execution_count": 10
        }
      ],
      "source": [
        "price.value_counts(normalize = True)"
      ]
    },
    {
      "cell_type": "markdown",
      "metadata": {
        "id": "xJ89aWw8ekrC"
      },
      "source": [
        "The relative frequency of 25.0 and 9.73 is ... 0.001334!"
      ]
    },
    {
      "cell_type": "markdown",
      "metadata": {
        "id": "Zy-fZzGoekrC"
      },
      "source": [
        "24. __Sort__ the Series __price__ from __low to high__! What is the __second lowest__ price?"
      ]
    },
    {
      "cell_type": "code",
      "execution_count": 12,
      "metadata": {
        "scrolled": true,
        "colab": {
          "base_uri": "https://localhost:8080/"
        },
        "id": "W1EG8V6dekrD",
        "outputId": "5db92db9-59bf-403d-8848-23055ad52986"
      },
      "outputs": [
        {
          "output_type": "execute_result",
          "data": {
            "text/plain": [
              "1676    0.003\n",
              "3375    0.004\n",
              "6439    0.005\n",
              "6650    0.007\n",
              "5684    0.010\n",
              "        ...  \n",
              "6170      NaN\n",
              "6403      NaN\n",
              "6551      NaN\n",
              "6717      NaN\n",
              "6839      NaN\n",
              "Name: Last_Price, Length: 6852, dtype: float64"
            ]
          },
          "metadata": {},
          "execution_count": 12
        }
      ],
      "source": [
        "price.sort_values(ascending = True)"
      ]
    },
    {
      "cell_type": "markdown",
      "metadata": {
        "id": "rMzhL7ZMekrD"
      },
      "source": [
        "The second lowest value is ... 0.0040!"
      ]
    },
    {
      "cell_type": "markdown",
      "metadata": {
        "id": "1d2O-YnJekrD"
      },
      "source": [
        "25. __Sort__ the Series __price__ from __high to low__ and __save the changes__ by setting the __inplace__ parameter to __True__!  <br>\n",
        "__Fill in the gaps!__"
      ]
    },
    {
      "cell_type": "code",
      "execution_count": 13,
      "metadata": {
        "id": "72aPYh2SekrE"
      },
      "outputs": [],
      "source": [
        "price.sort_values(ascending = False, inplace = True)"
      ]
    },
    {
      "cell_type": "markdown",
      "metadata": {
        "id": "nMu1mONUekrE"
      },
      "source": [
        "__Inspect__ the __first 5 elements__ of price! What is the __second highest__ price?"
      ]
    },
    {
      "cell_type": "code",
      "execution_count": 14,
      "metadata": {
        "scrolled": true,
        "colab": {
          "base_uri": "https://localhost:8080/"
        },
        "id": "WJpNF0LnekrF",
        "outputId": "b4ae55c9-02d6-4a6a-ddda-15c40cbeadb6"
      },
      "outputs": [
        {
          "output_type": "execute_result",
          "data": {
            "text/plain": [
              "5505    4299.9900\n",
              "4500    2910.4200\n",
              "350     1847.3300\n",
              "815     1806.0000\n",
              "631     1316.6999\n",
              "Name: Last_Price, dtype: float64"
            ]
          },
          "metadata": {},
          "execution_count": 14
        }
      ],
      "source": [
        "#run the cell!\n",
        "price.head()"
      ]
    },
    {
      "cell_type": "markdown",
      "metadata": {
        "id": "sUVyiV73ekrF"
      },
      "source": [
        "The second highest price is ... 2910.42!"
      ]
    },
    {
      "cell_type": "markdown",
      "metadata": {
        "id": "KNSZymfoekrF"
      },
      "source": [
        "26. __Sort__ the Series __price__ by the __Index__ (ascending) and __save__ the changes!"
      ]
    },
    {
      "cell_type": "code",
      "execution_count": 15,
      "metadata": {
        "id": "S-tJbTneekrF"
      },
      "outputs": [],
      "source": [
        "price.sort_index(ascending = True, inplace = True)"
      ]
    },
    {
      "cell_type": "code",
      "execution_count": 16,
      "metadata": {
        "colab": {
          "base_uri": "https://localhost:8080/"
        },
        "id": "v2iXmZT3ekrG",
        "outputId": "9cdc1a0f-84fb-4020-9e66-ddd7d411a86e"
      },
      "outputs": [
        {
          "output_type": "execute_result",
          "data": {
            "text/plain": [
              "0    81.68\n",
              "1    29.15\n",
              "2    75.39\n",
              "3     2.16\n",
              "4    34.02\n",
              "5    29.90\n",
              "6     2.48\n",
              "7    53.54\n",
              "8    12.30\n",
              "9    44.88\n",
              "Name: Last_Price, dtype: float64"
            ]
          },
          "metadata": {},
          "execution_count": 16
        }
      ],
      "source": [
        "#run the cell!\n",
        "price.head(10)"
      ]
    },
    {
      "cell_type": "markdown",
      "metadata": {
        "id": "m8GxCAYbekrG"
      },
      "source": [
        "27. __Select__ the non-numerical column __\"Sector\"__, create a __copy__ and __save__ the column/Pandas Series in the variable __sector__!"
      ]
    },
    {
      "cell_type": "code",
      "execution_count": 17,
      "metadata": {
        "id": "42g8v9EBekrG"
      },
      "outputs": [],
      "source": [
        "sector = listings.Sector.copy()"
      ]
    },
    {
      "cell_type": "markdown",
      "metadata": {
        "id": "2Naoam_DekrH"
      },
      "source": [
        "Inspect! The first element/sector is ... ?"
      ]
    },
    {
      "cell_type": "code",
      "execution_count": 18,
      "metadata": {
        "scrolled": true,
        "colab": {
          "base_uri": "https://localhost:8080/"
        },
        "id": "9nJt7XkxekrH",
        "outputId": "412c033a-19b5-40ba-ab7b-85ffaa77f33f"
      },
      "outputs": [
        {
          "output_type": "execute_result",
          "data": {
            "text/plain": [
              "0       Capital Goods\n",
              "1    Basic Industries\n",
              "2          Technology\n",
              "3         Health Care\n",
              "4      Transportation\n",
              "Name: Sector, dtype: object"
            ]
          },
          "metadata": {},
          "execution_count": 18
        }
      ],
      "source": [
        "#run the cell!\n",
        "sector.head()"
      ]
    },
    {
      "cell_type": "markdown",
      "metadata": {
        "id": "ajJR5bqeekrO"
      },
      "source": [
        "The first element/sector is ... Capital Goods !"
      ]
    },
    {
      "cell_type": "markdown",
      "metadata": {
        "id": "aD4ppLwlekrP"
      },
      "source": [
        "28. Call the __describe()__ method on the non-numerical Series __\"sector\"__! What is the __most frequent__ value/sector?"
      ]
    },
    {
      "cell_type": "code",
      "execution_count": 19,
      "metadata": {
        "colab": {
          "base_uri": "https://localhost:8080/"
        },
        "id": "Gl_lbhG1ekrP",
        "outputId": "07be3a9b-f75b-4737-8e3d-7d4651df724b"
      },
      "outputs": [
        {
          "output_type": "execute_result",
          "data": {
            "text/plain": [
              "count        5309\n",
              "unique         12\n",
              "top       Finance\n",
              "freq         1059\n",
              "Name: Sector, dtype: object"
            ]
          },
          "metadata": {},
          "execution_count": 19
        }
      ],
      "source": [
        "sector.describe()"
      ]
    },
    {
      "cell_type": "markdown",
      "metadata": {
        "id": "H_3l5f6qekrP"
      },
      "source": [
        "The most frequent value/sector is ... Finance!"
      ]
    },
    {
      "cell_type": "markdown",
      "metadata": {
        "id": "jLa7nqqSekrP"
      },
      "source": [
        "29. Get all __unique values__ in the Series __sector__!"
      ]
    },
    {
      "cell_type": "code",
      "execution_count": 20,
      "metadata": {
        "colab": {
          "base_uri": "https://localhost:8080/"
        },
        "id": "jXaEEHrXekrQ",
        "outputId": "29341c80-620b-419e-bee9-09c73d5dccc4"
      },
      "outputs": [
        {
          "output_type": "execute_result",
          "data": {
            "text/plain": [
              "array(['Capital Goods', 'Basic Industries', 'Technology', 'Health Care',\n",
              "       'Transportation', 'Finance', 'Consumer Services', nan,\n",
              "       'Consumer Durables', 'Consumer Non-Durables', 'Miscellaneous',\n",
              "       'Public Utilities', 'Energy'], dtype=object)"
            ]
          },
          "metadata": {},
          "execution_count": 20
        }
      ],
      "source": [
        "sector.unique()"
      ]
    },
    {
      "cell_type": "markdown",
      "metadata": {
        "id": "Trib-_JZekrQ"
      },
      "source": [
        "30. Last but not least, __count the frequencies__ in the Series __sector__! How often does the value/sector __Transportation__ appear?"
      ]
    },
    {
      "cell_type": "code",
      "execution_count": 21,
      "metadata": {
        "colab": {
          "base_uri": "https://localhost:8080/"
        },
        "id": "jO6R66H8ekrR",
        "outputId": "cf42e4a5-388d-43f5-fde8-7983e991c993"
      },
      "outputs": [
        {
          "output_type": "execute_result",
          "data": {
            "text/plain": [
              "Finance                  1059\n",
              "Health Care               898\n",
              "Consumer Services         826\n",
              "Technology                619\n",
              "Capital Goods             389\n",
              "Basic Industries          314\n",
              "Energy                    292\n",
              "Public Utilities          264\n",
              "Consumer Non-Durables     236\n",
              "Miscellaneous             152\n",
              "Consumer Durables         137\n",
              "Transportation            123\n",
              "Name: Sector, dtype: int64"
            ]
          },
          "metadata": {},
          "execution_count": 21
        }
      ],
      "source": [
        "sector.value_counts()"
      ]
    },
    {
      "cell_type": "markdown",
      "metadata": {
        "id": "YfO56md2ekrR"
      },
      "source": [
        "The value/sector Transportation appears ... 123 times!"
      ]
    },
    {
      "cell_type": "markdown",
      "metadata": {
        "id": "EI5YJkKiekrS"
      },
      "source": [
        "# Well Done!"
      ]
    },
    {
      "cell_type": "markdown",
      "metadata": {
        "id": "b171b8wyekrS"
      },
      "source": [
        "------------------------------------------------------------"
      ]
    },
    {
      "cell_type": "markdown",
      "metadata": {
        "id": "O099UTQiekrS"
      },
      "source": [
        "# Hints (Spoiler!)"
      ]
    },
    {
      "cell_type": "markdown",
      "metadata": {
        "id": "pDA0pbgLekrT"
      },
      "source": [
        "19. Last_Price and copy() method"
      ]
    },
    {
      "cell_type": "markdown",
      "metadata": {
        "id": "QDe5oAJyekrT"
      },
      "source": [
        "20. describe() method"
      ]
    },
    {
      "cell_type": "markdown",
      "metadata": {
        "id": "RO3gHw59ekrT"
      },
      "source": [
        "21. min() method"
      ]
    },
    {
      "cell_type": "markdown",
      "metadata": {
        "id": "LlabImDjekrU"
      },
      "source": [
        "22. value_counts() method"
      ]
    },
    {
      "cell_type": "markdown",
      "metadata": {
        "id": "Pxh8ZZ-_ekrU"
      },
      "source": [
        "23. normalize parameter"
      ]
    },
    {
      "cell_type": "markdown",
      "metadata": {
        "id": "pAm-4TDbekrU"
      },
      "source": [
        "24. sort_values() method"
      ]
    },
    {
      "cell_type": "markdown",
      "metadata": {
        "id": "CBgzBr4DekrV"
      },
      "source": [
        "25. ascending & inplace parameter"
      ]
    },
    {
      "cell_type": "markdown",
      "metadata": {
        "id": "6vOM-42eekrV"
      },
      "source": [
        "26. sort_index() method; inplace parameter"
      ]
    },
    {
      "cell_type": "markdown",
      "metadata": {
        "id": "Wu69DynZekrV"
      },
      "source": [
        "27. sector = listings.---.---"
      ]
    },
    {
      "cell_type": "markdown",
      "metadata": {
        "id": "X8pZiZuVekrW"
      },
      "source": [
        "28. sector.---"
      ]
    },
    {
      "cell_type": "markdown",
      "metadata": {
        "id": "kPFYSe2MekrW"
      },
      "source": [
        "29. unique() method"
      ]
    },
    {
      "cell_type": "markdown",
      "metadata": {
        "id": "GnCA2MWtekrW"
      },
      "source": [
        "30. value_counts() method"
      ]
    },
    {
      "cell_type": "code",
      "execution_count": null,
      "metadata": {
        "id": "NBxqdpmGekrW"
      },
      "outputs": [],
      "source": []
    }
  ],
  "metadata": {
    "kernelspec": {
      "display_name": "Python 3",
      "language": "python",
      "name": "python3"
    },
    "language_info": {
      "codemirror_mode": {
        "name": "ipython",
        "version": 3
      },
      "file_extension": ".py",
      "mimetype": "text/x-python",
      "name": "python",
      "nbconvert_exporter": "python",
      "pygments_lexer": "ipython3",
      "version": "3.7.3"
    },
    "colab": {
      "provenance": [],
      "include_colab_link": true
    }
  },
  "nbformat": 4,
  "nbformat_minor": 0
}